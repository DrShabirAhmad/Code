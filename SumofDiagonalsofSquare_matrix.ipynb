{
  "nbformat": 4,
  "nbformat_minor": 0,
  "metadata": {
    "colab": {
      "provenance": [],
      "authorship_tag": "ABX9TyOGAG10p9qGC6ojn2NeDpD0",
      "include_colab_link": true
    },
    "kernelspec": {
      "name": "python3",
      "display_name": "Python 3"
    },
    "language_info": {
      "name": "python"
    }
  },
  "cells": [
    {
      "cell_type": "markdown",
      "metadata": {
        "id": "view-in-github",
        "colab_type": "text"
      },
      "source": [
        "<a href=\"https://colab.research.google.com/github/DrShabirAhmad/Code/blob/main/SumofDiagonalsofSquare_matrix.ipynb\" target=\"_parent\"><img src=\"https://colab.research.google.com/assets/colab-badge.svg\" alt=\"Open In Colab\"/></a>"
      ]
    },
    {
      "cell_type": "code",
      "execution_count": 2,
      "metadata": {
        "id": "cJsY2eZBFbl7"
      },
      "outputs": [],
      "source": [
        "import numpy as np"
      ]
    },
    {
      "cell_type": "code",
      "source": [
        "Square_matrix= np.arange(0,9).reshape(3,3)\n",
        "Square_matrix"
      ],
      "metadata": {
        "colab": {
          "base_uri": "https://localhost:8080/"
        },
        "id": "ePp6zjRbFfKg",
        "outputId": "ed0386c1-38d7-4a1f-b937-76cfa15d8d37"
      },
      "execution_count": 3,
      "outputs": [
        {
          "output_type": "execute_result",
          "data": {
            "text/plain": [
              "array([[0, 1, 2],\n",
              "       [3, 4, 5],\n",
              "       [6, 7, 8]])"
            ]
          },
          "metadata": {},
          "execution_count": 3
        }
      ]
    },
    {
      "cell_type": "code",
      "source": [
        "def DiagonalSums(Square_matrix):\n",
        "  principal_diagonal_sum = 0\n",
        "  secondary_diagonal_sum = 0\n",
        "\n",
        "  n= len(Square_matrix)\n",
        "\n",
        "  for i in range(n):\n",
        "    principal_diagonal_sum += Square_matrix[i][i]\n",
        "    secondary_diagonal_sum += Square_matrix[i][n-1-i]     # i+j = n-1\n",
        "\n",
        "  print(\"Principal Diagonal:\", principal_diagonal_sum)\n",
        "  print(\"Secondary Diagonal:\", secondary_diagonal_sum)"
      ],
      "metadata": {
        "id": "lnQj5lm7FrmN"
      },
      "execution_count": 8,
      "outputs": []
    },
    {
      "cell_type": "code",
      "source": [
        "DiagonalSums(Square_matrix)"
      ],
      "metadata": {
        "colab": {
          "base_uri": "https://localhost:8080/"
        },
        "id": "IxJ4hsc6GaZk",
        "outputId": "29d51e3c-ce40-494d-80c7-f869c9995012"
      },
      "execution_count": 9,
      "outputs": [
        {
          "output_type": "stream",
          "name": "stdout",
          "text": [
            "Principal Diagonal: 12\n",
            "Secondary Diagonal: 12\n"
          ]
        }
      ]
    },
    {
      "cell_type": "code",
      "source": [
        "Square_matrix = np.arange(0, 2500).reshape(50,50)      # Whole numbers\n",
        "Square_matrix"
      ],
      "metadata": {
        "colab": {
          "base_uri": "https://localhost:8080/"
        },
        "id": "NWcEVWbtGo0A",
        "outputId": "f37c8dec-3bcd-4a6c-a27d-481ee07d5c2f"
      },
      "execution_count": 10,
      "outputs": [
        {
          "output_type": "execute_result",
          "data": {
            "text/plain": [
              "array([[   0,    1,    2, ...,   47,   48,   49],\n",
              "       [  50,   51,   52, ...,   97,   98,   99],\n",
              "       [ 100,  101,  102, ...,  147,  148,  149],\n",
              "       ...,\n",
              "       [2350, 2351, 2352, ..., 2397, 2398, 2399],\n",
              "       [2400, 2401, 2402, ..., 2447, 2448, 2449],\n",
              "       [2450, 2451, 2452, ..., 2497, 2498, 2499]])"
            ]
          },
          "metadata": {},
          "execution_count": 10
        }
      ]
    },
    {
      "cell_type": "code",
      "source": [
        "DiagonalSums(Square_matrix)"
      ],
      "metadata": {
        "colab": {
          "base_uri": "https://localhost:8080/"
        },
        "id": "imox-sbLI4Vs",
        "outputId": "e125c9fd-8a49-4f85-b0d7-a2d39f072b1e"
      },
      "execution_count": 11,
      "outputs": [
        {
          "output_type": "stream",
          "name": "stdout",
          "text": [
            "Principal Diagonal: 62475\n",
            "Secondary Diagonal: 62475\n"
          ]
        }
      ]
    },
    {
      "cell_type": "code",
      "source": [
        "Square_matrix = np.arange(5, 54).reshape(7,7)      # Natural numbers\n",
        "Square_matrix"
      ],
      "metadata": {
        "colab": {
          "base_uri": "https://localhost:8080/"
        },
        "id": "ZhsY-NFXI8cg",
        "outputId": "17993a78-9890-4745-afbe-615a837cd0e6"
      },
      "execution_count": 18,
      "outputs": [
        {
          "output_type": "execute_result",
          "data": {
            "text/plain": [
              "array([[ 5,  6,  7,  8,  9, 10, 11],\n",
              "       [12, 13, 14, 15, 16, 17, 18],\n",
              "       [19, 20, 21, 22, 23, 24, 25],\n",
              "       [26, 27, 28, 29, 30, 31, 32],\n",
              "       [33, 34, 35, 36, 37, 38, 39],\n",
              "       [40, 41, 42, 43, 44, 45, 46],\n",
              "       [47, 48, 49, 50, 51, 52, 53]])"
            ]
          },
          "metadata": {},
          "execution_count": 18
        }
      ]
    },
    {
      "cell_type": "code",
      "source": [
        "DiagonalSums(Square_matrix)"
      ],
      "metadata": {
        "colab": {
          "base_uri": "https://localhost:8080/"
        },
        "id": "p-u6Tz1bJU20",
        "outputId": "02dadbc7-b2b7-4f1d-ceab-0ed4bfabb38e"
      },
      "execution_count": 19,
      "outputs": [
        {
          "output_type": "stream",
          "name": "stdout",
          "text": [
            "Principal Diagonal: 203\n",
            "Secondary Diagonal: 203\n"
          ]
        }
      ]
    },
    {
      "cell_type": "code",
      "source": [
        "Square_matrix = np.arange(1, 4901).reshape(70,70)      # Natural numbers\n",
        "Square_matrix"
      ],
      "metadata": {
        "colab": {
          "base_uri": "https://localhost:8080/"
        },
        "id": "IjFDcc2xJXw4",
        "outputId": "e56c8ff1-b045-4e63-fa78-164a52825104"
      },
      "execution_count": 16,
      "outputs": [
        {
          "output_type": "execute_result",
          "data": {
            "text/plain": [
              "array([[   1,    2,    3, ...,   68,   69,   70],\n",
              "       [  71,   72,   73, ...,  138,  139,  140],\n",
              "       [ 141,  142,  143, ...,  208,  209,  210],\n",
              "       ...,\n",
              "       [4691, 4692, 4693, ..., 4758, 4759, 4760],\n",
              "       [4761, 4762, 4763, ..., 4828, 4829, 4830],\n",
              "       [4831, 4832, 4833, ..., 4898, 4899, 4900]])"
            ]
          },
          "metadata": {},
          "execution_count": 16
        }
      ]
    },
    {
      "cell_type": "code",
      "source": [
        "DiagonalSums(Square_matrix)"
      ],
      "metadata": {
        "colab": {
          "base_uri": "https://localhost:8080/"
        },
        "id": "3ku5nZw8JfTH",
        "outputId": "7fb26a26-0501-4b17-a1d1-660688167206"
      },
      "execution_count": 17,
      "outputs": [
        {
          "output_type": "stream",
          "name": "stdout",
          "text": [
            "Principal Diagonal: 171535\n",
            "Secondary Diagonal: 171535\n"
          ]
        }
      ]
    },
    {
      "cell_type": "code",
      "source": [
        "Square_matrix = np.arange(500, 598, 2).reshape(7,7)\n",
        "Square_matrix"
      ],
      "metadata": {
        "colab": {
          "base_uri": "https://localhost:8080/"
        },
        "id": "JkrP90s-JszZ",
        "outputId": "74730ede-f6da-4dda-cd80-543beebfdd37"
      },
      "execution_count": 20,
      "outputs": [
        {
          "output_type": "execute_result",
          "data": {
            "text/plain": [
              "array([[500, 502, 504, 506, 508, 510, 512],\n",
              "       [514, 516, 518, 520, 522, 524, 526],\n",
              "       [528, 530, 532, 534, 536, 538, 540],\n",
              "       [542, 544, 546, 548, 550, 552, 554],\n",
              "       [556, 558, 560, 562, 564, 566, 568],\n",
              "       [570, 572, 574, 576, 578, 580, 582],\n",
              "       [584, 586, 588, 590, 592, 594, 596]])"
            ]
          },
          "metadata": {},
          "execution_count": 20
        }
      ]
    },
    {
      "cell_type": "code",
      "source": [
        "DiagonalSums(Square_matrix)"
      ],
      "metadata": {
        "colab": {
          "base_uri": "https://localhost:8080/"
        },
        "id": "Nf-h1dd3MPGl",
        "outputId": "94fb7c2b-35da-4759-f5a9-895da50101ba"
      },
      "execution_count": 21,
      "outputs": [
        {
          "output_type": "stream",
          "name": "stdout",
          "text": [
            "Principal Diagonal: 3836\n",
            "Secondary Diagonal: 3836\n"
          ]
        }
      ]
    },
    {
      "cell_type": "code",
      "source": [
        "Square_matrix = np.arange(500, 10500, 100).reshape(10,10)\n",
        "Square_matrix"
      ],
      "metadata": {
        "colab": {
          "base_uri": "https://localhost:8080/"
        },
        "id": "tPPbRkOhMSWE",
        "outputId": "05bad340-0404-4a43-ad06-b626b7fe5f27"
      },
      "execution_count": 24,
      "outputs": [
        {
          "output_type": "execute_result",
          "data": {
            "text/plain": [
              "array([[  500,   600,   700,   800,   900,  1000,  1100,  1200,  1300,\n",
              "         1400],\n",
              "       [ 1500,  1600,  1700,  1800,  1900,  2000,  2100,  2200,  2300,\n",
              "         2400],\n",
              "       [ 2500,  2600,  2700,  2800,  2900,  3000,  3100,  3200,  3300,\n",
              "         3400],\n",
              "       [ 3500,  3600,  3700,  3800,  3900,  4000,  4100,  4200,  4300,\n",
              "         4400],\n",
              "       [ 4500,  4600,  4700,  4800,  4900,  5000,  5100,  5200,  5300,\n",
              "         5400],\n",
              "       [ 5500,  5600,  5700,  5800,  5900,  6000,  6100,  6200,  6300,\n",
              "         6400],\n",
              "       [ 6500,  6600,  6700,  6800,  6900,  7000,  7100,  7200,  7300,\n",
              "         7400],\n",
              "       [ 7500,  7600,  7700,  7800,  7900,  8000,  8100,  8200,  8300,\n",
              "         8400],\n",
              "       [ 8500,  8600,  8700,  8800,  8900,  9000,  9100,  9200,  9300,\n",
              "         9400],\n",
              "       [ 9500,  9600,  9700,  9800,  9900, 10000, 10100, 10200, 10300,\n",
              "        10400]])"
            ]
          },
          "metadata": {},
          "execution_count": 24
        }
      ]
    },
    {
      "cell_type": "code",
      "source": [
        "DiagonalSums(Square_matrix)"
      ],
      "metadata": {
        "colab": {
          "base_uri": "https://localhost:8080/"
        },
        "id": "nHrZBx1BMctJ",
        "outputId": "a0cfddf7-5362-4553-b94f-4986686e43ec"
      },
      "execution_count": 25,
      "outputs": [
        {
          "output_type": "stream",
          "name": "stdout",
          "text": [
            "Principal Diagonal: 54500\n",
            "Secondary Diagonal: 54500\n"
          ]
        }
      ]
    },
    {
      "cell_type": "code",
      "source": [
        "Square_matrix = np.arange(500, 1065, 7).reshape(9,9)\n",
        "Square_matrix"
      ],
      "metadata": {
        "colab": {
          "base_uri": "https://localhost:8080/"
        },
        "id": "_D6ipAD1Mpvf",
        "outputId": "ca68e812-9eb3-4723-9999-5b10f8ef72a4"
      },
      "execution_count": 29,
      "outputs": [
        {
          "output_type": "execute_result",
          "data": {
            "text/plain": [
              "array([[ 500,  507,  514,  521,  528,  535,  542,  549,  556],\n",
              "       [ 563,  570,  577,  584,  591,  598,  605,  612,  619],\n",
              "       [ 626,  633,  640,  647,  654,  661,  668,  675,  682],\n",
              "       [ 689,  696,  703,  710,  717,  724,  731,  738,  745],\n",
              "       [ 752,  759,  766,  773,  780,  787,  794,  801,  808],\n",
              "       [ 815,  822,  829,  836,  843,  850,  857,  864,  871],\n",
              "       [ 878,  885,  892,  899,  906,  913,  920,  927,  934],\n",
              "       [ 941,  948,  955,  962,  969,  976,  983,  990,  997],\n",
              "       [1004, 1011, 1018, 1025, 1032, 1039, 1046, 1053, 1060]])"
            ]
          },
          "metadata": {},
          "execution_count": 29
        }
      ]
    },
    {
      "cell_type": "code",
      "source": [
        "DiagonalSums(Square_matrix)"
      ],
      "metadata": {
        "colab": {
          "base_uri": "https://localhost:8080/"
        },
        "id": "wHSUccA4NLcV",
        "outputId": "e65320fd-a1b1-415c-d49f-53850e997b3e"
      },
      "execution_count": 30,
      "outputs": [
        {
          "output_type": "stream",
          "name": "stdout",
          "text": [
            "Principal Diagonal: 7020\n",
            "Secondary Diagonal: 7020\n"
          ]
        }
      ]
    },
    {
      "cell_type": "code",
      "source": [
        "Square_matrix = np.arange(0, 106, 3).reshape(6,6)\n",
        "Square_matrix"
      ],
      "metadata": {
        "colab": {
          "base_uri": "https://localhost:8080/"
        },
        "id": "5W3xT1RsNbLR",
        "outputId": "c9078b4e-0427-4697-f079-bfd53bf8d3c6"
      },
      "execution_count": 33,
      "outputs": [
        {
          "output_type": "execute_result",
          "data": {
            "text/plain": [
              "array([[  0,   3,   6,   9,  12,  15],\n",
              "       [ 18,  21,  24,  27,  30,  33],\n",
              "       [ 36,  39,  42,  45,  48,  51],\n",
              "       [ 54,  57,  60,  63,  66,  69],\n",
              "       [ 72,  75,  78,  81,  84,  87],\n",
              "       [ 90,  93,  96,  99, 102, 105]])"
            ]
          },
          "metadata": {},
          "execution_count": 33
        }
      ]
    },
    {
      "cell_type": "code",
      "source": [
        "DiagonalSums(Square_matrix)"
      ],
      "metadata": {
        "colab": {
          "base_uri": "https://localhost:8080/"
        },
        "id": "V1rylCgrQHKm",
        "outputId": "30ec494a-7715-4abd-f482-1c582c10a109"
      },
      "execution_count": 34,
      "outputs": [
        {
          "output_type": "stream",
          "name": "stdout",
          "text": [
            "Principal Diagonal: 315\n",
            "Secondary Diagonal: 315\n"
          ]
        }
      ]
    },
    {
      "cell_type": "code",
      "source": [],
      "metadata": {
        "id": "10YnPZYnQNhd"
      },
      "execution_count": null,
      "outputs": []
    }
  ]
}