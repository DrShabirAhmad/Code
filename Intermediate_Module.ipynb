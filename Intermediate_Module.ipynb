{
  "nbformat": 4,
  "nbformat_minor": 0,
  "metadata": {
    "colab": {
      "provenance": [],
      "authorship_tag": "ABX9TyOngNnBSRovP+q7N4H+67J+",
      "include_colab_link": true
    },
    "kernelspec": {
      "name": "python3",
      "display_name": "Python 3"
    },
    "language_info": {
      "name": "python"
    }
  },
  "cells": [
    {
      "cell_type": "markdown",
      "metadata": {
        "id": "view-in-github",
        "colab_type": "text"
      },
      "source": [
        "<a href=\"https://colab.research.google.com/github/DrShabirAhmad/Code/blob/main/Intermediate_Module.ipynb\" target=\"_parent\"><img src=\"https://colab.research.google.com/assets/colab-badge.svg\" alt=\"Open In Colab\"/></a>"
      ]
    },
    {
      "cell_type": "code",
      "execution_count": null,
      "metadata": {
        "id": "CsvQNL2YRf0p"
      },
      "outputs": [],
      "source": [
        "def gradient(A,B):\n",
        "  #A,B -> Two points in the XY-Plane in the form of tuple (x,y)\n",
        "  x1, y1=A\n",
        "  x2, y2=B\n",
        "  m = (y2-y1)/(x2-x1)\n",
        "  return round (m, 2)"
      ]
    },
    {
      "cell_type": "code",
      "source": [
        "gradient((1,2), (3,4))"
      ],
      "metadata": {
        "colab": {
          "base_uri": "https://localhost:8080/"
        },
        "id": "Bj3kEMVpRi9g",
        "outputId": "2bef2c27-5489-4b99-ed71-fc05d4f18fd5"
      },
      "execution_count": null,
      "outputs": [
        {
          "output_type": "execute_result",
          "data": {
            "text/plain": [
              "1.0"
            ]
          },
          "metadata": {},
          "execution_count": 2
        }
      ]
    },
    {
      "cell_type": "code",
      "source": [
        "class Student:\n",
        "    def __init__(self,roll,marks):\n",
        "        self.roll = roll\n",
        "        self.marks = marks\n",
        "    def display(self):\n",
        "        print('Roll:', self.roll,'Marks:',self.marks, end=\" \")\n",
        "\n",
        "student1 = Student(34,'A')\n",
        "student1.age = 17\n",
        "print(student1.display(), 'Age:',student1.age)"
      ],
      "metadata": {
        "colab": {
          "base_uri": "https://localhost:8080/"
        },
        "id": "MkqBHwUNUtUN",
        "outputId": "08a71c65-95f5-4c4d-b5bb-c165bf473d66"
      },
      "execution_count": null,
      "outputs": [
        {
          "output_type": "stream",
          "name": "stdout",
          "text": [
            "Roll: 34 Marks: A None Age: 17\n"
          ]
        }
      ]
    },
    {
      "cell_type": "code",
      "source": [
        "class solution:\n",
        "  def initial(self,sets):\n",
        "    return self.final(sets)\n",
        " \n",
        "  def final(self, sets):\n",
        "    return list(map(lambda x: ((x**3)%2==0,x**3),sets))\n",
        "\n",
        "print(solution().initial([4,5,6]))"
      ],
      "metadata": {
        "colab": {
          "base_uri": "https://localhost:8080/"
        },
        "id": "Wgy2oaCrUuJm",
        "outputId": "84c13e44-2b79-4462-dec7-a1fc08d2b334"
      },
      "execution_count": null,
      "outputs": [
        {
          "output_type": "stream",
          "name": "stdout",
          "text": [
            "[(True, 64), (False, 125), (True, 216)]\n"
          ]
        }
      ]
    },
    {
      "cell_type": "code",
      "source": [
        "class football:\n",
        "    final_res= 'lose'\n",
        "    def __init__(self,name,score):\n",
        "        self.name = name\n",
        "        self.score = score\n",
        "        self.final_res = 'lose'\n",
        "    \n",
        "    def calc(self, winning_score):\n",
        "        if self.score>winning_score:\n",
        "            self.final_res='win'\n",
        "match = football('Juventus',3)\n",
        "match.calc(2)\n",
        "print(football.final_res, match.final_res)"
      ],
      "metadata": {
        "colab": {
          "base_uri": "https://localhost:8080/"
        },
        "id": "TIGwuCUYU1Id",
        "outputId": "f4dd3e2d-1779-407a-b03b-70ab1daf40d1"
      },
      "execution_count": null,
      "outputs": [
        {
          "output_type": "stream",
          "name": "stdout",
          "text": [
            "lose win\n"
          ]
        }
      ]
    },
    {
      "cell_type": "code",
      "source": [
        "class A:\n",
        "  def __init__(self, name):\n",
        "    self.name = name\n",
        "a = A(\"Shabir\")"
      ],
      "metadata": {
        "id": "Aa8NOpYzU8bW"
      },
      "execution_count": null,
      "outputs": []
    },
    {
      "cell_type": "code",
      "source": [
        "class A:\n",
        "  var = \"Hello\"\n",
        "  def __init__(self, name):\n",
        "    self.name = name\n",
        "a = A(\"Shabir\")"
      ],
      "metadata": {
        "id": "q4s0U_pXYTY8"
      },
      "execution_count": null,
      "outputs": []
    },
    {
      "cell_type": "code",
      "source": [
        "A.var"
      ],
      "metadata": {
        "colab": {
          "base_uri": "https://localhost:8080/",
          "height": 35
        },
        "id": "N74r4YpVYvjV",
        "outputId": "7908db56-bce7-4300-a4a9-5f12f1381f04"
      },
      "execution_count": null,
      "outputs": [
        {
          "output_type": "execute_result",
          "data": {
            "text/plain": [
              "'Hello'"
            ],
            "application/vnd.google.colaboratory.intrinsic+json": {
              "type": "string"
            }
          },
          "metadata": {},
          "execution_count": 8
        }
      ]
    },
    {
      "cell_type": "code",
      "source": [
        "A.name"
      ],
      "metadata": {
        "colab": {
          "base_uri": "https://localhost:8080/",
          "height": 165
        },
        "id": "xA4E3iWKYwwK",
        "outputId": "91e023c5-0946-4fc0-af14-112482f1daf3"
      },
      "execution_count": null,
      "outputs": [
        {
          "output_type": "error",
          "ename": "AttributeError",
          "evalue": "ignored",
          "traceback": [
            "\u001b[0;31m---------------------------------------------------------------------------\u001b[0m",
            "\u001b[0;31mAttributeError\u001b[0m                            Traceback (most recent call last)",
            "\u001b[0;32m<ipython-input-9-de2a31cdf8c6>\u001b[0m in \u001b[0;36m<cell line: 1>\u001b[0;34m()\u001b[0m\n\u001b[0;32m----> 1\u001b[0;31m \u001b[0mA\u001b[0m\u001b[0;34m.\u001b[0m\u001b[0mname\u001b[0m\u001b[0;34m\u001b[0m\u001b[0;34m\u001b[0m\u001b[0m\n\u001b[0m",
            "\u001b[0;31mAttributeError\u001b[0m: type object 'A' has no attribute 'name'"
          ]
        }
      ]
    },
    {
      "cell_type": "code",
      "source": [
        "a.var"
      ],
      "metadata": {
        "id": "LQsK0JoiY0cY"
      },
      "execution_count": null,
      "outputs": []
    },
    {
      "cell_type": "code",
      "source": [
        "class Employee:\n",
        "  company_name = \"Scaler\"\n",
        "\n",
        "  def __init__(self, id, name):\n",
        "    self.name= name\n",
        "    self.id= id\n",
        "e1= Employee(1, 'A')\n",
        "print(e1.company_name)\n",
        "print(e1.name)\n",
        "print(e1.id)"
      ],
      "metadata": {
        "id": "x4d8hkaDY5YM"
      },
      "execution_count": null,
      "outputs": []
    },
    {
      "cell_type": "code",
      "source": [
        "e2= Employee(2, 'B')\n",
        "print(e2.company_name)\n",
        "print(e2.name)\n",
        "print(e2.id)"
      ],
      "metadata": {
        "id": "4h6KImt2aI4z"
      },
      "execution_count": null,
      "outputs": []
    },
    {
      "cell_type": "code",
      "source": [
        "Employee.company_name= \"InterviewBit\"\n",
        "print(e1.company_name)\n",
        "print(e2.company_name)"
      ],
      "metadata": {
        "id": "sqyMvb8Faeeh"
      },
      "execution_count": null,
      "outputs": []
    },
    {
      "cell_type": "code",
      "source": [
        "e1.company_name= \"Amazon\"\n",
        "print(Employee.company_name)\n",
        "print(e1.company_name)\n",
        "print(e2.company_name)"
      ],
      "metadata": {
        "id": "AwiRgIppdJeR"
      },
      "execution_count": null,
      "outputs": []
    },
    {
      "cell_type": "code",
      "source": [
        "class Employee:\n",
        "  company_name = [\"InterviewBit\"] # List Sets Dictionary are mutable data\n",
        "\n",
        "  def __init__(self, id, name):\n",
        "    self.name= name\n",
        "    self.id= id\n",
        "e1= Employee(1, 'A')\n",
        "e2= Employee(2, 'B')\n"
      ],
      "metadata": {
        "id": "7DaVFxzxdcL1"
      },
      "execution_count": null,
      "outputs": []
    },
    {
      "cell_type": "code",
      "source": [
        "print(Employee.company_name)\n",
        "print(e1.company_name)\n",
        "print(e2.company_name)"
      ],
      "metadata": {
        "id": "GiP2ar4DgHZk"
      },
      "execution_count": null,
      "outputs": []
    },
    {
      "cell_type": "code",
      "source": [
        "Employee.company_name.append(\"Interview\")\n",
        "print(Employee.company_name)\n",
        "print(e1.company_name)\n",
        "print(e2.company_name)"
      ],
      "metadata": {
        "id": "WCPVXl_vgIo2"
      },
      "execution_count": null,
      "outputs": []
    },
    {
      "cell_type": "code",
      "source": [
        "e1.company_name.append(\"Scaler\")\n",
        "print(Employee.company_name)\n",
        "print(e1.company_name)\n",
        "print(e2.company_name)"
      ],
      "metadata": {
        "id": "LKiSg08qhXHD"
      },
      "execution_count": null,
      "outputs": []
    },
    {
      "cell_type": "code",
      "source": [
        "#Therefore in case of mutable data types, it doesnot matter where the change is updated, it will be reflected everywhere. \n",
        "#but in case of immutable data types, the change will not be reflected everywhere if object is updated. \n",
        "#We should alwayas update class, therefore the requisite will be reflected everywhere. that is a good practice."
      ],
      "metadata": {
        "id": "ilh9uMFch2vS"
      },
      "execution_count": null,
      "outputs": []
    },
    {
      "cell_type": "code",
      "source": [
        "#polymorphism in python\n",
        "1+2 # addition"
      ],
      "metadata": {
        "id": "rt0IPiwyiaaM"
      },
      "execution_count": null,
      "outputs": []
    },
    {
      "cell_type": "code",
      "source": [
        "'a'+'b' #concatenation, operator + behaves differently in different data types."
      ],
      "metadata": {
        "id": "o2Cz3YSs7M1-"
      },
      "execution_count": null,
      "outputs": []
    },
    {
      "cell_type": "code",
      "source": [
        "[1,2,3] +[4]"
      ],
      "metadata": {
        "id": "vL2tsEM77aFB"
      },
      "execution_count": null,
      "outputs": []
    },
    {
      "cell_type": "code",
      "source": [
        "class DSMLInstructor:\n",
        "  def teaches(self):\n",
        "    print(\"Instructor teaches DS and ML\")\n",
        "  \n",
        "class AcademyInstructor:\n",
        "  def teaches(self):\n",
        "    print(\"Instructor teaches software development\")\n",
        "\n",
        "t1=DSMLInstructor()\n",
        "t2=AcademyInstructor()\n",
        "\n",
        "t1.teaches()"
      ],
      "metadata": {
        "id": "DSdqxGRo7uYx"
      },
      "execution_count": null,
      "outputs": []
    },
    {
      "cell_type": "code",
      "source": [
        "t2.teaches()"
      ],
      "metadata": {
        "id": "nEeDteR88a_7"
      },
      "execution_count": null,
      "outputs": []
    },
    {
      "cell_type": "code",
      "source": [
        "# the teaches method here shows polymorphism"
      ],
      "metadata": {
        "id": "V-3P1kTr8k80"
      },
      "execution_count": null,
      "outputs": []
    },
    {
      "cell_type": "code",
      "source": [
        "# Magic Methods"
      ],
      "metadata": {
        "id": "YrrVUnd39AMO"
      },
      "execution_count": null,
      "outputs": []
    },
    {
      "cell_type": "code",
      "source": [
        "class DSMLInstructor:\n",
        "  def __init__(self):\n",
        "    print(\"creating class\")\n",
        "  def teaches(self):\n",
        "    print(\"Instructor teaches DS and ML\")\n",
        "\n",
        "t1=DSMLInstructor()\n",
        "dir(t1)"
      ],
      "metadata": {
        "id": "nLOiTPb396xc"
      },
      "execution_count": null,
      "outputs": []
    },
    {
      "cell_type": "code",
      "source": [
        "class DSMLInstructor:\n",
        "  def teaches(self):\n",
        "    print(\"Instructor teaches DS and ML\")\n",
        "\n",
        "t1=DSMLInstructor()\n",
        "print(t1)"
      ],
      "metadata": {
        "id": "3Sy1GUy6-ekN"
      },
      "execution_count": null,
      "outputs": []
    },
    {
      "cell_type": "code",
      "source": [
        "class DSMLInstructor:\n",
        "  def __init__(self, name):\n",
        "    self.name = name\n",
        "\n",
        "  def teaches(self, name):\n",
        "    print(\"Instructor teaches DS and ML\")\n",
        "\n",
        "t1=DSMLInstructor(\"Shabir\")\n",
        "print(t1)"
      ],
      "metadata": {
        "id": "A4FAdzbF_yRV"
      },
      "execution_count": null,
      "outputs": []
    },
    {
      "cell_type": "code",
      "source": [
        "class DSMLInstructor:\n",
        "  def __init__(self, name):\n",
        "    self.name = name\n",
        "\n",
        "  def teaches(self, name):\n",
        "    print(\"Instructor teaches DS and ML\")\n",
        "  \n",
        "  def __str__(self):\n",
        "    return \"Instructor name is : \" + self.name\n",
        "\n",
        "t1=DSMLInstructor(\"Shabir\")\n",
        "print(t1)"
      ],
      "metadata": {
        "id": "APttzZ_XB_DK"
      },
      "execution_count": null,
      "outputs": []
    },
    {
      "cell_type": "code",
      "source": [
        "class DSMLInstructor:\n",
        "  def __init__(self, name):\n",
        "    self.name = name\n",
        "\n",
        "  def teaches(self, name):\n",
        "    print(\"Instructor teaches DS and ML\")\n",
        "  \n",
        "  def __eq__(self, other_object):\n",
        "    return self.name==other_object.name\n",
        "\n",
        "t1=DSMLInstructor(\"Shabir\")\n",
        "t2=DSMLInstructor(\"Shabir\")\n"
      ],
      "metadata": {
        "id": "YT8RqSijCjo9"
      },
      "execution_count": null,
      "outputs": []
    },
    {
      "cell_type": "code",
      "source": [
        "t1==t2"
      ],
      "metadata": {
        "id": "6tD4hd1MQWx5"
      },
      "execution_count": null,
      "outputs": []
    },
    {
      "cell_type": "code",
      "source": [
        "t3=DSMLInstructor(\"Sachin\")\n",
        "t4=DSMLInstructor(\"Shabir\")\n",
        "t3==t4"
      ],
      "metadata": {
        "id": "HKXapcp_Rm1E"
      },
      "execution_count": null,
      "outputs": []
    },
    {
      "cell_type": "code",
      "source": [
        "class DSMLInstructor:\n",
        "  def __init__(self, num):\n",
        "    self.num = num\n",
        "  \n",
        "  def __lt__(self, other_object):\n",
        "    return self.num==other_object.num\n",
        "\n",
        "num1=15\n",
        "num2=20\n",
        "num1ltnum2"
      ],
      "metadata": {
        "id": "Vjnmcq3-SFJw"
      },
      "execution_count": null,
      "outputs": []
    },
    {
      "cell_type": "code",
      "source": [
        "class Parent:\n",
        "  def __init__(self):\n",
        "    print(\"Inside Parent class\")\n",
        "\n",
        "class Child(Parent):\n",
        "  def __init__(self):\n",
        "    print(\"Inside Child class\")\n",
        "\n",
        "p1 = Parent()"
      ],
      "metadata": {
        "id": "FkQEcEoZTPdf"
      },
      "execution_count": null,
      "outputs": []
    },
    {
      "cell_type": "code",
      "source": [
        "c1 = Child()"
      ],
      "metadata": {
        "id": "xnIcGfqdWT_e"
      },
      "execution_count": null,
      "outputs": []
    },
    {
      "cell_type": "code",
      "source": [
        "class Parent:\n",
        "  def __init__(self):\n",
        "    print(\"Inside Parent class\")\n",
        "\n",
        "class Child(Parent):\n",
        "  def __init__(self):\n",
        "    Parent.__init__(self)\n",
        "    print(\"Inside Child class\")\n",
        "\n",
        "c1 = Child()"
      ],
      "metadata": {
        "id": "9zPVQd5BWwZV"
      },
      "execution_count": null,
      "outputs": []
    },
    {
      "cell_type": "code",
      "source": [
        "class Parent:\n",
        "  def __init__(self):\n",
        "    print(\"Inside Parent class\")\n",
        "\n",
        "class Child(Parent):\n",
        "  def __init__(self):\n",
        "    super().__init__()\n",
        "    print(\"Inside Child class\")\n",
        "\n",
        "c1 = Child()"
      ],
      "metadata": {
        "id": "ckQcfXv1X4S6"
      },
      "execution_count": null,
      "outputs": []
    },
    {
      "cell_type": "code",
      "source": [
        "class ScalerMember:\n",
        "  def __init__(self, name):\n",
        "    self.name = name\n",
        "class Student(ScalerMember):\n",
        "  def __init__(self, name, batch):\n",
        "    super().__init__(name)\n",
        "    self.batch = batch\n",
        "class StaffMember(ScalerMember):\n",
        "  def __init__(self, name, salary):\n",
        "    super().__init__(name)\n",
        "    self.salary = salary\n",
        "class Teachers(StaffMember):\n",
        "  def __init__(self, name, salary, subject):\n",
        "    super().__init__(name, salary)\n",
        "    self.subject = subject\n",
        "\n",
        "st1 = Student(\"Shabir\", \"Nov 22\")"
      ],
      "metadata": {
        "id": "glAVVBpDYSZb"
      },
      "execution_count": null,
      "outputs": []
    },
    {
      "cell_type": "code",
      "source": [
        "st1.name"
      ],
      "metadata": {
        "id": "daYj4UIsbrSv"
      },
      "execution_count": null,
      "outputs": []
    },
    {
      "cell_type": "code",
      "source": [
        "st1.batch"
      ],
      "metadata": {
        "id": "NHXJ2ddkbuhX"
      },
      "execution_count": null,
      "outputs": []
    },
    {
      "cell_type": "code",
      "source": [
        "Tec1 = Teachers(\"Sachin\", 10, \"DSML\")"
      ],
      "metadata": {
        "id": "degA9EF3bvGT"
      },
      "execution_count": null,
      "outputs": []
    },
    {
      "cell_type": "code",
      "source": [
        "Tec1.salary"
      ],
      "metadata": {
        "id": "YWb7s91QfN5H"
      },
      "execution_count": null,
      "outputs": []
    },
    {
      "cell_type": "code",
      "source": [
        "Tec1.subject"
      ],
      "metadata": {
        "id": "Qy3r3ietfYnC"
      },
      "execution_count": null,
      "outputs": []
    },
    {
      "cell_type": "code",
      "source": [
        "Tec1.name"
      ],
      "metadata": {
        "id": "C2bIZX3efd3j"
      },
      "execution_count": null,
      "outputs": []
    },
    {
      "cell_type": "code",
      "source": [
        "t1 = Teachers(\"Sachin\", 10, \"DSML\")\n",
        "print(t1.name, t1.salary, t1.subject)"
      ],
      "metadata": {
        "id": "wV9SO9SnfiP4"
      },
      "execution_count": null,
      "outputs": []
    },
    {
      "cell_type": "code",
      "source": [
        "class Smaller:\n",
        "    def __init__(self,a):\n",
        "        self.string=a\n",
        "    \n",
        "    def display(self):\n",
        "        print(\"The type of Name is smaller\")\n",
        "    \n",
        "    def evaluate(self):\n",
        "        ans=0\n",
        "        # YOUR CODE GOES HERE\n",
        "        vowels = \"AaEeIiOoUu\"\n",
        "        final = [each for each in self.string if each in vowels]\n",
        "        ans=len(final)\n",
        "        print(ans)\n",
        "        \n",
        "class Larger:\n",
        "    def __init__(self,a):\n",
        "        self.string=a\n",
        "    \n",
        "    def display(self):\n",
        "        print(\"The type of Name is larger\")\n",
        "    \n",
        "    def evaluate(self):\n",
        "        ans=0\n",
        "       # YOUR CODE GOES HERE\n",
        "        vowels = \"AaEeIiOoUu\"\n",
        "        final = [each for each in self.string if each not in vowels]\n",
        "        ans=len(final)\n",
        "        print(ans)\n",
        "\n",
        "def main(a):\n",
        "    \"\"\"\n",
        "    input a is string\n",
        "    \"\"\"\n",
        "    a = input()\n",
        "    if len(a)<6:\n",
        "        obj=Smaller(a)\n",
        "        obj.display()\n",
        "        obj.evaluate()\n",
        "    else:\n",
        "        obj=Larger(a)\n",
        "        obj.display()\n",
        "        obj.evaluate()"
      ],
      "metadata": {
        "id": "Pgjr2_zdgdnF"
      },
      "execution_count": null,
      "outputs": []
    },
    {
      "cell_type": "code",
      "source": [
        "main(\"a\")"
      ],
      "metadata": {
        "id": "5fXKzYLp0ar8"
      },
      "execution_count": null,
      "outputs": []
    },
    {
      "cell_type": "code",
      "source": [
        "main(\"a\")"
      ],
      "metadata": {
        "id": "Zfit3OW63ix8"
      },
      "execution_count": null,
      "outputs": []
    },
    {
      "cell_type": "code",
      "source": [
        "class Smaller:\n",
        "    def __init__(self,a):\n",
        "        self.string=a\n",
        "    \n",
        "    def display(self):\n",
        "        print(\"The type of Name is smaller\")\n",
        "    \n",
        "    def evaluate(self):\n",
        "        ans=0\n",
        "        vowels = \"AaEeIiOoUu\"\n",
        "        final = [each for each in self.string if each in vowels]\n",
        "        ans = len(final) \n",
        "        print(ans)\n",
        "        \n",
        "class Larger:\n",
        "    def __init__(self,a):\n",
        "        self.string=a\n",
        "    \n",
        "    def display(self):\n",
        "        print(\"The type of Name is larger\")\n",
        "    \n",
        "    def evaluate(self):\n",
        "        ans=0\n",
        "        vowels = \"AaEeIiOoUu\"\n",
        "        final = [each for each in self.string if each not in vowels]\n",
        "        ans = len(final)\n",
        "        # YOUR CODE GOES HERE\n",
        "        print(ans)\n",
        "\n",
        "def main(a):\n",
        "    '''\n",
        "    input a is string\n",
        "    '''\n",
        "    if len(a)<6:\n",
        "        obj=smaller(a)\n",
        "        obj.display()\n",
        "        obj.evaluate()\n",
        "    else:\n",
        "        obj=larger(a)\n",
        "        obj.display()\n",
        "        obj.evaluate()"
      ],
      "metadata": {
        "id": "0hUEsJeL0ihN"
      },
      "execution_count": null,
      "outputs": []
    },
    {
      "cell_type": "code",
      "source": [
        "main(\"a\")"
      ],
      "metadata": {
        "id": "CAHQ-9L41UyD"
      },
      "execution_count": null,
      "outputs": []
    },
    {
      "cell_type": "code",
      "source": [
        "main(\"a\")"
      ],
      "metadata": {
        "id": "IoVaZcjC1X5v"
      },
      "execution_count": null,
      "outputs": []
    },
    {
      "cell_type": "code",
      "source": [
        "class Circle:\n",
        "    pi = 3.14\n",
        "    def __init__(self, diameter):\n",
        "        self.radius = diameter / 2\n",
        "\n",
        "    def circumference(self):\n",
        "        return 2 * self.pi * self.radius"
      ],
      "metadata": {
        "id": "l-P3kZbT_b4g"
      },
      "execution_count": null,
      "outputs": []
    },
    {
      "cell_type": "code",
      "source": [
        "pizza = Circle(12)\n",
        "print(pizza.circumference())"
      ],
      "metadata": {
        "id": "AmMVt-HjBcWR"
      },
      "execution_count": null,
      "outputs": []
    },
    {
      "cell_type": "code",
      "source": [
        "pizza = Circle(12)\n",
        "print(pizza.self.circumference())"
      ],
      "metadata": {
        "id": "YNWMOHHuBirn"
      },
      "execution_count": null,
      "outputs": []
    },
    {
      "cell_type": "code",
      "source": [
        "pizza = Circle(6)\n",
        "print(pizza.circumference())"
      ],
      "metadata": {
        "id": "T7oneVYsBtra"
      },
      "execution_count": null,
      "outputs": []
    },
    {
      "cell_type": "code",
      "source": [
        "class Student:\n",
        "  # Class variable\n",
        "  subject_name = 'Math for Machine Learning'\n",
        "\n",
        "  # constructor\n",
        "  def __init__(self, name, roll_no):\n",
        "    self.name = name\n",
        "    self.roll_no = roll_no\n",
        "\n",
        "# outside the class\n",
        "# create Objects\n",
        "s1 = Student('Emma', 10) \n",
        "Student.subject_name = 'Machine Learning'\n",
        "#_____________________#blank1\n",
        "#_____________________#blank2\n",
        "\n",
        "print(s1.name, s1.roll_no, s1.subject_name)"
      ],
      "metadata": {
        "id": "7Ce10CJBBzgk"
      },
      "execution_count": null,
      "outputs": []
    },
    {
      "cell_type": "code",
      "source": [
        "class Student:\n",
        "  # Class variable\n",
        "  subject_name = 'Math for Machine Learning'\n",
        "\n",
        "  # constructor\n",
        "  def __init__(self, name, roll_no):\n",
        "    self.name = name\n",
        "    self.roll_no = roll_no\n",
        "\n",
        "# outside the class\n",
        "# create Objects\n",
        "s1 = Student('Emma', 10) \n",
        "s1.subject_name = 'Machine Learning'\n",
        "#_____________________#blank1\n",
        "#_____________________#blank2\n",
        "\n",
        "print(s1.name, s1.roll_no, s1.subject_name)"
      ],
      "metadata": {
        "id": "TL11v3NsCo8F"
      },
      "execution_count": null,
      "outputs": []
    },
    {
      "cell_type": "code",
      "source": [
        "class Student:\n",
        "  # Class variable\n",
        "  subject_name = 'Math for Machine Learning'\n",
        "\n",
        "  # constructor\n",
        "  def __init__(self, name, roll_no):\n",
        "    self.name = name\n",
        "    self.roll_no = roll_no\n",
        "\n",
        "# outside the class\n",
        "# create Objects\n",
        "s1 = Student('Emma', 10) #No change required\n",
        "\n",
        "print(s1.name, s1.roll_no, s1.subject_name)"
      ],
      "metadata": {
        "id": "HDp5QwQKDAoE"
      },
      "execution_count": null,
      "outputs": []
    },
    {
      "cell_type": "code",
      "source": [
        "def dist(p1, p2): # (x1, y1), (x2, y2)\n",
        "  # |x1-x2| + |y1-y2|\n",
        "  d = abs(p1[0]-p2[0]) + abs(p1[1]-p2[1])\n",
        "  return d"
      ],
      "metadata": {
        "id": "qYZ4IyRCDQ52"
      },
      "execution_count": null,
      "outputs": []
    },
    {
      "cell_type": "code",
      "source": [
        "dist((1,2),(5,4))"
      ],
      "metadata": {
        "id": "KbhDakGk3n1s"
      },
      "execution_count": null,
      "outputs": []
    },
    {
      "cell_type": "code",
      "source": [
        "def dist(p1, p2): # (x1, y1), (x2, y2)\n",
        "  # |x1-x2| + |y1-y2|\n",
        "  d = abs(p1[0]-p2[0]) + abs(p1[1]-p2[1])\n",
        "  return d\n",
        "def neareststudents(names, loc):\n",
        "  min_dist = float('inf')\n",
        "  n = len(names)\n",
        "  ans = [None, None]\n",
        "  for FirstIndex in range(n):\n",
        "    for SecondIndex in range(n):\n",
        "      if FirstIndex==SecondIndex:\n",
        "        continue\n",
        "      else:\n",
        "        if dist(loc[FirstIndex], loc[SecondIndex]) < min_dist:\n",
        "          min_dist = dist(loc[FirstIndex], loc[SecondIndex])\n",
        "          ans=[names[FirstIndex], names[SecondIndex]]\n",
        "  return ans"
      ],
      "metadata": {
        "id": "bdb-DbFj3-0l"
      },
      "execution_count": null,
      "outputs": []
    },
    {
      "cell_type": "code",
      "source": [
        "names= [\"Shabir\", \"Samia\", \"Mohtashim\", \"Muqsit\", \"Muwahid\"]\n",
        "loc = [(1,2),(2,3), (4,5), (6,8), (0,1)]\n",
        "neareststudents(names, loc)"
      ],
      "metadata": {
        "id": "vfpp3T525uHY"
      },
      "execution_count": null,
      "outputs": []
    },
    {
      "cell_type": "code",
      "source": [
        "names= [\"Shabir\", \"Samia\", \"Mohtashim\", \"Muqsit\", \"Muwahid\"]\n",
        "loc = [(1,2),(4,4), (4,5), (6,8), (0,1)]\n",
        "neareststudents(names, loc)"
      ],
      "metadata": {
        "id": "U6HOKHc66lCu"
      },
      "execution_count": null,
      "outputs": []
    },
    {
      "cell_type": "code",
      "source": [
        "def dist(p1, p2): # (x1, y1), (x2, y2)\n",
        "  # |x1-x2| + |y1-y2|\n",
        "  d = abs(p1[0]-p2[0]) + abs(p1[1]-p2[1])\n",
        "  return d\n",
        "def neareststudents(names, loc):\n",
        "  min_dist = float('inf')\n",
        "  n = len(names)\n",
        "  ans = [None, None]\n",
        "  for FirstIndex in range(n):\n",
        "    for SecondIndex in range(FirstIndex+1, n):\n",
        "      if dist(loc[FirstIndex], loc[SecondIndex]) < min_dist:\n",
        "        min_dist = dist(loc[FirstIndex], loc[SecondIndex])\n",
        "        ans=[names[FirstIndex], names[SecondIndex]]\n",
        "  return ans\n",
        "names= [\"Shabir\", \"Samia\", \"Mohtashim\", \"Muqsit\", \"Muwahid\"]\n",
        "loc = [(1,2),(4,4), (4,5), (6,8), (0,1)]\n",
        "neareststudents(names, loc)"
      ],
      "metadata": {
        "id": "p7kpbApV8cU6"
      },
      "execution_count": null,
      "outputs": []
    },
    {
      "cell_type": "code",
      "source": [
        "class First():\n",
        "  def __init__(self):\n",
        "    print(\"First\")\n",
        "\n",
        "class Second(First):\n",
        "  def __init__(self):\n",
        "    print(\"Second\")\n",
        "class Third(First):\n",
        "  def __init__(self):\n",
        "    print(\"Third\")\n",
        "    def run_this(self):\n",
        "      print(\"this runs in world\")\n",
        "class Fourth(Second,Third):\n",
        "  def __init__(self):\n",
        "    super().__init__()\n",
        "print(Fourth())"
      ],
      "metadata": {
        "id": "KLSjiFTVCbN7"
      },
      "execution_count": null,
      "outputs": []
    },
    {
      "cell_type": "code",
      "source": [
        "print(Fourth.__mro__)"
      ],
      "metadata": {
        "id": "O2EbA66fDbvx"
      },
      "execution_count": null,
      "outputs": []
    },
    {
      "cell_type": "code",
      "source": [
        "class myClass:\n",
        "  def __init__(self):\n",
        "    self.instance_var = \"hi\"\n",
        "    def method(self):\n",
        "      print(\"hi from method 1\")\n",
        "\n",
        "myInstance = myClass()"
      ],
      "metadata": {
        "id": "wBXYpdpaFFA6"
      },
      "execution_count": null,
      "outputs": []
    },
    {
      "cell_type": "code",
      "source": [
        "class MachineLearning:\n",
        "    def __init__(self,name,category):\n",
        "        self.name=name\n",
        "        self.category=category\n",
        "        \n",
        "    def getname(self):\n",
        "        return self.name\n",
        "        \n",
        "    def getcategory(self):\n",
        "        return self.category\n",
        "        \n",
        "    def print(self):\n",
        "        print(\"Name:\",self.name)\n",
        "        print(\"Category:\",self.category)\n",
        "\n",
        "class Supervised(MachineLearning):\n",
        "    def __init__(self,name,category):\n",
        "        super().__init__(name, category)\n",
        "        #YOUR CODE GOES HERE\n",
        "        \n",
        "    \n",
        "    def type(self):\n",
        "        #YOUR CODE GOES HERE\n",
        "        super().print()\n",
        "        print(\"Supervised Learning Algorithm\")\n",
        "        \n",
        "\n",
        "class Unsupervised(MachineLearning):\n",
        "    def __init__(self,name,category):\n",
        "        #YOUR CODE GOES HERE\n",
        "        super().__init__(name, category)\n",
        "        \n",
        "    \n",
        "    def type(self):\n",
        "        #YOUR CODE GOES HERE\n",
        "        super().print()\n",
        "        print(\"Unsupervised Learning Algorithm\")\n",
        "        \n",
        "\n",
        "def mlAnalogy(a,b,c,d):\n",
        "    '''\n",
        "    input=> a,b = name and category for Supervised class\n",
        "            c,d = name and category for Unsupervised class\n",
        "    output=> type() is called for both classes in the end, it should first print the Name and Category then the type of class in new lines\n",
        "    '''\n",
        "\n",
        "    obj1=Supervised(a,b)\n",
        "    obj1.type()\n",
        "    obj2=Unsupervised(c,d)\n",
        "    obj2.type()\n",
        "\n",
        "    return None"
      ],
      "metadata": {
        "id": "WQzeJkCLYZeR"
      },
      "execution_count": null,
      "outputs": []
    },
    {
      "cell_type": "code",
      "source": [
        "a = \"Logistic Regression\"\n",
        "b = \"Classification Algo\"\n",
        "c = \"k-Means\"\n",
        "d = \"Clustering Algo\"\n",
        "mlAnalogy(a,b,c,d)"
      ],
      "metadata": {
        "id": "Tzsr0sTVYa10"
      },
      "execution_count": null,
      "outputs": []
    },
    {
      "cell_type": "code",
      "source": [
        "class BankAccount:\n",
        "  def __init__(self, name, id, balance):\n",
        "    self.name = name\n",
        "    self.id = id\n",
        "    self.balance = balance\n",
        "ac1 = BankAccount(\"Shabir\", 3863, 55000)"
      ],
      "metadata": {
        "id": "Sv0Gg94yZTJO"
      },
      "execution_count": null,
      "outputs": []
    },
    {
      "cell_type": "code",
      "source": [
        "print(ac1.id)"
      ],
      "metadata": {
        "id": "HIGvnzHNl1I-"
      },
      "execution_count": null,
      "outputs": []
    },
    {
      "cell_type": "code",
      "source": [
        "class BankAccount:\n",
        "  def __init__(self, name, id, balance):\n",
        "    self.name = name\n",
        "    self.id = id\n",
        "    self.balance = balance\n",
        "\n",
        "  def show_balance(self):\n",
        "    return self.name + \" has a balance of \" +str(self.balance)\n",
        "\n",
        "ac1 = BankAccount(\"Shabir\", 3863, 55000)"
      ],
      "metadata": {
        "id": "HnZCzbF-l6BB"
      },
      "execution_count": null,
      "outputs": []
    },
    {
      "cell_type": "code",
      "source": [
        "ac1.show_balance()"
      ],
      "metadata": {
        "id": "6UzpTbJKmlzJ"
      },
      "execution_count": null,
      "outputs": []
    },
    {
      "cell_type": "code",
      "source": [
        "ac1.balance = 10000000"
      ],
      "metadata": {
        "id": "b72mwpyWmqEz"
      },
      "execution_count": null,
      "outputs": []
    },
    {
      "cell_type": "code",
      "source": [
        "ac1.balance"
      ],
      "metadata": {
        "id": "goUAlG_1nkCm"
      },
      "execution_count": null,
      "outputs": []
    },
    {
      "cell_type": "code",
      "source": [
        "ac1.show_balance()"
      ],
      "metadata": {
        "id": "kC0-NZDYnnlB"
      },
      "execution_count": null,
      "outputs": []
    },
    {
      "cell_type": "code",
      "source": [
        "class BankAccount:\n",
        "  def __init__(self, name, id, balance):\n",
        "    self.name = name\n",
        "    self.id = id\n",
        "    self.__balance = balance\n",
        "\n",
        "  def show_balance(self):\n",
        "    return self.name + \" has a balance of \" +str(self.__balance)\n",
        "\n",
        "ac1 = BankAccount(\"Shabir\", 3863, 55000)"
      ],
      "metadata": {
        "id": "04j7QSkCnqwA"
      },
      "execution_count": null,
      "outputs": []
    },
    {
      "cell_type": "code",
      "source": [
        "print(ac1.balance)"
      ],
      "metadata": {
        "id": "mL315zT2oyH5"
      },
      "execution_count": null,
      "outputs": []
    },
    {
      "cell_type": "code",
      "source": [
        "ac1.show_balance()"
      ],
      "metadata": {
        "id": "Zodt_jIxo1c8"
      },
      "execution_count": null,
      "outputs": []
    },
    {
      "cell_type": "code",
      "source": [
        "class BankAccount:\n",
        "  def __init__(self, name, id, balance):\n",
        "    self.name = name\n",
        "    self.id = id\n",
        "    self.__balance = balance\n",
        "\n",
        "  def show_balance(self):\n",
        "    return self.name + \" has a balance of \" +str(self.__balance)\n",
        "\n",
        "  def deposit(self, amount):\n",
        "    self.__balance += amount\n",
        "\n",
        "ac1 = BankAccount(\"Shabir\", 3863, 55000)"
      ],
      "metadata": {
        "id": "OFdbdBbdpIgg"
      },
      "execution_count": null,
      "outputs": []
    },
    {
      "cell_type": "code",
      "source": [
        "ac1.deposit(99)\n",
        "ac1.show_balance()"
      ],
      "metadata": {
        "id": "gf60IL4wqzi_"
      },
      "execution_count": null,
      "outputs": []
    },
    {
      "cell_type": "code",
      "source": [
        "ac1.__dict__"
      ],
      "metadata": {
        "id": "KaUkd6tvrbj0"
      },
      "execution_count": null,
      "outputs": []
    },
    {
      "cell_type": "code",
      "source": [
        "ac1._BankAccount__balance = 0"
      ],
      "metadata": {
        "id": "cnwmnjhlsAyT"
      },
      "execution_count": null,
      "outputs": []
    },
    {
      "cell_type": "code",
      "source": [
        "ac1.show_balance()"
      ],
      "metadata": {
        "id": "weU4RM3jsvDx"
      },
      "execution_count": null,
      "outputs": []
    },
    {
      "cell_type": "code",
      "source": [
        "class A:\n",
        "  x = 9\n",
        "\n",
        "class B(A):\n",
        "  x = 99\n",
        "\n",
        "class C(B):\n",
        "  x = 999\n",
        "\n",
        "c = C()\n",
        "print(c.x)"
      ],
      "metadata": {
        "id": "pck2Os6ksyh8"
      },
      "execution_count": null,
      "outputs": []
    },
    {
      "cell_type": "code",
      "source": [
        "class A:\n",
        "  x = 9\n",
        "  y = 100\n",
        "\n",
        "class B(A):\n",
        "  x = 99\n",
        "\n",
        "class C(B):\n",
        "  pass\n",
        "\n",
        "c = C()\n",
        "print(c.x)\n",
        "print(c.y)"
      ],
      "metadata": {
        "id": "GvQN8FFODsne"
      },
      "execution_count": null,
      "outputs": []
    },
    {
      "cell_type": "code",
      "source": [
        "class A:\n",
        "  x = 9\n",
        "  y = 100\n",
        "\n",
        "class B:\n",
        "  x = 99\n",
        "\n",
        "class C(B, A):\n",
        "  pass\n",
        "\n",
        "c = C()\n",
        "print(c.x)\n",
        "print(c.y)"
      ],
      "metadata": {
        "id": "Sty9mOQ0ExIo"
      },
      "execution_count": null,
      "outputs": []
    },
    {
      "cell_type": "code",
      "source": [
        "class A:\n",
        "  pass\n",
        "class B(A):\n",
        "  pass\n",
        "class C(E):\n",
        "  pass\n",
        "class D(E):\n",
        "  pass\n",
        "class E(C,D):\n",
        "  pass"
      ],
      "metadata": {
        "id": "8hqOUVYkHAT8"
      },
      "execution_count": null,
      "outputs": []
    },
    {
      "cell_type": "code",
      "source": [
        "E.__mro__"
      ],
      "metadata": {
        "id": "2xmEyeq1KUSr"
      },
      "execution_count": null,
      "outputs": []
    },
    {
      "cell_type": "code",
      "source": [
        "#Functional Programming\n",
        "(lambda x: x*x)(7)"
      ],
      "metadata": {
        "id": "aEyffijLKpu9"
      },
      "execution_count": null,
      "outputs": []
    },
    {
      "cell_type": "code",
      "source": [
        "(lambda x, y: x*y)(3, 4)"
      ],
      "metadata": {
        "id": "QoRdfjmUpD-J"
      },
      "execution_count": null,
      "outputs": []
    },
    {
      "cell_type": "code",
      "source": [
        "a = (lambda x, y: x*y)(5, 7)"
      ],
      "metadata": {
        "id": "jjYgFwoypWwf"
      },
      "execution_count": null,
      "outputs": []
    },
    {
      "cell_type": "code",
      "source": [
        "print(a)"
      ],
      "metadata": {
        "id": "yshFiDjRpgNV"
      },
      "execution_count": null,
      "outputs": []
    },
    {
      "cell_type": "code",
      "source": [
        "print(a*2)"
      ],
      "metadata": {
        "id": "G2QYco3RpkYY"
      },
      "execution_count": null,
      "outputs": []
    },
    {
      "cell_type": "code",
      "source": [
        "a = (lambda x, y: x*y)"
      ],
      "metadata": {
        "id": "WpBYO-ddpmsF"
      },
      "execution_count": null,
      "outputs": []
    },
    {
      "cell_type": "code",
      "source": [
        "a(7, 6)"
      ],
      "metadata": {
        "id": "FCbd1ZCLptBq"
      },
      "execution_count": null,
      "outputs": []
    },
    {
      "cell_type": "code",
      "source": [
        "a(9, 5)"
      ],
      "metadata": {
        "id": "qzBH4SJVp2my"
      },
      "execution_count": null,
      "outputs": []
    },
    {
      "cell_type": "code",
      "source": [
        "b = (lambda x,y,z: x+y-z)"
      ],
      "metadata": {
        "id": "FKjX5gyip4iy"
      },
      "execution_count": null,
      "outputs": []
    },
    {
      "cell_type": "code",
      "source": [
        "b(3, 4, 5)"
      ],
      "metadata": {
        "id": "MtB1m1zwqBqU"
      },
      "execution_count": null,
      "outputs": []
    },
    {
      "cell_type": "code",
      "source": [
        "func = lambda x: \"Num is greater than 5\" if x > 5 else \"Num is less or equal to 5\""
      ],
      "metadata": {
        "id": "5epHfCdqqECK"
      },
      "execution_count": null,
      "outputs": []
    },
    {
      "cell_type": "code",
      "source": [
        "func(5)"
      ],
      "metadata": {
        "id": "1gniNzqHqcpu"
      },
      "execution_count": null,
      "outputs": []
    },
    {
      "cell_type": "code",
      "source": [
        "func = lambda x: \"Num is greater tha 5\" if x > 5 else \"Num is smaller than 3\" if x < 3 else \"Num is between 3 and 5\""
      ],
      "metadata": {
        "id": "EV5Dbw9bqg0a"
      },
      "execution_count": null,
      "outputs": []
    },
    {
      "cell_type": "code",
      "source": [
        "func(4)"
      ],
      "metadata": {
        "id": "bkB5cz1grIOo"
      },
      "execution_count": null,
      "outputs": []
    },
    {
      "cell_type": "code",
      "source": [
        "func(2)"
      ],
      "metadata": {
        "id": "qdWkLNbcrJvl"
      },
      "execution_count": null,
      "outputs": []
    },
    {
      "cell_type": "code",
      "source": [
        "func(7)"
      ],
      "metadata": {
        "id": "5EvSU0E_rMy9"
      },
      "execution_count": null,
      "outputs": []
    },
    {
      "cell_type": "code",
      "source": [
        "c = lambda x, y: [x*y, x+y, x-y, x/y]"
      ],
      "metadata": {
        "id": "cuzE6z7frQCQ"
      },
      "execution_count": null,
      "outputs": []
    },
    {
      "cell_type": "code",
      "source": [
        "c(4, 2)"
      ],
      "metadata": {
        "id": "GE88swgarc3F"
      },
      "execution_count": null,
      "outputs": []
    },
    {
      "cell_type": "code",
      "source": [
        "list = [[2, 3], [4, 2], [1, 9]]"
      ],
      "metadata": {
        "id": "lRDOxjtRrff1"
      },
      "execution_count": null,
      "outputs": []
    },
    {
      "cell_type": "code",
      "source": [
        "sorted(list)"
      ],
      "metadata": {
        "id": "WiAq9650rskJ"
      },
      "execution_count": null,
      "outputs": []
    },
    {
      "cell_type": "code",
      "source": [
        "sorted(list, key = lambda x:x[1])"
      ],
      "metadata": {
        "id": "pOU2D_LirvWw"
      },
      "execution_count": null,
      "outputs": []
    },
    {
      "cell_type": "code",
      "source": [
        "(lambda x:x[1])([4, 2])"
      ],
      "metadata": {
        "id": "1dD5jXBsr5w_"
      },
      "execution_count": null,
      "outputs": []
    },
    {
      "cell_type": "code",
      "source": [
        "(lambda x:x[1])([1, 9])"
      ],
      "metadata": {
        "id": "2mEOtC4xsLTd"
      },
      "execution_count": null,
      "outputs": []
    },
    {
      "cell_type": "code",
      "source": [
        "students = [{\"name\": 'A', 'marks': 50},\n",
        "            {\"name\": 'B', 'marks' : 100},\n",
        "            {\"name\": 'C', 'marks' : 40},\n",
        "            {\"name\": 'D', 'marks' : 80}]"
      ],
      "metadata": {
        "id": "5vmocgvZsV8X"
      },
      "execution_count": null,
      "outputs": []
    },
    {
      "cell_type": "code",
      "source": [
        "sorted(students, key = lambda x: x ['marks'])"
      ],
      "metadata": {
        "id": "TIoBa04psW3c"
      },
      "execution_count": null,
      "outputs": []
    },
    {
      "cell_type": "code",
      "source": [
        "sorted(students, key = lambda x: x ['marks'], reverse = True)"
      ],
      "metadata": {
        "id": "Bfs0wgeRsXWm"
      },
      "execution_count": null,
      "outputs": []
    },
    {
      "cell_type": "code",
      "source": [
        "order = {\"cust1\" : 50, \"cust2\" : 90, \"cust3\" : 30, \"cust4\" : 80}"
      ],
      "metadata": {
        "id": "p0Gl366xsXv4"
      },
      "execution_count": null,
      "outputs": []
    },
    {
      "cell_type": "code",
      "source": [
        "sorted(order, key = lambda x:x ['value'], reverse = True)"
      ],
      "metadata": {
        "id": "KHOpF7fG7nbH"
      },
      "execution_count": null,
      "outputs": []
    },
    {
      "cell_type": "markdown",
      "source": [
        "# New Section"
      ],
      "metadata": {
        "id": "UpuIxgzjFrsw"
      }
    },
    {
      "cell_type": "code",
      "source": [],
      "metadata": {
        "id": "XBmCusnJ7nGn"
      },
      "execution_count": null,
      "outputs": []
    },
    {
      "cell_type": "code",
      "source": [
        "# Map Function\n",
        "list = [1, 2, 3, 4, 5]\n",
        "output = []\n",
        "f = lambda x:x*x\n",
        "for i in list:\n",
        "  output.append(f(i))\n",
        "output"
      ],
      "metadata": {
        "id": "s54WxA0osYQJ"
      },
      "execution_count": null,
      "outputs": []
    },
    {
      "cell_type": "code",
      "source": [],
      "metadata": {
        "id": "XDc4fsigsYxA"
      },
      "execution_count": null,
      "outputs": []
    },
    {
      "cell_type": "code",
      "source": [],
      "metadata": {
        "id": "1bKrFIhIytcW"
      },
      "execution_count": null,
      "outputs": []
    },
    {
      "cell_type": "code",
      "source": [],
      "metadata": {
        "id": "SaZ6JmtJyukB"
      },
      "execution_count": null,
      "outputs": []
    },
    {
      "cell_type": "code",
      "source": [],
      "metadata": {
        "id": "UzgOUWVNyuWc"
      },
      "execution_count": null,
      "outputs": []
    },
    {
      "cell_type": "code",
      "source": [],
      "metadata": {
        "id": "pWC7Pgk6ytRM"
      },
      "execution_count": null,
      "outputs": []
    },
    {
      "cell_type": "code",
      "source": [],
      "metadata": {
        "id": "pOhPWgT7ytGQ"
      },
      "execution_count": null,
      "outputs": []
    },
    {
      "cell_type": "code",
      "source": [],
      "metadata": {
        "id": "QKufchukys43"
      },
      "execution_count": null,
      "outputs": []
    },
    {
      "cell_type": "code",
      "source": [
        "list1= [1, 2, 3]\n",
        "list2= ['a', 'b', 'c']\n",
        "print(list(zip(list1, list2)))"
      ],
      "metadata": {
        "id": "K7vXiXOVsQkR"
      },
      "execution_count": null,
      "outputs": []
    },
    {
      "cell_type": "code",
      "source": [
        "list1= [1, 2, 3]\n",
        "list2= ['a', 'b', 'c']\n",
        "print(dict(zip(list1, list2)))"
      ],
      "metadata": {
        "id": "NuN6q2kvR15n"
      },
      "execution_count": null,
      "outputs": []
    },
    {
      "cell_type": "code",
      "source": [
        "list1= [1, 2, 3]\n",
        "list2= ['a', 'b', 'c']\n",
        "print(set(zip(list1, list2)))"
      ],
      "metadata": {
        "id": "W0Nay9Y5R1oL"
      },
      "execution_count": null,
      "outputs": []
    },
    {
      "cell_type": "code",
      "source": [
        "list1= [1, 2, 3]\n",
        "list2= ['a', 'b', 'c']\n",
        "print(tuple(zip(list1, list2)))"
      ],
      "metadata": {
        "id": "pXLcCOTzR1Pc"
      },
      "execution_count": null,
      "outputs": []
    },
    {
      "cell_type": "code",
      "source": [
        "list(map(list, zip(list1, list2)))"
      ],
      "metadata": {
        "id": "QGY7APrqTYYM"
      },
      "execution_count": null,
      "outputs": []
    },
    {
      "cell_type": "code",
      "source": [
        "list1= [1, 2, 3, 4, 5]\n",
        "list2= ['a', 'b', 'c']\n",
        "print(list(zip(list1, list2)))"
      ],
      "metadata": {
        "id": "GofmGha0TwUC"
      },
      "execution_count": null,
      "outputs": []
    },
    {
      "cell_type": "code",
      "source": [
        "list1= [1, 2, 3, 4]\n",
        "list2= ['a', 'b', 'c', 'd', 'e']\n",
        "print(list(zip(list1, list2)))"
      ],
      "metadata": {
        "id": "njgMYrZBTv5V"
      },
      "execution_count": null,
      "outputs": []
    },
    {
      "cell_type": "code",
      "source": [
        "list1= [1, 2, 3, 3]\n",
        "list2= ['a', 'b', 'c', 'd', 'e']\n",
        "print(list(zip(list1, list2)))"
      ],
      "metadata": {
        "id": "pCyq6ExvTv0i"
      },
      "execution_count": null,
      "outputs": []
    },
    {
      "cell_type": "code",
      "source": [
        "def gen_fun(x, y):\n",
        "  def add(x, y):\n",
        "    return x+y\n",
        "  return add\n",
        "gen_fun(3, 2)"
      ],
      "metadata": {
        "id": "qkEqpGSgzzbZ"
      },
      "execution_count": null,
      "outputs": []
    },
    {
      "cell_type": "code",
      "source": [
        "def gen_exp(n):\n",
        "  def exp(x):\n",
        "    return x**n\n",
        "  return exp\n",
        "gen_exp(3)"
      ],
      "metadata": {
        "id": "ei-D2tOT7t2C"
      },
      "execution_count": null,
      "outputs": []
    },
    {
      "cell_type": "code",
      "source": [
        "def exp_5(x):\n",
        "  return x**5\n",
        "exp_5(2)"
      ],
      "metadata": {
        "id": "AaBUXUVv8YLo"
      },
      "execution_count": null,
      "outputs": []
    },
    {
      "cell_type": "code",
      "source": [
        "def exp_6(x):\n",
        "  return x**6\n",
        "exp_6(2)"
      ],
      "metadata": {
        "id": "Kl9A4qREURnS"
      },
      "execution_count": null,
      "outputs": []
    },
    {
      "cell_type": "code",
      "source": [
        "def gen_exp(n):\n",
        "  def exp(x):\n",
        "    return x**n\n",
        "  return exp\n",
        "gen_exp(5)"
      ],
      "metadata": {
        "id": "qRappdHXUXR2"
      },
      "execution_count": null,
      "outputs": []
    },
    {
      "cell_type": "code",
      "source": [
        "type(gen_exp(5))"
      ],
      "metadata": {
        "id": "pJepda5FUn_M"
      },
      "execution_count": null,
      "outputs": []
    },
    {
      "cell_type": "code",
      "source": [
        "def gen_exp(n):\n",
        "  def exp(x):\n",
        "    return x**n\n",
        "  return exp\n",
        "gen_exp(5)"
      ],
      "metadata": {
        "id": "iJxVyT0wUrnI"
      },
      "execution_count": null,
      "outputs": []
    },
    {
      "cell_type": "code",
      "source": [
        "gen_exp(5)(3) # gen_exp(n)(x)"
      ],
      "metadata": {
        "id": "TDOzthZhU1Yd"
      },
      "execution_count": null,
      "outputs": []
    },
    {
      "cell_type": "code",
      "source": [
        "gen_exp(5)(2)"
      ],
      "metadata": {
        "id": "ClOurABPU-qz"
      },
      "execution_count": null,
      "outputs": []
    },
    {
      "cell_type": "code",
      "source": [
        "gen_exp(4)(2)"
      ],
      "metadata": {
        "id": "hgczdPS3VJzL"
      },
      "execution_count": null,
      "outputs": []
    },
    {
      "cell_type": "code",
      "source": [
        "gen_exp(4)(4)"
      ],
      "metadata": {
        "id": "dc17G0ojVQuA"
      },
      "execution_count": null,
      "outputs": []
    },
    {
      "cell_type": "code",
      "source": [
        "# Add function\n",
        "def create_add(x):\n",
        "  def add_x(y):\n",
        "    return x+y\n",
        "  return add_x"
      ],
      "metadata": {
        "id": "-5uoW4d8VWUV"
      },
      "execution_count": null,
      "outputs": []
    },
    {
      "cell_type": "code",
      "source": [
        "create_add(5)(3)"
      ],
      "metadata": {
        "id": "3yLQn7v4W7G3"
      },
      "execution_count": null,
      "outputs": []
    },
    {
      "cell_type": "code",
      "source": [
        "create_add(7)(8)"
      ],
      "metadata": {
        "id": "lQcCiS4NXAW8"
      },
      "execution_count": null,
      "outputs": []
    },
    {
      "cell_type": "code",
      "source": [
        "def foo():\n",
        "  print(\"Hi how are you\")"
      ],
      "metadata": {
        "id": "Nvk84WLoXEyN"
      },
      "execution_count": null,
      "outputs": []
    },
    {
      "cell_type": "code",
      "source": [
        "foo()"
      ],
      "metadata": {
        "id": "OS6gSe8Wc_2i"
      },
      "execution_count": null,
      "outputs": []
    },
    {
      "cell_type": "code",
      "source": [
        "def bar():\n",
        "  print(\"Nov22 Mon is my favorite batch\")"
      ],
      "metadata": {
        "id": "3LgxZTsVdEu_"
      },
      "execution_count": null,
      "outputs": []
    },
    {
      "cell_type": "code",
      "source": [
        "bar()"
      ],
      "metadata": {
        "id": "DIkNUtpldU9S"
      },
      "execution_count": null,
      "outputs": []
    },
    {
      "cell_type": "code",
      "source": [
        "def foo():\n",
        "  print(\"_\"*50)\n",
        "  print(\"Hi How Are You\")\n",
        "  print(\"_\"*50)"
      ],
      "metadata": {
        "id": "nKeAsScSdWPZ"
      },
      "execution_count": null,
      "outputs": []
    },
    {
      "cell_type": "code",
      "source": [
        "foo()"
      ],
      "metadata": {
        "id": "5C0lOP_BdnGK"
      },
      "execution_count": null,
      "outputs": []
    },
    {
      "cell_type": "code",
      "source": [
        "def bar():\n",
        "  print(\"*\"*50)\n",
        "  print(\"Nov22 Monday is my favorite batch\")\n",
        "  print(\"*\"*50)"
      ],
      "metadata": {
        "id": "j2Vn9HrydpMu"
      },
      "execution_count": null,
      "outputs": []
    },
    {
      "cell_type": "code",
      "source": [
        "bar()"
      ],
      "metadata": {
        "id": "23do1Nb0d6X3"
      },
      "execution_count": null,
      "outputs": []
    },
    {
      "cell_type": "code",
      "source": [
        "def add_stars(func):\n",
        "  def inner():\n",
        "    print(\"*\"*50)\n",
        "    func()\n",
        "    print(\"_\"*50)\n",
        "  return inner()"
      ],
      "metadata": {
        "id": "aEGGz0o0d8sf"
      },
      "execution_count": null,
      "outputs": []
    },
    {
      "cell_type": "code",
      "source": [
        "def bar():\n",
        "  print(\"Nov22 Monday is my favorite batch\")"
      ],
      "metadata": {
        "id": "ocd1fu_wedRs"
      },
      "execution_count": null,
      "outputs": []
    },
    {
      "cell_type": "code",
      "source": [
        "bar()"
      ],
      "metadata": {
        "id": "f7lNtgE0emuP"
      },
      "execution_count": null,
      "outputs": []
    },
    {
      "cell_type": "code",
      "source": [
        "@add_stars\n",
        "def bar():\n",
        "  print(\"Nov22 Monday is my favorite batch\")"
      ],
      "metadata": {
        "id": "bBaj1kO8e__M"
      },
      "execution_count": null,
      "outputs": []
    },
    {
      "cell_type": "code",
      "source": [
        "def zipzap():\n",
        "  print(\"I do zip zap\")\n",
        "zipzap()"
      ],
      "metadata": {
        "id": "6z2sRosnfJyh"
      },
      "execution_count": null,
      "outputs": []
    },
    {
      "cell_type": "code",
      "source": [
        "new_zipzap = add_stars(zipzap)"
      ],
      "metadata": {
        "id": "nZO_F3TSf3Kt"
      },
      "execution_count": null,
      "outputs": []
    },
    {
      "cell_type": "code",
      "source": [
        "@add_stars\n",
        "def print_hw():\n",
        "  print(\"Hello World\")\n",
        "print_hw"
      ],
      "metadata": {
        "id": "R-EW04nohKWg"
      },
      "execution_count": null,
      "outputs": []
    },
    {
      "cell_type": "code",
      "source": [
        "odd=lambda x: bool(x%2)\n",
        "result=[n for n in range(10)]\n",
        "\n",
        "for i in result:\n",
        "    if odd(i):\n",
        "        continue       \n",
        "    else:\n",
        "        print(i, end=\" \")"
      ],
      "metadata": {
        "id": "pF8kwapmhn_h"
      },
      "execution_count": null,
      "outputs": []
    },
    {
      "cell_type": "code",
      "source": [
        "def func2(c, d):\n",
        "    return c, d\n",
        "\n",
        "def func1(a, b):\n",
        "    c = a**1\n",
        "    d = b**2\n",
        "    return lambda: func2(c,d)\n",
        "\n",
        "result = func1(1, 2)\n",
        "\n",
        "print(result())"
      ],
      "metadata": {
        "id": "THYqfUu3_FR2"
      },
      "execution_count": null,
      "outputs": []
    },
    {
      "cell_type": "code",
      "source": [
        "def LengthSequence(string, length):\n",
        "    '''string => a string\n",
        "       length => an integer representing required length of words which are be returned'''\n",
        "    words = string.split()\n",
        "    length_words = []\n",
        "    result= []\n",
        "    for i in words:\n",
        "        length_words.append(len(i))\n",
        "    for i in range(len(length_words)):\n",
        "        if length_words[i]==length:\n",
        "            result.append(words[i])    \n",
        "\n",
        "    return result"
      ],
      "metadata": {
        "id": "z-mQgEF__l2w"
      },
      "execution_count": null,
      "outputs": []
    },
    {
      "cell_type": "code",
      "source": [
        "LengthSequence(\"The world has changed and none of us can go back all we can do is our best and sometimes the best that we can do is to start over\", 5)"
      ],
      "metadata": {
        "id": "UTWoFfnO_uIY"
      },
      "execution_count": null,
      "outputs": []
    },
    {
      "cell_type": "code",
      "source": [
        "def second_lowest(students, scores):\n",
        "    '''\n",
        "    input:\n",
        "    students -> a list of students\n",
        "    scores -> list of the scores, with each score being that of the ith student\n",
        "    output:\n",
        "    student_data -> 2d list of data, with each inner list having name of student as 1st and score of 2nd as second element respectively\n",
        "    second_low_score -> the second lowest score\n",
        "    second_names -> list of students with score same as second lowest score, in the same order as in the students list\n",
        "    ''' \n",
        "    student_data = []\n",
        "    second_low_score = 0\n",
        "    for i in range(len(students)):\n",
        "        student_data.append([students[i],scores[i]])\n",
        "        order = sorted(student_data,key=lambda x: int(x[1]))\n",
        "    for i in range(len(students)):\n",
        "        if order[i][1] != order[0][1]:\n",
        "            second_low_score=order[i][1]\n",
        "            break\n",
        "            second_names=[x[0] for x in order if x[1] == second_low_score]\n",
        "    # Your code starts here\n",
        "    return student_data, second_low_score, second_names"
      ],
      "metadata": {
        "id": "kHpaqeSa_7iO"
      },
      "execution_count": null,
      "outputs": []
    },
    {
      "cell_type": "code",
      "source": [
        "second_lowest(('S ROY', 'B BOSE', 'N KAR', 'C DUTTA', 'G GHOSH'), (1, 3, 2, 1, 1))"
      ],
      "metadata": {
        "id": "CvBbxUrqAENt"
      },
      "execution_count": null,
      "outputs": []
    },
    {
      "cell_type": "code",
      "source": [
        "def sort_strings(str_list):\n",
        "  res = []\n",
        "  for i in range(len(str_list)):\n",
        "    sorted_list = sorted(str_list[i], key= lambda x: x.count('a'), reverse=True)\n",
        "    res.append(sorted_list)\n",
        "  return res\n",
        "  #str_list-> nested list of strings\n",
        "\t# return the sorted list of strings on the basis of number of times ‘a’ occurs\n",
        "\t# code starts here"
      ],
      "metadata": {
        "id": "FJhGnjGcAcXg"
      },
      "execution_count": null,
      "outputs": []
    },
    {
      "cell_type": "code",
      "source": [
        "sort_strings(\"(\"mango banana guava\", \"rose sandalwood\", \"bccc aaa baac c\")\")"
      ],
      "metadata": {
        "id": "ZjosjvuTBaWI"
      },
      "execution_count": null,
      "outputs": []
    },
    {
      "cell_type": "code",
      "source": [
        "def sort_strings(str_list):\n",
        "  str_list.sort()\n",
        "  res = sorted(str_list, key = len)\n",
        "  return res\n",
        "  #str_list-> list of strings\n",
        "\t# return the sorted list of strings on the basis of criteria mentioned\n",
        "\t# code starts here"
      ],
      "metadata": {
        "id": "YTyV0gdzCfKn"
      },
      "execution_count": null,
      "outputs": []
    },
    {
      "cell_type": "code",
      "source": [
        "sort_strings(\"cccc\", \"b\", \"dd\", \"aaa\")"
      ],
      "metadata": {
        "id": "meL-9iv4DIMo"
      },
      "execution_count": null,
      "outputs": []
    },
    {
      "cell_type": "code",
      "source": [
        "# Day 41\n",
        "with open(\"essay.txt\",\"r\") as f:\n",
        "    count = 0\n",
        "    data = f.read()  #A\n",
        "    words =f.split() #B\n",
        "    for word in words:\n",
        "        count += 1\n",
        "    print(count)"
      ],
      "metadata": {
        "id": "VMyJI2NUDddM"
      },
      "execution_count": null,
      "outputs": []
    },
    {
      "cell_type": "code",
      "source": [],
      "metadata": {
        "id": "lbkxOdXqFZHi"
      },
      "execution_count": null,
      "outputs": []
    },
    {
      "cell_type": "code",
      "source": [
        "f = None \n",
        "for i in range (5): \n",
        "    with open(\"data.txt\", \"w\") as f: \n",
        "        if i > 2: \n",
        "            break \n",
        "print(f.closed)"
      ],
      "metadata": {
        "id": "KNrYIVjoKOYl"
      },
      "execution_count": null,
      "outputs": []
    },
    {
      "cell_type": "code",
      "source": [
        "#Day 40\n",
        "import functools\n",
        "lists = [1,2,3,4]\n",
        "print(functools.reduce(lambda x,y : x if x > y else y ,lists))"
      ],
      "metadata": {
        "id": "beSvgIIBKPR6"
      },
      "execution_count": null,
      "outputs": []
    },
    {
      "cell_type": "code",
      "source": [
        "arr = [\"php\", \"w3r\", \"python\", \"aaa\", \"java\"]\n",
        "result  = list( filter( lambda x: (x ==\"\".join( reversed(x))), arr))\n",
        "print(result)"
      ],
      "metadata": {
        "id": "YWsh5yNBNCwz"
      },
      "execution_count": null,
      "outputs": []
    },
    {
      "cell_type": "code",
      "source": [
        "arr = [\"php\", \"w3r\", \"python\", \"aaa\", \"java\"]\n",
        "result  = list(filter(lambda x: x in arr, str))\n",
        "print(result)"
      ],
      "metadata": {
        "id": "6VLMoDelNaBJ"
      },
      "execution_count": null,
      "outputs": []
    },
    {
      "cell_type": "code",
      "source": [
        "column_names = ['name', 'salary', 'job']\n",
        "db_rows = [('Alice', 180000, 'data scientist'),\n",
        "           ('Bob', 99000, 'data engineer'),\n",
        "           ('Frank', 87000, 'data analyst')]\n",
        "\n",
        "db = [dict(zip(column_names, db_rows)) for row in db_rows]\n",
        "print(db)"
      ],
      "metadata": {
        "id": "h-opuvJ4Nmpe"
      },
      "execution_count": null,
      "outputs": []
    },
    {
      "cell_type": "code",
      "source": [
        "column_names = ['name', 'salary', 'job']\n",
        "db_rows = [('Alice', 180000, 'data scientist'),\n",
        "           ('Bob', 99000, 'data engineer'),\n",
        "           ('Frank', 87000, 'data analyst')]\n",
        "\n",
        "db = [dict(zip(db_rows, column_names)) for row in db_rows]\n",
        "print(db)"
      ],
      "metadata": {
        "id": "WJbJbRdkOtt6"
      },
      "execution_count": null,
      "outputs": []
    },
    {
      "cell_type": "code",
      "source": [
        "column_names = ['name', 'salary', 'job']\n",
        "db_rows = [('Alice', 180000, 'data scientist'),\n",
        "           ('Bob', 99000, 'data engineer'),\n",
        "           ('Frank', 87000, 'data analyst')]\n",
        "\n",
        "db = [dict(zip(row, column_names)) for row in db_rows]\n",
        "print(db)"
      ],
      "metadata": {
        "id": "_KJ1909dPAhW"
      },
      "execution_count": null,
      "outputs": []
    },
    {
      "cell_type": "code",
      "source": [
        "column_names = ['name', 'salary', 'job']\n",
        "db_rows = [('Alice', 180000, 'data scientist'),\n",
        "           ('Bob', 99000, 'data engineer'),\n",
        "           ('Frank', 87000, 'data analyst')]\n",
        "\n",
        "db = [dict(zip(column_names, row)) for row in db_rows]\n",
        "print(db)"
      ],
      "metadata": {
        "id": "mv4WkvQRPV1e"
      },
      "execution_count": null,
      "outputs": []
    },
    {
      "cell_type": "code",
      "source": [
        "sentence = \"abc cde def\"\n",
        "result = list(map(lambda x: list(x), sentence.split(\" \")))\n",
        "print(result)"
      ],
      "metadata": {
        "id": "lo3DMsYgPewa"
      },
      "execution_count": null,
      "outputs": []
    },
    {
      "cell_type": "code",
      "source": [
        "list1 = [[1,2,3],[4,5,6],[7,8,9]]\n",
        "list2 = [[9,8,7],[6,5,4],[3,2,1]]\n",
        "ls11,ls12,ls13=list1\n",
        "ls21,ls22,ls23=list2\n",
        "print(list(zip(ls11,ls12,ls13,ls21,ls22,ls23)))"
      ],
      "metadata": {
        "id": "23B92IDTPsgc"
      },
      "execution_count": null,
      "outputs": []
    },
    {
      "cell_type": "code",
      "source": [
        "array  = [1, 2, 3, 4, 5]\n",
        "def func1(x):\n",
        "    return x<0\n",
        "result=filter(func1, array)\n",
        "print(list(result))"
      ],
      "metadata": {
        "id": "wrA8dva2QOBJ"
      },
      "execution_count": null,
      "outputs": []
    },
    {
      "cell_type": "code",
      "source": [
        "list(filter(lambda x:x<0, array))"
      ],
      "metadata": {
        "id": "IWw7LJ6vTHKd"
      },
      "execution_count": null,
      "outputs": []
    },
    {
      "cell_type": "code",
      "source": [
        "list(filter(lambda x, y: x<0,array))"
      ],
      "metadata": {
        "id": "N03a4p4KT5TO"
      },
      "execution_count": null,
      "outputs": []
    },
    {
      "cell_type": "code",
      "source": [
        "list(filter(reduce x<0, array))"
      ],
      "metadata": {
        "id": "AN2rzyGcT-Tf"
      },
      "execution_count": null,
      "outputs": []
    },
    {
      "cell_type": "code",
      "source": [
        "list(reduce(x: x<0, array))"
      ],
      "metadata": {
        "id": "ZHUxc0iTUBhD"
      },
      "execution_count": null,
      "outputs": []
    },
    {
      "cell_type": "code",
      "source": [
        "def is_valid(email):\n",
        "    email = email.split(\"@\")\n",
        "    if len(email) != 2:\n",
        "        return False\n",
        "    if len(email[0]) > 20:\n",
        "        return False\n",
        "    return True\n",
        "def check(emails):\n",
        "    '''\n",
        "    input:\n",
        "    emails -> list of emails to check\n",
        "    output:\n",
        "    verified_lex -> the verified list of emails, in lexicographical order\n",
        "    '''\n",
        "    verified_lex = []\n",
        "    for email in emails:\n",
        "        if is_valid(email):\n",
        "            verified_lex.append(email)\n",
        "    verified_lex = sorted(verified_lex)\n",
        "    return verified_lex"
      ],
      "metadata": {
        "id": "yBqY0q8-UFNi"
      },
      "execution_count": null,
      "outputs": []
    },
    {
      "cell_type": "code",
      "source": [
        "check(\"sara@scaler.com, brian-23@scaler.com, brute_54@scaler.com\")"
      ],
      "metadata": {
        "id": "wY-ML1-6o6SA"
      },
      "execution_count": null,
      "outputs": []
    },
    {
      "cell_type": "code",
      "source": [
        "students = ['a', 'b', 'c', 'd']\n",
        "score = [1, 2, 3, 4]\n",
        "dict(zip(students, score))"
      ],
      "metadata": {
        "id": "bGWuVrIAqdZT"
      },
      "execution_count": null,
      "outputs": []
    },
    {
      "cell_type": "code",
      "source": [
        "set(zip(students, score))"
      ],
      "metadata": {
        "id": "YUnbVgSifZaw"
      },
      "execution_count": null,
      "outputs": []
    },
    {
      "cell_type": "code",
      "source": [
        "tuple(zip(students, score))"
      ],
      "metadata": {
        "id": "OGtEhxnLi43p"
      },
      "execution_count": null,
      "outputs": []
    },
    {
      "cell_type": "code",
      "source": [
        "list(zip(students, score))"
      ],
      "metadata": {
        "id": "4qYPUBFZi_5j"
      },
      "execution_count": null,
      "outputs": []
    },
    {
      "cell_type": "code",
      "source": [
        "# evaluate() printing the number of vowels if the Name is Smaller otherwise it prints the number of consonants.\"\n",
        "\n",
        "name = \"Sachini\"\n",
        "name = set(name)\n",
        "vowel_count = len(list(filter(lambda x :x in 'aeiouAEIOU',name )))\n",
        "vowel_count"
      ],
      "metadata": {
        "id": "XZYjqElvjazc"
      },
      "execution_count": null,
      "outputs": []
    },
    {
      "cell_type": "code",
      "source": [
        "const_count =len(name)- vowel_count\n",
        "const_count"
      ],
      "metadata": {
        "id": "ah9NHwjqor_f"
      },
      "execution_count": null,
      "outputs": []
    },
    {
      "cell_type": "code",
      "source": [
        "#[['S ROY', 1.0], ['B BOSE', 3.0], ['N KAR', 2.0], ['C DUTTA', 1.0], ['G GHOSH', 1.0]]\n",
        "def second_lowest(students, scores):\n",
        "    \n",
        "    student_data, second_low_score, second_names = None, None, None\n",
        "    \n",
        "    # Your code starts here\n",
        "    \n",
        "    \n",
        "    # Your code ends here\n",
        "    return student_data, second_low_score, second_name"
      ],
      "metadata": {
        "id": "8l9v6FXkovwp"
      },
      "execution_count": null,
      "outputs": []
    },
    {
      "cell_type": "code",
      "source": [
        "students = [\"S ROY\" , \"B BOSE\" ,\"N KAR\" , \"C DUTTA\" ,\"G GHOSH\", \"B KAR\"]\n",
        "scores = [1 , 3 ,2, 1 , 1, 2]\n",
        "dict(zip(students,scores ))"
      ],
      "metadata": {
        "id": "l08640mRpME6"
      },
      "execution_count": null,
      "outputs": []
    },
    {
      "cell_type": "code",
      "source": [
        "students = [\"S ROY\" , \"B BOSE\" ,\"N KAR\" , \"C DUTTA\" ,\"G GHOSH\", \"B KAR\"]\n",
        "scores = [1 , 3 ,2, 1 , 1, 2]"
      ],
      "metadata": {
        "id": "JHtZ-Swspv7B"
      },
      "execution_count": null,
      "outputs": []
    },
    {
      "cell_type": "code",
      "source": [
        "list(zip(students,scores))"
      ],
      "metadata": {
        "id": "5DvbyKFMrLzl"
      },
      "execution_count": null,
      "outputs": []
    },
    {
      "cell_type": "code",
      "source": [
        "student_data = list(map(list,zip(students,scores))) # line 1\n",
        "student_data"
      ],
      "metadata": {
        "id": "mgucBD-mrsxD"
      },
      "execution_count": null,
      "outputs": []
    },
    {
      "cell_type": "code",
      "source": [
        "# second step to get second lowest marks\n",
        "second_low_score = sorted(list(set(scores)))[1] # line 2\n",
        "second_low_score"
      ],
      "metadata": {
        "id": "dZNmIv7HrwpB"
      },
      "execution_count": null,
      "outputs": []
    },
    {
      "cell_type": "code",
      "source": [
        "list(filter(lambda x : x[1]==second_low_score, student_data ))"
      ],
      "metadata": {
        "id": "C5vBGSGjr1qW"
      },
      "execution_count": null,
      "outputs": []
    },
    {
      "cell_type": "code",
      "source": [
        "list(map(lambda x: x[0], list(filter(lambda x : x[1]==second_low_score, student_data )))) # line 3"
      ],
      "metadata": {
        "id": "7O_0X0fCr7JJ"
      },
      "execution_count": null,
      "outputs": []
    },
    {
      "cell_type": "code",
      "source": [
        "f = None \n",
        "for i in range (5): \n",
        "    with open(\"data.txt\", \"w\") as f: \n",
        "        if i > 2: \n",
        "            break \n",
        "print(f.closed)"
      ],
      "metadata": {
        "id": "CTCmEvW0sA-5"
      },
      "execution_count": null,
      "outputs": []
    },
    {
      "cell_type": "code",
      "source": [
        "import random"
      ],
      "metadata": {
        "id": "VdwtKXFdVFPO"
      },
      "execution_count": null,
      "outputs": []
    },
    {
      "cell_type": "code",
      "source": [
        "def OTP():\n",
        "  print(random.randint(100000, 999999))"
      ],
      "metadata": {
        "id": "aOmSPKAeAHO-"
      },
      "execution_count": null,
      "outputs": []
    },
    {
      "cell_type": "code",
      "source": [
        "OTP()"
      ],
      "metadata": {
        "id": "0a5nxIExBZKo"
      },
      "execution_count": null,
      "outputs": []
    },
    {
      "cell_type": "code",
      "source": [
        "def Winner():\n",
        "  print(random.randint(101, 110))"
      ],
      "metadata": {
        "id": "elTnevchAQAD"
      },
      "execution_count": null,
      "outputs": []
    },
    {
      "cell_type": "code",
      "source": [
        "Winner()"
      ],
      "metadata": {
        "id": "HHDjeM_UAaOK"
      },
      "execution_count": null,
      "outputs": []
    },
    {
      "cell_type": "code",
      "source": [
        "import random"
      ],
      "metadata": {
        "id": "yDv7Eq6oP_LT"
      },
      "execution_count": null,
      "outputs": []
    },
    {
      "cell_type": "code",
      "source": [
        "print(random.randint(3,6))"
      ],
      "metadata": {
        "id": "0jaRoeb2wZjA"
      },
      "execution_count": null,
      "outputs": []
    },
    {
      "cell_type": "code",
      "source": [
        "print(random.randrange(3, 6))"
      ],
      "metadata": {
        "id": "pFgzGCi7we2q"
      },
      "execution_count": null,
      "outputs": []
    },
    {
      "cell_type": "code",
      "source": [
        "print(random.choice([3, 6]))"
      ],
      "metadata": {
        "id": "j40yWiEQwpzG"
      },
      "execution_count": null,
      "outputs": []
    },
    {
      "cell_type": "code",
      "source": [
        "print(3 + random.randrange(3))"
      ],
      "metadata": {
        "id": "yrYETkLAwwKH"
      },
      "execution_count": null,
      "outputs": []
    },
    {
      "cell_type": "code",
      "source": [
        "print(random.randrange(3, 6))"
      ],
      "metadata": {
        "id": "ZESRa2cWwyuJ"
      },
      "execution_count": null,
      "outputs": []
    },
    {
      "cell_type": "code",
      "source": [
        "print(3 + random.randrange(3))"
      ],
      "metadata": {
        "id": "e-9dWH8fwz4Z"
      },
      "execution_count": null,
      "outputs": []
    },
    {
      "cell_type": "code",
      "source": [
        "print(3 + random.randrange(3))"
      ],
      "metadata": {
        "id": "T8H2hrHUw7fJ"
      },
      "execution_count": null,
      "outputs": []
    },
    {
      "cell_type": "code",
      "source": [
        "from math import factorial\n",
        "print(math.factorial(5)) "
      ],
      "metadata": {
        "id": "UY3jJk6rxxtH"
      },
      "execution_count": null,
      "outputs": []
    },
    {
      "cell_type": "code",
      "source": [
        "from math import factorial"
      ],
      "metadata": {
        "id": "bIQ7S6ZUz8xG"
      },
      "execution_count": null,
      "outputs": []
    },
    {
      "cell_type": "code",
      "source": [
        "print(math.factorial(5))"
      ],
      "metadata": {
        "id": "vVCs6cqv3cS0"
      },
      "execution_count": null,
      "outputs": []
    },
    {
      "cell_type": "code",
      "source": [
        "print(3 + random.randrange(4))"
      ],
      "metadata": {
        "id": "yeSdDpLk3enO"
      },
      "execution_count": null,
      "outputs": []
    },
    {
      "cell_type": "code",
      "source": [
        "import random\n",
        "\n",
        "array = list(range(100))\n",
        "random.shuffle(array)\n",
        "while len(array) != 0:\n",
        "      print(array.pop())"
      ],
      "metadata": {
        "colab": {
          "base_uri": "https://localhost:8080/"
        },
        "id": "-sPe0L5V4LVe",
        "outputId": "f6e1dcd2-b190-4bcd-e55b-767955e619fa"
      },
      "execution_count": null,
      "outputs": [
        {
          "output_type": "stream",
          "name": "stdout",
          "text": [
            "87\n",
            "60\n",
            "92\n",
            "33\n",
            "55\n",
            "20\n",
            "76\n",
            "31\n",
            "64\n",
            "67\n",
            "63\n",
            "14\n",
            "23\n",
            "49\n",
            "51\n",
            "7\n",
            "39\n",
            "45\n",
            "35\n",
            "5\n",
            "40\n",
            "79\n",
            "22\n",
            "13\n",
            "61\n",
            "3\n",
            "86\n",
            "94\n",
            "88\n",
            "4\n",
            "57\n",
            "77\n",
            "38\n",
            "73\n",
            "70\n",
            "16\n",
            "28\n",
            "8\n",
            "89\n",
            "68\n",
            "17\n",
            "95\n",
            "81\n",
            "26\n",
            "91\n",
            "41\n",
            "84\n",
            "37\n",
            "12\n",
            "42\n",
            "78\n",
            "90\n",
            "2\n",
            "1\n",
            "58\n",
            "52\n",
            "82\n",
            "99\n",
            "65\n",
            "19\n",
            "50\n",
            "48\n",
            "34\n",
            "66\n",
            "44\n",
            "0\n",
            "59\n",
            "83\n",
            "18\n",
            "71\n",
            "72\n",
            "32\n",
            "25\n",
            "98\n",
            "43\n",
            "10\n",
            "53\n",
            "54\n",
            "46\n",
            "47\n",
            "30\n",
            "85\n",
            "11\n",
            "9\n",
            "15\n",
            "56\n",
            "80\n",
            "75\n",
            "93\n",
            "74\n",
            "36\n",
            "21\n",
            "96\n",
            "27\n",
            "6\n",
            "97\n",
            "29\n",
            "24\n",
            "69\n",
            "62\n"
          ]
        }
      ]
    },
    {
      "cell_type": "code",
      "source": [
        "import math\n",
        "result = 1\n",
        "for i in range(1,7):\n",
        "     result += 1/(math.factorial(i))#blank1\n",
        "print(round(result,2))"
      ],
      "metadata": {
        "colab": {
          "base_uri": "https://localhost:8080/"
        },
        "id": "cBsuztxZ42Fx",
        "outputId": "1c32382d-ba4d-46f5-a4f9-81f4493fb85d"
      },
      "execution_count": null,
      "outputs": [
        {
          "output_type": "stream",
          "name": "stdout",
          "text": [
            "2.72\n"
          ]
        }
      ]
    },
    {
      "cell_type": "code",
      "source": [],
      "metadata": {
        "id": "kKZyo2uqTm87"
      },
      "execution_count": null,
      "outputs": []
    },
    {
      "cell_type": "code",
      "source": [
        "import math\n",
        "result = 1\n",
        "for i in range(1,7):\n",
        "     result += 1/(math.pow(i,1))#blank1\n",
        "print(round(result,2))"
      ],
      "metadata": {
        "colab": {
          "base_uri": "https://localhost:8080/"
        },
        "id": "skRmlltmDZ2n",
        "outputId": "429d9435-67f8-4f65-b4ca-8ed3afd05417"
      },
      "execution_count": null,
      "outputs": [
        {
          "output_type": "stream",
          "name": "stdout",
          "text": [
            "3.45\n"
          ]
        }
      ]
    },
    {
      "cell_type": "code",
      "source": [
        "import math\n",
        "result = 1\n",
        "for i in range(1,7):\n",
        "     result += 1/(math.pow(i,2))#blank1\n",
        "print(round(result,2))"
      ],
      "metadata": {
        "colab": {
          "base_uri": "https://localhost:8080/"
        },
        "id": "BpKQZFQEDkgp",
        "outputId": "ccc5a27d-8070-49fd-fd04-72714890d178"
      },
      "execution_count": null,
      "outputs": [
        {
          "output_type": "stream",
          "name": "stdout",
          "text": [
            "2.49\n"
          ]
        }
      ]
    },
    {
      "cell_type": "code",
      "source": [
        "print(random.randint(3, 6))"
      ],
      "metadata": {
        "colab": {
          "base_uri": "https://localhost:8080/"
        },
        "id": "wbwcvrZSD0rp",
        "outputId": "ab95bdb5-baba-405b-bfe5-c5e0278b65b5"
      },
      "execution_count": null,
      "outputs": [
        {
          "output_type": "stream",
          "name": "stdout",
          "text": [
            "6\n"
          ]
        }
      ]
    },
    {
      "cell_type": "code",
      "source": [
        "import math"
      ],
      "metadata": {
        "id": "6uPieC5eF4vG"
      },
      "execution_count": null,
      "outputs": []
    },
    {
      "cell_type": "code",
      "source": [
        "math.sqrt(100)"
      ],
      "metadata": {
        "colab": {
          "base_uri": "https://localhost:8080/"
        },
        "id": "5Oi1eHHrQgO5",
        "outputId": "0dc9b635-4a8e-45cb-ad2f-3e2d3f332a20"
      },
      "execution_count": null,
      "outputs": [
        {
          "output_type": "execute_result",
          "data": {
            "text/plain": [
              "10.0"
            ]
          },
          "metadata": {},
          "execution_count": 15
        }
      ]
    },
    {
      "cell_type": "code",
      "source": [
        "math.ceil(4.1)"
      ],
      "metadata": {
        "colab": {
          "base_uri": "https://localhost:8080/"
        },
        "id": "e57PJiQZQip-",
        "outputId": "ca37a5b0-dadd-48d8-c18c-2caf71807877"
      },
      "execution_count": null,
      "outputs": [
        {
          "output_type": "execute_result",
          "data": {
            "text/plain": [
              "5"
            ]
          },
          "metadata": {},
          "execution_count": 16
        }
      ]
    },
    {
      "cell_type": "code",
      "source": [
        "math.floor(4.9)"
      ],
      "metadata": {
        "colab": {
          "base_uri": "https://localhost:8080/"
        },
        "id": "Xs0z-LrMQli7",
        "outputId": "f5a35408-643e-45e6-ef90-d2604d670c9c"
      },
      "execution_count": null,
      "outputs": [
        {
          "output_type": "execute_result",
          "data": {
            "text/plain": [
              "4"
            ]
          },
          "metadata": {},
          "execution_count": 17
        }
      ]
    },
    {
      "cell_type": "code",
      "source": [
        "random.seed(100)\n",
        "print(random.randint(0, 10))\n",
        "print(random.randint(0, 10))\n",
        "print(random.randint(0, 10))\n",
        "print(random.randint(0, 10))"
      ],
      "metadata": {
        "colab": {
          "base_uri": "https://localhost:8080/"
        },
        "id": "y2FCxnXqSa1p",
        "outputId": "6267470f-6128-464e-ec30-75913e1a4920"
      },
      "execution_count": null,
      "outputs": [
        {
          "output_type": "stream",
          "name": "stdout",
          "text": [
            "2\n",
            "7\n",
            "7\n",
            "2\n"
          ]
        }
      ]
    },
    {
      "cell_type": "code",
      "source": [
        "print(random.randint(0, 10))\n",
        "print(random.randint(0, 10))\n",
        "print(random.randint(0, 10))\n",
        "print(random.randint(0, 10))"
      ],
      "metadata": {
        "colab": {
          "base_uri": "https://localhost:8080/"
        },
        "id": "wFMVI5vaTz_h",
        "outputId": "25f650d8-7e03-4ff5-b3be-7b0bbb282feb"
      },
      "execution_count": null,
      "outputs": [
        {
          "output_type": "stream",
          "name": "stdout",
          "text": [
            "6\n",
            "5\n",
            "6\n",
            "8\n"
          ]
        }
      ]
    },
    {
      "cell_type": "code",
      "source": [
        "random.seed(100)\n",
        "print(random.randint(0, 10))\n",
        "print(random.randint(0, 10))\n",
        "print(random.randint(0, 10))\n",
        "print(random.randint(0, 10))"
      ],
      "metadata": {
        "colab": {
          "base_uri": "https://localhost:8080/"
        },
        "id": "RDZTv2ZvT7fi",
        "outputId": "0055ff2b-256e-4332-f3de-400bea513449"
      },
      "execution_count": null,
      "outputs": [
        {
          "output_type": "stream",
          "name": "stdout",
          "text": [
            "2\n",
            "7\n",
            "7\n",
            "2\n"
          ]
        }
      ]
    },
    {
      "cell_type": "code",
      "source": [
        "try:\n",
        "  def binarySearch(list, k):\n",
        "    start = 0\n",
        "    end= len(list)-1\n",
        "    target = k\n",
        "    while start <= end:\n",
        "      mid = (start+end)//2\n",
        "      if list[mid]== target:\n",
        "        return mid\n",
        "      elif list[mid] > target:\n",
        "        end= mid-1\n",
        "      else:\n",
        "        start = mid+1\n",
        "    return -1\n",
        "except:\n",
        "  print(\"approach is wrong\")"
      ],
      "metadata": {
        "id": "l_EkEUoXUA-e"
      },
      "execution_count": null,
      "outputs": []
    },
    {
      "cell_type": "code",
      "source": [
        "binarySearch([1, 3, 5, 7, 8, 10], 7)"
      ],
      "metadata": {
        "colab": {
          "base_uri": "https://localhost:8080/"
        },
        "id": "iTqEm4JVVfzs",
        "outputId": "442d476b-5f4b-4297-ab7a-e8e8894351e3"
      },
      "execution_count": null,
      "outputs": [
        {
          "output_type": "execute_result",
          "data": {
            "text/plain": [
              "3"
            ]
          },
          "metadata": {},
          "execution_count": 30
        }
      ]
    },
    {
      "cell_type": "code",
      "source": [
        "binarySearch([1, 3, 5, 7, 8, 10], 11)"
      ],
      "metadata": {
        "colab": {
          "base_uri": "https://localhost:8080/"
        },
        "id": "k1B_EQn5V173",
        "outputId": "7e9c61c0-79be-4e09-cd53-5c9a4c576d48"
      },
      "execution_count": null,
      "outputs": [
        {
          "output_type": "execute_result",
          "data": {
            "text/plain": [
              "-1"
            ]
          },
          "metadata": {},
          "execution_count": 31
        }
      ]
    },
    {
      "cell_type": "code",
      "source": [
        "import mymath"
      ],
      "metadata": {
        "id": "gP67vYhdV9e-",
        "colab": {
          "base_uri": "https://localhost:8080/",
          "height": 304
        },
        "outputId": "0f9daa6a-e6c0-4630-cd19-4799a70a0491"
      },
      "execution_count": null,
      "outputs": [
        {
          "output_type": "error",
          "ename": "ModuleNotFoundError",
          "evalue": "ignored",
          "traceback": [
            "\u001b[0;31m---------------------------------------------------------------------------\u001b[0m",
            "\u001b[0;31mModuleNotFoundError\u001b[0m                       Traceback (most recent call last)",
            "\u001b[0;32m<ipython-input-1-7ec2ad592c70>\u001b[0m in \u001b[0;36m<cell line: 1>\u001b[0;34m()\u001b[0m\n\u001b[0;32m----> 1\u001b[0;31m \u001b[0;32mimport\u001b[0m \u001b[0mmymath\u001b[0m\u001b[0;34m\u001b[0m\u001b[0;34m\u001b[0m\u001b[0m\n\u001b[0m",
            "\u001b[0;31mModuleNotFoundError\u001b[0m: No module named 'mymath'",
            "",
            "\u001b[0;31m---------------------------------------------------------------------------\u001b[0;32m\nNOTE: If your import is failing due to a missing package, you can\nmanually install dependencies using either !pip or !apt.\n\nTo view examples of installing some common dependencies, click the\n\"Open Examples\" button below.\n\u001b[0;31m---------------------------------------------------------------------------\u001b[0m\n"
          ],
          "errorDetails": {
            "actions": [
              {
                "action": "open_url",
                "actionText": "Open Examples",
                "url": "/notebooks/snippets/importing_libraries.ipynb"
              }
            ]
          }
        }
      ]
    },
    {
      "cell_type": "code",
      "source": [
        "class InvalidPassword(Exception):\n",
        "  def __init__(self, message):\n",
        "    super().__init__(message)\n",
        "password=int(input())\n",
        "if password == \"str\" and password == \"int\":\n",
        "  print(\"Password is correct\")\n",
        "elif password == \"str\":\n",
        "  raise InvalidPassword(\"Password must contain number as well\")\n",
        "elif password == \"int\":\n",
        "  raise InvalidPassword(\"Password must contain alphabets as well\")"
      ],
      "metadata": {
        "id": "l907arPaJtya",
        "colab": {
          "base_uri": "https://localhost:8080/",
          "height": 252
        },
        "outputId": "e8a16106-6b1e-47ed-c950-f1c659a0bfb1"
      },
      "execution_count": null,
      "outputs": [
        {
          "name": "stdout",
          "output_type": "stream",
          "text": [
            "abcd123\n"
          ]
        },
        {
          "output_type": "error",
          "ename": "ValueError",
          "evalue": "ignored",
          "traceback": [
            "\u001b[0;31m---------------------------------------------------------------------------\u001b[0m",
            "\u001b[0;31mValueError\u001b[0m                                Traceback (most recent call last)",
            "\u001b[0;32m<ipython-input-4-ca2934b0f8e1>\u001b[0m in \u001b[0;36m<cell line: 4>\u001b[0;34m()\u001b[0m\n\u001b[1;32m      2\u001b[0m   \u001b[0;32mdef\u001b[0m \u001b[0m__init__\u001b[0m\u001b[0;34m(\u001b[0m\u001b[0mself\u001b[0m\u001b[0;34m,\u001b[0m \u001b[0mmessage\u001b[0m\u001b[0;34m)\u001b[0m\u001b[0;34m:\u001b[0m\u001b[0;34m\u001b[0m\u001b[0;34m\u001b[0m\u001b[0m\n\u001b[1;32m      3\u001b[0m     \u001b[0msuper\u001b[0m\u001b[0;34m(\u001b[0m\u001b[0;34m)\u001b[0m\u001b[0;34m.\u001b[0m\u001b[0m__init__\u001b[0m\u001b[0;34m(\u001b[0m\u001b[0mmessage\u001b[0m\u001b[0;34m)\u001b[0m\u001b[0;34m\u001b[0m\u001b[0;34m\u001b[0m\u001b[0m\n\u001b[0;32m----> 4\u001b[0;31m \u001b[0mpassword\u001b[0m\u001b[0;34m=\u001b[0m\u001b[0mint\u001b[0m\u001b[0;34m(\u001b[0m\u001b[0minput\u001b[0m\u001b[0;34m(\u001b[0m\u001b[0;34m)\u001b[0m\u001b[0;34m)\u001b[0m\u001b[0;34m\u001b[0m\u001b[0;34m\u001b[0m\u001b[0m\n\u001b[0m\u001b[1;32m      5\u001b[0m \u001b[0;32mif\u001b[0m \u001b[0mpassword\u001b[0m \u001b[0;34m==\u001b[0m \u001b[0;34m\"str\"\u001b[0m \u001b[0;32mand\u001b[0m \u001b[0mpassword\u001b[0m \u001b[0;34m==\u001b[0m \u001b[0;34m\"int\"\u001b[0m\u001b[0;34m:\u001b[0m\u001b[0;34m\u001b[0m\u001b[0;34m\u001b[0m\u001b[0m\n\u001b[1;32m      6\u001b[0m   \u001b[0mprint\u001b[0m\u001b[0;34m(\u001b[0m\u001b[0;34m\"Password is correct\"\u001b[0m\u001b[0;34m)\u001b[0m\u001b[0;34m\u001b[0m\u001b[0;34m\u001b[0m\u001b[0m\n",
            "\u001b[0;31mValueError\u001b[0m: invalid literal for int() with base 10: 'abcd123'"
          ]
        }
      ]
    },
    {
      "cell_type": "code",
      "source": [
        "try:\n",
        "  password= int(input())\n",
        "  if password.isalphanumeric:\n",
        "    print(\"Password is correct\")\n",
        "  else:\n",
        "    raise InvalidPassword(\"Password must contain both number and alphabets\")\n",
        "except InvalidPassword as Error:\n",
        "  print(\"either num or alphabet is missing\")"
      ],
      "metadata": {
        "colab": {
          "base_uri": "https://localhost:8080/",
          "height": 252
        },
        "id": "hPls4Ij4g3bd",
        "outputId": "b2298596-4627-4d4c-d75c-f65d5e5a08e5"
      },
      "execution_count": null,
      "outputs": [
        {
          "name": "stdout",
          "output_type": "stream",
          "text": [
            "123@\n"
          ]
        },
        {
          "output_type": "error",
          "ename": "ValueError",
          "evalue": "ignored",
          "traceback": [
            "\u001b[0;31m---------------------------------------------------------------------------\u001b[0m",
            "\u001b[0;31mValueError\u001b[0m                                Traceback (most recent call last)",
            "\u001b[0;32m<ipython-input-12-26d55ab715c6>\u001b[0m in \u001b[0;36m<cell line: 1>\u001b[0;34m()\u001b[0m\n\u001b[1;32m      1\u001b[0m \u001b[0;32mtry\u001b[0m\u001b[0;34m:\u001b[0m\u001b[0;34m\u001b[0m\u001b[0;34m\u001b[0m\u001b[0m\n\u001b[0;32m----> 2\u001b[0;31m   \u001b[0mpassword\u001b[0m\u001b[0;34m=\u001b[0m \u001b[0mint\u001b[0m\u001b[0;34m(\u001b[0m\u001b[0minput\u001b[0m\u001b[0;34m(\u001b[0m\u001b[0;34m)\u001b[0m\u001b[0;34m)\u001b[0m\u001b[0;34m\u001b[0m\u001b[0;34m\u001b[0m\u001b[0m\n\u001b[0m\u001b[1;32m      3\u001b[0m   \u001b[0;32mif\u001b[0m \u001b[0mpassword\u001b[0m\u001b[0;34m.\u001b[0m\u001b[0misalphanumeric\u001b[0m\u001b[0;34m:\u001b[0m\u001b[0;34m\u001b[0m\u001b[0;34m\u001b[0m\u001b[0m\n\u001b[1;32m      4\u001b[0m     \u001b[0mprint\u001b[0m\u001b[0;34m(\u001b[0m\u001b[0;34m\"Password is correct\"\u001b[0m\u001b[0;34m)\u001b[0m\u001b[0;34m\u001b[0m\u001b[0;34m\u001b[0m\u001b[0m\n\u001b[1;32m      5\u001b[0m   \u001b[0;32melse\u001b[0m\u001b[0;34m:\u001b[0m\u001b[0;34m\u001b[0m\u001b[0;34m\u001b[0m\u001b[0m\n",
            "\u001b[0;31mValueError\u001b[0m: invalid literal for int() with base 10: '123@'"
          ]
        }
      ]
    },
    {
      "cell_type": "code",
      "source": [
        "def func1(x):\n",
        "  return x**2\n",
        "a=1\n",
        "left_hand_limit=[a+i for i in [-0.1, -0.01, -0.001, -0.0001]]\n",
        "\n",
        "right_hand_limit=[a+i for i in [0.1, 0.01, 0.001, 0.0001]]\n",
        "\n",
        "print(list(map(func1, left_hand_limit)))\n",
        "\n",
        "print(list(map(func1, right_hand_limit)))"
      ],
      "metadata": {
        "colab": {
          "base_uri": "https://localhost:8080/"
        },
        "id": "zdnXCdtr14o6",
        "outputId": "85be62c5-ac81-4266-eaa9-2263685096ed"
      },
      "execution_count": null,
      "outputs": [
        {
          "output_type": "stream",
          "name": "stdout",
          "text": [
            "[0.81, 0.9801, 0.998001, 0.9998000100000001]\n",
            "[1.2100000000000002, 1.0201, 1.0020009999999997, 1.00020001]\n"
          ]
        }
      ]
    },
    {
      "cell_type": "code",
      "source": [
        "def func1(x):\n",
        "  return x**2\n",
        "a=2\n",
        "left_hand_limit=[a+i for i in [-0.1, -0.01, -0.001, -0.0001]]\n",
        "\n",
        "right_hand_limit=[a+i for i in [0.1, 0.01, 0.001, 0.0001]]\n",
        "\n",
        "print(list(map(func1, left_hand_limit)))\n",
        "\n",
        "print(list(map(func1, right_hand_limit)))"
      ],
      "metadata": {
        "colab": {
          "base_uri": "https://localhost:8080/"
        },
        "id": "odfW9G-c26pg",
        "outputId": "87796534-637b-45e3-b5c4-919d2d755427"
      },
      "execution_count": null,
      "outputs": [
        {
          "output_type": "stream",
          "name": "stdout",
          "text": [
            "[3.61, 3.9601, 3.9960010000000006, 3.99960001]\n",
            "[4.41, 4.040099999999999, 4.004001, 4.000400010000001]\n"
          ]
        }
      ]
    },
    {
      "cell_type": "code",
      "source": [
        "# Mathematical Rules for calculating Slope or Derivatives of a function\n",
        "\n",
        "# 1. Monomial Rule = f(x) = x^n = n(x)^n-1  or 3x^2 = 6x \n",
        "\n",
        "# 2. Linearity Rule = h(x) = a f(x) + b g(x)  == a f'(x) + b g'(x)"
      ],
      "metadata": {
        "id": "w7rourQh3Ouo"
      },
      "execution_count": null,
      "outputs": []
    },
    {
      "cell_type": "code",
      "source": [
        "password= \"shabir1234\"\n",
        "num = int\n",
        "char= str\n",
        "num_count = 0\n",
        "char_count = 0\n",
        "for i in password:\n",
        "  if i == num:\n",
        "    num_count +=1\n",
        "  elif i == char:\n",
        "    char_count +=1\n",
        "print(num_count, char_count)\n"
      ],
      "metadata": {
        "colab": {
          "base_uri": "https://localhost:8080/"
        },
        "id": "NJP3yj2AEElh",
        "outputId": "633818dd-4a1c-428c-eadd-8ce14a14fa55"
      },
      "execution_count": null,
      "outputs": [
        {
          "output_type": "stream",
          "name": "stdout",
          "text": [
            "0 0\n"
          ]
        }
      ]
    },
    {
      "cell_type": "code",
      "source": [
        "def get_derivative(func, a):\n",
        "  h=.0001\n",
        "  d = (func(a+h)+func(a))/h\n",
        "  return d"
      ],
      "metadata": {
        "id": "GC63-utoFGoA"
      },
      "execution_count": null,
      "outputs": []
    },
    {
      "cell_type": "code",
      "source": [
        "def parabola(x):\n",
        "  return x**2\n",
        "get_derivative(parabola, 2)"
      ],
      "metadata": {
        "colab": {
          "base_uri": "https://localhost:8080/"
        },
        "id": "dfIq7KSyI60m",
        "outputId": "a8e8eca2-9dd6-40a3-bc32-27d01dd90214"
      },
      "execution_count": null,
      "outputs": [
        {
          "output_type": "execute_result",
          "data": {
            "text/plain": [
              "80004.00009999999"
            ]
          },
          "metadata": {},
          "execution_count": 11
        }
      ]
    },
    {
      "cell_type": "code",
      "source": [
        "import math\n",
        "def some_complicate_function(x):\n",
        "  return math.log(x**2)*(3**3)\n",
        "\n"
      ],
      "metadata": {
        "id": "N7KP7P17JTUm"
      },
      "execution_count": null,
      "outputs": []
    },
    {
      "cell_type": "code",
      "source": [
        "get_derivative(some_complicate_function, 5)"
      ],
      "metadata": {
        "colab": {
          "base_uri": "https://localhost:8080/"
        },
        "id": "FBuqy4KJLpgT",
        "outputId": "5b8ffe35-e90e-42f6-a43c-691434c09b8c"
      },
      "execution_count": null,
      "outputs": [
        {
          "output_type": "execute_result",
          "data": {
            "text/plain": [
              "1738203.7453208298"
            ]
          },
          "metadata": {},
          "execution_count": 15
        }
      ]
    },
    {
      "cell_type": "code",
      "source": [
        "def min_value(a,b,c,ll,ul):\n",
        "  ans = float('inf')\n",
        "  for i in range(ll, ul+1):\n",
        "    value = (a*(i**2) + b*i + c)\n",
        "    if value <= ans:\n",
        "      ans = i\n",
        "  return ans"
      ],
      "metadata": {
        "id": "pkjFP23LL14i"
      },
      "execution_count": null,
      "outputs": []
    },
    {
      "cell_type": "code",
      "source": [
        "min_value(2,3,-1,1,4)"
      ],
      "metadata": {
        "colab": {
          "base_uri": "https://localhost:8080/"
        },
        "id": "WLmRkzSW09vz",
        "outputId": "9080445d-731e-4f96-be8a-6ffaeeed1e35"
      },
      "execution_count": null,
      "outputs": [
        {
          "output_type": "execute_result",
          "data": {
            "text/plain": [
              "1"
            ]
          },
          "metadata": {},
          "execution_count": 17
        }
      ]
    },
    {
      "cell_type": "code",
      "source": [
        "import math\n",
        "def roundup(a, digits):\n",
        "  n =10**-digits #blank\n",
        "  return round(math.floor(a/n)*n,digits) #blank2\n",
        "print(roundup(123.01247,2))"
      ],
      "metadata": {
        "id": "nArQadE4-aYx",
        "colab": {
          "base_uri": "https://localhost:8080/"
        },
        "outputId": "16f43629-d124-44dd-e8ff-308becb26a71"
      },
      "execution_count": 6,
      "outputs": [
        {
          "output_type": "stream",
          "name": "stdout",
          "text": [
            "123.01\n"
          ]
        }
      ]
    },
    {
      "cell_type": "code",
      "source": [
        "import math\n",
        "def roundup(a, digits):\n",
        "  n =10**-digits #blank\n",
        "  return round(math.ceil(a/n)*n,digits) #blank2\n",
        "print(roundup(123.01247,2))"
      ],
      "metadata": {
        "colab": {
          "base_uri": "https://localhost:8080/"
        },
        "id": "rKqiFaK4yone",
        "outputId": "bd285971-f439-400c-a8f1-bf08e780b520"
      },
      "execution_count": 7,
      "outputs": [
        {
          "output_type": "stream",
          "name": "stdout",
          "text": [
            "123.02\n"
          ]
        }
      ]
    },
    {
      "cell_type": "code",
      "source": [
        "import math\n",
        "def roundup(a, digits):\n",
        "  n =math.pow(10,-digits) #blank\n",
        "  return round(math.ceil(a/n)*n,digits) #blank2\n",
        "print(roundup(123.01247,2))"
      ],
      "metadata": {
        "colab": {
          "base_uri": "https://localhost:8080/"
        },
        "id": "nHKy0AsFzg-h",
        "outputId": "dea69641-3eae-44dd-caa1-f072c7de36b5"
      },
      "execution_count": 8,
      "outputs": [
        {
          "output_type": "stream",
          "name": "stdout",
          "text": [
            "123.02\n"
          ]
        }
      ]
    },
    {
      "cell_type": "code",
      "source": [
        "class Parent:\n",
        "    def test(self):\n",
        "        print(\"test of parent called\", end=\", \")\n",
        "class Child1(Parent):\n",
        "    def test(self):\n",
        "        print(\"test of child1 called\", end=\", \")\n",
        "        super().test()\n",
        "class Child2(Parent):\n",
        "    def test(self):\n",
        "        print(\"test of child2 called\", end=\", \")\n",
        "        super().test()\n",
        "class Brother(Child1,Child2):\n",
        "    def test2(self):\n",
        "        print(\"test of Brother called\", end=\", \" )\n",
        "\n",
        "obj= Brother()\n",
        "obj.test()"
      ],
      "metadata": {
        "colab": {
          "base_uri": "https://localhost:8080/"
        },
        "id": "nLyKx-bmz4v1",
        "outputId": "6c484cd2-c1a7-4e97-fd5c-caf0a3fb2017"
      },
      "execution_count": 9,
      "outputs": [
        {
          "output_type": "stream",
          "name": "stdout",
          "text": [
            "test of child1 called, test of child2 called, test of parent called, "
          ]
        }
      ]
    },
    {
      "cell_type": "code",
      "source": [
        "class Demo:\n",
        "    def __new__(self):\n",
        "        self.__init__(self)\n",
        "        print(\"Demo's __new__() invoked\")\n",
        "\n",
        "    def __init__(self):\n",
        "        print(\"Demo's __init__() invoked\")\n",
        "\n",
        "class Derived_Demo(Demo):\n",
        "    def __new__(self):\n",
        "        print(\"Derived_Demo's __new__() invoked\")\n",
        "    \n",
        "    def __init__(self):\n",
        "        print(\"Derived_Demo's __init__() invoked\")\n",
        "\n",
        "def main():\n",
        "    obj1 = Derived_Demo()\n",
        "    obj2 = Demo()\n",
        "\n",
        "main()"
      ],
      "metadata": {
        "colab": {
          "base_uri": "https://localhost:8080/"
        },
        "id": "R9XwsWXc040W",
        "outputId": "778f6001-b587-40cc-c16d-f931e4eb1511"
      },
      "execution_count": 10,
      "outputs": [
        {
          "output_type": "stream",
          "name": "stdout",
          "text": [
            "Derived_Demo's __new__() invoked\n",
            "Demo's __init__() invoked\n",
            "Demo's __new__() invoked\n"
          ]
        }
      ]
    },
    {
      "cell_type": "code",
      "source": [
        "string = '''\n",
        "We spent several years building our own database engine, Amazon Aurora, a fully-managed MySQL and PostgreSQL-compatible service with the same or better durability and availability as\n",
        "the commercial engines, but at one-tenth of the cost. We were not surprised when this worked.\n",
        "'''\n",
        "result = lambda key, val: key[ key.find(val) -18 : key.find(val) +18 ] if val in key else -1\n",
        "\n",
        "print(result(string, 'SQL'))"
      ],
      "metadata": {
        "colab": {
          "base_uri": "https://localhost:8080/"
        },
        "id": "DODlqlRP2DSD",
        "outputId": "1dc7e045-5eb2-4750-925e-f801ff98d678"
      },
      "execution_count": 11,
      "outputs": [
        {
          "output_type": "stream",
          "name": "stdout",
          "text": [
            "a fully-managed MySQL and PostgreSQL\n"
          ]
        }
      ]
    },
    {
      "cell_type": "code",
      "source": [
        "def func(n):\n",
        "    fibonacci_list=[]\n",
        "    factorial_list=[]\n",
        "\n",
        "    # Function to calculate the first n Fibonacci numbers\n",
        "    def fibo(n): \n",
        "      if n <= 1:\n",
        "          return n\n",
        "      else:\n",
        "          return(fibo(n-1) + fibo(n-2))\n",
        "\n",
        "    # Function to calculate the factorial of a number k\n",
        "    def fact(k): \n",
        "      if k==1:\n",
        "        return 1\n",
        "      else:\n",
        "        return k*fact(k-1)\n",
        "\n",
        "    # Function to check whether the number is prime or not\n",
        "    def prime(m): \n",
        "      count=0 \n",
        "      for i in range(1,m):\n",
        "        if m%i==0:\n",
        "          count+=1\n",
        "      if count!=1:\n",
        "        return m\n",
        "      else:\n",
        "        return fact(m)\n",
        "\n",
        "    for i in range(n):\n",
        "        fibonacci_list.append(fibo(i))\n",
        "\n",
        "    for j in fibonacci_list:\n",
        "        factorial_list.append(prime(j))\n",
        "\n",
        "    return fibonacci_list, factorial_list"
      ],
      "metadata": {
        "id": "LHxfKMUh6ymv"
      },
      "execution_count": 19,
      "outputs": []
    },
    {
      "cell_type": "code",
      "source": [
        "func(10)"
      ],
      "metadata": {
        "colab": {
          "base_uri": "https://localhost:8080/"
        },
        "id": "YSflsxClJNv9",
        "outputId": "1cd36e3e-d00f-42a0-d929-3418d978ff52"
      },
      "execution_count": 20,
      "outputs": [
        {
          "output_type": "execute_result",
          "data": {
            "text/plain": [
              "([0, 1, 1, 2, 3, 5, 8, 13, 21, 34],\n",
              " [0, 1, 1, 2, 6, 120, 8, 6227020800, 21, 34])"
            ]
          },
          "metadata": {},
          "execution_count": 20
        }
      ]
    },
    {
      "cell_type": "code",
      "source": [
        "array = [ [1, [ [ 2 ] ], [ [ [ 3 ] ] ], [ [ 4 ], 5 ] ]]\n",
        "result = lambda x: sum(map(result, x), [ ] ) if isinstance(x, list) else [x]\n",
        "print(result(array))"
      ],
      "metadata": {
        "colab": {
          "base_uri": "https://localhost:8080/"
        },
        "id": "LFuumU7nJXv_",
        "outputId": "4325ae44-0d75-42f0-b05c-0c2fe5cd86d7"
      },
      "execution_count": 21,
      "outputs": [
        {
          "output_type": "stream",
          "name": "stdout",
          "text": [
            "[1, 2, 3, 4, 5]\n"
          ]
        }
      ]
    },
    {
      "cell_type": "code",
      "source": [
        "from functools import reduce\n",
        "array = {1, 2, 3}\n",
        "result = lambda array: reduce(lambda P, x: P + [subset | {x} for subset in P], array , [set()]) \n",
        "\n",
        "print(result(array)) "
      ],
      "metadata": {
        "colab": {
          "base_uri": "https://localhost:8080/"
        },
        "id": "i37_PIXcLvEO",
        "outputId": "2a80711e-5271-4592-a74b-fc2c0417f6d6"
      },
      "execution_count": 22,
      "outputs": [
        {
          "output_type": "stream",
          "name": "stdout",
          "text": [
            "[set(), {1}, {2}, {1, 2}, {3}, {1, 3}, {2, 3}, {1, 2, 3}]\n"
          ]
        }
      ]
    },
    {
      "cell_type": "code",
      "source": [],
      "metadata": {
        "id": "mEpYenptMaUe"
      },
      "execution_count": null,
      "outputs": []
    }
  ]
}