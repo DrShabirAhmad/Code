{
  "nbformat": 4,
  "nbformat_minor": 0,
  "metadata": {
    "colab": {
      "provenance": [],
      "toc_visible": true,
      "authorship_tag": "ABX9TyNmf9DviSF0eXahGsTnrrnA",
      "include_colab_link": true
    },
    "kernelspec": {
      "name": "python3",
      "display_name": "Python 3"
    },
    "language_info": {
      "name": "python"
    }
  },
  "cells": [
    {
      "cell_type": "markdown",
      "metadata": {
        "id": "view-in-github",
        "colab_type": "text"
      },
      "source": [
        "<a href=\"https://colab.research.google.com/github/DrShabirAhmad/Code/blob/main/Intermediate_Module.ipynb\" target=\"_parent\"><img src=\"https://colab.research.google.com/assets/colab-badge.svg\" alt=\"Open In Colab\"/></a>"
      ]
    },
    {
      "cell_type": "code",
      "execution_count": null,
      "metadata": {
        "id": "CsvQNL2YRf0p"
      },
      "outputs": [],
      "source": [
        "def gradient(A,B):\n",
        "  #A,B -> Two points in the XY-Plane in the form of tuple (x,y)\n",
        "  x1, y1=A\n",
        "  x2, y2=B\n",
        "  m = (y2-y1)/(x2-x1)\n",
        "  return round (m, 2)"
      ]
    },
    {
      "cell_type": "code",
      "source": [
        "gradient((1,2), (3,4))"
      ],
      "metadata": {
        "colab": {
          "base_uri": "https://localhost:8080/"
        },
        "id": "Bj3kEMVpRi9g",
        "outputId": "7cf9da20-7f4b-4077-8afa-b7d6a13e5426"
      },
      "execution_count": null,
      "outputs": [
        {
          "output_type": "execute_result",
          "data": {
            "text/plain": [
              "1.0"
            ]
          },
          "metadata": {},
          "execution_count": 13
        }
      ]
    },
    {
      "cell_type": "code",
      "source": [
        "class Student:\n",
        "    def __init__(self,roll,marks):\n",
        "        self.roll = roll\n",
        "        self.marks = marks\n",
        "    def display(self):\n",
        "        print('Roll:', self.roll,'Marks:',self.marks, end=\" \")\n",
        "\n",
        "student1 = Student(34,'A')\n",
        "student1.age = 17\n",
        "print(student1.display(), 'Age:',student1.age)"
      ],
      "metadata": {
        "colab": {
          "base_uri": "https://localhost:8080/"
        },
        "id": "MkqBHwUNUtUN",
        "outputId": "3c6467ed-3436-4a71-de57-6f33afb21b7d"
      },
      "execution_count": null,
      "outputs": [
        {
          "output_type": "stream",
          "name": "stdout",
          "text": [
            "Roll: 34 Marks: A None Age: 17\n"
          ]
        }
      ]
    },
    {
      "cell_type": "code",
      "source": [
        "class solution:\n",
        "  def initial(self,sets):\n",
        "    return self.final(sets)\n",
        " \n",
        "  def final(self, sets):\n",
        "    return list(map(lambda x: ((x**3)%2==0,x**3),sets))\n",
        "\n",
        "print(solution().initial([4,5,6]))"
      ],
      "metadata": {
        "colab": {
          "base_uri": "https://localhost:8080/"
        },
        "id": "Wgy2oaCrUuJm",
        "outputId": "d400213a-430e-4f16-ccc5-ca23abd69f16"
      },
      "execution_count": null,
      "outputs": [
        {
          "output_type": "stream",
          "name": "stdout",
          "text": [
            "[(True, 64), (False, 125), (True, 216)]\n"
          ]
        }
      ]
    },
    {
      "cell_type": "code",
      "source": [
        "class football:\n",
        "    final_res= 'lose'\n",
        "    def __init__(self,name,score):\n",
        "        self.name = name\n",
        "        self.score = score\n",
        "        self.final_res = 'lose'\n",
        "    \n",
        "    def calc(self, winning_score):\n",
        "        if self.score>winning_score:\n",
        "            self.final_res='win'\n",
        "match = football('Juventus',3)\n",
        "match.calc(2)\n",
        "print(football.final_res, match.final_res)"
      ],
      "metadata": {
        "colab": {
          "base_uri": "https://localhost:8080/"
        },
        "id": "TIGwuCUYU1Id",
        "outputId": "b2f746c5-5ef4-4185-be9a-271cf1a5096b"
      },
      "execution_count": null,
      "outputs": [
        {
          "output_type": "stream",
          "name": "stdout",
          "text": [
            "lose win\n"
          ]
        }
      ]
    },
    {
      "cell_type": "code",
      "source": [
        "class A:\n",
        "  def __init__(self, name):\n",
        "    self.name = name\n",
        "a = A(\"Shabir\")"
      ],
      "metadata": {
        "id": "Aa8NOpYzU8bW"
      },
      "execution_count": null,
      "outputs": []
    },
    {
      "cell_type": "code",
      "source": [
        "class A:\n",
        "  var = \"Hello\"\n",
        "  def __init__(self, name):\n",
        "    self.name = name\n",
        "a = A(\"Shabir\")"
      ],
      "metadata": {
        "id": "q4s0U_pXYTY8"
      },
      "execution_count": null,
      "outputs": []
    },
    {
      "cell_type": "code",
      "source": [
        "A.var"
      ],
      "metadata": {
        "colab": {
          "base_uri": "https://localhost:8080/",
          "height": 35
        },
        "id": "N74r4YpVYvjV",
        "outputId": "0f6df818-add6-4971-b6b3-eb207c79cddf"
      },
      "execution_count": null,
      "outputs": [
        {
          "output_type": "execute_result",
          "data": {
            "text/plain": [
              "'Hello'"
            ],
            "application/vnd.google.colaboratory.intrinsic+json": {
              "type": "string"
            }
          },
          "metadata": {},
          "execution_count": 19
        }
      ]
    },
    {
      "cell_type": "code",
      "source": [
        "A.name"
      ],
      "metadata": {
        "colab": {
          "base_uri": "https://localhost:8080/",
          "height": 165
        },
        "id": "xA4E3iWKYwwK",
        "outputId": "f2450638-8796-455f-a10c-c7ed71348a4e"
      },
      "execution_count": null,
      "outputs": [
        {
          "output_type": "error",
          "ename": "AttributeError",
          "evalue": "ignored",
          "traceback": [
            "\u001b[0;31m---------------------------------------------------------------------------\u001b[0m",
            "\u001b[0;31mAttributeError\u001b[0m                            Traceback (most recent call last)",
            "\u001b[0;32m<ipython-input-20-de2a31cdf8c6>\u001b[0m in \u001b[0;36m<module>\u001b[0;34m\u001b[0m\n\u001b[0;32m----> 1\u001b[0;31m \u001b[0mA\u001b[0m\u001b[0;34m.\u001b[0m\u001b[0mname\u001b[0m\u001b[0;34m\u001b[0m\u001b[0;34m\u001b[0m\u001b[0m\n\u001b[0m",
            "\u001b[0;31mAttributeError\u001b[0m: type object 'A' has no attribute 'name'"
          ]
        }
      ]
    },
    {
      "cell_type": "code",
      "source": [
        "a.var"
      ],
      "metadata": {
        "colab": {
          "base_uri": "https://localhost:8080/",
          "height": 35
        },
        "id": "LQsK0JoiY0cY",
        "outputId": "0459453f-ea55-440d-ab9e-860b66107ab1"
      },
      "execution_count": null,
      "outputs": [
        {
          "output_type": "execute_result",
          "data": {
            "text/plain": [
              "'Hello'"
            ],
            "application/vnd.google.colaboratory.intrinsic+json": {
              "type": "string"
            }
          },
          "metadata": {},
          "execution_count": 21
        }
      ]
    },
    {
      "cell_type": "code",
      "source": [
        "class Employee:\n",
        "  company_name = \"Scaler\"\n",
        "\n",
        "  def __init__(self, id, name):\n",
        "    self.name= name\n",
        "    self.id= id\n",
        "e1= Employee(1, 'A')\n",
        "print(e1.company_name)\n",
        "print(e1.name)\n",
        "print(e1.id)"
      ],
      "metadata": {
        "colab": {
          "base_uri": "https://localhost:8080/"
        },
        "id": "x4d8hkaDY5YM",
        "outputId": "f9cac31b-9f73-4ca6-935a-ce2234761bd9"
      },
      "execution_count": null,
      "outputs": [
        {
          "output_type": "stream",
          "name": "stdout",
          "text": [
            "Scaler\n",
            "A\n",
            "1\n"
          ]
        }
      ]
    },
    {
      "cell_type": "code",
      "source": [
        "e2= Employee(2, 'B')\n",
        "print(e2.company_name)\n",
        "print(e2.name)\n",
        "print(e2.id)"
      ],
      "metadata": {
        "colab": {
          "base_uri": "https://localhost:8080/"
        },
        "id": "4h6KImt2aI4z",
        "outputId": "e9b82225-8826-49cd-848e-235cb452e35f"
      },
      "execution_count": null,
      "outputs": [
        {
          "output_type": "stream",
          "name": "stdout",
          "text": [
            "Scaler\n",
            "B\n",
            "2\n"
          ]
        }
      ]
    },
    {
      "cell_type": "code",
      "source": [
        "Employee.company_name= \"InterviewBit\"\n",
        "print(e1.company_name)\n",
        "print(e2.company_name)"
      ],
      "metadata": {
        "colab": {
          "base_uri": "https://localhost:8080/"
        },
        "id": "sqyMvb8Faeeh",
        "outputId": "5105485b-b599-4fd2-839a-03b085fd1249"
      },
      "execution_count": null,
      "outputs": [
        {
          "output_type": "stream",
          "name": "stdout",
          "text": [
            "InterviewBit\n",
            "InterviewBit\n"
          ]
        }
      ]
    },
    {
      "cell_type": "code",
      "source": [
        "e1.company_name= \"Amazon\"\n",
        "print(Employee.company_name)\n",
        "print(e1.company_name)\n",
        "print(e2.company_name)"
      ],
      "metadata": {
        "colab": {
          "base_uri": "https://localhost:8080/"
        },
        "id": "AwiRgIppdJeR",
        "outputId": "a14f4c84-79b4-4344-a039-ddc36bddbba4"
      },
      "execution_count": null,
      "outputs": [
        {
          "output_type": "stream",
          "name": "stdout",
          "text": [
            "InterviewBit\n",
            "Amazon\n",
            "InterviewBit\n"
          ]
        }
      ]
    },
    {
      "cell_type": "code",
      "source": [
        "class Employee:\n",
        "  company_name = [\"InterviewBit\"] # List Sets Dictionary are mutable data\n",
        "\n",
        "  def __init__(self, id, name):\n",
        "    self.name= name\n",
        "    self.id= id\n",
        "e1= Employee(1, 'A')\n",
        "e2= Employee(2, 'B')\n"
      ],
      "metadata": {
        "id": "7DaVFxzxdcL1"
      },
      "execution_count": null,
      "outputs": []
    },
    {
      "cell_type": "code",
      "source": [
        "print(Employee.company_name)\n",
        "print(e1.company_name)\n",
        "print(e2.company_name)"
      ],
      "metadata": {
        "colab": {
          "base_uri": "https://localhost:8080/"
        },
        "id": "GiP2ar4DgHZk",
        "outputId": "8dae8870-017a-4eba-95ab-a537d4ac20e4"
      },
      "execution_count": null,
      "outputs": [
        {
          "output_type": "stream",
          "name": "stdout",
          "text": [
            "['InterviewBit']\n",
            "['InterviewBit']\n",
            "['InterviewBit']\n"
          ]
        }
      ]
    },
    {
      "cell_type": "code",
      "source": [
        "Employee.company_name.append(\"Interview\")\n",
        "print(Employee.company_name)\n",
        "print(e1.company_name)\n",
        "print(e2.company_name)"
      ],
      "metadata": {
        "colab": {
          "base_uri": "https://localhost:8080/"
        },
        "id": "WCPVXl_vgIo2",
        "outputId": "17cea1d4-00f0-47b3-92d4-e7fd643d47a7"
      },
      "execution_count": null,
      "outputs": [
        {
          "output_type": "stream",
          "name": "stdout",
          "text": [
            "['InterviewBit', 'Interview']\n",
            "['InterviewBit', 'Interview']\n",
            "['InterviewBit', 'Interview']\n"
          ]
        }
      ]
    },
    {
      "cell_type": "code",
      "source": [
        "e1.company_name.append(\"Scaler\")\n",
        "print(Employee.company_name)\n",
        "print(e1.company_name)\n",
        "print(e2.company_name)"
      ],
      "metadata": {
        "colab": {
          "base_uri": "https://localhost:8080/"
        },
        "id": "LKiSg08qhXHD",
        "outputId": "b9dc9061-7d24-4c8f-b2cf-19056e7761eb"
      },
      "execution_count": null,
      "outputs": [
        {
          "output_type": "stream",
          "name": "stdout",
          "text": [
            "['InterviewBit', 'Interview', 'Scaler']\n",
            "['InterviewBit', 'Interview', 'Scaler']\n",
            "['InterviewBit', 'Interview', 'Scaler']\n"
          ]
        }
      ]
    },
    {
      "cell_type": "code",
      "source": [
        "#Therefore in case of mutable data types, it doesnot matter where the change is updated, it will be reflected everywhere. \n",
        "#but in case of immutable data types, the change will not be reflected everywhere if object is updated. \n",
        "#We should alwayas update class, therefore the requisite will be reflected everywhere. that is a good practice."
      ],
      "metadata": {
        "id": "ilh9uMFch2vS"
      },
      "execution_count": null,
      "outputs": []
    },
    {
      "cell_type": "code",
      "source": [
        "#polymorphism in python\n",
        "1+2 # addition"
      ],
      "metadata": {
        "id": "rt0IPiwyiaaM",
        "colab": {
          "base_uri": "https://localhost:8080/"
        },
        "outputId": "40485ca3-23c2-43a0-f69d-d3313619e773"
      },
      "execution_count": null,
      "outputs": [
        {
          "output_type": "execute_result",
          "data": {
            "text/plain": [
              "3"
            ]
          },
          "metadata": {},
          "execution_count": 1
        }
      ]
    },
    {
      "cell_type": "code",
      "source": [
        "'a'+'b' #concatenation, operator + behaves differently in different data types."
      ],
      "metadata": {
        "colab": {
          "base_uri": "https://localhost:8080/",
          "height": 35
        },
        "id": "o2Cz3YSs7M1-",
        "outputId": "4e5c732f-b664-4a1b-cd75-474d604ac7c1"
      },
      "execution_count": null,
      "outputs": [
        {
          "output_type": "execute_result",
          "data": {
            "text/plain": [
              "'ab'"
            ],
            "application/vnd.google.colaboratory.intrinsic+json": {
              "type": "string"
            }
          },
          "metadata": {},
          "execution_count": 2
        }
      ]
    },
    {
      "cell_type": "code",
      "source": [
        "[1,2,3] +[4]"
      ],
      "metadata": {
        "colab": {
          "base_uri": "https://localhost:8080/"
        },
        "id": "vL2tsEM77aFB",
        "outputId": "b9e7ecd3-5056-4862-ab9e-ae4a1dcead2b"
      },
      "execution_count": null,
      "outputs": [
        {
          "output_type": "execute_result",
          "data": {
            "text/plain": [
              "[1, 2, 3, 4]"
            ]
          },
          "metadata": {},
          "execution_count": 3
        }
      ]
    },
    {
      "cell_type": "code",
      "source": [
        "class DSMLInstructor:\n",
        "  def teaches(self):\n",
        "    print(\"Instructor teaches DS and ML\")\n",
        "  \n",
        "class AcademyInstructor:\n",
        "  def teaches(self):\n",
        "    print(\"Instructor teaches software development\")\n",
        "\n",
        "t1=DSMLInstructor()\n",
        "t2=AcademyInstructor()\n",
        "\n",
        "t1.teaches()"
      ],
      "metadata": {
        "colab": {
          "base_uri": "https://localhost:8080/"
        },
        "id": "DSdqxGRo7uYx",
        "outputId": "f11985cd-2278-462e-c84b-a766c2c95d99"
      },
      "execution_count": null,
      "outputs": [
        {
          "output_type": "stream",
          "name": "stdout",
          "text": [
            "Instructor teaches DS and ML\n"
          ]
        }
      ]
    },
    {
      "cell_type": "code",
      "source": [
        "t2.teaches()"
      ],
      "metadata": {
        "colab": {
          "base_uri": "https://localhost:8080/"
        },
        "id": "nEeDteR88a_7",
        "outputId": "d1834744-2a7e-4935-806f-fa7a101499b5"
      },
      "execution_count": null,
      "outputs": [
        {
          "output_type": "stream",
          "name": "stdout",
          "text": [
            "Instructor teaches software development\n"
          ]
        }
      ]
    },
    {
      "cell_type": "code",
      "source": [
        "# the teaches method here shows polymorphism"
      ],
      "metadata": {
        "id": "V-3P1kTr8k80"
      },
      "execution_count": null,
      "outputs": []
    },
    {
      "cell_type": "code",
      "source": [
        "# Magic Methods"
      ],
      "metadata": {
        "id": "YrrVUnd39AMO"
      },
      "execution_count": null,
      "outputs": []
    },
    {
      "cell_type": "code",
      "source": [
        "class DSMLInstructor:\n",
        "  def __init__(self):\n",
        "    print(\"creating class\")\n",
        "  def teaches(self):\n",
        "    print(\"Instructor teaches DS and ML\")\n",
        "\n",
        "t1=DSMLInstructor()\n",
        "dir(t1)"
      ],
      "metadata": {
        "colab": {
          "base_uri": "https://localhost:8080/"
        },
        "id": "nLOiTPb396xc",
        "outputId": "d8a14210-8ac2-48e4-f063-ca71da5e05d2"
      },
      "execution_count": null,
      "outputs": [
        {
          "output_type": "stream",
          "name": "stdout",
          "text": [
            "creating class\n"
          ]
        },
        {
          "output_type": "execute_result",
          "data": {
            "text/plain": [
              "['__class__',\n",
              " '__delattr__',\n",
              " '__dict__',\n",
              " '__dir__',\n",
              " '__doc__',\n",
              " '__eq__',\n",
              " '__format__',\n",
              " '__ge__',\n",
              " '__getattribute__',\n",
              " '__gt__',\n",
              " '__hash__',\n",
              " '__init__',\n",
              " '__init_subclass__',\n",
              " '__le__',\n",
              " '__lt__',\n",
              " '__module__',\n",
              " '__ne__',\n",
              " '__new__',\n",
              " '__reduce__',\n",
              " '__reduce_ex__',\n",
              " '__repr__',\n",
              " '__setattr__',\n",
              " '__sizeof__',\n",
              " '__str__',\n",
              " '__subclasshook__',\n",
              " '__weakref__',\n",
              " 'teaches']"
            ]
          },
          "metadata": {},
          "execution_count": 10
        }
      ]
    },
    {
      "cell_type": "code",
      "source": [
        "class DSMLInstructor:\n",
        "  def teaches(self):\n",
        "    print(\"Instructor teaches DS and ML\")\n",
        "\n",
        "t1=DSMLInstructor()\n",
        "print(t1)"
      ],
      "metadata": {
        "colab": {
          "base_uri": "https://localhost:8080/"
        },
        "id": "3Sy1GUy6-ekN",
        "outputId": "4250fe76-704b-48d1-db30-83f4aa170b1e"
      },
      "execution_count": null,
      "outputs": [
        {
          "output_type": "stream",
          "name": "stdout",
          "text": [
            "<__main__.DSMLInstructor object at 0x7fcd335ea0a0>\n"
          ]
        }
      ]
    },
    {
      "cell_type": "code",
      "source": [
        "class DSMLInstructor:\n",
        "  def __init__(self, name):\n",
        "    self.name = name\n",
        "\n",
        "  def teaches(self, name):\n",
        "    print(\"Instructor teaches DS and ML\")\n",
        "\n",
        "t1=DSMLInstructor(\"Shabir\")\n",
        "print(t1)"
      ],
      "metadata": {
        "colab": {
          "base_uri": "https://localhost:8080/"
        },
        "id": "A4FAdzbF_yRV",
        "outputId": "1d38a8fd-7b47-4a85-92cb-94e93bec228b"
      },
      "execution_count": null,
      "outputs": [
        {
          "output_type": "stream",
          "name": "stdout",
          "text": [
            "<__main__.DSMLInstructor object at 0x7fcd3355e4f0>\n"
          ]
        }
      ]
    },
    {
      "cell_type": "code",
      "source": [
        "class DSMLInstructor:\n",
        "  def __init__(self, name):\n",
        "    self.name = name\n",
        "\n",
        "  def teaches(self, name):\n",
        "    print(\"Instructor teaches DS and ML\")\n",
        "  \n",
        "  def __str__(self):\n",
        "    return \"Instructor name is : \" + self.name\n",
        "\n",
        "t1=DSMLInstructor(\"Shabir\")\n",
        "print(t1)"
      ],
      "metadata": {
        "colab": {
          "base_uri": "https://localhost:8080/"
        },
        "id": "APttzZ_XB_DK",
        "outputId": "c6cef9bd-9ffd-46a5-8181-6aebdb5eb8ee"
      },
      "execution_count": null,
      "outputs": [
        {
          "output_type": "stream",
          "name": "stdout",
          "text": [
            "Instructor name is : Shabir\n"
          ]
        }
      ]
    },
    {
      "cell_type": "code",
      "source": [
        "class DSMLInstructor:\n",
        "  def __init__(self, name):\n",
        "    self.name = name\n",
        "\n",
        "  def teaches(self, name):\n",
        "    print(\"Instructor teaches DS and ML\")\n",
        "  \n",
        "  def __eq__(self, other_object):\n",
        "    return self.name==other_object.name\n",
        "\n",
        "t1=DSMLInstructor(\"Shabir\")\n",
        "t2=DSMLInstructor(\"Shabir\")\n"
      ],
      "metadata": {
        "id": "YT8RqSijCjo9"
      },
      "execution_count": null,
      "outputs": []
    },
    {
      "cell_type": "code",
      "source": [
        "t1==t2"
      ],
      "metadata": {
        "colab": {
          "base_uri": "https://localhost:8080/"
        },
        "id": "6tD4hd1MQWx5",
        "outputId": "a35c7ee2-fd5d-4498-d3b4-7b1aedd0f24b"
      },
      "execution_count": null,
      "outputs": [
        {
          "output_type": "execute_result",
          "data": {
            "text/plain": [
              "True"
            ]
          },
          "metadata": {},
          "execution_count": 20
        }
      ]
    },
    {
      "cell_type": "code",
      "source": [
        "t3=DSMLInstructor(\"Sachin\")\n",
        "t4=DSMLInstructor(\"Shabir\")\n",
        "t3==t4"
      ],
      "metadata": {
        "colab": {
          "base_uri": "https://localhost:8080/"
        },
        "id": "HKXapcp_Rm1E",
        "outputId": "fd5cee04-a96b-4913-e933-ef2bb9381305"
      },
      "execution_count": null,
      "outputs": [
        {
          "output_type": "execute_result",
          "data": {
            "text/plain": [
              "False"
            ]
          },
          "metadata": {},
          "execution_count": 21
        }
      ]
    },
    {
      "cell_type": "code",
      "source": [
        "class DSMLInstructor:\n",
        "  def __init__(self, num):\n",
        "    self.num = num\n",
        "  \n",
        "  def __lt__(self, other_object):\n",
        "    return self.num==other_object.num\n",
        "\n",
        "num1=15\n",
        "num2=20\n",
        "num1ltnum2"
      ],
      "metadata": {
        "colab": {
          "base_uri": "https://localhost:8080/",
          "height": 200
        },
        "id": "Vjnmcq3-SFJw",
        "outputId": "cc8c6872-41a1-4c8b-91ca-cbea0bd9f7a8"
      },
      "execution_count": null,
      "outputs": [
        {
          "output_type": "error",
          "ename": "NameError",
          "evalue": "ignored",
          "traceback": [
            "\u001b[0;31m---------------------------------------------------------------------------\u001b[0m",
            "\u001b[0;31mNameError\u001b[0m                                 Traceback (most recent call last)",
            "\u001b[0;32m<ipython-input-23-26d6ba0df6f4>\u001b[0m in \u001b[0;36m<module>\u001b[0;34m\u001b[0m\n\u001b[1;32m      8\u001b[0m \u001b[0mnum1\u001b[0m\u001b[0;34m=\u001b[0m\u001b[0;36m15\u001b[0m\u001b[0;34m\u001b[0m\u001b[0;34m\u001b[0m\u001b[0m\n\u001b[1;32m      9\u001b[0m \u001b[0mnum2\u001b[0m\u001b[0;34m=\u001b[0m\u001b[0;36m20\u001b[0m\u001b[0;34m\u001b[0m\u001b[0;34m\u001b[0m\u001b[0m\n\u001b[0;32m---> 10\u001b[0;31m \u001b[0mnum1ltnum2\u001b[0m\u001b[0;34m\u001b[0m\u001b[0;34m\u001b[0m\u001b[0m\n\u001b[0m",
            "\u001b[0;31mNameError\u001b[0m: name 'num1ltnum2' is not defined"
          ]
        }
      ]
    },
    {
      "cell_type": "code",
      "source": [
        "class Parent:\n",
        "  def __init__(self):\n",
        "    print(\"Inside Parent class\")\n",
        "\n",
        "class Child(Parent):\n",
        "  def __init__(self):\n",
        "    print(\"Inside Child class\")\n",
        "\n",
        "p1 = Parent()"
      ],
      "metadata": {
        "colab": {
          "base_uri": "https://localhost:8080/"
        },
        "id": "FkQEcEoZTPdf",
        "outputId": "11a26285-c71d-4d48-fdc2-974ce345cbff"
      },
      "execution_count": null,
      "outputs": [
        {
          "output_type": "stream",
          "name": "stdout",
          "text": [
            "Inside Parent class\n"
          ]
        }
      ]
    },
    {
      "cell_type": "code",
      "source": [
        "c1 = Child()"
      ],
      "metadata": {
        "colab": {
          "base_uri": "https://localhost:8080/"
        },
        "id": "xnIcGfqdWT_e",
        "outputId": "07442810-de4a-43df-99f9-9717411014de"
      },
      "execution_count": null,
      "outputs": [
        {
          "output_type": "stream",
          "name": "stdout",
          "text": [
            "Inside Child class\n"
          ]
        }
      ]
    },
    {
      "cell_type": "code",
      "source": [
        "class Parent:\n",
        "  def __init__(self):\n",
        "    print(\"Inside Parent class\")\n",
        "\n",
        "class Child(Parent):\n",
        "  def __init__(self):\n",
        "    Parent.__init__(self)\n",
        "    print(\"Inside Child class\")\n",
        "\n",
        "c1 = Child()"
      ],
      "metadata": {
        "colab": {
          "base_uri": "https://localhost:8080/"
        },
        "id": "9zPVQd5BWwZV",
        "outputId": "17b13cbb-f39d-44de-c465-f67d43f0c706"
      },
      "execution_count": null,
      "outputs": [
        {
          "output_type": "stream",
          "name": "stdout",
          "text": [
            "Inside Parent class\n",
            "Inside Child class\n"
          ]
        }
      ]
    },
    {
      "cell_type": "code",
      "source": [
        "class Parent:\n",
        "  def __init__(self):\n",
        "    print(\"Inside Parent class\")\n",
        "\n",
        "class Child(Parent):\n",
        "  def __init__(self):\n",
        "    super().__init__()\n",
        "    print(\"Inside Child class\")\n",
        "\n",
        "c1 = Child()"
      ],
      "metadata": {
        "colab": {
          "base_uri": "https://localhost:8080/"
        },
        "id": "ckQcfXv1X4S6",
        "outputId": "01e44081-d9d3-4b4b-f7bd-3c56983ff8f2"
      },
      "execution_count": null,
      "outputs": [
        {
          "output_type": "stream",
          "name": "stdout",
          "text": [
            "Inside Parent class\n",
            "Inside Child class\n"
          ]
        }
      ]
    },
    {
      "cell_type": "code",
      "source": [
        "class ScalerMember:\n",
        "  def __init__(self, name):\n",
        "    self.name = name\n",
        "class Student(ScalerMember):\n",
        "  def __init__(self, name, batch):\n",
        "    super().__init__(name)\n",
        "    self.batch = batch\n",
        "class StaffMember(ScalerMember):\n",
        "  def __init__(self, name, salary):\n",
        "    super().__init__(name)\n",
        "    self.salary = salary\n",
        "class Teachers(StaffMember):\n",
        "  def __init__(self, name, salary, subject):\n",
        "    super().__init__(name, salary)\n",
        "    self.subject = subject\n",
        "\n",
        "st1 = Student(\"Shabir\", \"Nov 22\")"
      ],
      "metadata": {
        "id": "glAVVBpDYSZb"
      },
      "execution_count": null,
      "outputs": []
    },
    {
      "cell_type": "code",
      "source": [
        "st1.name"
      ],
      "metadata": {
        "colab": {
          "base_uri": "https://localhost:8080/",
          "height": 35
        },
        "id": "daYj4UIsbrSv",
        "outputId": "4794c74e-33b5-4b25-fab1-c0fd18e0b6aa"
      },
      "execution_count": null,
      "outputs": [
        {
          "output_type": "execute_result",
          "data": {
            "text/plain": [
              "'Shabir'"
            ],
            "application/vnd.google.colaboratory.intrinsic+json": {
              "type": "string"
            }
          },
          "metadata": {},
          "execution_count": 49
        }
      ]
    },
    {
      "cell_type": "code",
      "source": [
        "st1.batch"
      ],
      "metadata": {
        "colab": {
          "base_uri": "https://localhost:8080/",
          "height": 35
        },
        "id": "NHXJ2ddkbuhX",
        "outputId": "0069f480-162c-4752-c388-001dba8fa0fd"
      },
      "execution_count": null,
      "outputs": [
        {
          "output_type": "execute_result",
          "data": {
            "text/plain": [
              "'Nov 22'"
            ],
            "application/vnd.google.colaboratory.intrinsic+json": {
              "type": "string"
            }
          },
          "metadata": {},
          "execution_count": 50
        }
      ]
    },
    {
      "cell_type": "code",
      "source": [
        "Tec1 = Teachers(\"Sachin\", 10, \"DSML\")"
      ],
      "metadata": {
        "id": "degA9EF3bvGT"
      },
      "execution_count": null,
      "outputs": []
    },
    {
      "cell_type": "code",
      "source": [
        "Tec1.salary"
      ],
      "metadata": {
        "colab": {
          "base_uri": "https://localhost:8080/"
        },
        "id": "YWb7s91QfN5H",
        "outputId": "8e80cf48-9c68-461b-8693-db43f6cdfa4d"
      },
      "execution_count": null,
      "outputs": [
        {
          "output_type": "execute_result",
          "data": {
            "text/plain": [
              "10"
            ]
          },
          "metadata": {},
          "execution_count": 53
        }
      ]
    },
    {
      "cell_type": "code",
      "source": [
        "Tec1.subject"
      ],
      "metadata": {
        "colab": {
          "base_uri": "https://localhost:8080/",
          "height": 35
        },
        "id": "Qy3r3ietfYnC",
        "outputId": "e49a9f75-e1f4-4ef1-810b-09da11c9301c"
      },
      "execution_count": null,
      "outputs": [
        {
          "output_type": "execute_result",
          "data": {
            "text/plain": [
              "'DSML'"
            ],
            "application/vnd.google.colaboratory.intrinsic+json": {
              "type": "string"
            }
          },
          "metadata": {},
          "execution_count": 54
        }
      ]
    },
    {
      "cell_type": "code",
      "source": [
        "Tec1.name"
      ],
      "metadata": {
        "colab": {
          "base_uri": "https://localhost:8080/",
          "height": 35
        },
        "id": "C2bIZX3efd3j",
        "outputId": "2e73d01c-c8b4-46d8-89e5-3d247ad62c91"
      },
      "execution_count": null,
      "outputs": [
        {
          "output_type": "execute_result",
          "data": {
            "text/plain": [
              "'Sachin'"
            ],
            "application/vnd.google.colaboratory.intrinsic+json": {
              "type": "string"
            }
          },
          "metadata": {},
          "execution_count": 55
        }
      ]
    },
    {
      "cell_type": "code",
      "source": [
        "t1 = Teachers(\"Sachin\", 10, \"DSML\")\n",
        "print(t1.name, t1.salary, t1.subject)"
      ],
      "metadata": {
        "colab": {
          "base_uri": "https://localhost:8080/"
        },
        "id": "wV9SO9SnfiP4",
        "outputId": "35282a80-69ff-498c-fa41-1988744c3289"
      },
      "execution_count": null,
      "outputs": [
        {
          "output_type": "stream",
          "name": "stdout",
          "text": [
            "Sachin 10 DSML\n"
          ]
        }
      ]
    },
    {
      "cell_type": "code",
      "source": [
        "class Smaller:\n",
        "    def __init__(self,a):\n",
        "        self.string=a\n",
        "    \n",
        "    def display(self):\n",
        "        print(\"The type of Name is smaller\")\n",
        "    \n",
        "    def evaluate(self):\n",
        "        ans=0\n",
        "        # YOUR CODE GOES HERE\n",
        "        vowels = \"AaEeIiOoUu\"\n",
        "        final = [each for each in self.string if each in vowels]\n",
        "        ans=len(final)\n",
        "        print(ans)\n",
        "        \n",
        "class Larger:\n",
        "    def __init__(self,a):\n",
        "        self.string=a\n",
        "    \n",
        "    def display(self):\n",
        "        print(\"The type of Name is larger\")\n",
        "    \n",
        "    def evaluate(self):\n",
        "        ans=0\n",
        "       # YOUR CODE GOES HERE\n",
        "        vowels = \"AaEeIiOoUu\"\n",
        "        final = [each for each in self.string if each not in vowels]\n",
        "        ans=len(final)\n",
        "        print(ans)\n",
        "\n",
        "def main(a):\n",
        "    \"\"\"\n",
        "    input a is string\n",
        "    \"\"\"\n",
        "    a = input()\n",
        "    if len(a)<6:\n",
        "        obj=Smaller(a)\n",
        "        obj.display()\n",
        "        obj.evaluate()\n",
        "    else:\n",
        "        obj=Larger(a)\n",
        "        obj.display()\n",
        "        obj.evaluate()"
      ],
      "metadata": {
        "id": "Pgjr2_zdgdnF"
      },
      "execution_count": null,
      "outputs": []
    },
    {
      "cell_type": "code",
      "source": [
        "main(\"a\")"
      ],
      "metadata": {
        "colab": {
          "base_uri": "https://localhost:8080/"
        },
        "id": "5fXKzYLp0ar8",
        "outputId": "fd7577c6-4e42-41c9-9a24-49630f843aca"
      },
      "execution_count": null,
      "outputs": [
        {
          "output_type": "stream",
          "name": "stdout",
          "text": [
            "Shabir\n",
            "The type of Name is larger\n",
            "4\n"
          ]
        }
      ]
    },
    {
      "cell_type": "code",
      "source": [
        "main(\"a\")"
      ],
      "metadata": {
        "colab": {
          "base_uri": "https://localhost:8080/"
        },
        "id": "Zfit3OW63ix8",
        "outputId": "5749b969-00da-4138-9746-71b4e24689bd"
      },
      "execution_count": null,
      "outputs": [
        {
          "output_type": "stream",
          "name": "stdout",
          "text": [
            "Ahmad\n",
            "The type of Name is smaller\n",
            "2\n"
          ]
        }
      ]
    },
    {
      "cell_type": "code",
      "source": [
        "class Smaller:\n",
        "    def __init__(self,a):\n",
        "        self.string=a\n",
        "    \n",
        "    def display(self):\n",
        "        print(\"The type of Name is smaller\")\n",
        "    \n",
        "    def evaluate(self):\n",
        "        ans=0\n",
        "        vowels = \"AaEeIiOoUu\"\n",
        "        final = [each for each in self.string if each in vowels]\n",
        "        ans = len(final) \n",
        "        print(ans)\n",
        "        \n",
        "class Larger:\n",
        "    def __init__(self,a):\n",
        "        self.string=a\n",
        "    \n",
        "    def display(self):\n",
        "        print(\"The type of Name is larger\")\n",
        "    \n",
        "    def evaluate(self):\n",
        "        ans=0\n",
        "        vowels = \"AaEeIiOoUu\"\n",
        "        final = [each for each in self.string if each not in vowels]\n",
        "        ans = len(final)\n",
        "        # YOUR CODE GOES HERE\n",
        "        print(ans)\n",
        "\n",
        "def main(a):\n",
        "    '''\n",
        "    input a is string\n",
        "    '''\n",
        "    if len(a)<6:\n",
        "        obj=smaller(a)\n",
        "        obj.display()\n",
        "        obj.evaluate()\n",
        "    else:\n",
        "        obj=larger(a)\n",
        "        obj.display()\n",
        "        obj.evaluate()"
      ],
      "metadata": {
        "id": "0hUEsJeL0ihN"
      },
      "execution_count": null,
      "outputs": []
    },
    {
      "cell_type": "code",
      "source": [
        "main(\"a\")"
      ],
      "metadata": {
        "colab": {
          "base_uri": "https://localhost:8080/"
        },
        "id": "CAHQ-9L41UyD",
        "outputId": "70a062cc-e4d5-47c0-a29c-caf892622748"
      },
      "execution_count": null,
      "outputs": [
        {
          "output_type": "stream",
          "name": "stdout",
          "text": [
            "Shabir\n",
            "The type of Name is larger\n",
            "4\n"
          ]
        }
      ]
    },
    {
      "cell_type": "code",
      "source": [
        "main(\"a\")"
      ],
      "metadata": {
        "colab": {
          "base_uri": "https://localhost:8080/"
        },
        "id": "IoVaZcjC1X5v",
        "outputId": "87020fb2-0fad-4c4d-913a-ed31a89887f8"
      },
      "execution_count": null,
      "outputs": [
        {
          "output_type": "stream",
          "name": "stdout",
          "text": [
            "Samia\n",
            "The type of Name is smaller\n",
            "3\n"
          ]
        }
      ]
    },
    {
      "cell_type": "code",
      "source": [
        "class Circle:\n",
        "    pi = 3.14\n",
        "    def __init__(self, diameter):\n",
        "        self.radius = diameter / 2\n",
        "\n",
        "    def circumference(self):\n",
        "        return 2 * self.pi * self.radius"
      ],
      "metadata": {
        "id": "l-P3kZbT_b4g"
      },
      "execution_count": null,
      "outputs": []
    },
    {
      "cell_type": "code",
      "source": [
        "pizza = Circle(12)\n",
        "print(pizza.circumference())"
      ],
      "metadata": {
        "colab": {
          "base_uri": "https://localhost:8080/"
        },
        "id": "AmMVt-HjBcWR",
        "outputId": "089f61ec-1460-42e4-cd87-f43971bf6287"
      },
      "execution_count": null,
      "outputs": [
        {
          "output_type": "stream",
          "name": "stdout",
          "text": [
            "37.68\n"
          ]
        }
      ]
    },
    {
      "cell_type": "code",
      "source": [
        "pizza = Circle(12)\n",
        "print(pizza.self.circumference())"
      ],
      "metadata": {
        "colab": {
          "base_uri": "https://localhost:8080/",
          "height": 183
        },
        "id": "YNWMOHHuBirn",
        "outputId": "7d1c62e7-2bd7-43ed-b18f-c0ad43958772"
      },
      "execution_count": null,
      "outputs": [
        {
          "output_type": "error",
          "ename": "AttributeError",
          "evalue": "ignored",
          "traceback": [
            "\u001b[0;31m---------------------------------------------------------------------------\u001b[0m",
            "\u001b[0;31mAttributeError\u001b[0m                            Traceback (most recent call last)",
            "\u001b[0;32m<ipython-input-76-b532acf82c95>\u001b[0m in \u001b[0;36m<module>\u001b[0;34m\u001b[0m\n\u001b[1;32m      1\u001b[0m \u001b[0mpizza\u001b[0m \u001b[0;34m=\u001b[0m \u001b[0mCircle\u001b[0m\u001b[0;34m(\u001b[0m\u001b[0;36m12\u001b[0m\u001b[0;34m)\u001b[0m\u001b[0;34m\u001b[0m\u001b[0;34m\u001b[0m\u001b[0m\n\u001b[0;32m----> 2\u001b[0;31m \u001b[0mprint\u001b[0m\u001b[0;34m(\u001b[0m\u001b[0mpizza\u001b[0m\u001b[0;34m.\u001b[0m\u001b[0mself\u001b[0m\u001b[0;34m.\u001b[0m\u001b[0mcircumference\u001b[0m\u001b[0;34m(\u001b[0m\u001b[0;34m)\u001b[0m\u001b[0;34m)\u001b[0m\u001b[0;34m\u001b[0m\u001b[0;34m\u001b[0m\u001b[0m\n\u001b[0m",
            "\u001b[0;31mAttributeError\u001b[0m: 'Circle' object has no attribute 'self'"
          ]
        }
      ]
    },
    {
      "cell_type": "code",
      "source": [
        "pizza = Circle(6)\n",
        "print(pizza.circumference())"
      ],
      "metadata": {
        "colab": {
          "base_uri": "https://localhost:8080/"
        },
        "id": "T7oneVYsBtra",
        "outputId": "007f0ea7-d8c7-4e1c-82e4-bce1b5d254ca"
      },
      "execution_count": null,
      "outputs": [
        {
          "output_type": "stream",
          "name": "stdout",
          "text": [
            "18.84\n"
          ]
        }
      ]
    },
    {
      "cell_type": "code",
      "source": [
        "class Student:\n",
        "  # Class variable\n",
        "  subject_name = 'Math for Machine Learning'\n",
        "\n",
        "  # constructor\n",
        "  def __init__(self, name, roll_no):\n",
        "    self.name = name\n",
        "    self.roll_no = roll_no\n",
        "\n",
        "# outside the class\n",
        "# create Objects\n",
        "s1 = Student('Emma', 10) \n",
        "Student.subject_name = 'Machine Learning'\n",
        "#_____________________#blank1\n",
        "#_____________________#blank2\n",
        "\n",
        "print(s1.name, s1.roll_no, s1.subject_name)"
      ],
      "metadata": {
        "colab": {
          "base_uri": "https://localhost:8080/"
        },
        "id": "7Ce10CJBBzgk",
        "outputId": "db1d14eb-84bd-49a0-84da-73984c85436f"
      },
      "execution_count": null,
      "outputs": [
        {
          "output_type": "stream",
          "name": "stdout",
          "text": [
            "Emma 10 Machine Learning\n"
          ]
        }
      ]
    },
    {
      "cell_type": "code",
      "source": [
        "class Student:\n",
        "  # Class variable\n",
        "  subject_name = 'Math for Machine Learning'\n",
        "\n",
        "  # constructor\n",
        "  def __init__(self, name, roll_no):\n",
        "    self.name = name\n",
        "    self.roll_no = roll_no\n",
        "\n",
        "# outside the class\n",
        "# create Objects\n",
        "s1 = Student('Emma', 10) \n",
        "s1.subject_name = 'Machine Learning'\n",
        "#_____________________#blank1\n",
        "#_____________________#blank2\n",
        "\n",
        "print(s1.name, s1.roll_no, s1.subject_name)"
      ],
      "metadata": {
        "colab": {
          "base_uri": "https://localhost:8080/"
        },
        "id": "TL11v3NsCo8F",
        "outputId": "8b5615f4-6eab-4215-fdd9-cec822274c71"
      },
      "execution_count": null,
      "outputs": [
        {
          "output_type": "stream",
          "name": "stdout",
          "text": [
            "Emma 10 Machine Learning\n"
          ]
        }
      ]
    },
    {
      "cell_type": "code",
      "source": [
        "class Student:\n",
        "  # Class variable\n",
        "  subject_name = 'Math for Machine Learning'\n",
        "\n",
        "  # constructor\n",
        "  def __init__(self, name, roll_no):\n",
        "    self.name = name\n",
        "    self.roll_no = roll_no\n",
        "\n",
        "# outside the class\n",
        "# create Objects\n",
        "s1 = Student('Emma', 10) #No change required\n",
        "\n",
        "print(s1.name, s1.roll_no, s1.subject_name)"
      ],
      "metadata": {
        "colab": {
          "base_uri": "https://localhost:8080/"
        },
        "id": "HDp5QwQKDAoE",
        "outputId": "3241ceeb-16ae-4711-ecfe-b1f1abed31d4"
      },
      "execution_count": null,
      "outputs": [
        {
          "output_type": "stream",
          "name": "stdout",
          "text": [
            "Emma 10 Math for Machine Learning\n"
          ]
        }
      ]
    },
    {
      "cell_type": "code",
      "source": [
        "def dist(p1, p2): # (x1, y1), (x2, y2)\n",
        "  # |x1-x2| + |y1-y2|\n",
        "  d = abs(p1[0]-p2[0]) + abs(p1[1]-p2[1])\n",
        "  return d"
      ],
      "metadata": {
        "id": "qYZ4IyRCDQ52"
      },
      "execution_count": null,
      "outputs": []
    },
    {
      "cell_type": "code",
      "source": [
        "dist((1,2),(5,4))"
      ],
      "metadata": {
        "colab": {
          "base_uri": "https://localhost:8080/"
        },
        "id": "KbhDakGk3n1s",
        "outputId": "8ab2367e-4004-4f71-efcc-1dd02bf1f588"
      },
      "execution_count": null,
      "outputs": [
        {
          "output_type": "execute_result",
          "data": {
            "text/plain": [
              "6"
            ]
          },
          "metadata": {},
          "execution_count": 3
        }
      ]
    },
    {
      "cell_type": "code",
      "source": [
        "def dist(p1, p2): # (x1, y1), (x2, y2)\n",
        "  # |x1-x2| + |y1-y2|\n",
        "  d = abs(p1[0]-p2[0]) + abs(p1[1]-p2[1])\n",
        "  return d\n",
        "def neareststudents(names, loc):\n",
        "  min_dist = float('inf')\n",
        "  n = len(names)\n",
        "  ans = [None, None]\n",
        "  for FirstIndex in range(n):\n",
        "    for SecondIndex in range(n):\n",
        "      if FirstIndex==SecondIndex:\n",
        "        continue\n",
        "      else:\n",
        "        if dist(loc[FirstIndex], loc[SecondIndex]) < min_dist:\n",
        "          min_dist = dist(loc[FirstIndex], loc[SecondIndex])\n",
        "          ans=[names[FirstIndex], names[SecondIndex]]\n",
        "  return ans"
      ],
      "metadata": {
        "id": "bdb-DbFj3-0l"
      },
      "execution_count": null,
      "outputs": []
    },
    {
      "cell_type": "code",
      "source": [
        "names= [\"Shabir\", \"Samia\", \"Mohtashim\", \"Muqsit\", \"Muwahid\"]\n",
        "loc = [(1,2),(2,3), (4,5), (6,8), (0,1)]\n",
        "neareststudents(names, loc)"
      ],
      "metadata": {
        "colab": {
          "base_uri": "https://localhost:8080/"
        },
        "id": "vfpp3T525uHY",
        "outputId": "08e8117f-5a6a-486f-8177-c6aad45e37df"
      },
      "execution_count": null,
      "outputs": [
        {
          "output_type": "execute_result",
          "data": {
            "text/plain": [
              "['Shabir', 'Samia']"
            ]
          },
          "metadata": {},
          "execution_count": 20
        }
      ]
    },
    {
      "cell_type": "code",
      "source": [
        "names= [\"Shabir\", \"Samia\", \"Mohtashim\", \"Muqsit\", \"Muwahid\"]\n",
        "loc = [(1,2),(4,4), (4,5), (6,8), (0,1)]\n",
        "neareststudents(names, loc)"
      ],
      "metadata": {
        "colab": {
          "base_uri": "https://localhost:8080/"
        },
        "id": "U6HOKHc66lCu",
        "outputId": "355c82d4-f5c5-484b-e726-819985229003"
      },
      "execution_count": null,
      "outputs": [
        {
          "output_type": "execute_result",
          "data": {
            "text/plain": [
              "['Samia', 'Mohtashim']"
            ]
          },
          "metadata": {},
          "execution_count": 22
        }
      ]
    },
    {
      "cell_type": "code",
      "source": [
        "def dist(p1, p2): # (x1, y1), (x2, y2)\n",
        "  # |x1-x2| + |y1-y2|\n",
        "  d = abs(p1[0]-p2[0]) + abs(p1[1]-p2[1])\n",
        "  return d\n",
        "def neareststudents(names, loc):\n",
        "  min_dist = float('inf')\n",
        "  n = len(names)\n",
        "  ans = [None, None]\n",
        "  for FirstIndex in range(n):\n",
        "    for SecondIndex in range(FirstIndex+1, n):\n",
        "      if dist(loc[FirstIndex], loc[SecondIndex]) < min_dist:\n",
        "        min_dist = dist(loc[FirstIndex], loc[SecondIndex])\n",
        "        ans=[names[FirstIndex], names[SecondIndex]]\n",
        "  return ans\n",
        "names= [\"Shabir\", \"Samia\", \"Mohtashim\", \"Muqsit\", \"Muwahid\"]\n",
        "loc = [(1,2),(4,4), (4,5), (6,8), (0,1)]\n",
        "neareststudents(names, loc)"
      ],
      "metadata": {
        "colab": {
          "base_uri": "https://localhost:8080/"
        },
        "id": "p7kpbApV8cU6",
        "outputId": "96c6babe-6bfc-4acb-f400-24edc26da3d0"
      },
      "execution_count": null,
      "outputs": [
        {
          "output_type": "execute_result",
          "data": {
            "text/plain": [
              "['Samia', 'Mohtashim']"
            ]
          },
          "metadata": {},
          "execution_count": 23
        }
      ]
    },
    {
      "cell_type": "code",
      "source": [
        "class First():\n",
        "  def __init__(self):\n",
        "    print(\"First\")\n",
        "\n",
        "class Second(First):\n",
        "  def __init__(self):\n",
        "    print(\"Second\")\n",
        "class Third(First):\n",
        "  def __init__(self):\n",
        "    print(\"Third\")\n",
        "    def run_this(self):\n",
        "      print(\"this runs in world\")\n",
        "class Fourth(Second,Third):\n",
        "  def __init__(self):\n",
        "    super().__init__()\n",
        "print(Fourth())"
      ],
      "metadata": {
        "colab": {
          "base_uri": "https://localhost:8080/"
        },
        "id": "KLSjiFTVCbN7",
        "outputId": "70b67b2c-0aae-4576-dea5-89bd78615ff5"
      },
      "execution_count": null,
      "outputs": [
        {
          "output_type": "stream",
          "name": "stdout",
          "text": [
            "Second\n",
            "<__main__.Fourth object at 0x7f36f695e550>\n"
          ]
        }
      ]
    },
    {
      "cell_type": "code",
      "source": [
        "print(Fourth.__mro__)"
      ],
      "metadata": {
        "colab": {
          "base_uri": "https://localhost:8080/"
        },
        "id": "O2EbA66fDbvx",
        "outputId": "e70e95f4-8ad8-43bb-9939-6437a3fd3418"
      },
      "execution_count": null,
      "outputs": [
        {
          "output_type": "stream",
          "name": "stdout",
          "text": [
            "(<class '__main__.Fourth'>, <class '__main__.Second'>, <class '__main__.Third'>, <class '__main__.First'>, <class 'object'>)\n"
          ]
        }
      ]
    },
    {
      "cell_type": "code",
      "source": [
        "class myClass:\n",
        "  def __init__(self):\n",
        "    self.instance_var = \"hi\"\n",
        "    def method(self):\n",
        "      print(\"hi from method 1\")\n",
        "\n",
        "myInstance = myClass()"
      ],
      "metadata": {
        "id": "wBXYpdpaFFA6"
      },
      "execution_count": null,
      "outputs": []
    },
    {
      "cell_type": "code",
      "source": [
        "class MachineLearning:\n",
        "    def __init__(self,name,category):\n",
        "        self.name=name\n",
        "        self.category=category\n",
        "        \n",
        "    def getname(self):\n",
        "        return self.name\n",
        "        \n",
        "    def getcategory(self):\n",
        "        return self.category\n",
        "        \n",
        "    def print(self):\n",
        "        print(\"Name:\",self.name)\n",
        "        print(\"Category:\",self.category)\n",
        "\n",
        "class Supervised(MachineLearning):\n",
        "    def __init__(self,name,category):\n",
        "        super().__init__(name, category)\n",
        "        #YOUR CODE GOES HERE\n",
        "        \n",
        "    \n",
        "    def type(self):\n",
        "        #YOUR CODE GOES HERE\n",
        "        super().print()\n",
        "        print(\"Supervised Learning Algorithm\")\n",
        "        \n",
        "\n",
        "class Unsupervised(MachineLearning):\n",
        "    def __init__(self,name,category):\n",
        "        #YOUR CODE GOES HERE\n",
        "        super().__init__(name, category)\n",
        "        \n",
        "    \n",
        "    def type(self):\n",
        "        #YOUR CODE GOES HERE\n",
        "        super().print()\n",
        "        print(\"Unsupervised Learning Algorithm\")\n",
        "        \n",
        "\n",
        "def mlAnalogy(a,b,c,d):\n",
        "    '''\n",
        "    input=> a,b = name and category for Supervised class\n",
        "            c,d = name and category for Unsupervised class\n",
        "    output=> type() is called for both classes in the end, it should first print the Name and Category then the type of class in new lines\n",
        "    '''\n",
        "\n",
        "    obj1=Supervised(a,b)\n",
        "    obj1.type()\n",
        "    obj2=Unsupervised(c,d)\n",
        "    obj2.type()\n",
        "\n",
        "    return None"
      ],
      "metadata": {
        "id": "WQzeJkCLYZeR"
      },
      "execution_count": null,
      "outputs": []
    },
    {
      "cell_type": "code",
      "source": [
        "a = \"Logistic Regression\"\n",
        "b = \"Classification Algo\"\n",
        "c = \"k-Means\"\n",
        "d = \"Clustering Algo\"\n",
        "mlAnalogy(a,b,c,d)"
      ],
      "metadata": {
        "colab": {
          "base_uri": "https://localhost:8080/"
        },
        "id": "Tzsr0sTVYa10",
        "outputId": "02f7b37a-76e7-420c-c34d-57a3fd49aa55"
      },
      "execution_count": null,
      "outputs": [
        {
          "output_type": "stream",
          "name": "stdout",
          "text": [
            "Name: Logistic Regression\n",
            "Category: Classification Algo\n",
            "Supervised Learning Algorithm\n",
            "Name: k-Means\n",
            "Category: Clustering Algo\n",
            "Unsupervised Learning Algorithm\n"
          ]
        }
      ]
    },
    {
      "cell_type": "code",
      "source": [
        "class BankAccount:\n",
        "  def __init__(self, name, id, balance):\n",
        "    self.name = name\n",
        "    self.id = id\n",
        "    self.balance = balance\n",
        "ac1 = BankAccount(\"Shabir\", 3863, 55000)"
      ],
      "metadata": {
        "id": "Sv0Gg94yZTJO"
      },
      "execution_count": null,
      "outputs": []
    },
    {
      "cell_type": "code",
      "source": [
        "print(ac1.id)"
      ],
      "metadata": {
        "colab": {
          "base_uri": "https://localhost:8080/"
        },
        "id": "HIGvnzHNl1I-",
        "outputId": "7a2f6787-b6d6-4dac-d3f1-2f88ac66f01d"
      },
      "execution_count": null,
      "outputs": [
        {
          "output_type": "stream",
          "name": "stdout",
          "text": [
            "3863\n"
          ]
        }
      ]
    },
    {
      "cell_type": "code",
      "source": [
        "class BankAccount:\n",
        "  def __init__(self, name, id, balance):\n",
        "    self.name = name\n",
        "    self.id = id\n",
        "    self.balance = balance\n",
        "\n",
        "  def show_balance(self):\n",
        "    return self.name + \" has a balance of \" +str(self.balance)\n",
        "\n",
        "ac1 = BankAccount(\"Shabir\", 3863, 55000)"
      ],
      "metadata": {
        "id": "HnZCzbF-l6BB"
      },
      "execution_count": null,
      "outputs": []
    },
    {
      "cell_type": "code",
      "source": [
        "ac1.show_balance()"
      ],
      "metadata": {
        "colab": {
          "base_uri": "https://localhost:8080/",
          "height": 35
        },
        "id": "6UzpTbJKmlzJ",
        "outputId": "f4c8c719-cb3d-4a53-8be5-ee6fa10f54de"
      },
      "execution_count": null,
      "outputs": [
        {
          "output_type": "execute_result",
          "data": {
            "text/plain": [
              "'Shabir has a balance of 55000'"
            ],
            "application/vnd.google.colaboratory.intrinsic+json": {
              "type": "string"
            }
          },
          "metadata": {},
          "execution_count": 9
        }
      ]
    },
    {
      "cell_type": "code",
      "source": [
        "ac1.balance = 10000000"
      ],
      "metadata": {
        "id": "b72mwpyWmqEz"
      },
      "execution_count": null,
      "outputs": []
    },
    {
      "cell_type": "code",
      "source": [
        "ac1.balance"
      ],
      "metadata": {
        "colab": {
          "base_uri": "https://localhost:8080/"
        },
        "id": "goUAlG_1nkCm",
        "outputId": "8e0a71a6-60e3-4c77-c069-bd4d46f14c71"
      },
      "execution_count": null,
      "outputs": [
        {
          "output_type": "execute_result",
          "data": {
            "text/plain": [
              "10000000"
            ]
          },
          "metadata": {},
          "execution_count": 11
        }
      ]
    },
    {
      "cell_type": "code",
      "source": [
        "ac1.show_balance()"
      ],
      "metadata": {
        "colab": {
          "base_uri": "https://localhost:8080/",
          "height": 35
        },
        "id": "kC0-NZDYnnlB",
        "outputId": "7a40cb87-9c3c-4a3a-8e7f-0eb1fd1997bc"
      },
      "execution_count": null,
      "outputs": [
        {
          "output_type": "execute_result",
          "data": {
            "text/plain": [
              "'Shabir has a balance of 10000000'"
            ],
            "application/vnd.google.colaboratory.intrinsic+json": {
              "type": "string"
            }
          },
          "metadata": {},
          "execution_count": 13
        }
      ]
    },
    {
      "cell_type": "code",
      "source": [
        "class BankAccount:\n",
        "  def __init__(self, name, id, balance):\n",
        "    self.name = name\n",
        "    self.id = id\n",
        "    self.__balance = balance\n",
        "\n",
        "  def show_balance(self):\n",
        "    return self.name + \" has a balance of \" +str(self.__balance)\n",
        "\n",
        "ac1 = BankAccount(\"Shabir\", 3863, 55000)"
      ],
      "metadata": {
        "id": "04j7QSkCnqwA"
      },
      "execution_count": null,
      "outputs": []
    },
    {
      "cell_type": "code",
      "source": [
        "print(ac1.balance)"
      ],
      "metadata": {
        "colab": {
          "base_uri": "https://localhost:8080/",
          "height": 165
        },
        "id": "mL315zT2oyH5",
        "outputId": "8cf147cd-8de6-4ba6-c683-0bbb3e10ad12"
      },
      "execution_count": null,
      "outputs": [
        {
          "output_type": "error",
          "ename": "AttributeError",
          "evalue": "ignored",
          "traceback": [
            "\u001b[0;31m---------------------------------------------------------------------------\u001b[0m",
            "\u001b[0;31mAttributeError\u001b[0m                            Traceback (most recent call last)",
            "\u001b[0;32m<ipython-input-16-d7fa24edc767>\u001b[0m in \u001b[0;36m<module>\u001b[0;34m\u001b[0m\n\u001b[0;32m----> 1\u001b[0;31m \u001b[0mprint\u001b[0m\u001b[0;34m(\u001b[0m\u001b[0mac1\u001b[0m\u001b[0;34m.\u001b[0m\u001b[0mbalance\u001b[0m\u001b[0;34m)\u001b[0m\u001b[0;34m\u001b[0m\u001b[0;34m\u001b[0m\u001b[0m\n\u001b[0m",
            "\u001b[0;31mAttributeError\u001b[0m: 'BankAccount' object has no attribute 'balance'"
          ]
        }
      ]
    },
    {
      "cell_type": "code",
      "source": [
        "ac1.show_balance()"
      ],
      "metadata": {
        "colab": {
          "base_uri": "https://localhost:8080/",
          "height": 35
        },
        "id": "Zodt_jIxo1c8",
        "outputId": "b0d45aac-3f1f-4cee-8ebd-3ec907a12fab"
      },
      "execution_count": null,
      "outputs": [
        {
          "output_type": "execute_result",
          "data": {
            "text/plain": [
              "'Shabir has a balance of 55000'"
            ],
            "application/vnd.google.colaboratory.intrinsic+json": {
              "type": "string"
            }
          },
          "metadata": {},
          "execution_count": 21
        }
      ]
    },
    {
      "cell_type": "code",
      "source": [
        "class BankAccount:\n",
        "  def __init__(self, name, id, balance):\n",
        "    self.name = name\n",
        "    self.id = id\n",
        "    self.__balance = balance\n",
        "\n",
        "  def show_balance(self):\n",
        "    return self.name + \" has a balance of \" +str(self.__balance)\n",
        "\n",
        "  def deposit(self, amount):\n",
        "    self.__balance += amount\n",
        "\n",
        "ac1 = BankAccount(\"Shabir\", 3863, 55000)"
      ],
      "metadata": {
        "id": "OFdbdBbdpIgg"
      },
      "execution_count": null,
      "outputs": []
    },
    {
      "cell_type": "code",
      "source": [
        "ac1.deposit(99)\n",
        "ac1.show_balance()"
      ],
      "metadata": {
        "colab": {
          "base_uri": "https://localhost:8080/",
          "height": 35
        },
        "id": "gf60IL4wqzi_",
        "outputId": "2617e1e3-e4d4-4bfb-ddf0-322bca32b478"
      },
      "execution_count": null,
      "outputs": [
        {
          "output_type": "execute_result",
          "data": {
            "text/plain": [
              "'Shabir has a balance of 55198'"
            ],
            "application/vnd.google.colaboratory.intrinsic+json": {
              "type": "string"
            }
          },
          "metadata": {},
          "execution_count": 25
        }
      ]
    },
    {
      "cell_type": "code",
      "source": [
        "ac1.__dict__"
      ],
      "metadata": {
        "colab": {
          "base_uri": "https://localhost:8080/"
        },
        "id": "KaUkd6tvrbj0",
        "outputId": "5b5a0cb4-9c8f-404f-e03a-d768b640482f"
      },
      "execution_count": null,
      "outputs": [
        {
          "output_type": "execute_result",
          "data": {
            "text/plain": [
              "{'name': 'Shabir', 'id': 3863, '_BankAccount__balance': 55198}"
            ]
          },
          "metadata": {},
          "execution_count": 27
        }
      ]
    },
    {
      "cell_type": "code",
      "source": [
        "ac1._BankAccount__balance = 0"
      ],
      "metadata": {
        "id": "cnwmnjhlsAyT"
      },
      "execution_count": null,
      "outputs": []
    },
    {
      "cell_type": "code",
      "source": [
        "ac1.show_balance()"
      ],
      "metadata": {
        "colab": {
          "base_uri": "https://localhost:8080/",
          "height": 35
        },
        "id": "weU4RM3jsvDx",
        "outputId": "b39af31c-985d-47fc-d507-94416c41afbc"
      },
      "execution_count": null,
      "outputs": [
        {
          "output_type": "execute_result",
          "data": {
            "text/plain": [
              "'Shabir has a balance of 0'"
            ],
            "application/vnd.google.colaboratory.intrinsic+json": {
              "type": "string"
            }
          },
          "metadata": {},
          "execution_count": 31
        }
      ]
    },
    {
      "cell_type": "code",
      "source": [
        "class A:\n",
        "  x = 9\n",
        "\n",
        "class B(A):\n",
        "  x = 99\n",
        "\n",
        "class C(B):\n",
        "  x = 999\n",
        "\n",
        "c = C()\n",
        "print(c.x)"
      ],
      "metadata": {
        "colab": {
          "base_uri": "https://localhost:8080/"
        },
        "id": "pck2Os6ksyh8",
        "outputId": "f69fdefd-533b-46fa-f826-d91f90e33ebb"
      },
      "execution_count": null,
      "outputs": [
        {
          "output_type": "stream",
          "name": "stdout",
          "text": [
            "999\n"
          ]
        }
      ]
    },
    {
      "cell_type": "code",
      "source": [
        "class A:\n",
        "  x = 9\n",
        "  y = 100\n",
        "\n",
        "class B(A):\n",
        "  x = 99\n",
        "\n",
        "class C(B):\n",
        "  pass\n",
        "\n",
        "c = C()\n",
        "print(c.x)\n",
        "print(c.y)"
      ],
      "metadata": {
        "colab": {
          "base_uri": "https://localhost:8080/"
        },
        "id": "GvQN8FFODsne",
        "outputId": "b9f30c67-18d9-4c23-a2c3-3ea5904a62d1"
      },
      "execution_count": null,
      "outputs": [
        {
          "output_type": "stream",
          "name": "stdout",
          "text": [
            "99\n",
            "100\n"
          ]
        }
      ]
    },
    {
      "cell_type": "code",
      "source": [
        "class A:\n",
        "  x = 9\n",
        "  y = 100\n",
        "\n",
        "class B:\n",
        "  x = 99\n",
        "\n",
        "class C(B, A):\n",
        "  pass\n",
        "\n",
        "c = C()\n",
        "print(c.x)\n",
        "print(c.y)"
      ],
      "metadata": {
        "colab": {
          "base_uri": "https://localhost:8080/"
        },
        "id": "Sty9mOQ0ExIo",
        "outputId": "71a6c56e-e879-4a10-a779-45cb282e4e12"
      },
      "execution_count": null,
      "outputs": [
        {
          "output_type": "stream",
          "name": "stdout",
          "text": [
            "99\n",
            "100\n"
          ]
        }
      ]
    },
    {
      "cell_type": "code",
      "source": [
        "class A:\n",
        "  pass\n",
        "class B(A):\n",
        "  pass\n",
        "class C(E):\n",
        "  pass\n",
        "class D(E):\n",
        "  pass\n",
        "class E(C,D):\n",
        "  pass"
      ],
      "metadata": {
        "colab": {
          "base_uri": "https://localhost:8080/",
          "height": 235
        },
        "id": "8hqOUVYkHAT8",
        "outputId": "6ee2a900-1cb7-45b5-9db7-88446b7f9e5f"
      },
      "execution_count": null,
      "outputs": [
        {
          "output_type": "error",
          "ename": "NameError",
          "evalue": "ignored",
          "traceback": [
            "\u001b[0;31m---------------------------------------------------------------------------\u001b[0m",
            "\u001b[0;31mNameError\u001b[0m                                 Traceback (most recent call last)",
            "\u001b[0;32m<ipython-input-42-6297a23b0193>\u001b[0m in \u001b[0;36m<module>\u001b[0;34m\u001b[0m\n\u001b[1;32m      3\u001b[0m \u001b[0;32mclass\u001b[0m \u001b[0mB\u001b[0m\u001b[0;34m(\u001b[0m\u001b[0mA\u001b[0m\u001b[0;34m)\u001b[0m\u001b[0;34m:\u001b[0m\u001b[0;34m\u001b[0m\u001b[0;34m\u001b[0m\u001b[0m\n\u001b[1;32m      4\u001b[0m   \u001b[0;32mpass\u001b[0m\u001b[0;34m\u001b[0m\u001b[0;34m\u001b[0m\u001b[0m\n\u001b[0;32m----> 5\u001b[0;31m \u001b[0;32mclass\u001b[0m \u001b[0mC\u001b[0m\u001b[0;34m(\u001b[0m\u001b[0mE\u001b[0m\u001b[0;34m)\u001b[0m\u001b[0;34m:\u001b[0m\u001b[0;34m\u001b[0m\u001b[0;34m\u001b[0m\u001b[0m\n\u001b[0m\u001b[1;32m      6\u001b[0m   \u001b[0;32mpass\u001b[0m\u001b[0;34m\u001b[0m\u001b[0;34m\u001b[0m\u001b[0m\n\u001b[1;32m      7\u001b[0m \u001b[0;32mclass\u001b[0m \u001b[0mD\u001b[0m\u001b[0;34m(\u001b[0m\u001b[0mE\u001b[0m\u001b[0;34m)\u001b[0m\u001b[0;34m:\u001b[0m\u001b[0;34m\u001b[0m\u001b[0;34m\u001b[0m\u001b[0m\n",
            "\u001b[0;31mNameError\u001b[0m: name 'E' is not defined"
          ]
        }
      ]
    },
    {
      "cell_type": "code",
      "source": [
        "E.__mro__"
      ],
      "metadata": {
        "colab": {
          "base_uri": "https://localhost:8080/",
          "height": 165
        },
        "id": "2xmEyeq1KUSr",
        "outputId": "6ccb2e62-343f-41f9-94e4-eed762b39a71"
      },
      "execution_count": null,
      "outputs": [
        {
          "output_type": "error",
          "ename": "NameError",
          "evalue": "ignored",
          "traceback": [
            "\u001b[0;31m---------------------------------------------------------------------------\u001b[0m",
            "\u001b[0;31mNameError\u001b[0m                                 Traceback (most recent call last)",
            "\u001b[0;32m<ipython-input-43-fcc99c020f93>\u001b[0m in \u001b[0;36m<module>\u001b[0;34m\u001b[0m\n\u001b[0;32m----> 1\u001b[0;31m \u001b[0mE\u001b[0m\u001b[0;34m.\u001b[0m\u001b[0m__mro__\u001b[0m\u001b[0;34m\u001b[0m\u001b[0;34m\u001b[0m\u001b[0m\n\u001b[0m",
            "\u001b[0;31mNameError\u001b[0m: name 'E' is not defined"
          ]
        }
      ]
    },
    {
      "cell_type": "code",
      "source": [
        "#Functional Programming\n",
        "(lambda x: x*x)(7)"
      ],
      "metadata": {
        "id": "aEyffijLKpu9",
        "colab": {
          "base_uri": "https://localhost:8080/"
        },
        "outputId": "e0b9bcb8-8dbc-4a62-b31d-112695b7fc8c"
      },
      "execution_count": null,
      "outputs": [
        {
          "output_type": "execute_result",
          "data": {
            "text/plain": [
              "49"
            ]
          },
          "metadata": {},
          "execution_count": 1
        }
      ]
    },
    {
      "cell_type": "code",
      "source": [
        "(lambda x, y: x*y)(3, 4)"
      ],
      "metadata": {
        "colab": {
          "base_uri": "https://localhost:8080/"
        },
        "id": "QoRdfjmUpD-J",
        "outputId": "5e5142af-3354-468d-dfcb-f3a0b06e6da1"
      },
      "execution_count": null,
      "outputs": [
        {
          "output_type": "execute_result",
          "data": {
            "text/plain": [
              "12"
            ]
          },
          "metadata": {},
          "execution_count": 2
        }
      ]
    },
    {
      "cell_type": "code",
      "source": [
        "a = (lambda x, y: x*y)(5, 7)"
      ],
      "metadata": {
        "id": "jjYgFwoypWwf"
      },
      "execution_count": null,
      "outputs": []
    },
    {
      "cell_type": "code",
      "source": [
        "print(a)"
      ],
      "metadata": {
        "colab": {
          "base_uri": "https://localhost:8080/"
        },
        "id": "yshFiDjRpgNV",
        "outputId": "50036457-d0f0-4789-a639-d90ecf9985db"
      },
      "execution_count": null,
      "outputs": [
        {
          "output_type": "stream",
          "name": "stdout",
          "text": [
            "35\n"
          ]
        }
      ]
    },
    {
      "cell_type": "code",
      "source": [
        "print(a*2)"
      ],
      "metadata": {
        "colab": {
          "base_uri": "https://localhost:8080/"
        },
        "id": "G2QYco3RpkYY",
        "outputId": "4f9f75a1-2aae-45b9-b324-595d2557204c"
      },
      "execution_count": null,
      "outputs": [
        {
          "output_type": "stream",
          "name": "stdout",
          "text": [
            "70\n"
          ]
        }
      ]
    },
    {
      "cell_type": "code",
      "source": [
        "a = (lambda x, y: x*y)"
      ],
      "metadata": {
        "id": "WpBYO-ddpmsF"
      },
      "execution_count": null,
      "outputs": []
    },
    {
      "cell_type": "code",
      "source": [
        "a(7, 6)"
      ],
      "metadata": {
        "colab": {
          "base_uri": "https://localhost:8080/"
        },
        "id": "FCbd1ZCLptBq",
        "outputId": "4ddfd668-9d17-4386-b261-201e873bec97"
      },
      "execution_count": null,
      "outputs": [
        {
          "output_type": "execute_result",
          "data": {
            "text/plain": [
              "42"
            ]
          },
          "metadata": {},
          "execution_count": 8
        }
      ]
    },
    {
      "cell_type": "code",
      "source": [
        "a(9, 5)"
      ],
      "metadata": {
        "colab": {
          "base_uri": "https://localhost:8080/"
        },
        "id": "qzBH4SJVp2my",
        "outputId": "6df68f81-4f7f-4eba-d94b-cf0f5a5dca53"
      },
      "execution_count": null,
      "outputs": [
        {
          "output_type": "execute_result",
          "data": {
            "text/plain": [
              "45"
            ]
          },
          "metadata": {},
          "execution_count": 9
        }
      ]
    },
    {
      "cell_type": "code",
      "source": [
        "b = (lambda x,y,z: x+y-z)"
      ],
      "metadata": {
        "id": "FKjX5gyip4iy"
      },
      "execution_count": null,
      "outputs": []
    },
    {
      "cell_type": "code",
      "source": [
        "b(3, 4, 5)"
      ],
      "metadata": {
        "colab": {
          "base_uri": "https://localhost:8080/"
        },
        "id": "MtB1m1zwqBqU",
        "outputId": "60457dfb-a560-496f-fbb4-261dca180e4e"
      },
      "execution_count": null,
      "outputs": [
        {
          "output_type": "execute_result",
          "data": {
            "text/plain": [
              "2"
            ]
          },
          "metadata": {},
          "execution_count": 11
        }
      ]
    },
    {
      "cell_type": "code",
      "source": [
        "func = lambda x: \"Num is greater than 5\" if x > 5 else \"Num is less or equal to 5\""
      ],
      "metadata": {
        "id": "5epHfCdqqECK"
      },
      "execution_count": null,
      "outputs": []
    },
    {
      "cell_type": "code",
      "source": [
        "func(5)"
      ],
      "metadata": {
        "colab": {
          "base_uri": "https://localhost:8080/",
          "height": 35
        },
        "id": "1gniNzqHqcpu",
        "outputId": "9ede6843-a986-4a35-aca1-c84463ca0c67"
      },
      "execution_count": null,
      "outputs": [
        {
          "output_type": "execute_result",
          "data": {
            "text/plain": [
              "'Num is less or equal to 5'"
            ],
            "application/vnd.google.colaboratory.intrinsic+json": {
              "type": "string"
            }
          },
          "metadata": {},
          "execution_count": 16
        }
      ]
    },
    {
      "cell_type": "code",
      "source": [
        "func = lambda x: \"Num is greater tha 5\" if x > 5 else \"Num is smaller than 3\" if x < 3 else \"Num is between 3 and 5\""
      ],
      "metadata": {
        "id": "EV5Dbw9bqg0a"
      },
      "execution_count": null,
      "outputs": []
    },
    {
      "cell_type": "code",
      "source": [
        "func(4)"
      ],
      "metadata": {
        "colab": {
          "base_uri": "https://localhost:8080/",
          "height": 35
        },
        "id": "bkB5cz1grIOo",
        "outputId": "a3aa7952-743f-48e3-8a45-07bc8d0e880e"
      },
      "execution_count": null,
      "outputs": [
        {
          "output_type": "execute_result",
          "data": {
            "text/plain": [
              "'Num is between 3 and 5'"
            ],
            "application/vnd.google.colaboratory.intrinsic+json": {
              "type": "string"
            }
          },
          "metadata": {},
          "execution_count": 18
        }
      ]
    },
    {
      "cell_type": "code",
      "source": [
        "func(2)"
      ],
      "metadata": {
        "colab": {
          "base_uri": "https://localhost:8080/",
          "height": 35
        },
        "id": "qdWkLNbcrJvl",
        "outputId": "03c2c256-2670-476a-bfa1-0f0e4df77529"
      },
      "execution_count": null,
      "outputs": [
        {
          "output_type": "execute_result",
          "data": {
            "text/plain": [
              "'Num is smaller than 3'"
            ],
            "application/vnd.google.colaboratory.intrinsic+json": {
              "type": "string"
            }
          },
          "metadata": {},
          "execution_count": 19
        }
      ]
    },
    {
      "cell_type": "code",
      "source": [
        "func(7)"
      ],
      "metadata": {
        "colab": {
          "base_uri": "https://localhost:8080/",
          "height": 35
        },
        "id": "5EvSU0E_rMy9",
        "outputId": "32783c63-a4fc-4bec-f8e0-aa58c3ad1d42"
      },
      "execution_count": null,
      "outputs": [
        {
          "output_type": "execute_result",
          "data": {
            "text/plain": [
              "'Num is greater tha 5'"
            ],
            "application/vnd.google.colaboratory.intrinsic+json": {
              "type": "string"
            }
          },
          "metadata": {},
          "execution_count": 20
        }
      ]
    },
    {
      "cell_type": "code",
      "source": [
        "c = lambda x, y: [x*y, x+y, x-y, x/y]"
      ],
      "metadata": {
        "id": "cuzE6z7frQCQ"
      },
      "execution_count": null,
      "outputs": []
    },
    {
      "cell_type": "code",
      "source": [
        "c(4, 2)"
      ],
      "metadata": {
        "colab": {
          "base_uri": "https://localhost:8080/"
        },
        "id": "GE88swgarc3F",
        "outputId": "0f8d6384-8be1-4b2f-8dfa-b242a81b0629"
      },
      "execution_count": null,
      "outputs": [
        {
          "output_type": "execute_result",
          "data": {
            "text/plain": [
              "[8, 6, 2, 2.0]"
            ]
          },
          "metadata": {},
          "execution_count": 22
        }
      ]
    },
    {
      "cell_type": "code",
      "source": [
        "list = [[2, 3], [4, 2], [1, 9]]"
      ],
      "metadata": {
        "id": "lRDOxjtRrff1"
      },
      "execution_count": null,
      "outputs": []
    },
    {
      "cell_type": "code",
      "source": [
        "sorted(list)"
      ],
      "metadata": {
        "colab": {
          "base_uri": "https://localhost:8080/"
        },
        "id": "WiAq9650rskJ",
        "outputId": "7e62c2df-ff28-4d21-c0f0-4d5e90e1cf05"
      },
      "execution_count": null,
      "outputs": [
        {
          "output_type": "execute_result",
          "data": {
            "text/plain": [
              "[[1, 9], [2, 3], [4, 2]]"
            ]
          },
          "metadata": {},
          "execution_count": 24
        }
      ]
    },
    {
      "cell_type": "code",
      "source": [
        "sorted(list, key = lambda x:x[1])"
      ],
      "metadata": {
        "colab": {
          "base_uri": "https://localhost:8080/"
        },
        "id": "pOU2D_LirvWw",
        "outputId": "5e399976-b0f5-4bd5-ed58-079cf9ad829b"
      },
      "execution_count": null,
      "outputs": [
        {
          "output_type": "execute_result",
          "data": {
            "text/plain": [
              "[[4, 2], [2, 3], [1, 9]]"
            ]
          },
          "metadata": {},
          "execution_count": 25
        }
      ]
    },
    {
      "cell_type": "code",
      "source": [
        "(lambda x:x[1])([4, 2])"
      ],
      "metadata": {
        "colab": {
          "base_uri": "https://localhost:8080/"
        },
        "id": "1dD5jXBsr5w_",
        "outputId": "3e68e1f2-6934-4a0b-b6ee-186fd1505a2a"
      },
      "execution_count": null,
      "outputs": [
        {
          "output_type": "execute_result",
          "data": {
            "text/plain": [
              "2"
            ]
          },
          "metadata": {},
          "execution_count": 26
        }
      ]
    },
    {
      "cell_type": "code",
      "source": [
        "(lambda x:x[1])([1, 9])"
      ],
      "metadata": {
        "colab": {
          "base_uri": "https://localhost:8080/"
        },
        "id": "2mEOtC4xsLTd",
        "outputId": "dd84bfa0-9acf-43d8-999c-ae8b1cf20177"
      },
      "execution_count": null,
      "outputs": [
        {
          "output_type": "execute_result",
          "data": {
            "text/plain": [
              "9"
            ]
          },
          "metadata": {},
          "execution_count": 27
        }
      ]
    },
    {
      "cell_type": "code",
      "source": [
        "students = [{\"name\": 'A', 'marks': 50},\n",
        "            {\"name\": 'B', 'marks' : 100},\n",
        "            {\"name\": 'C', 'marks' : 40},\n",
        "            {\"name\": 'D', 'marks' : 80}]"
      ],
      "metadata": {
        "id": "5vmocgvZsV8X"
      },
      "execution_count": null,
      "outputs": []
    },
    {
      "cell_type": "code",
      "source": [
        "sorted(students, key = lambda x: x ['marks'])"
      ],
      "metadata": {
        "id": "TIoBa04psW3c",
        "colab": {
          "base_uri": "https://localhost:8080/"
        },
        "outputId": "6a06b869-cefb-4152-e39f-10fe8e267128"
      },
      "execution_count": null,
      "outputs": [
        {
          "output_type": "execute_result",
          "data": {
            "text/plain": [
              "[{'name': 'C', 'marks': 40},\n",
              " {'name': 'A', 'marks': 50},\n",
              " {'name': 'D', 'marks': 80},\n",
              " {'name': 'B', 'marks': 100}]"
            ]
          },
          "metadata": {},
          "execution_count": 2
        }
      ]
    },
    {
      "cell_type": "code",
      "source": [
        "sorted(students, key = lambda x: x ['marks'], reverse = True)"
      ],
      "metadata": {
        "id": "Bfs0wgeRsXWm",
        "colab": {
          "base_uri": "https://localhost:8080/"
        },
        "outputId": "a9fdb614-21bb-4957-8884-0ac76ce47316"
      },
      "execution_count": null,
      "outputs": [
        {
          "output_type": "execute_result",
          "data": {
            "text/plain": [
              "[{'name': 'B', 'marks': 100},\n",
              " {'name': 'D', 'marks': 80},\n",
              " {'name': 'A', 'marks': 50},\n",
              " {'name': 'C', 'marks': 40}]"
            ]
          },
          "metadata": {},
          "execution_count": 3
        }
      ]
    },
    {
      "cell_type": "code",
      "source": [
        "order = {\"cust1\" : 50, \"cust2\" : 90, \"cust3\" : 30, \"cust4\" : 80}"
      ],
      "metadata": {
        "id": "p0Gl366xsXv4"
      },
      "execution_count": null,
      "outputs": []
    },
    {
      "cell_type": "code",
      "source": [
        "sorted(order, key = lambda x:x ['value'], reverse = True)"
      ],
      "metadata": {
        "colab": {
          "base_uri": "https://localhost:8080/",
          "height": 217
        },
        "id": "KHOpF7fG7nbH",
        "outputId": "55b6b649-c986-4101-e691-b460ea018f8f"
      },
      "execution_count": null,
      "outputs": [
        {
          "output_type": "error",
          "ename": "TypeError",
          "evalue": "ignored",
          "traceback": [
            "\u001b[0;31m---------------------------------------------------------------------------\u001b[0m",
            "\u001b[0;31mTypeError\u001b[0m                                 Traceback (most recent call last)",
            "\u001b[0;32m<ipython-input-6-ffe4b956be2c>\u001b[0m in \u001b[0;36m<module>\u001b[0;34m\u001b[0m\n\u001b[0;32m----> 1\u001b[0;31m \u001b[0msorted\u001b[0m\u001b[0;34m(\u001b[0m\u001b[0morder\u001b[0m\u001b[0;34m,\u001b[0m \u001b[0mkey\u001b[0m \u001b[0;34m=\u001b[0m \u001b[0;32mlambda\u001b[0m \u001b[0mx\u001b[0m\u001b[0;34m:\u001b[0m\u001b[0mx\u001b[0m \u001b[0;34m[\u001b[0m\u001b[0;34m'value'\u001b[0m\u001b[0;34m]\u001b[0m\u001b[0;34m,\u001b[0m \u001b[0mreverse\u001b[0m \u001b[0;34m=\u001b[0m \u001b[0;32mTrue\u001b[0m\u001b[0;34m)\u001b[0m\u001b[0;34m\u001b[0m\u001b[0;34m\u001b[0m\u001b[0m\n\u001b[0m",
            "\u001b[0;32m<ipython-input-6-ffe4b956be2c>\u001b[0m in \u001b[0;36m<lambda>\u001b[0;34m(x)\u001b[0m\n\u001b[0;32m----> 1\u001b[0;31m \u001b[0msorted\u001b[0m\u001b[0;34m(\u001b[0m\u001b[0morder\u001b[0m\u001b[0;34m,\u001b[0m \u001b[0mkey\u001b[0m \u001b[0;34m=\u001b[0m \u001b[0;32mlambda\u001b[0m \u001b[0mx\u001b[0m\u001b[0;34m:\u001b[0m\u001b[0mx\u001b[0m \u001b[0;34m[\u001b[0m\u001b[0;34m'value'\u001b[0m\u001b[0;34m]\u001b[0m\u001b[0;34m,\u001b[0m \u001b[0mreverse\u001b[0m \u001b[0;34m=\u001b[0m \u001b[0;32mTrue\u001b[0m\u001b[0;34m)\u001b[0m\u001b[0;34m\u001b[0m\u001b[0;34m\u001b[0m\u001b[0m\n\u001b[0m",
            "\u001b[0;31mTypeError\u001b[0m: string indices must be integers"
          ]
        }
      ]
    },
    {
      "cell_type": "markdown",
      "source": [
        "# New Section"
      ],
      "metadata": {
        "id": "UpuIxgzjFrsw"
      }
    },
    {
      "cell_type": "code",
      "source": [],
      "metadata": {
        "id": "XBmCusnJ7nGn"
      },
      "execution_count": null,
      "outputs": []
    },
    {
      "cell_type": "code",
      "source": [
        "# Map Function\n",
        "list = [1, 2, 3, 4, 5]\n",
        "output = []\n",
        "f = lambda x:x*x\n",
        "for i in list:\n",
        "  output.append(f(i))\n",
        "output"
      ],
      "metadata": {
        "colab": {
          "base_uri": "https://localhost:8080/"
        },
        "id": "s54WxA0osYQJ",
        "outputId": "0cf85641-44f2-4f5c-b23b-fbb36db29e4c"
      },
      "execution_count": null,
      "outputs": [
        {
          "output_type": "execute_result",
          "data": {
            "text/plain": [
              "[1, 4, 9, 16, 25]"
            ]
          },
          "metadata": {},
          "execution_count": 28
        }
      ]
    },
    {
      "cell_type": "code",
      "source": [],
      "metadata": {
        "id": "XDc4fsigsYxA"
      },
      "execution_count": null,
      "outputs": []
    },
    {
      "cell_type": "code",
      "source": [],
      "metadata": {
        "id": "1bKrFIhIytcW"
      },
      "execution_count": null,
      "outputs": []
    },
    {
      "cell_type": "code",
      "source": [],
      "metadata": {
        "id": "SaZ6JmtJyukB"
      },
      "execution_count": null,
      "outputs": []
    },
    {
      "cell_type": "code",
      "source": [],
      "metadata": {
        "id": "UzgOUWVNyuWc"
      },
      "execution_count": null,
      "outputs": []
    },
    {
      "cell_type": "code",
      "source": [],
      "metadata": {
        "id": "pWC7Pgk6ytRM"
      },
      "execution_count": null,
      "outputs": []
    },
    {
      "cell_type": "code",
      "source": [],
      "metadata": {
        "id": "pOhPWgT7ytGQ"
      },
      "execution_count": null,
      "outputs": []
    },
    {
      "cell_type": "code",
      "source": [],
      "metadata": {
        "id": "QKufchukys43"
      },
      "execution_count": null,
      "outputs": []
    },
    {
      "cell_type": "code",
      "source": [
        "list1= [1, 2, 3]\n",
        "list2= ['a', 'b', 'c']\n",
        "print(list(zip(list1, list2)))"
      ],
      "metadata": {
        "colab": {
          "base_uri": "https://localhost:8080/"
        },
        "id": "K7vXiXOVsQkR",
        "outputId": "9684a435-4bf0-44cd-9ec9-1d72b128c9aa"
      },
      "execution_count": null,
      "outputs": [
        {
          "output_type": "stream",
          "name": "stdout",
          "text": [
            "[(1, 'a'), (2, 'b'), (3, 'c')]\n"
          ]
        }
      ]
    },
    {
      "cell_type": "code",
      "source": [
        "list1= [1, 2, 3]\n",
        "list2= ['a', 'b', 'c']\n",
        "print(dict(zip(list1, list2)))"
      ],
      "metadata": {
        "colab": {
          "base_uri": "https://localhost:8080/"
        },
        "id": "NuN6q2kvR15n",
        "outputId": "09894690-eda0-46df-f23a-f7f6bb8d8664"
      },
      "execution_count": null,
      "outputs": [
        {
          "output_type": "stream",
          "name": "stdout",
          "text": [
            "{1: 'a', 2: 'b', 3: 'c'}\n"
          ]
        }
      ]
    },
    {
      "cell_type": "code",
      "source": [
        "list1= [1, 2, 3]\n",
        "list2= ['a', 'b', 'c']\n",
        "print(set(zip(list1, list2)))"
      ],
      "metadata": {
        "colab": {
          "base_uri": "https://localhost:8080/"
        },
        "id": "W0Nay9Y5R1oL",
        "outputId": "797d1eff-6a7c-4612-be40-318a4b24c26e"
      },
      "execution_count": null,
      "outputs": [
        {
          "output_type": "stream",
          "name": "stdout",
          "text": [
            "{(3, 'c'), (1, 'a'), (2, 'b')}\n"
          ]
        }
      ]
    },
    {
      "cell_type": "code",
      "source": [
        "list1= [1, 2, 3]\n",
        "list2= ['a', 'b', 'c']\n",
        "print(tuple(zip(list1, list2)))"
      ],
      "metadata": {
        "colab": {
          "base_uri": "https://localhost:8080/"
        },
        "id": "pXLcCOTzR1Pc",
        "outputId": "361357e8-c899-4e07-91f6-d10fa53f8e21"
      },
      "execution_count": null,
      "outputs": [
        {
          "output_type": "stream",
          "name": "stdout",
          "text": [
            "((1, 'a'), (2, 'b'), (3, 'c'))\n"
          ]
        }
      ]
    },
    {
      "cell_type": "code",
      "source": [
        "list(map(list, zip(list1, list2)))"
      ],
      "metadata": {
        "colab": {
          "base_uri": "https://localhost:8080/"
        },
        "id": "QGY7APrqTYYM",
        "outputId": "4e72b2c3-a01c-4402-eda5-e0f97df25ade"
      },
      "execution_count": null,
      "outputs": [
        {
          "output_type": "execute_result",
          "data": {
            "text/plain": [
              "[[1, 'a'], [2, 'b'], [3, 'c']]"
            ]
          },
          "metadata": {},
          "execution_count": 5
        }
      ]
    },
    {
      "cell_type": "code",
      "source": [
        "list1= [1, 2, 3, 4, 5]\n",
        "list2= ['a', 'b', 'c']\n",
        "print(list(zip(list1, list2)))"
      ],
      "metadata": {
        "colab": {
          "base_uri": "https://localhost:8080/"
        },
        "id": "GofmGha0TwUC",
        "outputId": "97cc1db1-42ce-4381-a1f1-e562a1def437"
      },
      "execution_count": null,
      "outputs": [
        {
          "output_type": "stream",
          "name": "stdout",
          "text": [
            "[(1, 'a'), (2, 'b'), (3, 'c')]\n"
          ]
        }
      ]
    },
    {
      "cell_type": "code",
      "source": [
        "list1= [1, 2, 3, 4]\n",
        "list2= ['a', 'b', 'c', 'd', 'e']\n",
        "print(list(zip(list1, list2)))"
      ],
      "metadata": {
        "colab": {
          "base_uri": "https://localhost:8080/"
        },
        "id": "njgMYrZBTv5V",
        "outputId": "1b2662ca-15c4-460d-d62d-c14dbd06b9fe"
      },
      "execution_count": null,
      "outputs": [
        {
          "output_type": "stream",
          "name": "stdout",
          "text": [
            "[(1, 'a'), (2, 'b'), (3, 'c'), (4, 'd')]\n"
          ]
        }
      ]
    },
    {
      "cell_type": "code",
      "source": [
        "list1= [1, 2, 3, 3]\n",
        "list2= ['a', 'b', 'c', 'd', 'e']\n",
        "print(list(zip(list1, list2)))"
      ],
      "metadata": {
        "colab": {
          "base_uri": "https://localhost:8080/"
        },
        "id": "pCyq6ExvTv0i",
        "outputId": "4336268a-e988-420d-cb41-a7015e26c2e1"
      },
      "execution_count": null,
      "outputs": [
        {
          "output_type": "stream",
          "name": "stdout",
          "text": [
            "[(1, 'a'), (2, 'b'), (3, 'c'), (3, 'd')]\n"
          ]
        }
      ]
    },
    {
      "cell_type": "code",
      "source": [
        "def gen_fun(x, y):\n",
        "  def add(x, y):\n",
        "    return x+y\n",
        "  return add\n",
        "gen_fun(3, 2)"
      ],
      "metadata": {
        "colab": {
          "base_uri": "https://localhost:8080/"
        },
        "id": "qkEqpGSgzzbZ",
        "outputId": "3f1467c4-d72d-45bc-9079-41caf840cf1b"
      },
      "execution_count": null,
      "outputs": [
        {
          "output_type": "execute_result",
          "data": {
            "text/plain": [
              "<function __main__.gen_fun.<locals>.add(x, y)>"
            ]
          },
          "metadata": {},
          "execution_count": 31
        }
      ]
    },
    {
      "cell_type": "code",
      "source": [
        "def gen_exp(n):\n",
        "  def exp(x):\n",
        "    return x**n\n",
        "  return exp\n",
        "gen_exp(3)"
      ],
      "metadata": {
        "colab": {
          "base_uri": "https://localhost:8080/"
        },
        "id": "ei-D2tOT7t2C",
        "outputId": "e59d5168-f31a-47cd-b138-be485f89f7bc"
      },
      "execution_count": null,
      "outputs": [
        {
          "output_type": "execute_result",
          "data": {
            "text/plain": [
              "<function __main__.gen_exp.<locals>.exp(x)>"
            ]
          },
          "metadata": {},
          "execution_count": 32
        }
      ]
    },
    {
      "cell_type": "code",
      "source": [
        "def exp_5(x):\n",
        "  return x**5\n",
        "exp_5(2)"
      ],
      "metadata": {
        "id": "AaBUXUVv8YLo",
        "colab": {
          "base_uri": "https://localhost:8080/"
        },
        "outputId": "5765943a-45c0-4ca2-c0eb-58573bcc5a7f"
      },
      "execution_count": null,
      "outputs": [
        {
          "output_type": "execute_result",
          "data": {
            "text/plain": [
              "32"
            ]
          },
          "metadata": {},
          "execution_count": 10
        }
      ]
    },
    {
      "cell_type": "code",
      "source": [
        "def exp_6(x):\n",
        "  return x**6\n",
        "exp_6(2)"
      ],
      "metadata": {
        "colab": {
          "base_uri": "https://localhost:8080/"
        },
        "id": "Kl9A4qREURnS",
        "outputId": "39df5135-800d-4b06-a363-3cfb1347ff4d"
      },
      "execution_count": null,
      "outputs": [
        {
          "output_type": "execute_result",
          "data": {
            "text/plain": [
              "64"
            ]
          },
          "metadata": {},
          "execution_count": 11
        }
      ]
    },
    {
      "cell_type": "code",
      "source": [
        "def gen_exp(n):\n",
        "  def exp(x):\n",
        "    return x**n\n",
        "  return exp\n",
        "gen_exp(5)"
      ],
      "metadata": {
        "colab": {
          "base_uri": "https://localhost:8080/"
        },
        "id": "qRappdHXUXR2",
        "outputId": "5a4a0d51-ff4a-4e4f-d774-6d0be22dcc99"
      },
      "execution_count": null,
      "outputs": [
        {
          "output_type": "execute_result",
          "data": {
            "text/plain": [
              "<function __main__.gen_exp.<locals>.exp(x)>"
            ]
          },
          "metadata": {},
          "execution_count": 12
        }
      ]
    },
    {
      "cell_type": "code",
      "source": [
        "type(gen_exp(5))"
      ],
      "metadata": {
        "colab": {
          "base_uri": "https://localhost:8080/"
        },
        "id": "pJepda5FUn_M",
        "outputId": "953f723c-33d0-4057-cbc8-7b66cc66e4fe"
      },
      "execution_count": null,
      "outputs": [
        {
          "output_type": "execute_result",
          "data": {
            "text/plain": [
              "function"
            ]
          },
          "metadata": {},
          "execution_count": 13
        }
      ]
    },
    {
      "cell_type": "code",
      "source": [
        "def gen_exp(n):\n",
        "  def exp(x):\n",
        "    return x**n\n",
        "  return exp\n",
        "gen_exp(5)"
      ],
      "metadata": {
        "colab": {
          "base_uri": "https://localhost:8080/"
        },
        "id": "iJxVyT0wUrnI",
        "outputId": "6797693e-6f1a-4c41-c057-1457f8c229d5"
      },
      "execution_count": null,
      "outputs": [
        {
          "output_type": "execute_result",
          "data": {
            "text/plain": [
              "<function __main__.gen_exp.<locals>.exp(x)>"
            ]
          },
          "metadata": {},
          "execution_count": 14
        }
      ]
    },
    {
      "cell_type": "code",
      "source": [
        "gen_exp(5)(3) # gen_exp(n)(x)"
      ],
      "metadata": {
        "colab": {
          "base_uri": "https://localhost:8080/"
        },
        "id": "TDOzthZhU1Yd",
        "outputId": "873c701d-c53c-459b-fdf5-dc5f6415baf5"
      },
      "execution_count": null,
      "outputs": [
        {
          "output_type": "execute_result",
          "data": {
            "text/plain": [
              "243"
            ]
          },
          "metadata": {},
          "execution_count": 16
        }
      ]
    },
    {
      "cell_type": "code",
      "source": [
        "gen_exp(5)(2)"
      ],
      "metadata": {
        "colab": {
          "base_uri": "https://localhost:8080/"
        },
        "id": "ClOurABPU-qz",
        "outputId": "6b6e25f8-b32d-4f27-ba9c-8ffbf95833eb"
      },
      "execution_count": null,
      "outputs": [
        {
          "output_type": "execute_result",
          "data": {
            "text/plain": [
              "32"
            ]
          },
          "metadata": {},
          "execution_count": 18
        }
      ]
    },
    {
      "cell_type": "code",
      "source": [
        "gen_exp(4)(2)"
      ],
      "metadata": {
        "colab": {
          "base_uri": "https://localhost:8080/"
        },
        "id": "hgczdPS3VJzL",
        "outputId": "b538ca69-6eb4-4047-de47-1fe47dded177"
      },
      "execution_count": null,
      "outputs": [
        {
          "output_type": "execute_result",
          "data": {
            "text/plain": [
              "16"
            ]
          },
          "metadata": {},
          "execution_count": 19
        }
      ]
    },
    {
      "cell_type": "code",
      "source": [
        "gen_exp(4)(4)"
      ],
      "metadata": {
        "colab": {
          "base_uri": "https://localhost:8080/"
        },
        "id": "dc17G0ojVQuA",
        "outputId": "084514d7-c074-4f52-a56b-0b69f5ad1a4b"
      },
      "execution_count": null,
      "outputs": [
        {
          "output_type": "execute_result",
          "data": {
            "text/plain": [
              "256"
            ]
          },
          "metadata": {},
          "execution_count": 20
        }
      ]
    },
    {
      "cell_type": "code",
      "source": [
        "# Add function\n",
        "def create_add(x):\n",
        "  def add_x(y):\n",
        "    return x+y\n",
        "  return add_x"
      ],
      "metadata": {
        "id": "-5uoW4d8VWUV"
      },
      "execution_count": null,
      "outputs": []
    },
    {
      "cell_type": "code",
      "source": [
        "create_add(5)(3)"
      ],
      "metadata": {
        "colab": {
          "base_uri": "https://localhost:8080/"
        },
        "id": "3yLQn7v4W7G3",
        "outputId": "6c0d841a-6d13-47c0-ea3d-d585901fea79"
      },
      "execution_count": null,
      "outputs": [
        {
          "output_type": "execute_result",
          "data": {
            "text/plain": [
              "8"
            ]
          },
          "metadata": {},
          "execution_count": 22
        }
      ]
    },
    {
      "cell_type": "code",
      "source": [
        "create_add(7)(8)"
      ],
      "metadata": {
        "colab": {
          "base_uri": "https://localhost:8080/"
        },
        "id": "lQcCiS4NXAW8",
        "outputId": "5c70c80f-2c52-4dff-e0b1-8e2710bb8792"
      },
      "execution_count": null,
      "outputs": [
        {
          "output_type": "execute_result",
          "data": {
            "text/plain": [
              "15"
            ]
          },
          "metadata": {},
          "execution_count": 23
        }
      ]
    },
    {
      "cell_type": "code",
      "source": [
        "def foo():\n",
        "  print(\"Hi how are you\")"
      ],
      "metadata": {
        "id": "Nvk84WLoXEyN"
      },
      "execution_count": null,
      "outputs": []
    },
    {
      "cell_type": "code",
      "source": [
        "foo()"
      ],
      "metadata": {
        "colab": {
          "base_uri": "https://localhost:8080/"
        },
        "id": "OS6gSe8Wc_2i",
        "outputId": "6d4d8072-1e3a-47b6-c3ec-601e4bf8c7a3"
      },
      "execution_count": null,
      "outputs": [
        {
          "output_type": "stream",
          "name": "stdout",
          "text": [
            "Hi how are you\n"
          ]
        }
      ]
    },
    {
      "cell_type": "code",
      "source": [
        "def bar():\n",
        "  print(\"Nov22 Mon is my favorite batch\")"
      ],
      "metadata": {
        "id": "3LgxZTsVdEu_"
      },
      "execution_count": null,
      "outputs": []
    },
    {
      "cell_type": "code",
      "source": [
        "bar()"
      ],
      "metadata": {
        "colab": {
          "base_uri": "https://localhost:8080/"
        },
        "id": "DIkNUtpldU9S",
        "outputId": "bfe8eb04-2e5a-4a4a-857c-5a3e11e19a8d"
      },
      "execution_count": null,
      "outputs": [
        {
          "output_type": "stream",
          "name": "stdout",
          "text": [
            "Nov22 Mon is my favorite batch\n"
          ]
        }
      ]
    },
    {
      "cell_type": "code",
      "source": [
        "def foo():\n",
        "  print(\"_\"*50)\n",
        "  print(\"Hi How Are You\")\n",
        "  print(\"_\"*50)"
      ],
      "metadata": {
        "id": "nKeAsScSdWPZ"
      },
      "execution_count": null,
      "outputs": []
    },
    {
      "cell_type": "code",
      "source": [
        "foo()"
      ],
      "metadata": {
        "colab": {
          "base_uri": "https://localhost:8080/"
        },
        "id": "5C0lOP_BdnGK",
        "outputId": "aeb78677-1ad6-4ff7-8aa9-e202451f06c4"
      },
      "execution_count": null,
      "outputs": [
        {
          "output_type": "stream",
          "name": "stdout",
          "text": [
            "__________________________________________________\n",
            "Hi How Are You\n",
            "__________________________________________________\n"
          ]
        }
      ]
    },
    {
      "cell_type": "code",
      "source": [
        "def bar():\n",
        "  print(\"*\"*50)\n",
        "  print(\"Nov22 Monday is my favorite batch\")\n",
        "  print(\"*\"*50)"
      ],
      "metadata": {
        "id": "j2Vn9HrydpMu"
      },
      "execution_count": null,
      "outputs": []
    },
    {
      "cell_type": "code",
      "source": [
        "bar()"
      ],
      "metadata": {
        "colab": {
          "base_uri": "https://localhost:8080/"
        },
        "id": "23do1Nb0d6X3",
        "outputId": "3b037b64-12c6-45ac-f2a2-fe53767a8453"
      },
      "execution_count": null,
      "outputs": [
        {
          "output_type": "stream",
          "name": "stdout",
          "text": [
            "**************************************************\n",
            "Nov22 Monday is my favorite batch\n",
            "**************************************************\n"
          ]
        }
      ]
    },
    {
      "cell_type": "code",
      "source": [
        "def add_stars(func):\n",
        "  def inner():\n",
        "    print(\"*\"*50)\n",
        "    func()\n",
        "    print(\"_\"*50)\n",
        "  return inner()"
      ],
      "metadata": {
        "id": "aEGGz0o0d8sf"
      },
      "execution_count": null,
      "outputs": []
    },
    {
      "cell_type": "code",
      "source": [
        "def bar():\n",
        "  print(\"Nov22 Monday is my favorite batch\")"
      ],
      "metadata": {
        "id": "ocd1fu_wedRs"
      },
      "execution_count": null,
      "outputs": []
    },
    {
      "cell_type": "code",
      "source": [
        "bar()"
      ],
      "metadata": {
        "colab": {
          "base_uri": "https://localhost:8080/"
        },
        "id": "f7lNtgE0emuP",
        "outputId": "bd46f832-b803-4afb-e499-96cf02d39542"
      },
      "execution_count": null,
      "outputs": [
        {
          "output_type": "stream",
          "name": "stdout",
          "text": [
            "Nov22 Monday is my favorite batch\n"
          ]
        }
      ]
    },
    {
      "cell_type": "code",
      "source": [
        "@add_stars\n",
        "def bar():\n",
        "  print(\"Nov22 Monday is my favorite batch\")"
      ],
      "metadata": {
        "colab": {
          "base_uri": "https://localhost:8080/"
        },
        "id": "bBaj1kO8e__M",
        "outputId": "a8f6be54-8bae-4723-908e-d9003659f4f5"
      },
      "execution_count": null,
      "outputs": [
        {
          "output_type": "stream",
          "name": "stdout",
          "text": [
            "**************************************************\n",
            "Nov22 Monday is my favorite batch\n",
            "__________________________________________________\n"
          ]
        }
      ]
    },
    {
      "cell_type": "code",
      "source": [
        "def zipzap():\n",
        "  print(\"I do zip zap\")\n",
        "zipzap()"
      ],
      "metadata": {
        "colab": {
          "base_uri": "https://localhost:8080/"
        },
        "id": "6z2sRosnfJyh",
        "outputId": "6867cec5-b1cb-4aab-d9fb-5cddf313c5b2"
      },
      "execution_count": null,
      "outputs": [
        {
          "output_type": "stream",
          "name": "stdout",
          "text": [
            "I do zip zap\n"
          ]
        }
      ]
    },
    {
      "cell_type": "code",
      "source": [
        "new_zipzap = add_stars(zipzap)"
      ],
      "metadata": {
        "colab": {
          "base_uri": "https://localhost:8080/"
        },
        "id": "nZO_F3TSf3Kt",
        "outputId": "b0428e0a-8f35-42be-fc0c-bb4a793ee3da"
      },
      "execution_count": null,
      "outputs": [
        {
          "output_type": "stream",
          "name": "stdout",
          "text": [
            "**************************************************\n",
            "I do zip zap\n",
            "__________________________________________________\n"
          ]
        }
      ]
    },
    {
      "cell_type": "code",
      "source": [
        "@add_stars\n",
        "def print_hw():\n",
        "  print(\"Hello World\")\n",
        "print_hw"
      ],
      "metadata": {
        "colab": {
          "base_uri": "https://localhost:8080/"
        },
        "id": "R-EW04nohKWg",
        "outputId": "10befb55-52d2-4c52-bff3-088c98c5c7da"
      },
      "execution_count": null,
      "outputs": [
        {
          "output_type": "stream",
          "name": "stdout",
          "text": [
            "**************************************************\n",
            "Hello World\n",
            "__________________________________________________\n"
          ]
        }
      ]
    },
    {
      "cell_type": "code",
      "source": [
        "odd=lambda x: bool(x%2)\n",
        "result=[n for n in range(10)]\n",
        "\n",
        "for i in result:\n",
        "    if odd(i):\n",
        "        continue       \n",
        "    else:\n",
        "        print(i, end=\" \")"
      ],
      "metadata": {
        "id": "pF8kwapmhn_h",
        "colab": {
          "base_uri": "https://localhost:8080/"
        },
        "outputId": "c9fbf57a-a472-43e6-fac2-f35c854016d3"
      },
      "execution_count": null,
      "outputs": [
        {
          "output_type": "stream",
          "name": "stdout",
          "text": [
            "0 2 4 6 8 "
          ]
        }
      ]
    },
    {
      "cell_type": "code",
      "source": [
        "def func2(c, d):\n",
        "    return c, d\n",
        "\n",
        "def func1(a, b):\n",
        "    c = a**1\n",
        "    d = b**2\n",
        "    return lambda: func2(c,d)\n",
        "\n",
        "result = func1(1, 2)\n",
        "\n",
        "print(result())"
      ],
      "metadata": {
        "colab": {
          "base_uri": "https://localhost:8080/"
        },
        "id": "THYqfUu3_FR2",
        "outputId": "44d9d2b9-60bf-4c90-dca4-86d1f042ecde"
      },
      "execution_count": null,
      "outputs": [
        {
          "output_type": "stream",
          "name": "stdout",
          "text": [
            "(1, 4)\n"
          ]
        }
      ]
    },
    {
      "cell_type": "code",
      "source": [
        "def LengthSequence(string, length):\n",
        "    '''string => a string\n",
        "       length => an integer representing required length of words which are be returned'''\n",
        "    words = string.split()\n",
        "    length_words = []\n",
        "    result= []\n",
        "    for i in words:\n",
        "        length_words.append(len(i))\n",
        "    for i in range(len(length_words)):\n",
        "        if length_words[i]==length:\n",
        "            result.append(words[i])    \n",
        "\n",
        "    return result"
      ],
      "metadata": {
        "id": "z-mQgEF__l2w"
      },
      "execution_count": null,
      "outputs": []
    },
    {
      "cell_type": "code",
      "source": [
        "LengthSequence(\"The world has changed and none of us can go back all we can do is our best and sometimes the best that we can do is to start over\", 5)"
      ],
      "metadata": {
        "colab": {
          "base_uri": "https://localhost:8080/"
        },
        "id": "UTWoFfnO_uIY",
        "outputId": "eded1f38-1f05-4888-d7c5-732c3621f9eb"
      },
      "execution_count": null,
      "outputs": [
        {
          "output_type": "execute_result",
          "data": {
            "text/plain": [
              "['world', 'start']"
            ]
          },
          "metadata": {},
          "execution_count": 4
        }
      ]
    },
    {
      "cell_type": "code",
      "source": [
        "def second_lowest(students, scores):\n",
        "    '''\n",
        "    input:\n",
        "    students -> a list of students\n",
        "    scores -> list of the scores, with each score being that of the ith student\n",
        "    output:\n",
        "    student_data -> 2d list of data, with each inner list having name of student as 1st and score of 2nd as second element respectively\n",
        "    second_low_score -> the second lowest score\n",
        "    second_names -> list of students with score same as second lowest score, in the same order as in the students list\n",
        "    ''' \n",
        "    student_data = []\n",
        "    second_low_score = 0\n",
        "    for i in range(len(students)):\n",
        "        student_data.append([students[i],scores[i]])\n",
        "        order = sorted(student_data,key=lambda x: int(x[1]))\n",
        "    for i in range(len(students)):\n",
        "        if order[i][1] != order[0][1]:\n",
        "            second_low_score=order[i][1]\n",
        "            break\n",
        "            second_names=[x[0] for x in order if x[1] == second_low_score]\n",
        "    # Your code starts here\n",
        "    return student_data, second_low_score, second_names"
      ],
      "metadata": {
        "id": "kHpaqeSa_7iO"
      },
      "execution_count": null,
      "outputs": []
    },
    {
      "cell_type": "code",
      "source": [
        "second_lowest(('S ROY', 'B BOSE', 'N KAR', 'C DUTTA', 'G GHOSH'), (1, 3, 2, 1, 1))"
      ],
      "metadata": {
        "colab": {
          "base_uri": "https://localhost:8080/",
          "height": 252
        },
        "id": "CvBbxUrqAENt",
        "outputId": "aa7e47ef-6fa3-479b-cbc0-8cf731e63447"
      },
      "execution_count": null,
      "outputs": [
        {
          "output_type": "error",
          "ename": "UnboundLocalError",
          "evalue": "ignored",
          "traceback": [
            "\u001b[0;31m---------------------------------------------------------------------------\u001b[0m",
            "\u001b[0;31mUnboundLocalError\u001b[0m                         Traceback (most recent call last)",
            "\u001b[0;32m<ipython-input-8-d798c6301b3e>\u001b[0m in \u001b[0;36m<cell line: 1>\u001b[0;34m()\u001b[0m\n\u001b[0;32m----> 1\u001b[0;31m \u001b[0msecond_lowest\u001b[0m\u001b[0;34m(\u001b[0m\u001b[0;34m(\u001b[0m\u001b[0;34m'S ROY'\u001b[0m\u001b[0;34m,\u001b[0m \u001b[0;34m'B BOSE'\u001b[0m\u001b[0;34m,\u001b[0m \u001b[0;34m'N KAR'\u001b[0m\u001b[0;34m,\u001b[0m \u001b[0;34m'C DUTTA'\u001b[0m\u001b[0;34m,\u001b[0m \u001b[0;34m'G GHOSH'\u001b[0m\u001b[0;34m)\u001b[0m\u001b[0;34m,\u001b[0m \u001b[0;34m(\u001b[0m\u001b[0;36m1\u001b[0m\u001b[0;34m,\u001b[0m \u001b[0;36m3\u001b[0m\u001b[0;34m,\u001b[0m \u001b[0;36m2\u001b[0m\u001b[0;34m,\u001b[0m \u001b[0;36m1\u001b[0m\u001b[0;34m,\u001b[0m \u001b[0;36m1\u001b[0m\u001b[0;34m)\u001b[0m\u001b[0;34m)\u001b[0m\u001b[0;34m\u001b[0m\u001b[0;34m\u001b[0m\u001b[0m\n\u001b[0m",
            "\u001b[0;32m<ipython-input-5-4cdf4bdb7f8b>\u001b[0m in \u001b[0;36msecond_lowest\u001b[0;34m(students, scores)\u001b[0m\n\u001b[1;32m     20\u001b[0m             \u001b[0msecond_names\u001b[0m\u001b[0;34m=\u001b[0m\u001b[0;34m[\u001b[0m\u001b[0mx\u001b[0m\u001b[0;34m[\u001b[0m\u001b[0;36m0\u001b[0m\u001b[0;34m]\u001b[0m \u001b[0;32mfor\u001b[0m \u001b[0mx\u001b[0m \u001b[0;32min\u001b[0m \u001b[0morder\u001b[0m \u001b[0;32mif\u001b[0m \u001b[0mx\u001b[0m\u001b[0;34m[\u001b[0m\u001b[0;36m1\u001b[0m\u001b[0;34m]\u001b[0m \u001b[0;34m==\u001b[0m \u001b[0msecond_low_score\u001b[0m\u001b[0;34m]\u001b[0m\u001b[0;34m\u001b[0m\u001b[0;34m\u001b[0m\u001b[0m\n\u001b[1;32m     21\u001b[0m     \u001b[0;31m# Your code starts here\u001b[0m\u001b[0;34m\u001b[0m\u001b[0;34m\u001b[0m\u001b[0m\n\u001b[0;32m---> 22\u001b[0;31m     \u001b[0;32mreturn\u001b[0m \u001b[0mstudent_data\u001b[0m\u001b[0;34m,\u001b[0m \u001b[0msecond_low_score\u001b[0m\u001b[0;34m,\u001b[0m \u001b[0msecond_names\u001b[0m\u001b[0;34m\u001b[0m\u001b[0;34m\u001b[0m\u001b[0m\n\u001b[0m",
            "\u001b[0;31mUnboundLocalError\u001b[0m: local variable 'second_names' referenced before assignment"
          ]
        }
      ]
    },
    {
      "cell_type": "code",
      "source": [
        "def sort_strings(str_list):\n",
        "  res = []\n",
        "  for i in range(len(str_list)):\n",
        "    sorted_list = sorted(str_list[i], key= lambda x: x.count('a'), reverse=True)\n",
        "    res.append(sorted_list)\n",
        "  return res\n",
        "  #str_list-> nested list of strings\n",
        "\t# return the sorted list of strings on the basis of number of times ‘a’ occurs\n",
        "\t# code starts here"
      ],
      "metadata": {
        "id": "FJhGnjGcAcXg"
      },
      "execution_count": null,
      "outputs": []
    },
    {
      "cell_type": "code",
      "source": [
        "sort_strings(\"(\"mango banana guava\", \"rose sandalwood\", \"bccc aaa baac c\")\")"
      ],
      "metadata": {
        "colab": {
          "base_uri": "https://localhost:8080/",
          "height": 130
        },
        "id": "ZjosjvuTBaWI",
        "outputId": "fda0c2b5-f79c-4336-f9e7-a215fe2f9d72"
      },
      "execution_count": null,
      "outputs": [
        {
          "output_type": "error",
          "ename": "SyntaxError",
          "evalue": "ignored",
          "traceback": [
            "\u001b[0;36m  File \u001b[0;32m\"<ipython-input-21-189b5a051f59>\"\u001b[0;36m, line \u001b[0;32m1\u001b[0m\n\u001b[0;31m    sort_strings(\"(\"mango banana guava\", \"rose sandalwood\", \"bccc aaa baac c\")\")\u001b[0m\n\u001b[0m                    ^\u001b[0m\n\u001b[0;31mSyntaxError\u001b[0m\u001b[0;31m:\u001b[0m invalid syntax\n"
          ]
        }
      ]
    },
    {
      "cell_type": "code",
      "source": [
        "def sort_strings(str_list):\n",
        "  str_list.sort()\n",
        "  res = sorted(str_list, key = len)\n",
        "  return res\n",
        "  #str_list-> list of strings\n",
        "\t# return the sorted list of strings on the basis of criteria mentioned\n",
        "\t# code starts here"
      ],
      "metadata": {
        "id": "YTyV0gdzCfKn"
      },
      "execution_count": null,
      "outputs": []
    },
    {
      "cell_type": "code",
      "source": [
        "sort_strings(\"cccc\", \"b\", \"dd\", \"aaa\")"
      ],
      "metadata": {
        "colab": {
          "base_uri": "https://localhost:8080/",
          "height": 165
        },
        "id": "meL-9iv4DIMo",
        "outputId": "ab89b2bc-9ce1-4274-a443-007741ae0a88"
      },
      "execution_count": null,
      "outputs": [
        {
          "output_type": "error",
          "ename": "TypeError",
          "evalue": "ignored",
          "traceback": [
            "\u001b[0;31m---------------------------------------------------------------------------\u001b[0m",
            "\u001b[0;31mTypeError\u001b[0m                                 Traceback (most recent call last)",
            "\u001b[0;32m<ipython-input-28-d0996b5342cf>\u001b[0m in \u001b[0;36m<cell line: 1>\u001b[0;34m()\u001b[0m\n\u001b[0;32m----> 1\u001b[0;31m \u001b[0msort_strings\u001b[0m\u001b[0;34m(\u001b[0m\u001b[0;34m\"cccc\"\u001b[0m\u001b[0;34m,\u001b[0m \u001b[0;34m\"b\"\u001b[0m\u001b[0;34m,\u001b[0m \u001b[0;34m\"dd\"\u001b[0m\u001b[0;34m,\u001b[0m \u001b[0;34m\"aaa\"\u001b[0m\u001b[0;34m)\u001b[0m\u001b[0;34m\u001b[0m\u001b[0;34m\u001b[0m\u001b[0m\n\u001b[0m",
            "\u001b[0;31mTypeError\u001b[0m: sort_strings() takes 1 positional argument but 4 were given"
          ]
        }
      ]
    },
    {
      "cell_type": "code",
      "source": [
        "# Day 41\n",
        "with open(\"essay.txt\",\"r\") as f:\n",
        "    count = 0\n",
        "    data = f.read()  #A\n",
        "    words =f.split() #B\n",
        "    for word in words:\n",
        "        count += 1\n",
        "    print(count)"
      ],
      "metadata": {
        "colab": {
          "base_uri": "https://localhost:8080/",
          "height": 235
        },
        "id": "VMyJI2NUDddM",
        "outputId": "0b1d607b-4e6b-4cf6-de8a-277c0629cd31"
      },
      "execution_count": null,
      "outputs": [
        {
          "output_type": "error",
          "ename": "FileNotFoundError",
          "evalue": "ignored",
          "traceback": [
            "\u001b[0;31m---------------------------------------------------------------------------\u001b[0m",
            "\u001b[0;31mFileNotFoundError\u001b[0m                         Traceback (most recent call last)",
            "\u001b[0;32m<ipython-input-29-395318907e3c>\u001b[0m in \u001b[0;36m<cell line: 2>\u001b[0;34m()\u001b[0m\n\u001b[1;32m      1\u001b[0m \u001b[0;31m# Day 41\u001b[0m\u001b[0;34m\u001b[0m\u001b[0;34m\u001b[0m\u001b[0m\n\u001b[0;32m----> 2\u001b[0;31m \u001b[0;32mwith\u001b[0m \u001b[0mopen\u001b[0m\u001b[0;34m(\u001b[0m\u001b[0;34m\"essay.txt\"\u001b[0m\u001b[0;34m,\u001b[0m\u001b[0;34m\"r\"\u001b[0m\u001b[0;34m)\u001b[0m \u001b[0;32mas\u001b[0m \u001b[0mf\u001b[0m\u001b[0;34m:\u001b[0m\u001b[0;34m\u001b[0m\u001b[0;34m\u001b[0m\u001b[0m\n\u001b[0m\u001b[1;32m      3\u001b[0m     \u001b[0mcount\u001b[0m \u001b[0;34m=\u001b[0m \u001b[0;36m0\u001b[0m\u001b[0;34m\u001b[0m\u001b[0;34m\u001b[0m\u001b[0m\n\u001b[1;32m      4\u001b[0m     \u001b[0mdata\u001b[0m \u001b[0;34m=\u001b[0m \u001b[0mf\u001b[0m\u001b[0;34m.\u001b[0m\u001b[0mread\u001b[0m\u001b[0;34m(\u001b[0m\u001b[0;34m)\u001b[0m  \u001b[0;31m#A\u001b[0m\u001b[0;34m\u001b[0m\u001b[0;34m\u001b[0m\u001b[0m\n\u001b[1;32m      5\u001b[0m     \u001b[0mwords\u001b[0m \u001b[0;34m=\u001b[0m\u001b[0mf\u001b[0m\u001b[0;34m.\u001b[0m\u001b[0msplit\u001b[0m\u001b[0;34m(\u001b[0m\u001b[0;34m)\u001b[0m \u001b[0;31m#B\u001b[0m\u001b[0;34m\u001b[0m\u001b[0;34m\u001b[0m\u001b[0m\n",
            "\u001b[0;31mFileNotFoundError\u001b[0m: [Errno 2] No such file or directory: 'essay.txt'"
          ]
        }
      ]
    },
    {
      "cell_type": "code",
      "source": [],
      "metadata": {
        "id": "lbkxOdXqFZHi"
      },
      "execution_count": null,
      "outputs": []
    },
    {
      "cell_type": "code",
      "source": [
        "f = None \n",
        "for i in range (5): \n",
        "    with open(\"data.txt\", \"w\") as f: \n",
        "        if i > 2: \n",
        "            break \n",
        "print(f.closed)"
      ],
      "metadata": {
        "colab": {
          "base_uri": "https://localhost:8080/"
        },
        "id": "KNrYIVjoKOYl",
        "outputId": "5b49bd8b-4f45-493e-cf11-bfc1226121f0"
      },
      "execution_count": null,
      "outputs": [
        {
          "output_type": "stream",
          "name": "stdout",
          "text": [
            "True\n"
          ]
        }
      ]
    },
    {
      "cell_type": "code",
      "source": [
        "#Day 40\n",
        "import functools\n",
        "lists = [1,2,3,4]\n",
        "print(functools.reduce(lambda x,y : x if x > y else y ,lists))"
      ],
      "metadata": {
        "colab": {
          "base_uri": "https://localhost:8080/"
        },
        "id": "beSvgIIBKPR6",
        "outputId": "9f0e4532-3a02-4dc3-edc2-1cc9c2624a15"
      },
      "execution_count": null,
      "outputs": [
        {
          "output_type": "stream",
          "name": "stdout",
          "text": [
            "4\n"
          ]
        }
      ]
    },
    {
      "cell_type": "code",
      "source": [
        "arr = [\"php\", \"w3r\", \"python\", \"aaa\", \"java\"]\n",
        "result  = list( filter( lambda x: (x ==\"\".join( reversed(x))), arr))\n",
        "print(result)"
      ],
      "metadata": {
        "colab": {
          "base_uri": "https://localhost:8080/"
        },
        "id": "YWsh5yNBNCwz",
        "outputId": "50f1cb83-b7ef-4e0a-8691-6bce72984549"
      },
      "execution_count": null,
      "outputs": [
        {
          "output_type": "stream",
          "name": "stdout",
          "text": [
            "['php', 'aaa']\n"
          ]
        }
      ]
    },
    {
      "cell_type": "code",
      "source": [
        "arr = [\"php\", \"w3r\", \"python\", \"aaa\", \"java\"]\n",
        "result  = list(filter(lambda x: x in arr, str))\n",
        "print(result)"
      ],
      "metadata": {
        "colab": {
          "base_uri": "https://localhost:8080/",
          "height": 200
        },
        "id": "6VLMoDelNaBJ",
        "outputId": "5689764c-29d1-40f6-895d-ba63772d2252"
      },
      "execution_count": null,
      "outputs": [
        {
          "output_type": "error",
          "ename": "TypeError",
          "evalue": "ignored",
          "traceback": [
            "\u001b[0;31m---------------------------------------------------------------------------\u001b[0m",
            "\u001b[0;31mTypeError\u001b[0m                                 Traceback (most recent call last)",
            "\u001b[0;32m<ipython-input-36-d02193469266>\u001b[0m in \u001b[0;36m<cell line: 2>\u001b[0;34m()\u001b[0m\n\u001b[1;32m      1\u001b[0m \u001b[0marr\u001b[0m \u001b[0;34m=\u001b[0m \u001b[0;34m[\u001b[0m\u001b[0;34m\"php\"\u001b[0m\u001b[0;34m,\u001b[0m \u001b[0;34m\"w3r\"\u001b[0m\u001b[0;34m,\u001b[0m \u001b[0;34m\"python\"\u001b[0m\u001b[0;34m,\u001b[0m \u001b[0;34m\"aaa\"\u001b[0m\u001b[0;34m,\u001b[0m \u001b[0;34m\"java\"\u001b[0m\u001b[0;34m]\u001b[0m\u001b[0;34m\u001b[0m\u001b[0;34m\u001b[0m\u001b[0m\n\u001b[0;32m----> 2\u001b[0;31m \u001b[0mresult\u001b[0m  \u001b[0;34m=\u001b[0m \u001b[0mlist\u001b[0m\u001b[0;34m(\u001b[0m\u001b[0mfilter\u001b[0m\u001b[0;34m(\u001b[0m\u001b[0;32mlambda\u001b[0m \u001b[0mx\u001b[0m\u001b[0;34m:\u001b[0m \u001b[0mx\u001b[0m \u001b[0;32min\u001b[0m \u001b[0marr\u001b[0m\u001b[0;34m,\u001b[0m \u001b[0mstr\u001b[0m\u001b[0;34m)\u001b[0m\u001b[0;34m)\u001b[0m\u001b[0;34m\u001b[0m\u001b[0;34m\u001b[0m\u001b[0m\n\u001b[0m\u001b[1;32m      3\u001b[0m \u001b[0mprint\u001b[0m\u001b[0;34m(\u001b[0m\u001b[0mresult\u001b[0m\u001b[0;34m)\u001b[0m\u001b[0;34m\u001b[0m\u001b[0;34m\u001b[0m\u001b[0m\n",
            "\u001b[0;31mTypeError\u001b[0m: 'type' object is not iterable"
          ]
        }
      ]
    },
    {
      "cell_type": "code",
      "source": [
        "column_names = ['name', 'salary', 'job']\n",
        "db_rows = [('Alice', 180000, 'data scientist'),\n",
        "           ('Bob', 99000, 'data engineer'),\n",
        "           ('Frank', 87000, 'data analyst')]\n",
        "\n",
        "db = [dict(zip(column_names, db_rows)) for row in db_rows]\n",
        "print(db)"
      ],
      "metadata": {
        "colab": {
          "base_uri": "https://localhost:8080/"
        },
        "id": "h-opuvJ4Nmpe",
        "outputId": "bddb07ed-4a01-422b-f811-4cb489b204b3"
      },
      "execution_count": null,
      "outputs": [
        {
          "output_type": "stream",
          "name": "stdout",
          "text": [
            "[{'name': ('Alice', 180000, 'data scientist'), 'salary': ('Bob', 99000, 'data engineer'), 'job': ('Frank', 87000, 'data analyst')}, {'name': ('Alice', 180000, 'data scientist'), 'salary': ('Bob', 99000, 'data engineer'), 'job': ('Frank', 87000, 'data analyst')}, {'name': ('Alice', 180000, 'data scientist'), 'salary': ('Bob', 99000, 'data engineer'), 'job': ('Frank', 87000, 'data analyst')}]\n"
          ]
        }
      ]
    },
    {
      "cell_type": "code",
      "source": [
        "column_names = ['name', 'salary', 'job']\n",
        "db_rows = [('Alice', 180000, 'data scientist'),\n",
        "           ('Bob', 99000, 'data engineer'),\n",
        "           ('Frank', 87000, 'data analyst')]\n",
        "\n",
        "db = [dict(zip(db_rows, column_names)) for row in db_rows]\n",
        "print(db)"
      ],
      "metadata": {
        "colab": {
          "base_uri": "https://localhost:8080/"
        },
        "id": "WJbJbRdkOtt6",
        "outputId": "818d22a1-cf21-4ae1-eec1-9d7c6d5a111e"
      },
      "execution_count": null,
      "outputs": [
        {
          "output_type": "stream",
          "name": "stdout",
          "text": [
            "[{('Alice', 180000, 'data scientist'): 'name', ('Bob', 99000, 'data engineer'): 'salary', ('Frank', 87000, 'data analyst'): 'job'}, {('Alice', 180000, 'data scientist'): 'name', ('Bob', 99000, 'data engineer'): 'salary', ('Frank', 87000, 'data analyst'): 'job'}, {('Alice', 180000, 'data scientist'): 'name', ('Bob', 99000, 'data engineer'): 'salary', ('Frank', 87000, 'data analyst'): 'job'}]\n"
          ]
        }
      ]
    },
    {
      "cell_type": "code",
      "source": [
        "column_names = ['name', 'salary', 'job']\n",
        "db_rows = [('Alice', 180000, 'data scientist'),\n",
        "           ('Bob', 99000, 'data engineer'),\n",
        "           ('Frank', 87000, 'data analyst')]\n",
        "\n",
        "db = [dict(zip(row, column_names)) for row in db_rows]\n",
        "print(db)"
      ],
      "metadata": {
        "colab": {
          "base_uri": "https://localhost:8080/"
        },
        "id": "_KJ1909dPAhW",
        "outputId": "ddb138f6-c6a0-40cb-d615-4cc751111827"
      },
      "execution_count": null,
      "outputs": [
        {
          "output_type": "stream",
          "name": "stdout",
          "text": [
            "[{'Alice': 'name', 180000: 'salary', 'data scientist': 'job'}, {'Bob': 'name', 99000: 'salary', 'data engineer': 'job'}, {'Frank': 'name', 87000: 'salary', 'data analyst': 'job'}]\n"
          ]
        }
      ]
    },
    {
      "cell_type": "code",
      "source": [
        "column_names = ['name', 'salary', 'job']\n",
        "db_rows = [('Alice', 180000, 'data scientist'),\n",
        "           ('Bob', 99000, 'data engineer'),\n",
        "           ('Frank', 87000, 'data analyst')]\n",
        "\n",
        "db = [dict(zip(column_names, row)) for row in db_rows]\n",
        "print(db)"
      ],
      "metadata": {
        "colab": {
          "base_uri": "https://localhost:8080/"
        },
        "id": "mv4WkvQRPV1e",
        "outputId": "f8068c33-9866-4ba8-e3ec-30455d71bb9c"
      },
      "execution_count": null,
      "outputs": [
        {
          "output_type": "stream",
          "name": "stdout",
          "text": [
            "[{'name': 'Alice', 'salary': 180000, 'job': 'data scientist'}, {'name': 'Bob', 'salary': 99000, 'job': 'data engineer'}, {'name': 'Frank', 'salary': 87000, 'job': 'data analyst'}]\n"
          ]
        }
      ]
    },
    {
      "cell_type": "code",
      "source": [
        "sentence = \"abc cde def\"\n",
        "result = list(map(lambda x: list(x), sentence.split(\" \")))\n",
        "print(result)"
      ],
      "metadata": {
        "colab": {
          "base_uri": "https://localhost:8080/"
        },
        "id": "lo3DMsYgPewa",
        "outputId": "6cccb26a-a701-483b-93b1-cb3d09f838ca"
      },
      "execution_count": null,
      "outputs": [
        {
          "output_type": "stream",
          "name": "stdout",
          "text": [
            "[['a', 'b', 'c'], ['c', 'd', 'e'], ['d', 'e', 'f']]\n"
          ]
        }
      ]
    },
    {
      "cell_type": "code",
      "source": [
        "list1 = [[1,2,3],[4,5,6],[7,8,9]]\n",
        "list2 = [[9,8,7],[6,5,4],[3,2,1]]\n",
        "ls11,ls12,ls13=list1\n",
        "ls21,ls22,ls23=list2\n",
        "print(list(zip(ls11,ls12,ls13,ls21,ls22,ls23)))"
      ],
      "metadata": {
        "colab": {
          "base_uri": "https://localhost:8080/"
        },
        "id": "23B92IDTPsgc",
        "outputId": "aba89698-6016-49fd-dcf5-af8e15da4a06"
      },
      "execution_count": null,
      "outputs": [
        {
          "output_type": "stream",
          "name": "stdout",
          "text": [
            "[(1, 4, 7, 9, 6, 3), (2, 5, 8, 8, 5, 2), (3, 6, 9, 7, 4, 1)]\n"
          ]
        }
      ]
    },
    {
      "cell_type": "code",
      "source": [
        "array  = [1, 2, 3, 4, 5]\n",
        "def func1(x):\n",
        "    return x<0\n",
        "result=filter(func1, array)\n",
        "print(list(result))"
      ],
      "metadata": {
        "colab": {
          "base_uri": "https://localhost:8080/"
        },
        "id": "wrA8dva2QOBJ",
        "outputId": "998be79c-2869-49cc-855e-c20ec8ee239d"
      },
      "execution_count": null,
      "outputs": [
        {
          "output_type": "stream",
          "name": "stdout",
          "text": [
            "[]\n"
          ]
        }
      ]
    },
    {
      "cell_type": "code",
      "source": [
        "list(filter(lambda x:x<0, array))"
      ],
      "metadata": {
        "colab": {
          "base_uri": "https://localhost:8080/"
        },
        "id": "IWw7LJ6vTHKd",
        "outputId": "7c0356d9-e74a-4324-f76a-5970d1990ec8"
      },
      "execution_count": null,
      "outputs": [
        {
          "output_type": "execute_result",
          "data": {
            "text/plain": [
              "[]"
            ]
          },
          "metadata": {},
          "execution_count": 44
        }
      ]
    },
    {
      "cell_type": "code",
      "source": [
        "list(filter(lambda x, y: x<0,array))"
      ],
      "metadata": {
        "colab": {
          "base_uri": "https://localhost:8080/",
          "height": 165
        },
        "id": "N03a4p4KT5TO",
        "outputId": "dea142bf-0f3e-4aab-df90-ebaa5e4ee688"
      },
      "execution_count": null,
      "outputs": [
        {
          "output_type": "error",
          "ename": "TypeError",
          "evalue": "ignored",
          "traceback": [
            "\u001b[0;31m---------------------------------------------------------------------------\u001b[0m",
            "\u001b[0;31mTypeError\u001b[0m                                 Traceback (most recent call last)",
            "\u001b[0;32m<ipython-input-45-e0e9006546f6>\u001b[0m in \u001b[0;36m<cell line: 1>\u001b[0;34m()\u001b[0m\n\u001b[0;32m----> 1\u001b[0;31m \u001b[0mlist\u001b[0m\u001b[0;34m(\u001b[0m\u001b[0mfilter\u001b[0m\u001b[0;34m(\u001b[0m\u001b[0;32mlambda\u001b[0m \u001b[0mx\u001b[0m\u001b[0;34m,\u001b[0m \u001b[0my\u001b[0m\u001b[0;34m:\u001b[0m \u001b[0mx\u001b[0m\u001b[0;34m<\u001b[0m\u001b[0;36m0\u001b[0m\u001b[0;34m,\u001b[0m\u001b[0marray\u001b[0m\u001b[0;34m)\u001b[0m\u001b[0;34m)\u001b[0m\u001b[0;34m\u001b[0m\u001b[0;34m\u001b[0m\u001b[0m\n\u001b[0m",
            "\u001b[0;31mTypeError\u001b[0m: <lambda>() missing 1 required positional argument: 'y'"
          ]
        }
      ]
    },
    {
      "cell_type": "code",
      "source": [
        "list(filter(reduce x<0, array))"
      ],
      "metadata": {
        "colab": {
          "base_uri": "https://localhost:8080/",
          "height": 130
        },
        "id": "AN2rzyGcT-Tf",
        "outputId": "c9be71f8-d0fc-4953-d9b3-a2577f3c7ce7"
      },
      "execution_count": null,
      "outputs": [
        {
          "output_type": "error",
          "ename": "SyntaxError",
          "evalue": "ignored",
          "traceback": [
            "\u001b[0;36m  File \u001b[0;32m\"<ipython-input-46-71a5b1aab1ef>\"\u001b[0;36m, line \u001b[0;32m1\u001b[0m\n\u001b[0;31m    list(filter(reduce x<0, array))\u001b[0m\n\u001b[0m                       ^\u001b[0m\n\u001b[0;31mSyntaxError\u001b[0m\u001b[0;31m:\u001b[0m invalid syntax\n"
          ]
        }
      ]
    },
    {
      "cell_type": "code",
      "source": [
        "list(reduce(x: x<0, array))"
      ],
      "metadata": {
        "colab": {
          "base_uri": "https://localhost:8080/",
          "height": 130
        },
        "id": "ZHUxc0iTUBhD",
        "outputId": "3d761437-789c-4748-9a59-bd8741d4ef37"
      },
      "execution_count": null,
      "outputs": [
        {
          "output_type": "error",
          "ename": "SyntaxError",
          "evalue": "ignored",
          "traceback": [
            "\u001b[0;36m  File \u001b[0;32m\"<ipython-input-47-0034d46309bd>\"\u001b[0;36m, line \u001b[0;32m1\u001b[0m\n\u001b[0;31m    list(reduce(x: x<0, array))\u001b[0m\n\u001b[0m                 ^\u001b[0m\n\u001b[0;31mSyntaxError\u001b[0m\u001b[0;31m:\u001b[0m invalid syntax\n"
          ]
        }
      ]
    },
    {
      "cell_type": "code",
      "source": [
        "def is_valid(email):\n",
        "    email = email.split(\"@\")\n",
        "    if len(email) != 2:\n",
        "        return False\n",
        "    if len(email[0]) > 20:\n",
        "        return False\n",
        "    return True\n",
        "def check(emails):\n",
        "    '''\n",
        "    input:\n",
        "    emails -> list of emails to check\n",
        "    output:\n",
        "    verified_lex -> the verified list of emails, in lexicographical order\n",
        "    '''\n",
        "    verified_lex = []\n",
        "    for email in emails:\n",
        "        if is_valid(email):\n",
        "            verified_lex.append(email)\n",
        "    verified_lex = sorted(verified_lex)\n",
        "    return verified_lex"
      ],
      "metadata": {
        "id": "yBqY0q8-UFNi"
      },
      "execution_count": null,
      "outputs": []
    },
    {
      "cell_type": "code",
      "source": [
        "check(\"sara@scaler.com, brian-23@scaler.com, brute_54@scaler.com\")"
      ],
      "metadata": {
        "colab": {
          "base_uri": "https://localhost:8080/"
        },
        "id": "wY-ML1-6o6SA",
        "outputId": "b2e8267b-4e21-4ac5-9a1e-8558e99a206e"
      },
      "execution_count": null,
      "outputs": [
        {
          "output_type": "execute_result",
          "data": {
            "text/plain": [
              "['@', '@', '@']"
            ]
          },
          "metadata": {},
          "execution_count": 53
        }
      ]
    },
    {
      "cell_type": "code",
      "source": [
        "students = ['a', 'b', 'c', 'd']\n",
        "score = [1, 2, 3, 4]\n",
        "dict(zip(students, score))"
      ],
      "metadata": {
        "id": "bGWuVrIAqdZT",
        "colab": {
          "base_uri": "https://localhost:8080/"
        },
        "outputId": "7986df9c-58d7-40dc-82f3-1dee03b1346b"
      },
      "execution_count": 5,
      "outputs": [
        {
          "output_type": "execute_result",
          "data": {
            "text/plain": [
              "{'a': 1, 'b': 2, 'c': 3, 'd': 4}"
            ]
          },
          "metadata": {},
          "execution_count": 5
        }
      ]
    },
    {
      "cell_type": "code",
      "source": [
        "set(zip(students, score))"
      ],
      "metadata": {
        "colab": {
          "base_uri": "https://localhost:8080/"
        },
        "id": "YUnbVgSifZaw",
        "outputId": "404befd0-5634-4207-e0f8-570520a42928"
      },
      "execution_count": 6,
      "outputs": [
        {
          "output_type": "execute_result",
          "data": {
            "text/plain": [
              "{('a', 1), ('b', 2), ('c', 3), ('d', 4)}"
            ]
          },
          "metadata": {},
          "execution_count": 6
        }
      ]
    },
    {
      "cell_type": "code",
      "source": [
        "tuple(zip(students, score))"
      ],
      "metadata": {
        "colab": {
          "base_uri": "https://localhost:8080/"
        },
        "id": "OGtEhxnLi43p",
        "outputId": "7630a5f2-c327-4f63-987a-d3007c1c77b3"
      },
      "execution_count": 7,
      "outputs": [
        {
          "output_type": "execute_result",
          "data": {
            "text/plain": [
              "(('a', 1), ('b', 2), ('c', 3), ('d', 4))"
            ]
          },
          "metadata": {},
          "execution_count": 7
        }
      ]
    },
    {
      "cell_type": "code",
      "source": [
        "list(zip(students, score))"
      ],
      "metadata": {
        "colab": {
          "base_uri": "https://localhost:8080/"
        },
        "id": "4qYPUBFZi_5j",
        "outputId": "d0bb2955-a36b-465d-bd4c-be905f50f9fd"
      },
      "execution_count": 9,
      "outputs": [
        {
          "output_type": "execute_result",
          "data": {
            "text/plain": [
              "[('a', 1), ('b', 2), ('c', 3), ('d', 4)]"
            ]
          },
          "metadata": {},
          "execution_count": 9
        }
      ]
    },
    {
      "cell_type": "code",
      "source": [
        "# evaluate() printing the number of vowels if the Name is Smaller otherwise it prints the number of consonants.\"\n",
        "\n",
        "name = \"Sachini\"\n",
        "name = set(name)\n",
        "vowel_count = len(list(filter(lambda x :x in 'aeiouAEIOU',name )))\n",
        "vowel_count"
      ],
      "metadata": {
        "colab": {
          "base_uri": "https://localhost:8080/"
        },
        "id": "XZYjqElvjazc",
        "outputId": "b1ab8ebe-c386-485a-d609-da7f6608c36f"
      },
      "execution_count": 10,
      "outputs": [
        {
          "output_type": "execute_result",
          "data": {
            "text/plain": [
              "2"
            ]
          },
          "metadata": {},
          "execution_count": 10
        }
      ]
    },
    {
      "cell_type": "code",
      "source": [
        "const_count =len(name)- vowel_count\n",
        "const_count"
      ],
      "metadata": {
        "colab": {
          "base_uri": "https://localhost:8080/"
        },
        "id": "ah9NHwjqor_f",
        "outputId": "4157dd3b-216d-4221-f508-55cb10801b6a"
      },
      "execution_count": 11,
      "outputs": [
        {
          "output_type": "execute_result",
          "data": {
            "text/plain": [
              "4"
            ]
          },
          "metadata": {},
          "execution_count": 11
        }
      ]
    },
    {
      "cell_type": "code",
      "source": [
        "#[['S ROY', 1.0], ['B BOSE', 3.0], ['N KAR', 2.0], ['C DUTTA', 1.0], ['G GHOSH', 1.0]]\n",
        "def second_lowest(students, scores):\n",
        "    \n",
        "    student_data, second_low_score, second_names = None, None, None\n",
        "    \n",
        "    # Your code starts here\n",
        "    \n",
        "    \n",
        "    # Your code ends here\n",
        "    return student_data, second_low_score, second_name"
      ],
      "metadata": {
        "id": "8l9v6FXkovwp"
      },
      "execution_count": 12,
      "outputs": []
    },
    {
      "cell_type": "code",
      "source": [
        "students = [\"S ROY\" , \"B BOSE\" ,\"N KAR\" , \"C DUTTA\" ,\"G GHOSH\", \"B KAR\"]\n",
        "scores = [1 , 3 ,2, 1 , 1, 2]\n",
        "dict(zip(students,scores ))"
      ],
      "metadata": {
        "colab": {
          "base_uri": "https://localhost:8080/"
        },
        "id": "l08640mRpME6",
        "outputId": "4d4b8d57-89c7-46bd-f1f7-00af74dc08b9"
      },
      "execution_count": 13,
      "outputs": [
        {
          "output_type": "execute_result",
          "data": {
            "text/plain": [
              "{'S ROY': 1, 'B BOSE': 3, 'N KAR': 2, 'C DUTTA': 1, 'G GHOSH': 1, 'B KAR': 2}"
            ]
          },
          "metadata": {},
          "execution_count": 13
        }
      ]
    },
    {
      "cell_type": "code",
      "source": [
        "students = [\"S ROY\" , \"B BOSE\" ,\"N KAR\" , \"C DUTTA\" ,\"G GHOSH\", \"B KAR\"]\n",
        "scores = [1 , 3 ,2, 1 , 1, 2]"
      ],
      "metadata": {
        "id": "JHtZ-Swspv7B"
      },
      "execution_count": 15,
      "outputs": []
    },
    {
      "cell_type": "code",
      "source": [
        "list(zip(students,scores))"
      ],
      "metadata": {
        "colab": {
          "base_uri": "https://localhost:8080/"
        },
        "id": "5DvbyKFMrLzl",
        "outputId": "5955f328-3840-4b30-e072-101807e28f65"
      },
      "execution_count": 16,
      "outputs": [
        {
          "output_type": "execute_result",
          "data": {
            "text/plain": [
              "[('S ROY', 1),\n",
              " ('B BOSE', 3),\n",
              " ('N KAR', 2),\n",
              " ('C DUTTA', 1),\n",
              " ('G GHOSH', 1),\n",
              " ('B KAR', 2)]"
            ]
          },
          "metadata": {},
          "execution_count": 16
        }
      ]
    },
    {
      "cell_type": "code",
      "source": [
        "student_data = list(map(list,zip(students,scores))) # line 1\n",
        "student_data"
      ],
      "metadata": {
        "colab": {
          "base_uri": "https://localhost:8080/"
        },
        "id": "mgucBD-mrsxD",
        "outputId": "674eaefb-8f36-428f-dd29-e44c27aa53ba"
      },
      "execution_count": 17,
      "outputs": [
        {
          "output_type": "execute_result",
          "data": {
            "text/plain": [
              "[['S ROY', 1],\n",
              " ['B BOSE', 3],\n",
              " ['N KAR', 2],\n",
              " ['C DUTTA', 1],\n",
              " ['G GHOSH', 1],\n",
              " ['B KAR', 2]]"
            ]
          },
          "metadata": {},
          "execution_count": 17
        }
      ]
    },
    {
      "cell_type": "code",
      "source": [
        "# second step to get second lowest marks\n",
        "second_low_score = sorted(list(set(scores)))[1] # line 2\n",
        "second_low_score"
      ],
      "metadata": {
        "colab": {
          "base_uri": "https://localhost:8080/"
        },
        "id": "dZNmIv7HrwpB",
        "outputId": "e210635a-728f-4eb0-bcb9-65d39705b934"
      },
      "execution_count": 18,
      "outputs": [
        {
          "output_type": "execute_result",
          "data": {
            "text/plain": [
              "2"
            ]
          },
          "metadata": {},
          "execution_count": 18
        }
      ]
    },
    {
      "cell_type": "code",
      "source": [
        "list(filter(lambda x : x[1]==second_low_score, student_data ))"
      ],
      "metadata": {
        "colab": {
          "base_uri": "https://localhost:8080/"
        },
        "id": "C5vBGSGjr1qW",
        "outputId": "f3365d3d-9077-47f7-b2b3-61d70d58514f"
      },
      "execution_count": 19,
      "outputs": [
        {
          "output_type": "execute_result",
          "data": {
            "text/plain": [
              "[['N KAR', 2], ['B KAR', 2]]"
            ]
          },
          "metadata": {},
          "execution_count": 19
        }
      ]
    },
    {
      "cell_type": "code",
      "source": [
        "list(map(lambda x: x[0], list(filter(lambda x : x[1]==second_low_score, student_data )))) # line 3"
      ],
      "metadata": {
        "colab": {
          "base_uri": "https://localhost:8080/"
        },
        "id": "7O_0X0fCr7JJ",
        "outputId": "c482b866-2b0a-4a51-9ebc-e99fd7feff35"
      },
      "execution_count": 20,
      "outputs": [
        {
          "output_type": "execute_result",
          "data": {
            "text/plain": [
              "['N KAR', 'B KAR']"
            ]
          },
          "metadata": {},
          "execution_count": 20
        }
      ]
    },
    {
      "cell_type": "code",
      "source": [],
      "metadata": {
        "id": "CTCmEvW0sA-5"
      },
      "execution_count": null,
      "outputs": []
    }
  ]
}