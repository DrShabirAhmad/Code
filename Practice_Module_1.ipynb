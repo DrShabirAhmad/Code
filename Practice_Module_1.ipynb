{
  "nbformat": 4,
  "nbformat_minor": 0,
  "metadata": {
    "colab": {
      "provenance": [],
      "authorship_tag": "ABX9TyMzs9JdgDYifNZdRnfWj8eu",
      "include_colab_link": true
    },
    "kernelspec": {
      "name": "python3",
      "display_name": "Python 3"
    },
    "language_info": {
      "name": "python"
    }
  },
  "cells": [
    {
      "cell_type": "markdown",
      "metadata": {
        "id": "view-in-github",
        "colab_type": "text"
      },
      "source": [
        "<a href=\"https://colab.research.google.com/github/DrShabirAhmad/Code/blob/main/Practice_Module_1.ipynb\" target=\"_parent\"><img src=\"https://colab.research.google.com/assets/colab-badge.svg\" alt=\"Open In Colab\"/></a>"
      ]
    },
    {
      "cell_type": "code",
      "execution_count": null,
      "metadata": {
        "colab": {
          "base_uri": "https://localhost:8080/"
        },
        "id": "5oH8qnKm5pEw",
        "outputId": "8eeb9e6a-07ba-4737-cd25-d898d3416da6"
      },
      "outputs": [
        {
          "output_type": "stream",
          "name": "stdout",
          "text": [
            "7\n",
            "14\n",
            "21\n",
            "28\n",
            "35\n",
            "42\n",
            "49\n",
            "56\n",
            "63\n",
            "70\n"
          ]
        }
      ],
      "source": [
        "# print multiplication table of 7\n",
        "for i in range(1, 11):\n",
        "  print(7*i)"
      ]
    },
    {
      "cell_type": "code",
      "source": [
        "n=int(input())\n",
        "for i in range(1, 11):\n",
        "  print(n*i)"
      ],
      "metadata": {
        "colab": {
          "base_uri": "https://localhost:8080/"
        },
        "id": "I86WTGtM6Ror",
        "outputId": "44795521-07f6-4f14-e635-0bbd572fa242"
      },
      "execution_count": null,
      "outputs": [
        {
          "output_type": "stream",
          "name": "stdout",
          "text": [
            "4\n",
            "4\n",
            "8\n",
            "12\n",
            "16\n",
            "20\n",
            "24\n",
            "28\n",
            "32\n",
            "36\n",
            "40\n"
          ]
        }
      ]
    },
    {
      "cell_type": "code",
      "source": [
        "n=int(input())\n",
        "for i in range(1, 11):\n",
        "  print(n*i, end =\" \")"
      ],
      "metadata": {
        "colab": {
          "base_uri": "https://localhost:8080/"
        },
        "id": "k-d76DAt6d08",
        "outputId": "41900b05-1b91-4738-a945-1889b63693d4"
      },
      "execution_count": null,
      "outputs": [
        {
          "output_type": "stream",
          "name": "stdout",
          "text": [
            "5\n",
            "5 10 15 20 25 30 35 40 45 50 "
          ]
        }
      ]
    },
    {
      "cell_type": "code",
      "source": [
        "sum=0\n",
        "for i in range(1, 7):\n",
        "  sum += i\n",
        "print(sum)"
      ],
      "metadata": {
        "colab": {
          "base_uri": "https://localhost:8080/"
        },
        "id": "eXoEMS2p6oe1",
        "outputId": "92c84fdd-bd2b-4c79-9de3-62cdd63cfad5"
      },
      "execution_count": null,
      "outputs": [
        {
          "output_type": "stream",
          "name": "stdout",
          "text": [
            "21\n"
          ]
        }
      ]
    },
    {
      "cell_type": "code",
      "source": [
        "sum= 0\n",
        "for i in range(1, 7):\n",
        "  if i %2 ==0:\n",
        "    sum += i\n",
        "print(sum)"
      ],
      "metadata": {
        "colab": {
          "base_uri": "https://localhost:8080/"
        },
        "id": "QC5BRT-a8nqu",
        "outputId": "066426e5-c0b2-43d4-e239-4464d6c4f260"
      },
      "execution_count": null,
      "outputs": [
        {
          "output_type": "stream",
          "name": "stdout",
          "text": [
            "12\n"
          ]
        }
      ]
    },
    {
      "cell_type": "code",
      "source": [
        "sum= 0\n",
        "for i in range(1, 7):\n",
        "  if i %2 !=0:\n",
        "    sum += i\n",
        "print(sum)"
      ],
      "metadata": {
        "colab": {
          "base_uri": "https://localhost:8080/"
        },
        "id": "TLmiKL2b9Cxt",
        "outputId": "2839ca92-3512-45b7-e35f-2df201fa0d45"
      },
      "execution_count": null,
      "outputs": [
        {
          "output_type": "stream",
          "name": "stdout",
          "text": [
            "9\n"
          ]
        }
      ]
    },
    {
      "cell_type": "code",
      "source": [
        "for i in range(5):\n",
        "  print('#')"
      ],
      "metadata": {
        "colab": {
          "base_uri": "https://localhost:8080/"
        },
        "id": "VKEr1LPe9NCh",
        "outputId": "2222e8ff-e21a-4478-eca3-55e3de2f1f48"
      },
      "execution_count": null,
      "outputs": [
        {
          "output_type": "stream",
          "name": "stdout",
          "text": [
            "#\n",
            "#\n",
            "#\n",
            "#\n",
            "#\n"
          ]
        }
      ]
    },
    {
      "cell_type": "code",
      "source": [
        "for i in range(5):\n",
        "  print(i*'#')"
      ],
      "metadata": {
        "colab": {
          "base_uri": "https://localhost:8080/"
        },
        "id": "GWbXt3J7-H6H",
        "outputId": "bfdef3ce-c575-43c4-8c98-3e6f3ab3c081"
      },
      "execution_count": null,
      "outputs": [
        {
          "output_type": "stream",
          "name": "stdout",
          "text": [
            "\n",
            "#\n",
            "##\n",
            "###\n",
            "####\n"
          ]
        }
      ]
    },
    {
      "cell_type": "code",
      "source": [
        "n= int(input())\n",
        "for i in range(n):\n",
        "  print(i*'#')"
      ],
      "metadata": {
        "colab": {
          "base_uri": "https://localhost:8080/"
        },
        "id": "_cW_WszJ9r51",
        "outputId": "b601df67-8f10-424b-a1d0-4f14288a2b39"
      },
      "execution_count": null,
      "outputs": [
        {
          "output_type": "stream",
          "name": "stdout",
          "text": [
            "5\n",
            "\n",
            "#\n",
            "##\n",
            "###\n",
            "####\n"
          ]
        }
      ]
    },
    {
      "cell_type": "code",
      "source": [
        "n= int(input())\n",
        "for i in range(n):\n",
        "  print((n-i)*'#')"
      ],
      "metadata": {
        "colab": {
          "base_uri": "https://localhost:8080/"
        },
        "id": "CN7rfDzB-CMj",
        "outputId": "b5983c0b-409d-4926-fa38-2458617be7f9"
      },
      "execution_count": null,
      "outputs": [
        {
          "output_type": "stream",
          "name": "stdout",
          "text": [
            "5\n",
            "#####\n",
            "####\n",
            "###\n",
            "##\n",
            "#\n"
          ]
        }
      ]
    },
    {
      "cell_type": "code",
      "source": [
        "n= int(input())\n",
        "for i in range(n):\n",
        "  print((i)*' ', (n-i)*'#')"
      ],
      "metadata": {
        "colab": {
          "base_uri": "https://localhost:8080/"
        },
        "id": "Y64hUxnO-ZTX",
        "outputId": "049f58d3-42cc-4eec-c180-f19dba22cb8c"
      },
      "execution_count": null,
      "outputs": [
        {
          "output_type": "stream",
          "name": "stdout",
          "text": [
            "5\n",
            " #####\n",
            "  ####\n",
            "   ###\n",
            "    ##\n",
            "     #\n"
          ]
        }
      ]
    },
    {
      "cell_type": "code",
      "source": [
        "n= int(input())\n",
        "for i in range(n):\n",
        "  print((i)*' ', (n-i)*'#')\n",
        "\n",
        "for i in range(n):\n",
        "  print(n*' ', (n-i)*'#')"
      ],
      "metadata": {
        "colab": {
          "base_uri": "https://localhost:8080/"
        },
        "id": "aghkBA87-zYa",
        "outputId": "42f3a718-a95d-420d-b89a-8a23de90508f"
      },
      "execution_count": null,
      "outputs": [
        {
          "output_type": "stream",
          "name": "stdout",
          "text": [
            "5\n",
            " #####\n",
            "  ####\n",
            "   ###\n",
            "    ##\n",
            "     #\n",
            "      #####\n",
            "      ####\n",
            "      ###\n",
            "      ##\n",
            "      #\n"
          ]
        }
      ]
    },
    {
      "cell_type": "code",
      "source": [
        "n= int(input())\n",
        "for i in range(n+1):\n",
        "  print(i*'#')\n",
        "for i in range(n):\n",
        "  print(n*' ', (n-i)*'#')"
      ],
      "metadata": {
        "colab": {
          "base_uri": "https://localhost:8080/"
        },
        "id": "fbzmei3xR8ta",
        "outputId": "f5042b6d-5863-4cbd-8aff-216826e8b431"
      },
      "execution_count": null,
      "outputs": [
        {
          "output_type": "stream",
          "name": "stdout",
          "text": [
            "5\n",
            "\n",
            "#\n",
            "##\n",
            "###\n",
            "####\n",
            "#####\n",
            "      #####\n",
            "      ####\n",
            "      ###\n",
            "      ##\n",
            "      #\n"
          ]
        }
      ]
    },
    {
      "cell_type": "code",
      "source": [
        "n= int(input())\n",
        "for i in range(n+1):\n",
        "  print((n-i)*'#')\n",
        "for i in range(n):\n",
        "  print(n*' ', (n-i)*'#')"
      ],
      "metadata": {
        "colab": {
          "base_uri": "https://localhost:8080/"
        },
        "id": "DBT365MVSmqm",
        "outputId": "236f96f9-2e11-44f3-e5ad-282c0ffcaf14"
      },
      "execution_count": null,
      "outputs": [
        {
          "output_type": "stream",
          "name": "stdout",
          "text": [
            "5\n",
            "#####\n",
            "####\n",
            "###\n",
            "##\n",
            "#\n",
            "\n",
            "      #####\n",
            "      ####\n",
            "      ###\n",
            "      ##\n",
            "      #\n"
          ]
        }
      ]
    },
    {
      "cell_type": "code",
      "source": [
        "n= int(input())\n",
        "for i in range(n):\n",
        "  print((i)*' ', (n-i)*'#')\n",
        "\n",
        "for i in range(1, n+1):\n",
        "  print((n-1)*' ', (i)*'#')"
      ],
      "metadata": {
        "colab": {
          "base_uri": "https://localhost:8080/"
        },
        "id": "Ehl5s1YNTFQc",
        "outputId": "dd4657a9-86a7-41bf-8134-34dd8c49c2a3"
      },
      "execution_count": null,
      "outputs": [
        {
          "output_type": "stream",
          "name": "stdout",
          "text": [
            "5\n",
            " #####\n",
            "  ####\n",
            "   ###\n",
            "    ##\n",
            "     #\n",
            "     #\n",
            "     ##\n",
            "     ###\n",
            "     ####\n",
            "     #####\n"
          ]
        }
      ]
    },
    {
      "cell_type": "code",
      "source": [
        "n= int(input())\n",
        "for i in range(n):\n",
        "  print((i)*' ', 2*(n-i)*'#')"
      ],
      "metadata": {
        "colab": {
          "base_uri": "https://localhost:8080/"
        },
        "id": "oy94IbDhTatB",
        "outputId": "79c1e5fa-f091-4e42-8812-20f53efecb6a"
      },
      "execution_count": null,
      "outputs": [
        {
          "output_type": "stream",
          "name": "stdout",
          "text": [
            "5\n",
            " ##########\n",
            "  ########\n",
            "   ######\n",
            "    ####\n",
            "     ##\n"
          ]
        }
      ]
    },
    {
      "cell_type": "code",
      "source": [
        "'''Problem Description\n",
        "Print the following text in the output:\n",
        "\n",
        "Hello\n",
        "\n",
        "World !\n",
        "Note: There is a empty line you need print between Hello and World ! '''\n",
        "\n",
        "print(\"Hello\")\n",
        "print()\n",
        "print(\"World !\")"
      ],
      "metadata": {
        "id": "fRKFwIFmUPzA",
        "colab": {
          "base_uri": "https://localhost:8080/"
        },
        "outputId": "37b454fb-59d9-48ce-bac4-0d8a37862f40"
      },
      "execution_count": null,
      "outputs": [
        {
          "output_type": "stream",
          "name": "stdout",
          "text": [
            "Hello\n",
            "\n",
            "World !\n"
          ]
        }
      ]
    },
    {
      "cell_type": "code",
      "source": [
        "print(\"Hello\")\n",
        "print(\"World !\")"
      ],
      "metadata": {
        "colab": {
          "base_uri": "https://localhost:8080/"
        },
        "id": "O2DUz6TiOxCe",
        "outputId": "86bbfb96-9083-4a35-dead-5eadfda61433"
      },
      "execution_count": null,
      "outputs": [
        {
          "output_type": "stream",
          "name": "stdout",
          "text": [
            "Hello\n",
            "World !\n"
          ]
        }
      ]
    },
    {
      "cell_type": "code",
      "source": [
        "print(\"Hello 40\")\n",
        "print(\"50 World !\")"
      ],
      "metadata": {
        "colab": {
          "base_uri": "https://localhost:8080/"
        },
        "id": "TtLoY5yaO2gM",
        "outputId": "8816f06f-b34e-47b9-ccde-722c56cc9a1b"
      },
      "execution_count": null,
      "outputs": [
        {
          "output_type": "stream",
          "name": "stdout",
          "text": [
            "Hello 40\n",
            "50 World !\n"
          ]
        }
      ]
    },
    {
      "cell_type": "code",
      "source": [
        "print(\"Hello World !\")"
      ],
      "metadata": {
        "colab": {
          "base_uri": "https://localhost:8080/"
        },
        "id": "dkTBVJekPJob",
        "outputId": "90c292f0-968a-4c1d-a717-dcd2a534d0d6"
      },
      "execution_count": null,
      "outputs": [
        {
          "output_type": "stream",
          "name": "stdout",
          "text": [
            "Hello World !\n"
          ]
        }
      ]
    },
    {
      "cell_type": "code",
      "source": [
        "for i in range(10):\n",
        "  if i % 2 !=0:\n",
        "    print(i, end=\" \")"
      ],
      "metadata": {
        "colab": {
          "base_uri": "https://localhost:8080/"
        },
        "id": "sBtz9d0bnNMh",
        "outputId": "42624463-91e6-442d-bccf-a33abc17aa7b"
      },
      "execution_count": null,
      "outputs": [
        {
          "output_type": "stream",
          "name": "stdout",
          "text": [
            "1 3 5 7 9 "
          ]
        }
      ]
    },
    {
      "cell_type": "code",
      "source": [
        "a, b= 6, 3\n",
        "sum = a + b\n",
        "sub = a - b\n",
        "mul = a*b\n",
        "div= a//b\n",
        "print(sum)\n",
        "print(sub)\n",
        "print(mul)\n",
        "print(div)"
      ],
      "metadata": {
        "colab": {
          "base_uri": "https://localhost:8080/"
        },
        "id": "P3QOLTCIoJTn",
        "outputId": "cde49f80-214b-4fd8-e586-c4620b53c678"
      },
      "execution_count": null,
      "outputs": [
        {
          "output_type": "stream",
          "name": "stdout",
          "text": [
            "9\n",
            "3\n",
            "18\n",
            "2\n"
          ]
        }
      ]
    },
    {
      "cell_type": "code",
      "source": [
        "for i in range(10):\n",
        "  if i%2==0:\n",
        "    print(i, end= \" \")"
      ],
      "metadata": {
        "colab": {
          "base_uri": "https://localhost:8080/"
        },
        "id": "2nvwXa0Jpdwx",
        "outputId": "7f55d6a9-db0d-4101-809a-8fc3e7774af1"
      },
      "execution_count": null,
      "outputs": [
        {
          "output_type": "stream",
          "name": "stdout",
          "text": [
            "0 2 4 6 8 "
          ]
        }
      ]
    },
    {
      "cell_type": "code",
      "source": [
        "for i in range(10):\n",
        "  if i%2==0:\n",
        "    if i == 8:\n",
        "      print(i)\n",
        "    else:\n",
        "      print(i, end= \" \")"
      ],
      "metadata": {
        "colab": {
          "base_uri": "https://localhost:8080/"
        },
        "id": "5Biib4W7u36E",
        "outputId": "cb2c31f3-7dc9-477d-8748-fff2f7292b6f"
      },
      "execution_count": null,
      "outputs": [
        {
          "output_type": "stream",
          "name": "stdout",
          "text": [
            "0 2 4 6 8\n"
          ]
        }
      ]
    },
    {
      "cell_type": "code",
      "source": [
        "name=input()\n",
        "print(\"Hello\",\"\"+name)"
      ],
      "metadata": {
        "colab": {
          "base_uri": "https://localhost:8080/"
        },
        "id": "IFV5-n1GqN6f",
        "outputId": "ee22ead5-c2f2-414e-f9b3-b62fa5aa143a"
      },
      "execution_count": null,
      "outputs": [
        {
          "output_type": "stream",
          "name": "stdout",
          "text": [
            "shabir\n",
            "Hello shabir\n"
          ]
        }
      ]
    },
    {
      "cell_type": "code",
      "source": [
        "print(\"A\",\"B\",\"C\",\"D\",\"E\",sep=\"\\n\")"
      ],
      "metadata": {
        "colab": {
          "base_uri": "https://localhost:8080/"
        },
        "id": "gXiOU802sW4-",
        "outputId": "ab72767d-c5a0-4674-82cd-e3e926aa8896"
      },
      "execution_count": null,
      "outputs": [
        {
          "output_type": "stream",
          "name": "stdout",
          "text": [
            "A\n",
            "B\n",
            "C\n",
            "D\n",
            "E\n"
          ]
        }
      ]
    },
    {
      "cell_type": "code",
      "source": [
        "A=input()\n",
        "B=input()\n",
        "print(A+B)\n",
        "# it is concatenation of two strings"
      ],
      "metadata": {
        "colab": {
          "base_uri": "https://localhost:8080/"
        },
        "id": "Kg66fLH2sz2C",
        "outputId": "dd663062-ab9c-40ee-fc1c-3aacbe00bbe1"
      },
      "execution_count": null,
      "outputs": [
        {
          "output_type": "stream",
          "name": "stdout",
          "text": [
            "2\n",
            "6\n",
            "26\n"
          ]
        }
      ]
    },
    {
      "cell_type": "code",
      "source": [
        "A=int(input())\n",
        "B=int(input())\n",
        "print(A+B)\n",
        "# it will add two integers"
      ],
      "metadata": {
        "colab": {
          "base_uri": "https://localhost:8080/"
        },
        "id": "6h0OTqfVtJpU",
        "outputId": "d7b6f2c1-f7c0-4841-861e-a68108efeee6"
      },
      "execution_count": null,
      "outputs": [
        {
          "output_type": "stream",
          "name": "stdout",
          "text": [
            "2\n",
            "6\n",
            "8\n"
          ]
        }
      ]
    },
    {
      "cell_type": "code",
      "source": [
        "a=input()\n",
        "b=input()\n",
        "print(a +\" says Hi to \"+ b)"
      ],
      "metadata": {
        "colab": {
          "base_uri": "https://localhost:8080/"
        },
        "id": "fit6wjtutSn2",
        "outputId": "a4d33c00-d8cb-433d-acc7-22812220b673"
      },
      "execution_count": null,
      "outputs": [
        {
          "output_type": "stream",
          "name": "stdout",
          "text": [
            "Shabir\n",
            "Samia\n",
            "Shabir says Hi to Samia\n"
          ]
        }
      ]
    },
    {
      "cell_type": "code",
      "source": [
        "a=int(input())\n",
        "print(40- a)"
      ],
      "metadata": {
        "colab": {
          "base_uri": "https://localhost:8080/"
        },
        "id": "ptYzW7p2t43S",
        "outputId": "e225bde2-bad5-4547-a8a3-43d7dcb7d4c3"
      },
      "execution_count": null,
      "outputs": [
        {
          "output_type": "stream",
          "name": "stdout",
          "text": [
            "10\n",
            "30\n"
          ]
        }
      ]
    },
    {
      "cell_type": "code",
      "source": [
        "N=int(input())\n",
        "T=2*N\n",
        "print(T)"
      ],
      "metadata": {
        "colab": {
          "base_uri": "https://localhost:8080/"
        },
        "id": "GJI1UKY4uJPu",
        "outputId": "50ee1abc-b975-46da-a869-e5156d7d6826"
      },
      "execution_count": null,
      "outputs": [
        {
          "output_type": "stream",
          "name": "stdout",
          "text": [
            "7\n",
            "14\n"
          ]
        }
      ]
    },
    {
      "cell_type": "code",
      "source": [
        "T = int(input())\n",
        "j=1\n",
        "while j < T:\n",
        "  j +=1\n",
        "  A= int(input())\n",
        "  B= int(input())\n",
        "  x= min(A, B)\n",
        "  for i in range(x, 0, -1):\n",
        "    if A%i==0 and B%i==0:\n",
        "      print(i)\n",
        "      break"
      ],
      "metadata": {
        "colab": {
          "base_uri": "https://localhost:8080/"
        },
        "id": "24xrmhOpTjGi",
        "outputId": "d165479c-12b4-4141-e964-17e168aae4f1"
      },
      "execution_count": null,
      "outputs": [
        {
          "output_type": "stream",
          "name": "stdout",
          "text": [
            "3\n",
            "12\n",
            "6\n",
            "6\n",
            "8\n",
            "24\n",
            "8\n"
          ]
        }
      ]
    },
    {
      "cell_type": "code",
      "source": [
        "T = int(input())\n",
        "j=1\n",
        "while j < T:\n",
        "  j +=1\n",
        "  A= int(input())\n",
        "  B=int(input())\n",
        "  x= max(A, B)\n",
        "  y= A*B\n",
        "  for i in range(x, y+1):\n",
        "    if i%A==0 and i%B==0:\n",
        "      print(i)\n",
        "      break"
      ],
      "metadata": {
        "colab": {
          "base_uri": "https://localhost:8080/"
        },
        "id": "ltVzHssrTkuL",
        "outputId": "58161d83-5aa1-4ce2-c1dc-c95f39c5a694"
      },
      "execution_count": null,
      "outputs": [
        {
          "output_type": "stream",
          "name": "stdout",
          "text": [
            "3\n",
            "8\n",
            "20\n",
            "40\n",
            "10\n",
            "20\n",
            "20\n"
          ]
        }
      ]
    },
    {
      "cell_type": "code",
      "source": [
        "n=int(input())\n",
        "x=0\n",
        "temp = n\n",
        "while n>0:\n",
        "    y=n%10\n",
        "    x=10*x+y\n",
        "    n//=10\n",
        "if x==temp:\n",
        "    print(\"Yes\")\n",
        "else:\n",
        "    print(\"No\")"
      ],
      "metadata": {
        "colab": {
          "base_uri": "https://localhost:8080/"
        },
        "id": "0p2_PkXhY-em",
        "outputId": "c220eaa1-027a-4677-967c-f8acf5a69355"
      },
      "execution_count": null,
      "outputs": [
        {
          "output_type": "stream",
          "name": "stdout",
          "text": [
            "12321\n",
            "Yes\n"
          ]
        }
      ]
    },
    {
      "cell_type": "code",
      "source": [],
      "metadata": {
        "id": "izazVFOYZncS"
      },
      "execution_count": null,
      "outputs": []
    }
  ]
}