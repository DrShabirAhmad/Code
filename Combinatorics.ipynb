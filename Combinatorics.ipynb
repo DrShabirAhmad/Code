{
  "nbformat": 4,
  "nbformat_minor": 0,
  "metadata": {
    "colab": {
      "provenance": [],
      "include_colab_link": true
    },
    "kernelspec": {
      "name": "python3",
      "display_name": "Python 3"
    },
    "language_info": {
      "name": "python"
    }
  },
  "cells": [
    {
      "cell_type": "markdown",
      "metadata": {
        "id": "view-in-github",
        "colab_type": "text"
      },
      "source": [
        "<a href=\"https://colab.research.google.com/github/DrShabirAhmad/Code/blob/main/Combinatorics.ipynb\" target=\"_parent\"><img src=\"https://colab.research.google.com/assets/colab-badge.svg\" alt=\"Open In Colab\"/></a>"
      ]
    },
    {
      "cell_type": "code",
      "execution_count": null,
      "metadata": {
        "id": "9J2WXInILtP7"
      },
      "outputs": [],
      "source": [
        "import numpy as np\n",
        "import pandas as pd\n",
        "import seaborn as sns"
      ]
    },
    {
      "cell_type": "code",
      "source": [
        "survey1 = [35, 36, 33,32, 34, 35] # amazon sde2 salaries\n",
        "survey2 = [20, 37, 50, 90, 25, 35] # MSFT sde2 salaries"
      ],
      "metadata": {
        "id": "XA9QzIWYQ-Bu"
      },
      "execution_count": null,
      "outputs": []
    },
    {
      "cell_type": "code",
      "source": [
        "np.mean(survey1)"
      ],
      "metadata": {
        "colab": {
          "base_uri": "https://localhost:8080/"
        },
        "id": "P_MHlZBeRoYq",
        "outputId": "152eb2b2-2cb2-49a2-9491-e44f1530c603"
      },
      "execution_count": null,
      "outputs": [
        {
          "output_type": "execute_result",
          "data": {
            "text/plain": [
              "34.166666666666664"
            ]
          },
          "metadata": {},
          "execution_count": 6
        }
      ]
    },
    {
      "cell_type": "code",
      "source": [
        "np.mean(survey2)"
      ],
      "metadata": {
        "colab": {
          "base_uri": "https://localhost:8080/"
        },
        "id": "zl79RgduRr-T",
        "outputId": "187bd78e-55bd-4ec4-e42f-a2094f1de091"
      },
      "execution_count": null,
      "outputs": [
        {
          "output_type": "execute_result",
          "data": {
            "text/plain": [
              "52.833333333333336"
            ]
          },
          "metadata": {},
          "execution_count": 7
        }
      ]
    },
    {
      "cell_type": "code",
      "source": [
        "np.random.choice(survey1, size=6)"
      ],
      "metadata": {
        "colab": {
          "base_uri": "https://localhost:8080/"
        },
        "id": "uygQKmrlRt0W",
        "outputId": "8589e2e1-c71b-40e9-83e6-4203ac4b0a85"
      },
      "execution_count": null,
      "outputs": [
        {
          "output_type": "execute_result",
          "data": {
            "text/plain": [
              "array([32, 35, 35, 34, 36, 34])"
            ]
          },
          "metadata": {},
          "execution_count": 9
        }
      ]
    },
    {
      "cell_type": "code",
      "source": [
        "np.random.choice(survey1, size=6)"
      ],
      "metadata": {
        "colab": {
          "base_uri": "https://localhost:8080/"
        },
        "id": "aTu9eQB4TvMv",
        "outputId": "c09c167f-7d79-498a-a456-c52b29ebc3b5"
      },
      "execution_count": null,
      "outputs": [
        {
          "output_type": "execute_result",
          "data": {
            "text/plain": [
              "array([35, 36, 32, 36, 35, 34])"
            ]
          },
          "metadata": {},
          "execution_count": 10
        }
      ]
    },
    {
      "cell_type": "code",
      "source": [
        "np.random.choice(survey1, size=6)"
      ],
      "metadata": {
        "colab": {
          "base_uri": "https://localhost:8080/"
        },
        "id": "KR1doIOET5eB",
        "outputId": "bbe86693-ce46-48e3-d6e8-e45738e71c65"
      },
      "execution_count": null,
      "outputs": [
        {
          "output_type": "execute_result",
          "data": {
            "text/plain": [
              "array([33, 32, 33, 34, 32, 35])"
            ]
          },
          "metadata": {},
          "execution_count": 11
        }
      ]
    },
    {
      "cell_type": "code",
      "source": [
        "# Step 1\n",
        "# randomly take samples (n = 6)\n",
        "boostrapped_sample = np.random.choice(survey1, size=6)\n",
        "np.median(boostrapped_sample)"
      ],
      "metadata": {
        "colab": {
          "base_uri": "https://localhost:8080/"
        },
        "id": "hsXEuCG8UAfO",
        "outputId": "80231352-0dd1-4e83-fd24-a1eaedd44a42"
      },
      "execution_count": null,
      "outputs": [
        {
          "output_type": "execute_result",
          "data": {
            "text/plain": [
              "34.0"
            ]
          },
          "metadata": {},
          "execution_count": 12
        }
      ]
    },
    {
      "cell_type": "code",
      "source": [
        "boostrapped_sample = np.random.choice(survey1, size=6)\n",
        "np.median(boostrapped_sample)"
      ],
      "metadata": {
        "colab": {
          "base_uri": "https://localhost:8080/"
        },
        "id": "Sb8eYss9VjT7",
        "outputId": "de7fdca4-a9f8-4ea3-ba0c-3ded03271e56"
      },
      "execution_count": null,
      "outputs": [
        {
          "output_type": "execute_result",
          "data": {
            "text/plain": [
              "35.0"
            ]
          },
          "metadata": {},
          "execution_count": 13
        }
      ]
    },
    {
      "cell_type": "code",
      "source": [
        "boostrapped_sample = np.random.choice(survey1, size=6)\n",
        "np.median(boostrapped_sample)"
      ],
      "metadata": {
        "colab": {
          "base_uri": "https://localhost:8080/"
        },
        "id": "Z46VUV0AVny_",
        "outputId": "d9f673a4-1102-41c1-d183-749412e4cf39"
      },
      "execution_count": null,
      "outputs": [
        {
          "output_type": "execute_result",
          "data": {
            "text/plain": [
              "34.0"
            ]
          },
          "metadata": {},
          "execution_count": 14
        }
      ]
    },
    {
      "cell_type": "code",
      "source": [
        "sample_medians = []\n",
        "for _ in range(1000):\n",
        "    bootsrapped_samples = np.random.choice(survey1, size=6)\n",
        "    bootsrapped_samples_median = np.median(bootsrapped_samples)\n",
        "    sample_medians.append(bootsrapped_samples_median)"
      ],
      "metadata": {
        "id": "tmrFEMNuVpeh"
      },
      "execution_count": null,
      "outputs": []
    },
    {
      "cell_type": "code",
      "source": [
        "sample_medians[:15]"
      ],
      "metadata": {
        "colab": {
          "base_uri": "https://localhost:8080/"
        },
        "id": "gxkB8CMMWPqa",
        "outputId": "2d3a81d1-910b-4be3-a45b-143d9856946c"
      },
      "execution_count": null,
      "outputs": [
        {
          "output_type": "execute_result",
          "data": {
            "text/plain": [
              "[35.0,\n",
              " 34.5,\n",
              " 34.0,\n",
              " 34.5,\n",
              " 35.0,\n",
              " 33.0,\n",
              " 33.0,\n",
              " 34.5,\n",
              " 35.0,\n",
              " 36.0,\n",
              " 35.0,\n",
              " 34.0,\n",
              " 35.0,\n",
              " 34.0,\n",
              " 35.0]"
            ]
          },
          "metadata": {},
          "execution_count": 17
        }
      ]
    },
    {
      "cell_type": "code",
      "source": [
        "sample_medians = np.sort(sample_medians)"
      ],
      "metadata": {
        "id": "C5vWokrrWRin"
      },
      "execution_count": null,
      "outputs": []
    },
    {
      "cell_type": "code",
      "source": [
        "sample_medians[:15]"
      ],
      "metadata": {
        "colab": {
          "base_uri": "https://localhost:8080/"
        },
        "id": "VynCkuu0WaOh",
        "outputId": "ff1b839c-36b0-4eb8-9060-a57967c02186"
      },
      "execution_count": null,
      "outputs": [
        {
          "output_type": "execute_result",
          "data": {
            "text/plain": [
              "array([32. , 32. , 32. , 32. , 32.5, 32.5, 32.5, 32.5, 32.5, 32.5, 32.5,\n",
              "       32.5, 32.5, 32.5, 32.5])"
            ]
          },
          "metadata": {},
          "execution_count": 20
        }
      ]
    },
    {
      "cell_type": "code",
      "source": [
        "sample_medians[-15:]"
      ],
      "metadata": {
        "colab": {
          "base_uri": "https://localhost:8080/"
        },
        "id": "zt57Aar1Wdyo",
        "outputId": "a6d44bb0-4b54-4035-9061-89f1f924238e"
      },
      "execution_count": null,
      "outputs": [
        {
          "output_type": "execute_result",
          "data": {
            "text/plain": [
              "array([35.5, 35.5, 35.5, 35.5, 35.5, 35.5, 36. , 36. , 36. , 36. , 36. ,\n",
              "       36. , 36. , 36. , 36. ])"
            ]
          },
          "metadata": {},
          "execution_count": 21
        }
      ]
    },
    {
      "cell_type": "code",
      "source": [
        "sample_medians[25], sample_medians[975]"
      ],
      "metadata": {
        "colab": {
          "base_uri": "https://localhost:8080/"
        },
        "id": "qXsczNCXWjXm",
        "outputId": "370f4635-3b16-4959-c9d1-46951f9d7975"
      },
      "execution_count": null,
      "outputs": [
        {
          "output_type": "execute_result",
          "data": {
            "text/plain": [
              "(32.5, 35.5)"
            ]
          },
          "metadata": {},
          "execution_count": 22
        }
      ]
    },
    {
      "cell_type": "code",
      "source": [
        "np.percentile(sample_medians, 2.5)"
      ],
      "metadata": {
        "colab": {
          "base_uri": "https://localhost:8080/"
        },
        "id": "peieKe9cYBXn",
        "outputId": "d069977c-51b1-47ac-c031-6af987fee4d4"
      },
      "execution_count": null,
      "outputs": [
        {
          "output_type": "execute_result",
          "data": {
            "text/plain": [
              "32.5"
            ]
          },
          "metadata": {},
          "execution_count": 30
        }
      ]
    },
    {
      "cell_type": "code",
      "source": [
        "np.percentile(sample_medians, 97.5)"
      ],
      "metadata": {
        "colab": {
          "base_uri": "https://localhost:8080/"
        },
        "id": "190LfeC4YLPy",
        "outputId": "011677ce-11ff-44db-8bec-02ce63711be1"
      },
      "execution_count": null,
      "outputs": [
        {
          "output_type": "execute_result",
          "data": {
            "text/plain": [
              "35.5"
            ]
          },
          "metadata": {},
          "execution_count": 29
        }
      ]
    },
    {
      "cell_type": "code",
      "source": [
        "# sns.histplot(sample_medians)"
      ],
      "metadata": {
        "id": "7CG46G0WXCca"
      },
      "execution_count": null,
      "outputs": []
    },
    {
      "cell_type": "code",
      "source": [],
      "metadata": {
        "id": "Iyet7vSIXpFx"
      },
      "execution_count": null,
      "outputs": []
    }
  ]
}