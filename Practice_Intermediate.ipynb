{
  "nbformat": 4,
  "nbformat_minor": 0,
  "metadata": {
    "colab": {
      "provenance": [],
      "authorship_tag": "ABX9TyOzVhdMlvdqXwayAN8BiZiq",
      "include_colab_link": true
    },
    "kernelspec": {
      "name": "python3",
      "display_name": "Python 3"
    },
    "language_info": {
      "name": "python"
    }
  },
  "cells": [
    {
      "cell_type": "markdown",
      "metadata": {
        "id": "view-in-github",
        "colab_type": "text"
      },
      "source": [
        "<a href=\"https://colab.research.google.com/github/DrShabirAhmad/Code/blob/main/Practice_Intermediate.ipynb\" target=\"_parent\"><img src=\"https://colab.research.google.com/assets/colab-badge.svg\" alt=\"Open In Colab\"/></a>"
      ]
    },
    {
      "cell_type": "code",
      "execution_count": null,
      "metadata": {
        "id": "4XmM15vtV-pZ"
      },
      "outputs": [],
      "source": [
        "class BankAccount:\n",
        "  pass"
      ]
    },
    {
      "cell_type": "code",
      "source": [
        "c1= BankAccount()"
      ],
      "metadata": {
        "id": "sVw9g0zJWJol"
      },
      "execution_count": null,
      "outputs": []
    },
    {
      "cell_type": "code",
      "source": [
        "c2= BankAccount()"
      ],
      "metadata": {
        "id": "cfisX6zIWPb7"
      },
      "execution_count": null,
      "outputs": []
    },
    {
      "cell_type": "code",
      "source": [
        "a= 10\n",
        "type(a)"
      ],
      "metadata": {
        "colab": {
          "base_uri": "https://localhost:8080/"
        },
        "id": "M4nWCUovWYF2",
        "outputId": "79446797-41ad-47a6-ba77-f1d959cc1d55"
      },
      "execution_count": null,
      "outputs": [
        {
          "output_type": "execute_result",
          "data": {
            "text/plain": [
              "int"
            ]
          },
          "metadata": {},
          "execution_count": 5
        }
      ]
    },
    {
      "cell_type": "code",
      "source": [
        "isinstance(a, str)"
      ],
      "metadata": {
        "colab": {
          "base_uri": "https://localhost:8080/"
        },
        "id": "_bzCYQ8eWn1o",
        "outputId": "1b7ede2a-2c58-43b3-878f-b9823a3be8c8"
      },
      "execution_count": null,
      "outputs": [
        {
          "output_type": "execute_result",
          "data": {
            "text/plain": [
              "False"
            ]
          },
          "metadata": {},
          "execution_count": 7
        }
      ]
    },
    {
      "cell_type": "code",
      "source": [
        "isinstance(a, int)"
      ],
      "metadata": {
        "colab": {
          "base_uri": "https://localhost:8080/"
        },
        "id": "TUn3s9SRWswE",
        "outputId": "6c77e7d0-3b30-4ee6-a6e0-1031e5f028a3"
      },
      "execution_count": null,
      "outputs": [
        {
          "output_type": "execute_result",
          "data": {
            "text/plain": [
              "True"
            ]
          },
          "metadata": {},
          "execution_count": 8
        }
      ]
    },
    {
      "cell_type": "code",
      "source": [
        "print(type(c1))"
      ],
      "metadata": {
        "colab": {
          "base_uri": "https://localhost:8080/"
        },
        "id": "pNEphnRIW1wu",
        "outputId": "bcf5adfe-cbe5-42f9-9d1d-b622e422bd28"
      },
      "execution_count": null,
      "outputs": [
        {
          "output_type": "stream",
          "name": "stdout",
          "text": [
            "<class '__main__.BankAccount'>\n"
          ]
        }
      ]
    },
    {
      "cell_type": "code",
      "source": [
        "print(id(c1))\n",
        "print(id(c2))"
      ],
      "metadata": {
        "colab": {
          "base_uri": "https://localhost:8080/"
        },
        "id": "4zooVjukW_ZM",
        "outputId": "d251e433-9452-4da8-874e-71ad237b2f46"
      },
      "execution_count": null,
      "outputs": [
        {
          "output_type": "stream",
          "name": "stdout",
          "text": [
            "140348732284688\n",
            "140348482885136\n"
          ]
        }
      ]
    },
    {
      "cell_type": "code",
      "source": [
        "isinstance(c1, int)"
      ],
      "metadata": {
        "colab": {
          "base_uri": "https://localhost:8080/"
        },
        "id": "toK1589eXWSN",
        "outputId": "dd921c34-0193-4dc1-8ab9-f9ae8ce3c5ca"
      },
      "execution_count": null,
      "outputs": [
        {
          "output_type": "execute_result",
          "data": {
            "text/plain": [
              "False"
            ]
          },
          "metadata": {},
          "execution_count": 11
        }
      ]
    },
    {
      "cell_type": "code",
      "source": [
        "isinstance(c1, BankAccount)"
      ],
      "metadata": {
        "colab": {
          "base_uri": "https://localhost:8080/"
        },
        "id": "ZUBCDzH4Xe9s",
        "outputId": "ba4c64b6-c5e2-4962-ce93-d04d049b6244"
      },
      "execution_count": null,
      "outputs": [
        {
          "output_type": "execute_result",
          "data": {
            "text/plain": [
              "True"
            ]
          },
          "metadata": {},
          "execution_count": 12
        }
      ]
    },
    {
      "cell_type": "code",
      "source": [
        "BankAccount()"
      ],
      "metadata": {
        "colab": {
          "base_uri": "https://localhost:8080/"
        },
        "id": "TMeamK0OXkVW",
        "outputId": "b1b5118a-4216-4df0-e8f3-13e68a029e76"
      },
      "execution_count": null,
      "outputs": [
        {
          "output_type": "execute_result",
          "data": {
            "text/plain": [
              "<__main__.BankAccount at 0x7fa56d729d30>"
            ]
          },
          "metadata": {},
          "execution_count": 13
        }
      ]
    },
    {
      "cell_type": "code",
      "source": [
        "class student:\n",
        "  pass\n",
        "s1= student()\n",
        "s2=student()\n",
        "s3=student()"
      ],
      "metadata": {
        "id": "pK5teHrLYLMU"
      },
      "execution_count": null,
      "outputs": []
    },
    {
      "cell_type": "code",
      "source": [
        "print(type(s2))"
      ],
      "metadata": {
        "colab": {
          "base_uri": "https://localhost:8080/"
        },
        "id": "HwP_3XfNYkf_",
        "outputId": "3a9d63b8-6ebd-45d8-9e72-4d259296e561"
      },
      "execution_count": null,
      "outputs": [
        {
          "output_type": "stream",
          "name": "stdout",
          "text": [
            "<class '__main__.student'>\n"
          ]
        }
      ]
    },
    {
      "cell_type": "code",
      "source": [
        "c1=BankAccount()\n",
        "c1.account_id=100\n",
        "c1.balance=1000\n",
        "c1.name=\"shabir\""
      ],
      "metadata": {
        "id": "qFU-HaMzYzip"
      },
      "execution_count": null,
      "outputs": []
    },
    {
      "cell_type": "code",
      "source": [
        "c2=BankAccount()\n",
        "c2.account_id=101\n",
        "c2.balance=500\n",
        "c2.name=\"abrar\""
      ],
      "metadata": {
        "id": "6r15H6WsZK7I"
      },
      "execution_count": null,
      "outputs": []
    },
    {
      "cell_type": "code",
      "source": [
        "print(c1.name, c2.balance)"
      ],
      "metadata": {
        "colab": {
          "base_uri": "https://localhost:8080/"
        },
        "id": "QZ0eMGvpZcls",
        "outputId": "9e364a45-64f0-458c-ce06-eefc7d8aee04"
      },
      "execution_count": null,
      "outputs": [
        {
          "output_type": "stream",
          "name": "stdout",
          "text": [
            "shabir 500\n"
          ]
        }
      ]
    },
    {
      "cell_type": "code",
      "source": [
        "print(c1.name, c1.balance)"
      ],
      "metadata": {
        "colab": {
          "base_uri": "https://localhost:8080/"
        },
        "id": "ae7_Nx2BZlAD",
        "outputId": "d0fc0387-6836-4f4e-88d0-fd95c7371a1a"
      },
      "execution_count": null,
      "outputs": [
        {
          "output_type": "stream",
          "name": "stdout",
          "text": [
            "shabir 1000\n"
          ]
        }
      ]
    },
    {
      "cell_type": "code",
      "source": [
        "print(c2.pancard)"
      ],
      "metadata": {
        "colab": {
          "base_uri": "https://localhost:8080/",
          "height": 165
        },
        "id": "pa8ivIrFZuEd",
        "outputId": "6c96f7a1-f6fe-4d93-ff31-c01d8f83b7a5"
      },
      "execution_count": null,
      "outputs": [
        {
          "output_type": "error",
          "ename": "AttributeError",
          "evalue": "ignored",
          "traceback": [
            "\u001b[0;31m---------------------------------------------------------------------------\u001b[0m",
            "\u001b[0;31mAttributeError\u001b[0m                            Traceback (most recent call last)",
            "\u001b[0;32m<ipython-input-24-dbeccf6d5388>\u001b[0m in \u001b[0;36m<cell line: 1>\u001b[0;34m()\u001b[0m\n\u001b[0;32m----> 1\u001b[0;31m \u001b[0mprint\u001b[0m\u001b[0;34m(\u001b[0m\u001b[0mc2\u001b[0m\u001b[0;34m.\u001b[0m\u001b[0mpancard\u001b[0m\u001b[0;34m)\u001b[0m\u001b[0;34m\u001b[0m\u001b[0;34m\u001b[0m\u001b[0m\n\u001b[0m",
            "\u001b[0;31mAttributeError\u001b[0m: 'BankAccount' object has no attribute 'pancard'"
          ]
        }
      ]
    },
    {
      "cell_type": "code",
      "source": [
        "c1.pancard= \"BNIPD2017A\""
      ],
      "metadata": {
        "id": "2SI2mKaFZ2rM"
      },
      "execution_count": null,
      "outputs": []
    },
    {
      "cell_type": "code",
      "source": [
        "print(c1.pancard)"
      ],
      "metadata": {
        "colab": {
          "base_uri": "https://localhost:8080/"
        },
        "id": "KqvEXitKZ-cW",
        "outputId": "84d594c8-0350-4d53-a388-c09ace133e99"
      },
      "execution_count": null,
      "outputs": [
        {
          "output_type": "stream",
          "name": "stdout",
          "text": [
            "BNIPD2017A\n"
          ]
        }
      ]
    },
    {
      "cell_type": "code",
      "source": [
        "class BankAccount:\n",
        "  def show_balance(self):\n",
        "    print(self.balance)"
      ],
      "metadata": {
        "id": "BuxBT9YTaA0W"
      },
      "execution_count": null,
      "outputs": []
    },
    {
      "cell_type": "code",
      "source": [
        "c1.account_id=100\n",
        "c1.balance=1000\n",
        "c1.name=\"shabir\"\n",
        "BankAccount.show_balance(c1)"
      ],
      "metadata": {
        "colab": {
          "base_uri": "https://localhost:8080/"
        },
        "id": "-Wn6kU9na1Xa",
        "outputId": "727ebcd4-9bde-4e25-ddbd-5622300da1ac"
      },
      "execution_count": null,
      "outputs": [
        {
          "output_type": "stream",
          "name": "stdout",
          "text": [
            "1000\n"
          ]
        }
      ]
    },
    {
      "cell_type": "code",
      "source": [
        "class BankAccount:\n",
        "  def show_balance(self):\n",
        "    print(self.name)\n",
        "    print(self.balance)\n",
        "c1= BankAccount()\n",
        "c1.account_id=100\n",
        "c1.balance=1000\n",
        "c1.name=\"shabir\""
      ],
      "metadata": {
        "id": "Y_nNKo4gbK-o"
      },
      "execution_count": null,
      "outputs": []
    },
    {
      "cell_type": "code",
      "source": [
        "c1.show_balance()"
      ],
      "metadata": {
        "colab": {
          "base_uri": "https://localhost:8080/"
        },
        "id": "MXfEqFNcbihD",
        "outputId": "5e037f93-2b27-4d6f-aaab-52cb41d10ba8"
      },
      "execution_count": null,
      "outputs": [
        {
          "output_type": "stream",
          "name": "stdout",
          "text": [
            "shabir\n",
            "1000\n"
          ]
        }
      ]
    },
    {
      "cell_type": "code",
      "source": [
        "BankAccount.show_balance(c1)"
      ],
      "metadata": {
        "colab": {
          "base_uri": "https://localhost:8080/"
        },
        "id": "hgxddHM9djX8",
        "outputId": "2e0bd6c0-e874-4165-f3ba-a62a555e54cd"
      },
      "execution_count": null,
      "outputs": [
        {
          "output_type": "stream",
          "name": "stdout",
          "text": [
            "shabir\n",
            "1000\n"
          ]
        }
      ]
    },
    {
      "cell_type": "code",
      "source": [
        "class BankAccount:\n",
        "  def __init__(self, account_id, name, balance):\n",
        "    self.account_id= account_id\n",
        "    self.name= name\n",
        "    self.balance= balance\n",
        "\n",
        "  def show_balance(self):\n",
        "    print(\"Balance for\", self.name, \"is\", self.balance)\n",
        "\n",
        "c1= BankAccount(100, \"Mohtashm Shabir\", 1000)"
      ],
      "metadata": {
        "id": "GEqondLueQvc"
      },
      "execution_count": null,
      "outputs": []
    },
    {
      "cell_type": "code",
      "source": [
        "BankAccount.show_balance(c1)"
      ],
      "metadata": {
        "colab": {
          "base_uri": "https://localhost:8080/"
        },
        "id": "AlWgDViEP2TJ",
        "outputId": "f7cfb5ce-6866-43b0-f407-b68ce377daa1"
      },
      "execution_count": null,
      "outputs": [
        {
          "output_type": "stream",
          "name": "stdout",
          "text": [
            "Balance for Mohtashm Shabir is 1000\n"
          ]
        }
      ]
    },
    {
      "cell_type": "code",
      "source": [
        "c2 = BankAccount(101, \"Muqsit Shabir\", 900)\n",
        "BankAccount.show_balance(c2)"
      ],
      "metadata": {
        "colab": {
          "base_uri": "https://localhost:8080/"
        },
        "id": "oCKHG9FWQQ4V",
        "outputId": "90c45932-4188-4900-9baf-abde1082a4bf"
      },
      "execution_count": null,
      "outputs": [
        {
          "output_type": "stream",
          "name": "stdout",
          "text": [
            "Balance for Muqsit Shabir is 900\n"
          ]
        }
      ]
    },
    {
      "cell_type": "code",
      "source": [
        "c2.account_id"
      ],
      "metadata": {
        "colab": {
          "base_uri": "https://localhost:8080/"
        },
        "id": "MTFLjbuYQ_2V",
        "outputId": "affd6424-d55c-4514-ab01-08b51dd84da7"
      },
      "execution_count": null,
      "outputs": [
        {
          "output_type": "execute_result",
          "data": {
            "text/plain": [
              "101"
            ]
          },
          "metadata": {},
          "execution_count": 10
        }
      ]
    },
    {
      "cell_type": "code",
      "source": [
        "c1.name"
      ],
      "metadata": {
        "colab": {
          "base_uri": "https://localhost:8080/",
          "height": 35
        },
        "id": "Mcy335clRGgv",
        "outputId": "63fb8bd8-1f8a-4e48-ed00-03d8ab8ab1da"
      },
      "execution_count": null,
      "outputs": [
        {
          "output_type": "execute_result",
          "data": {
            "text/plain": [
              "'Mohtashm Shabir'"
            ],
            "application/vnd.google.colaboratory.intrinsic+json": {
              "type": "string"
            }
          },
          "metadata": {},
          "execution_count": 11
        }
      ]
    },
    {
      "cell_type": "code",
      "source": [
        "c2.balance"
      ],
      "metadata": {
        "colab": {
          "base_uri": "https://localhost:8080/"
        },
        "id": "9JFzRQj1RMHp",
        "outputId": "de2fad3a-c3b7-41d2-9cb0-e5d1c13de8f3"
      },
      "execution_count": null,
      "outputs": [
        {
          "output_type": "execute_result",
          "data": {
            "text/plain": [
              "900"
            ]
          },
          "metadata": {},
          "execution_count": 12
        }
      ]
    },
    {
      "cell_type": "code",
      "source": [
        "c2.show_balance()"
      ],
      "metadata": {
        "colab": {
          "base_uri": "https://localhost:8080/"
        },
        "id": "rWGCwcBERPDa",
        "outputId": "b7ae4631-476c-413c-ad73-b505d313e29f"
      },
      "execution_count": null,
      "outputs": [
        {
          "output_type": "stream",
          "name": "stdout",
          "text": [
            "Balance for Muqsit Shabir is 900\n"
          ]
        }
      ]
    },
    {
      "cell_type": "code",
      "source": [
        "c1.show_balance()"
      ],
      "metadata": {
        "colab": {
          "base_uri": "https://localhost:8080/"
        },
        "id": "mYdpZ0ArRmP6",
        "outputId": "46d5c9d1-6c9e-4561-88b6-80f560b2bf17"
      },
      "execution_count": null,
      "outputs": [
        {
          "output_type": "stream",
          "name": "stdout",
          "text": [
            "Balance for Mohtashm Shabir is 1000\n"
          ]
        }
      ]
    },
    {
      "cell_type": "code",
      "source": [
        "class A:\n",
        "  def __init__(self):\n",
        "    print(\"New Object is created\")\n",
        "A()\n",
        "obj1= A()\n",
        "if A():\n",
        "  print(A())"
      ],
      "metadata": {
        "colab": {
          "base_uri": "https://localhost:8080/"
        },
        "id": "SXBAA9n6RscA",
        "outputId": "5983e7fa-15f6-4bb9-d18b-5e8218e8345b"
      },
      "execution_count": null,
      "outputs": [
        {
          "output_type": "stream",
          "name": "stdout",
          "text": [
            "New Object is created\n",
            "New Object is created\n",
            "New Object is created\n",
            "New Object is created\n",
            "<__main__.A object at 0x7f7ff9a6c670>\n"
          ]
        }
      ]
    },
    {
      "cell_type": "code",
      "source": [
        "class Random:\n",
        "  def __init__(self, a= \"default value sorted\"):\n",
        "    self.a= a\n",
        "\n",
        "  def display(self):\n",
        "    print(self.a)\n",
        "r = Random()\n",
        "r.display()"
      ],
      "metadata": {
        "colab": {
          "base_uri": "https://localhost:8080/"
        },
        "id": "Zg80daZsWjCr",
        "outputId": "edc562d6-7f53-4eb4-8091-994a6b47541b"
      },
      "execution_count": null,
      "outputs": [
        {
          "output_type": "stream",
          "name": "stdout",
          "text": [
            "default value sorted\n"
          ]
        }
      ]
    },
    {
      "cell_type": "code",
      "source": [
        "class A:\n",
        "  def __init__(self, name):\n",
        "    self.name= name\n",
        "\n",
        "a1 = A(\"Bunty\")\n",
        "a2= A(\"Bunty\")"
      ],
      "metadata": {
        "id": "e3FuRlapXEze"
      },
      "execution_count": null,
      "outputs": []
    },
    {
      "cell_type": "code",
      "source": [
        "print(id(a1)==id(a2))"
      ],
      "metadata": {
        "colab": {
          "base_uri": "https://localhost:8080/"
        },
        "id": "34oJeyn_ZzY1",
        "outputId": "fa855e43-d22e-4585-b243-91034562ce9d"
      },
      "execution_count": null,
      "outputs": [
        {
          "output_type": "stream",
          "name": "stdout",
          "text": [
            "False\n"
          ]
        }
      ]
    },
    {
      "cell_type": "code",
      "source": [
        "id(a1)"
      ],
      "metadata": {
        "colab": {
          "base_uri": "https://localhost:8080/"
        },
        "id": "U0O6IITxaEnl",
        "outputId": "3b3b79f5-d098-4c04-8170-f5b116450ff6"
      },
      "execution_count": null,
      "outputs": [
        {
          "output_type": "execute_result",
          "data": {
            "text/plain": [
              "140187627295696"
            ]
          },
          "metadata": {},
          "execution_count": 28
        }
      ]
    },
    {
      "cell_type": "code",
      "source": [
        "id(a2)"
      ],
      "metadata": {
        "colab": {
          "base_uri": "https://localhost:8080/"
        },
        "id": "W72n1aGPaLPd",
        "outputId": "ff857622-52a9-4b37-f02d-bfd8bd85b34a"
      },
      "execution_count": null,
      "outputs": [
        {
          "output_type": "execute_result",
          "data": {
            "text/plain": [
              "140187627298000"
            ]
          },
          "metadata": {},
          "execution_count": 29
        }
      ]
    },
    {
      "cell_type": "code",
      "source": [
        "class mycustomclass:\n",
        "  def show_id(self):\n",
        "    return id(self)\n",
        "a1= mycustomclass()\n",
        "print(id(a1))\n",
        "print(a1.show_id())"
      ],
      "metadata": {
        "colab": {
          "base_uri": "https://localhost:8080/"
        },
        "id": "r4THb29vaNol",
        "outputId": "b48a1c02-4d92-46fa-e395-71d1ad175f9f"
      },
      "execution_count": null,
      "outputs": [
        {
          "output_type": "stream",
          "name": "stdout",
          "text": [
            "140187627298576\n",
            "140187627298576\n"
          ]
        }
      ]
    },
    {
      "cell_type": "code",
      "source": [
        "class A:\n",
        "  def __init__(self, name):\n",
        "    self.name = name\n",
        "a= A(\"Muwahid\")"
      ],
      "metadata": {
        "id": "gqUz2laNa238"
      },
      "execution_count": null,
      "outputs": []
    },
    {
      "cell_type": "code",
      "source": [
        "class A:\n",
        "  var = 'Hello'\n",
        "\n",
        "  def __init__(self, name):\n",
        "    self.name = name\n",
        "\n",
        "a = A(\"Muwahid\")"
      ],
      "metadata": {
        "id": "uurPGgE-bquP"
      },
      "execution_count": null,
      "outputs": []
    },
    {
      "cell_type": "code",
      "source": [
        "A.var"
      ],
      "metadata": {
        "colab": {
          "base_uri": "https://localhost:8080/",
          "height": 35
        },
        "id": "C7VOp5hlcVU_",
        "outputId": "ed1dfbba-4769-4a9d-a412-c3d461550ab5"
      },
      "execution_count": null,
      "outputs": [
        {
          "output_type": "execute_result",
          "data": {
            "text/plain": [
              "'Hello'"
            ],
            "application/vnd.google.colaboratory.intrinsic+json": {
              "type": "string"
            }
          },
          "metadata": {},
          "execution_count": 37
        }
      ]
    },
    {
      "cell_type": "code",
      "source": [
        "A.name"
      ],
      "metadata": {
        "colab": {
          "base_uri": "https://localhost:8080/",
          "height": 165
        },
        "id": "k7lzyBNrcX8Z",
        "outputId": "c7c6093a-464b-4378-f95d-4ea5c69aebe4"
      },
      "execution_count": null,
      "outputs": [
        {
          "output_type": "error",
          "ename": "AttributeError",
          "evalue": "ignored",
          "traceback": [
            "\u001b[0;31m---------------------------------------------------------------------------\u001b[0m",
            "\u001b[0;31mAttributeError\u001b[0m                            Traceback (most recent call last)",
            "\u001b[0;32m<ipython-input-38-de2a31cdf8c6>\u001b[0m in \u001b[0;36m<cell line: 1>\u001b[0;34m()\u001b[0m\n\u001b[0;32m----> 1\u001b[0;31m \u001b[0mA\u001b[0m\u001b[0;34m.\u001b[0m\u001b[0mname\u001b[0m\u001b[0;34m\u001b[0m\u001b[0;34m\u001b[0m\u001b[0m\n\u001b[0m",
            "\u001b[0;31mAttributeError\u001b[0m: type object 'A' has no attribute 'name'"
          ]
        }
      ]
    },
    {
      "cell_type": "code",
      "source": [
        "a.var"
      ],
      "metadata": {
        "colab": {
          "base_uri": "https://localhost:8080/",
          "height": 35
        },
        "id": "u2RN1J4jcbcW",
        "outputId": "25ccc19c-cd89-476f-8f13-7d5ff4d6db8a"
      },
      "execution_count": null,
      "outputs": [
        {
          "output_type": "execute_result",
          "data": {
            "text/plain": [
              "'Hello'"
            ],
            "application/vnd.google.colaboratory.intrinsic+json": {
              "type": "string"
            }
          },
          "metadata": {},
          "execution_count": 39
        }
      ]
    },
    {
      "cell_type": "code",
      "source": [
        "a.name"
      ],
      "metadata": {
        "colab": {
          "base_uri": "https://localhost:8080/",
          "height": 35
        },
        "id": "HXgVdFVHci3u",
        "outputId": "a1446bde-77f2-4339-8c11-c3ee165bca24"
      },
      "execution_count": null,
      "outputs": [
        {
          "output_type": "execute_result",
          "data": {
            "text/plain": [
              "'Muwahid'"
            ],
            "application/vnd.google.colaboratory.intrinsic+json": {
              "type": "string"
            }
          },
          "metadata": {},
          "execution_count": 40
        }
      ]
    },
    {
      "cell_type": "code",
      "source": [
        "class Employee:\n",
        "  company_name = \"Scaler\"\n",
        "  def __init__(self, name, id):\n",
        "    self.name = name\n",
        "    self.id = id\n",
        "\n",
        "e1= Employee('A', 1)"
      ],
      "metadata": {
        "id": "PL6KKqgack9c"
      },
      "execution_count": null,
      "outputs": []
    },
    {
      "cell_type": "code",
      "source": [
        "print(e1.company_name)\n",
        "print(e1.name)\n",
        "print(e1.id)"
      ],
      "metadata": {
        "colab": {
          "base_uri": "https://localhost:8080/"
        },
        "id": "-wtPk_UPdSjo",
        "outputId": "1f1f3e38-5de4-4b1d-e4a3-198492f571a5"
      },
      "execution_count": null,
      "outputs": [
        {
          "output_type": "stream",
          "name": "stdout",
          "text": [
            "Scaler\n",
            "A\n",
            "1\n"
          ]
        }
      ]
    },
    {
      "cell_type": "code",
      "source": [
        "e2= Employee('B', 2)"
      ],
      "metadata": {
        "id": "P_p4YAssddeZ"
      },
      "execution_count": null,
      "outputs": []
    },
    {
      "cell_type": "code",
      "source": [
        "print(e2.company_name)\n",
        "print(e2.name)\n",
        "print(e2.id)"
      ],
      "metadata": {
        "colab": {
          "base_uri": "https://localhost:8080/"
        },
        "id": "mVkFgaiYduTH",
        "outputId": "f81bf65b-21f3-42c2-e1ca-e3491f31c751"
      },
      "execution_count": null,
      "outputs": [
        {
          "output_type": "stream",
          "name": "stdout",
          "text": [
            "Scaler\n",
            "B\n",
            "2\n"
          ]
        }
      ]
    },
    {
      "cell_type": "code",
      "source": [
        "Employee.company_name = \"InterviewBit\""
      ],
      "metadata": {
        "id": "2OKkNVuwdyns"
      },
      "execution_count": null,
      "outputs": []
    },
    {
      "cell_type": "code",
      "source": [
        "print(e1.company_name)\n",
        "print(e2.company_name)"
      ],
      "metadata": {
        "colab": {
          "base_uri": "https://localhost:8080/"
        },
        "id": "7QqzDcUEeBec",
        "outputId": "9e981672-34f5-4e21-9c8d-20d4f7e8d606"
      },
      "execution_count": null,
      "outputs": [
        {
          "output_type": "stream",
          "name": "stdout",
          "text": [
            "InterviewBit\n",
            "InterviewBit\n"
          ]
        }
      ]
    },
    {
      "cell_type": "code",
      "source": [
        "e1.company_name = \"Amazon\""
      ],
      "metadata": {
        "id": "F3OGnSsQeGGj"
      },
      "execution_count": null,
      "outputs": []
    },
    {
      "cell_type": "code",
      "source": [
        "print(Employee.company_name)\n",
        "print(e1.company_name)\n",
        "print(e2.company_name)"
      ],
      "metadata": {
        "colab": {
          "base_uri": "https://localhost:8080/"
        },
        "id": "3vPmqgdleZIG",
        "outputId": "9a336347-5bbb-490b-fc73-6e4851a464c9"
      },
      "execution_count": null,
      "outputs": [
        {
          "output_type": "stream",
          "name": "stdout",
          "text": [
            "InterviewBit\n",
            "Amazon\n",
            "InterviewBit\n"
          ]
        }
      ]
    },
    {
      "cell_type": "code",
      "source": [
        "\n",
        "company_name = [\"InterviewBit\"]\n",
        "print(Employee.company_name)\n",
        "print(e1.company_name)\n",
        "print(e2.company_name)"
      ],
      "metadata": {
        "colab": {
          "base_uri": "https://localhost:8080/"
        },
        "id": "pC2AtHx8em8s",
        "outputId": "2156fd08-6828-4302-8701-50d8c8a6304b"
      },
      "execution_count": null,
      "outputs": [
        {
          "output_type": "stream",
          "name": "stdout",
          "text": [
            "['InterviewBit', 'Interview', 'Interview']\n",
            "Amazon\n",
            "['InterviewBit', 'Interview', 'Interview']\n"
          ]
        }
      ]
    },
    {
      "cell_type": "code",
      "source": [
        "class DSMLInstructor:\n",
        "  def __init__(self, name):\n",
        "    self.name = name\n",
        "\n",
        "  def teaches(self):\n",
        "    print(\"Instructor teaches Data Science and ML\")\n",
        "t1 = DSMLInstructor(\"sachin\")"
      ],
      "metadata": {
        "id": "VyteYp9RfCRe"
      },
      "execution_count": null,
      "outputs": []
    },
    {
      "cell_type": "code",
      "source": [
        "print(t1)"
      ],
      "metadata": {
        "colab": {
          "base_uri": "https://localhost:8080/"
        },
        "id": "bpSFLDGqmWE4",
        "outputId": "261bd1d9-8ec0-416a-cc4d-4808170e5ba7"
      },
      "execution_count": null,
      "outputs": [
        {
          "output_type": "stream",
          "name": "stdout",
          "text": [
            "<__main__.DSMLInstructor object at 0x7f7ff9a785e0>\n"
          ]
        }
      ]
    },
    {
      "cell_type": "code",
      "source": [
        "t1.teaches()"
      ],
      "metadata": {
        "colab": {
          "base_uri": "https://localhost:8080/"
        },
        "id": "yWNXAjhAmX7u",
        "outputId": "29be9cae-44c0-4e19-fc73-fd23f638e10e"
      },
      "execution_count": null,
      "outputs": [
        {
          "output_type": "stream",
          "name": "stdout",
          "text": [
            "Instructor teaches Data Science and ML\n"
          ]
        }
      ]
    },
    {
      "cell_type": "code",
      "source": [
        "def __str__(self):\n",
        "  return \"Instructor name is:\" +self.name\n",
        "t1 = DSMLInstructor(\"Sachin\")"
      ],
      "metadata": {
        "id": "Mpn3YsX1mfUs"
      },
      "execution_count": null,
      "outputs": []
    },
    {
      "cell_type": "code",
      "source": [
        "print(t1)"
      ],
      "metadata": {
        "colab": {
          "base_uri": "https://localhost:8080/"
        },
        "id": "vUJ_E9p7m-cE",
        "outputId": "45b3d514-1277-43ac-d86c-200ca3076944"
      },
      "execution_count": null,
      "outputs": [
        {
          "output_type": "stream",
          "name": "stdout",
          "text": [
            "<__main__.DSMLInstructor object at 0x7f7ff9ba15e0>\n"
          ]
        }
      ]
    },
    {
      "cell_type": "code",
      "source": [
        "print(DSMLInstructor.t1)"
      ],
      "metadata": {
        "colab": {
          "base_uri": "https://localhost:8080/",
          "height": 165
        },
        "id": "krc1kt-XnktX",
        "outputId": "59e3ed3f-9e4d-41bc-cfe0-891157f7a4c1"
      },
      "execution_count": null,
      "outputs": [
        {
          "output_type": "error",
          "ename": "NameError",
          "evalue": "ignored",
          "traceback": [
            "\u001b[0;31m---------------------------------------------------------------------------\u001b[0m",
            "\u001b[0;31mNameError\u001b[0m                                 Traceback (most recent call last)",
            "\u001b[0;32m<ipython-input-1-a84a6418527b>\u001b[0m in \u001b[0;36m<cell line: 1>\u001b[0;34m()\u001b[0m\n\u001b[0;32m----> 1\u001b[0;31m \u001b[0mprint\u001b[0m\u001b[0;34m(\u001b[0m\u001b[0mDSMLInstructor\u001b[0m\u001b[0;34m.\u001b[0m\u001b[0mt1\u001b[0m\u001b[0;34m)\u001b[0m\u001b[0;34m\u001b[0m\u001b[0;34m\u001b[0m\u001b[0m\n\u001b[0m",
            "\u001b[0;31mNameError\u001b[0m: name 'DSMLInstructor' is not defined"
          ]
        }
      ]
    },
    {
      "cell_type": "code",
      "source": [
        "def __str__(self, name):\n",
        "  self.name= name\n",
        "  return \"Instructor name is:\" +self.name\n",
        "t1 = DSMLInstructor(\"Sachin\")"
      ],
      "metadata": {
        "id": "cO5GHhy6nAIS"
      },
      "execution_count": null,
      "outputs": []
    },
    {
      "cell_type": "code",
      "source": [
        "class parent:\n",
        "  def __init__(self):\n",
        "    print(\"Inside Parent class\")\n",
        "\n",
        "class child(parent):\n",
        "  def __init__(self):\n",
        "    print(\"Inside Child class\")\n",
        "\n",
        "p1 = parent()"
      ],
      "metadata": {
        "colab": {
          "base_uri": "https://localhost:8080/"
        },
        "id": "oV0oUuNb-V50",
        "outputId": "703d2ba5-210e-4583-f97a-91035ea8aba5"
      },
      "execution_count": null,
      "outputs": [
        {
          "output_type": "stream",
          "name": "stdout",
          "text": [
            "Inside Parent class\n"
          ]
        }
      ]
    },
    {
      "cell_type": "code",
      "source": [
        "c1 = child()"
      ],
      "metadata": {
        "colab": {
          "base_uri": "https://localhost:8080/"
        },
        "id": "Hpnh4V8n-vze",
        "outputId": "1a9a536f-5a84-4476-c127-d6221a88f132"
      },
      "execution_count": null,
      "outputs": [
        {
          "output_type": "stream",
          "name": "stdout",
          "text": [
            "Inside Child class\n"
          ]
        }
      ]
    },
    {
      "cell_type": "code",
      "source": [
        "class parent:\n",
        "  def __init__(self):\n",
        "    print(\"Inside Parent class\")\n",
        "\n",
        "class child(parent):\n",
        "  def __init__(self):\n",
        "    print(\"Inside Child class\")\n",
        "    parent.__init__(self)\n",
        "c1= child()"
      ],
      "metadata": {
        "colab": {
          "base_uri": "https://localhost:8080/"
        },
        "id": "3YZTBVGb-zhC",
        "outputId": "2ad2210a-b563-4f20-c262-043018e3ce41"
      },
      "execution_count": null,
      "outputs": [
        {
          "output_type": "stream",
          "name": "stdout",
          "text": [
            "Inside Child class\n",
            "Inside Parent class\n"
          ]
        }
      ]
    },
    {
      "cell_type": "code",
      "source": [
        "class parent:\n",
        "  def __init__(self):\n",
        "    print(\"Inside Parent class\")\n",
        "\n",
        "class child(parent):\n",
        "  def __init__(self):\n",
        "    print(\"Inside Child class\")\n",
        "    super().__init__()\n",
        "c1= child()"
      ],
      "metadata": {
        "colab": {
          "base_uri": "https://localhost:8080/"
        },
        "id": "8npYnRE-_PLz",
        "outputId": "dfe07984-44a3-479c-d938-ab31a5d4efcb"
      },
      "execution_count": null,
      "outputs": [
        {
          "output_type": "stream",
          "name": "stdout",
          "text": [
            "Inside Child class\n",
            "Inside Parent class\n"
          ]
        }
      ]
    },
    {
      "cell_type": "code",
      "source": [
        "class ScalerMember:\n",
        "  def __init__(self, name):\n",
        "    self.name = name\n",
        "class student(ScalerMember):\n",
        "  def __init__(self, name, batch):\n",
        "    self.batch = batch\n",
        "class staff(ScalerMember):\n",
        "  def __init__(self, name, salary):\n",
        "    self.salary = salary\n",
        "class teacher(staff):\n",
        "  def __init__(self, name, salary, subject):\n",
        "    self.subject = subject\n",
        "\n",
        "st1= student(\"Shabir\", \"Nov22\")"
      ],
      "metadata": {
        "id": "TsHQYFoL_bNY"
      },
      "execution_count": null,
      "outputs": []
    },
    {
      "cell_type": "code",
      "source": [
        "st1.name"
      ],
      "metadata": {
        "colab": {
          "base_uri": "https://localhost:8080/",
          "height": 165
        },
        "id": "zrbSlDwbCjjp",
        "outputId": "af60d5fe-d46c-4031-864a-ab82f2dc97e7"
      },
      "execution_count": null,
      "outputs": [
        {
          "output_type": "error",
          "ename": "AttributeError",
          "evalue": "ignored",
          "traceback": [
            "\u001b[0;31m---------------------------------------------------------------------------\u001b[0m",
            "\u001b[0;31mAttributeError\u001b[0m                            Traceback (most recent call last)",
            "\u001b[0;32m<ipython-input-9-8aaedc67b03f>\u001b[0m in \u001b[0;36m<cell line: 1>\u001b[0;34m()\u001b[0m\n\u001b[0;32m----> 1\u001b[0;31m \u001b[0mst1\u001b[0m\u001b[0;34m.\u001b[0m\u001b[0mname\u001b[0m\u001b[0;34m\u001b[0m\u001b[0;34m\u001b[0m\u001b[0m\n\u001b[0m",
            "\u001b[0;31mAttributeError\u001b[0m: 'student' object has no attribute 'name'"
          ]
        }
      ]
    },
    {
      "cell_type": "code",
      "source": [
        "st1.batch"
      ],
      "metadata": {
        "colab": {
          "base_uri": "https://localhost:8080/",
          "height": 35
        },
        "id": "f6Kcov0sCmjj",
        "outputId": "746542b1-b3d6-4d9f-8694-3e4e0c966e47"
      },
      "execution_count": null,
      "outputs": [
        {
          "output_type": "execute_result",
          "data": {
            "text/plain": [
              "'Nov22'"
            ],
            "application/vnd.google.colaboratory.intrinsic+json": {
              "type": "string"
            }
          },
          "metadata": {},
          "execution_count": 10
        }
      ]
    },
    {
      "cell_type": "code",
      "source": [
        "t1 = teacher(\"Sachin\", 10, \"DSML\")"
      ],
      "metadata": {
        "id": "pa63vOVPCs_A"
      },
      "execution_count": null,
      "outputs": []
    },
    {
      "cell_type": "code",
      "source": [
        "t1.salary"
      ],
      "metadata": {
        "colab": {
          "base_uri": "https://localhost:8080/",
          "height": 165
        },
        "id": "kKdWzm50C3bc",
        "outputId": "19da4113-fec6-45eb-9dec-854e52339c56"
      },
      "execution_count": null,
      "outputs": [
        {
          "output_type": "error",
          "ename": "AttributeError",
          "evalue": "ignored",
          "traceback": [
            "\u001b[0;31m---------------------------------------------------------------------------\u001b[0m",
            "\u001b[0;31mAttributeError\u001b[0m                            Traceback (most recent call last)",
            "\u001b[0;32m<ipython-input-12-10f2f1b1a7f8>\u001b[0m in \u001b[0;36m<cell line: 1>\u001b[0;34m()\u001b[0m\n\u001b[0;32m----> 1\u001b[0;31m \u001b[0mt1\u001b[0m\u001b[0;34m.\u001b[0m\u001b[0msalary\u001b[0m\u001b[0;34m\u001b[0m\u001b[0;34m\u001b[0m\u001b[0m\n\u001b[0m",
            "\u001b[0;31mAttributeError\u001b[0m: 'teacher' object has no attribute 'salary'"
          ]
        }
      ]
    },
    {
      "cell_type": "code",
      "source": [
        "t1.name"
      ],
      "metadata": {
        "colab": {
          "base_uri": "https://localhost:8080/",
          "height": 165
        },
        "id": "ktNqjCt8C6UU",
        "outputId": "47c53e52-2c79-4576-cf81-ea5efcdbeeb3"
      },
      "execution_count": null,
      "outputs": [
        {
          "output_type": "error",
          "ename": "AttributeError",
          "evalue": "ignored",
          "traceback": [
            "\u001b[0;31m---------------------------------------------------------------------------\u001b[0m",
            "\u001b[0;31mAttributeError\u001b[0m                            Traceback (most recent call last)",
            "\u001b[0;32m<ipython-input-13-cf7fcdab4726>\u001b[0m in \u001b[0;36m<cell line: 1>\u001b[0;34m()\u001b[0m\n\u001b[0;32m----> 1\u001b[0;31m \u001b[0mt1\u001b[0m\u001b[0;34m.\u001b[0m\u001b[0mname\u001b[0m\u001b[0;34m\u001b[0m\u001b[0;34m\u001b[0m\u001b[0m\n\u001b[0m",
            "\u001b[0;31mAttributeError\u001b[0m: 'teacher' object has no attribute 'name'"
          ]
        }
      ]
    },
    {
      "cell_type": "code",
      "source": [
        "t1.subject"
      ],
      "metadata": {
        "colab": {
          "base_uri": "https://localhost:8080/",
          "height": 35
        },
        "id": "JAcv8LnfC8dq",
        "outputId": "8d6dac6e-a548-4ce0-8fdc-b6105edf8d86"
      },
      "execution_count": null,
      "outputs": [
        {
          "output_type": "execute_result",
          "data": {
            "text/plain": [
              "'DSML'"
            ],
            "application/vnd.google.colaboratory.intrinsic+json": {
              "type": "string"
            }
          },
          "metadata": {},
          "execution_count": 14
        }
      ]
    },
    {
      "cell_type": "code",
      "source": [
        "class ScalerMember:\n",
        "  def __init__(self, name):\n",
        "    self.name = name\n",
        "class student(ScalerMember):\n",
        "  def __init__(self, name, batch):\n",
        "    self.batch = batch\n",
        "    super().__init__(name)\n",
        "class staff(ScalerMember):\n",
        "  def __init__(self, name, salary):\n",
        "    self.salary = salary\n",
        "    super().__init__(name)\n",
        "class teacher(staff):\n",
        "  def __init__(self, name, salary, subject):\n",
        "    self.subject = subject\n",
        "    super().__init__(name, salary)\n",
        "\n",
        "st1= student(\"Shabir\", \"Nov22\")\n",
        "t1= teacher(\"Sachin\", 10, \"DSML\")"
      ],
      "metadata": {
        "id": "G52M7y7TDD22"
      },
      "execution_count": null,
      "outputs": []
    },
    {
      "cell_type": "code",
      "source": [
        "t1.salary"
      ],
      "metadata": {
        "colab": {
          "base_uri": "https://localhost:8080/"
        },
        "id": "4ncxXzdiElE9",
        "outputId": "1d52f9ee-4865-47e0-e288-b5b439d10688"
      },
      "execution_count": null,
      "outputs": [
        {
          "output_type": "execute_result",
          "data": {
            "text/plain": [
              "10"
            ]
          },
          "metadata": {},
          "execution_count": 18
        }
      ]
    },
    {
      "cell_type": "code",
      "source": [
        "t1.name"
      ],
      "metadata": {
        "colab": {
          "base_uri": "https://localhost:8080/",
          "height": 35
        },
        "id": "64-WxmcqFgFg",
        "outputId": "4c9b1af8-28d0-4649-c884-8482a56cde6d"
      },
      "execution_count": null,
      "outputs": [
        {
          "output_type": "execute_result",
          "data": {
            "text/plain": [
              "'Sachin'"
            ],
            "application/vnd.google.colaboratory.intrinsic+json": {
              "type": "string"
            }
          },
          "metadata": {},
          "execution_count": 19
        }
      ]
    },
    {
      "cell_type": "code",
      "source": [
        "st1.name"
      ],
      "metadata": {
        "colab": {
          "base_uri": "https://localhost:8080/",
          "height": 35
        },
        "id": "pcmd-UxFFieG",
        "outputId": "10b32d90-1a8f-4265-c238-24c875acc854"
      },
      "execution_count": null,
      "outputs": [
        {
          "output_type": "execute_result",
          "data": {
            "text/plain": [
              "'Shabir'"
            ],
            "application/vnd.google.colaboratory.intrinsic+json": {
              "type": "string"
            }
          },
          "metadata": {},
          "execution_count": 24
        }
      ]
    },
    {
      "cell_type": "code",
      "source": [
        "st1.batch"
      ],
      "metadata": {
        "colab": {
          "base_uri": "https://localhost:8080/",
          "height": 35
        },
        "id": "F-LYghzIFp3h",
        "outputId": "1adf3b6f-ff03-40cd-e385-41d1120c9d96"
      },
      "execution_count": null,
      "outputs": [
        {
          "output_type": "execute_result",
          "data": {
            "text/plain": [
              "'Nov22'"
            ],
            "application/vnd.google.colaboratory.intrinsic+json": {
              "type": "string"
            }
          },
          "metadata": {},
          "execution_count": 22
        }
      ]
    },
    {
      "cell_type": "code",
      "source": [
        "class First():\n",
        "  def __init__(self):\n",
        "    print(\"First\")\n",
        "class Second(First):\n",
        "  def __init__(self):\n",
        "    print(\"Second\")\n",
        "class Third(First):\n",
        "  def __init__(Self):\n",
        "    print(\"Third\")\n",
        "  def run_this(self):\n",
        "    print(\"this runs in third\")\n",
        "class Fourth(Second, Third):\n",
        "  def __init__(self):\n",
        "    super().__init__()"
      ],
      "metadata": {
        "id": "MIx6EaW2Ng6c"
      },
      "execution_count": null,
      "outputs": []
    },
    {
      "cell_type": "code",
      "source": [
        "print(Fourth())"
      ],
      "metadata": {
        "colab": {
          "base_uri": "https://localhost:8080/"
        },
        "id": "Br8DlsV2TNRF",
        "outputId": "def68a0e-df8a-40ef-9529-046c6703061c"
      },
      "execution_count": null,
      "outputs": [
        {
          "output_type": "stream",
          "name": "stdout",
          "text": [
            "Second\n",
            "<__main__.Fourth object at 0x7f92f77d5a30>\n"
          ]
        }
      ]
    },
    {
      "cell_type": "code",
      "source": [
        "print(Fourth.__mro__)"
      ],
      "metadata": {
        "colab": {
          "base_uri": "https://localhost:8080/"
        },
        "id": "KfYE97H4TQCr",
        "outputId": "77cc48ab-c960-4cae-b17a-55940653d132"
      },
      "execution_count": null,
      "outputs": [
        {
          "output_type": "stream",
          "name": "stdout",
          "text": [
            "(<class '__main__.Fourth'>, <class '__main__.Second'>, <class '__main__.Third'>, <class '__main__.First'>, <class 'object'>)\n"
          ]
        }
      ]
    },
    {
      "cell_type": "code",
      "source": [
        "class BankAccount:\n",
        "  def __init__(self, name, id, balance):\n",
        "    self.name= name\n",
        "    self.id= id\n",
        "    self.balance= balance\n",
        "ac1= BankAccount(\"Ravi\", 100, 10000)"
      ],
      "metadata": {
        "id": "9qFpc2leTquT"
      },
      "execution_count": null,
      "outputs": []
    },
    {
      "cell_type": "code",
      "source": [
        "print(ac1.balance)"
      ],
      "metadata": {
        "colab": {
          "base_uri": "https://localhost:8080/"
        },
        "id": "CjacYj9BVQtl",
        "outputId": "7c72c19a-f680-4601-db44-43856b981f1d"
      },
      "execution_count": null,
      "outputs": [
        {
          "output_type": "stream",
          "name": "stdout",
          "text": [
            "10000\n"
          ]
        }
      ]
    },
    {
      "cell_type": "code",
      "source": [
        "class BankAccount:\n",
        "  def __init__(self, name, id, balance):\n",
        "    self.name= name\n",
        "    self.id= id\n",
        "    self.balance= balance\n",
        "  def Show_balance(self):\n",
        "    return self.name + \" has a balance of \" +str(self.balance)\n",
        "ac1= BankAccount(\"Ravi\", 100, 10000)"
      ],
      "metadata": {
        "id": "v3t7tpQfVUIp"
      },
      "execution_count": null,
      "outputs": []
    },
    {
      "cell_type": "code",
      "source": [
        "ac1.Show_balance()"
      ],
      "metadata": {
        "colab": {
          "base_uri": "https://localhost:8080/",
          "height": 35
        },
        "id": "_24qMseLVz3a",
        "outputId": "5fc25f25-1002-4022-e7c3-e66c2b017cb9"
      },
      "execution_count": null,
      "outputs": [
        {
          "output_type": "execute_result",
          "data": {
            "text/plain": [
              "'Ravi has a balance of 10000'"
            ],
            "application/vnd.google.colaboratory.intrinsic+json": {
              "type": "string"
            }
          },
          "metadata": {},
          "execution_count": 35
        }
      ]
    },
    {
      "cell_type": "code",
      "source": [
        "ac1.__dict__"
      ],
      "metadata": {
        "colab": {
          "base_uri": "https://localhost:8080/"
        },
        "id": "K0rpmAwGV5Qr",
        "outputId": "e1806e04-756c-47b0-e73a-a6e84dde5701"
      },
      "execution_count": null,
      "outputs": [
        {
          "output_type": "execute_result",
          "data": {
            "text/plain": [
              "{'name': 'Ravi', 'id': 100, 'balance': 10000}"
            ]
          },
          "metadata": {},
          "execution_count": 36
        }
      ]
    },
    {
      "cell_type": "code",
      "source": [
        "ac1.__BankAccount_balance = 0"
      ],
      "metadata": {
        "id": "3Th-bxEdXKcl"
      },
      "execution_count": null,
      "outputs": []
    },
    {
      "cell_type": "code",
      "source": [
        "ac1.Show_balance()"
      ],
      "metadata": {
        "colab": {
          "base_uri": "https://localhost:8080/",
          "height": 35
        },
        "id": "7FyFD3vsXZMs",
        "outputId": "94bad404-cc92-4eec-c3e4-2095cbb12d5c"
      },
      "execution_count": null,
      "outputs": [
        {
          "output_type": "execute_result",
          "data": {
            "text/plain": [
              "'Ravi has a balance of 10000'"
            ],
            "application/vnd.google.colaboratory.intrinsic+json": {
              "type": "string"
            }
          },
          "metadata": {},
          "execution_count": 43
        }
      ]
    },
    {
      "cell_type": "code",
      "source": [
        "class car:\n",
        "  def __init__(self, registration, color, model):\n",
        "    self.registration = registration\n",
        "    self.color = color\n",
        "    self.model = model\n",
        "c1= car(\"JK01V0619\", \"White\", \"Wagon-R\")"
      ],
      "metadata": {
        "id": "NSWVFWSQXdOi"
      },
      "execution_count": null,
      "outputs": []
    },
    {
      "cell_type": "code",
      "source": [
        "c1.color"
      ],
      "metadata": {
        "colab": {
          "base_uri": "https://localhost:8080/",
          "height": 35
        },
        "id": "eu-IeejFvt5C",
        "outputId": "84b4c3ed-4722-4e03-ec2a-69e01ab8ec8d"
      },
      "execution_count": null,
      "outputs": [
        {
          "output_type": "execute_result",
          "data": {
            "text/plain": [
              "'White'"
            ],
            "application/vnd.google.colaboratory.intrinsic+json": {
              "type": "string"
            }
          },
          "metadata": {},
          "execution_count": 2
        }
      ]
    },
    {
      "cell_type": "code",
      "source": [
        "c1.registration"
      ],
      "metadata": {
        "colab": {
          "base_uri": "https://localhost:8080/",
          "height": 35
        },
        "id": "O-vzwk9MvvvE",
        "outputId": "4396cffa-7ba0-4c6b-cdc3-80ccfd1af078"
      },
      "execution_count": null,
      "outputs": [
        {
          "output_type": "execute_result",
          "data": {
            "text/plain": [
              "'JK01V0619'"
            ],
            "application/vnd.google.colaboratory.intrinsic+json": {
              "type": "string"
            }
          },
          "metadata": {},
          "execution_count": 3
        }
      ]
    },
    {
      "cell_type": "code",
      "source": [
        "c1.model"
      ],
      "metadata": {
        "colab": {
          "base_uri": "https://localhost:8080/",
          "height": 35
        },
        "id": "HMAgq1xAvytt",
        "outputId": "8073675c-7235-4b72-fba0-605b4b248491"
      },
      "execution_count": null,
      "outputs": [
        {
          "output_type": "execute_result",
          "data": {
            "text/plain": [
              "'Wagon-R'"
            ],
            "application/vnd.google.colaboratory.intrinsic+json": {
              "type": "string"
            }
          },
          "metadata": {},
          "execution_count": 6
        }
      ]
    },
    {
      "cell_type": "code",
      "source": [
        "def display_r(self):\n",
        "  print(self.__registration)"
      ],
      "metadata": {
        "id": "8HBx7XwxwO5o"
      },
      "execution_count": null,
      "outputs": []
    },
    {
      "cell_type": "code",
      "source": [
        "c1.display_r()"
      ],
      "metadata": {
        "colab": {
          "base_uri": "https://localhost:8080/",
          "height": 165
        },
        "id": "MtgQrxUCwwvN",
        "outputId": "068c6e93-7779-4acf-fd59-60e10ec24754"
      },
      "execution_count": null,
      "outputs": [
        {
          "output_type": "error",
          "ename": "AttributeError",
          "evalue": "ignored",
          "traceback": [
            "\u001b[0;31m---------------------------------------------------------------------------\u001b[0m",
            "\u001b[0;31mAttributeError\u001b[0m                            Traceback (most recent call last)",
            "\u001b[0;32m<ipython-input-12-61fd8ddc1975>\u001b[0m in \u001b[0;36m<cell line: 1>\u001b[0;34m()\u001b[0m\n\u001b[0;32m----> 1\u001b[0;31m \u001b[0mc1\u001b[0m\u001b[0;34m.\u001b[0m\u001b[0mdisplay_r\u001b[0m\u001b[0;34m(\u001b[0m\u001b[0;34m)\u001b[0m\u001b[0;34m\u001b[0m\u001b[0;34m\u001b[0m\u001b[0m\n\u001b[0m",
            "\u001b[0;31mAttributeError\u001b[0m: 'car' object has no attribute 'display_r'"
          ]
        }
      ]
    },
    {
      "cell_type": "code",
      "source": [
        "def display_r(self):\n",
        "  print(self.registration)\n",
        "def display_r(self):\n",
        "  print(self.__registration)\n",
        "c1.__registration= \"R2010\"\n",
        "c1.display_r()"
      ],
      "metadata": {
        "colab": {
          "base_uri": "https://localhost:8080/",
          "height": 200
        },
        "id": "zoWSdlFJw9Ji",
        "outputId": "fe0c5e35-27d2-4693-b535-328563abc198"
      },
      "execution_count": null,
      "outputs": [
        {
          "output_type": "error",
          "ename": "AttributeError",
          "evalue": "ignored",
          "traceback": [
            "\u001b[0;31m---------------------------------------------------------------------------\u001b[0m",
            "\u001b[0;31mAttributeError\u001b[0m                            Traceback (most recent call last)",
            "\u001b[0;32m<ipython-input-15-905c1c2233ec>\u001b[0m in \u001b[0;36m<cell line: 6>\u001b[0;34m()\u001b[0m\n\u001b[1;32m      4\u001b[0m   \u001b[0mprint\u001b[0m\u001b[0;34m(\u001b[0m\u001b[0mself\u001b[0m\u001b[0;34m.\u001b[0m\u001b[0m__registration\u001b[0m\u001b[0;34m)\u001b[0m\u001b[0;34m\u001b[0m\u001b[0;34m\u001b[0m\u001b[0m\n\u001b[1;32m      5\u001b[0m \u001b[0mc1\u001b[0m\u001b[0;34m.\u001b[0m\u001b[0m__registration\u001b[0m\u001b[0;34m=\u001b[0m \u001b[0;34m\"R2010\"\u001b[0m\u001b[0;34m\u001b[0m\u001b[0;34m\u001b[0m\u001b[0m\n\u001b[0;32m----> 6\u001b[0;31m \u001b[0mc1\u001b[0m\u001b[0;34m.\u001b[0m\u001b[0mdisplay_r\u001b[0m\u001b[0;34m(\u001b[0m\u001b[0;34m)\u001b[0m\u001b[0;34m\u001b[0m\u001b[0;34m\u001b[0m\u001b[0m\n\u001b[0m",
            "\u001b[0;31mAttributeError\u001b[0m: 'car' object has no attribute 'display_r'"
          ]
        }
      ]
    },
    {
      "cell_type": "code",
      "source": [
        "class vehicle:\n",
        "  country = \"India\"\n",
        "  def __init__(self, reg, color, model):\n",
        "    self.reg= reg\n",
        "    self.color = color\n",
        "    self.model = model\n",
        "    def display__r(self):\n",
        ""
      ],
      "metadata": {
        "colab": {
          "base_uri": "https://localhost:8080/",
          "height": 130
        },
        "id": "NB4XF8FAxMT1",
        "outputId": "67869a72-caf3-4764-e8f7-9ce9dc27b235"
      },
      "execution_count": null,
      "outputs": [
        {
          "output_type": "error",
          "ename": "IndentationError",
          "evalue": "ignored",
          "traceback": [
            "\u001b[0;36m  File \u001b[0;32m\"<ipython-input-21-776aef691bba>\"\u001b[0;36m, line \u001b[0;32m8\u001b[0m\n\u001b[0;31m    \u001b[0m\n\u001b[0m    ^\u001b[0m\n\u001b[0;31mIndentationError\u001b[0m\u001b[0;31m:\u001b[0m expected an indented block\n"
          ]
        }
      ]
    },
    {
      "cell_type": "code",
      "source": [
        "class fruits:\n",
        "    def __init__(self, price):\n",
        "        self.price = price\n",
        "\n",
        "obj=fruits(50)\n",
        "obj.quantity=10\n",
        "obj.bags=2\n",
        "\n",
        "print(obj.quantity)"
      ],
      "metadata": {
        "colab": {
          "base_uri": "https://localhost:8080/"
        },
        "id": "fGwZYz90yvzP",
        "outputId": "04308b64-03d6-4f35-fd7d-3deb3407a7e3"
      },
      "execution_count": null,
      "outputs": [
        {
          "output_type": "stream",
          "name": "stdout",
          "text": [
            "10\n"
          ]
        }
      ]
    },
    {
      "cell_type": "code",
      "source": [
        "print(len(obj.__dict__))"
      ],
      "metadata": {
        "colab": {
          "base_uri": "https://localhost:8080/"
        },
        "id": "wqqHdu3F2nfs",
        "outputId": "c431cd97-1606-4860-e87a-f9bad9a852ce"
      },
      "execution_count": null,
      "outputs": [
        {
          "output_type": "stream",
          "name": "stdout",
          "text": [
            "3\n"
          ]
        }
      ]
    },
    {
      "cell_type": "code",
      "source": [
        "print(obj.quantity+len(obj.__dict__))"
      ],
      "metadata": {
        "colab": {
          "base_uri": "https://localhost:8080/"
        },
        "id": "WAgJogbD2rZ3",
        "outputId": "98f8ec6d-cfff-4bc0-e450-2cabed2864f1"
      },
      "execution_count": null,
      "outputs": [
        {
          "output_type": "stream",
          "name": "stdout",
          "text": [
            "13\n"
          ]
        }
      ]
    },
    {
      "cell_type": "code",
      "source": [
        "class Bill():\n",
        "  def __init__(self, prev_reading, curr_reading):\n",
        "    self.prev_reading = prev_reading\n",
        "    self.curr_reading= curr_reading\n",
        "  def total_bill(self):\n",
        "    total=0.0\n",
        "    units= (self.curr_reading-self.prev_reading)\n",
        "    if units in range(1, 101):\n",
        "      total += (units*3.5)\n",
        "    elif units in range(101, 201):\n",
        "      total += ((units-100)*5)+350\n",
        "    else:\n",
        "      total += ((units-200)*8)+850\n",
        "    total +=150\n",
        "    return total\n"
      ],
      "metadata": {
        "id": "hfa71e6N29h7"
      },
      "execution_count": null,
      "outputs": []
    },
    {
      "cell_type": "code",
      "source": [
        "print(total_bill(200, 650))"
      ],
      "metadata": {
        "colab": {
          "base_uri": "https://localhost:8080/",
          "height": 165
        },
        "id": "00WggqkVAs0e",
        "outputId": "63cfaa2e-de46-4eff-bf1f-18dc2ee73e59"
      },
      "execution_count": null,
      "outputs": [
        {
          "output_type": "error",
          "ename": "NameError",
          "evalue": "ignored",
          "traceback": [
            "\u001b[0;31m---------------------------------------------------------------------------\u001b[0m",
            "\u001b[0;31mNameError\u001b[0m                                 Traceback (most recent call last)",
            "\u001b[0;32m<ipython-input-43-ff5b1ec77868>\u001b[0m in \u001b[0;36m<cell line: 1>\u001b[0;34m()\u001b[0m\n\u001b[0;32m----> 1\u001b[0;31m \u001b[0mprint\u001b[0m\u001b[0;34m(\u001b[0m\u001b[0mtotal_bill\u001b[0m\u001b[0;34m(\u001b[0m\u001b[0;36m200\u001b[0m\u001b[0;34m,\u001b[0m \u001b[0;36m650\u001b[0m\u001b[0;34m)\u001b[0m\u001b[0;34m)\u001b[0m\u001b[0;34m\u001b[0m\u001b[0;34m\u001b[0m\u001b[0m\n\u001b[0m",
            "\u001b[0;31mNameError\u001b[0m: name 'total_bill' is not defined"
          ]
        }
      ]
    },
    {
      "cell_type": "code",
      "source": [
        "class Bill():\n",
        "    def __init__(self, prev_read, cur_read):\n",
        "        #YOUR CODE GOESS HERE\n",
        "        self.cur_read = cur_read\n",
        "        self.prev_read = prev_read\n",
        "    def total_bill(self):\n",
        "        total=0.0\n",
        "        units= self.cur_read - self.prev_read\n",
        "        if units in range(1,101):\n",
        "            total += units*3.5\n",
        "        elif units in range(101, 201):\n",
        "            total += (units-100)*5 + 350\n",
        "        else:\n",
        "            total += (units-200)*8 + 850\n",
        "        total += 150\n",
        "        return total\n",
        "obj = Bill(200,650)\n",
        "print(obj.total_bill())"
      ],
      "metadata": {
        "id": "lILMsNyaExNd",
        "colab": {
          "base_uri": "https://localhost:8080/"
        },
        "outputId": "d4af65a1-52a9-4f2e-c82d-1d52dd54703f"
      },
      "execution_count": null,
      "outputs": [
        {
          "output_type": "stream",
          "name": "stdout",
          "text": [
            "3000.0\n"
          ]
        }
      ]
    },
    {
      "cell_type": "code",
      "source": [
        "obj = Bill(100,950)\n",
        "print(obj.total_bill())"
      ],
      "metadata": {
        "colab": {
          "base_uri": "https://localhost:8080/"
        },
        "id": "UW4H2O2WFlGW",
        "outputId": "2e803b46-eccf-4a35-bab5-7518db514c1c"
      },
      "execution_count": null,
      "outputs": [
        {
          "output_type": "stream",
          "name": "stdout",
          "text": [
            "6200.0\n"
          ]
        }
      ]
    },
    {
      "cell_type": "code",
      "source": [
        "class Student:\n",
        "    def __init__(self, marks1, marks2, credits1, credits2):\n",
        "        self.marks1= marks1\n",
        "        self.marks2= marks2\n",
        "        self.credits1= credits1\n",
        "        self.credits2= credits2\n",
        "\n",
        "    def points(self, marks):\n",
        "        if marks in range(90,100):\n",
        "          return 10\n",
        "        elif marks in range(75,90):\n",
        "          return 9\n",
        "        elif marks in range(60,75):\n",
        "          return 8\n",
        "        elif  marks in range(45,60):\n",
        "          return 7\n",
        "        else:\n",
        "          return 0\n",
        "\n",
        "    def grade_point_average(self):\n",
        "        if self.credits1!=0 and self.credits2!=0:\n",
        "          gpa= ((self.points(self.marks1)*self.credits1) + self.points(self.marks2)*self.credits2) / (self.credits1 + self.credits2)\n",
        "          return round(gpa,2)\n",
        "        else:\n",
        "          return \"Zero credits for both subjects\"\n",
        "\n",
        "obj=student(85, 3, 76, 4)\n",
        "print(obj.points(85))\n",
        "print(obj.grade_point_average())"
      ],
      "metadata": {
        "colab": {
          "base_uri": "https://localhost:8080/",
          "height": 217
        },
        "id": "JOB-1APeFZbE",
        "outputId": "cb91439c-0047-41c3-93e3-1a829523e1c6"
      },
      "execution_count": null,
      "outputs": [
        {
          "output_type": "stream",
          "name": "stdout",
          "text": [
            "9\n"
          ]
        },
        {
          "output_type": "error",
          "ename": "AttributeError",
          "evalue": "ignored",
          "traceback": [
            "\u001b[0;31m---------------------------------------------------------------------------\u001b[0m",
            "\u001b[0;31mAttributeError\u001b[0m                            Traceback (most recent call last)",
            "\u001b[0;32m<ipython-input-19-c1b584321109>\u001b[0m in \u001b[0;36m<cell line: 29>\u001b[0;34m()\u001b[0m\n\u001b[1;32m     27\u001b[0m \u001b[0mobj\u001b[0m\u001b[0;34m=\u001b[0m\u001b[0mstudent\u001b[0m\u001b[0;34m(\u001b[0m\u001b[0;36m85\u001b[0m\u001b[0;34m,\u001b[0m \u001b[0;36m3\u001b[0m\u001b[0;34m,\u001b[0m \u001b[0;36m76\u001b[0m\u001b[0;34m,\u001b[0m \u001b[0;36m4\u001b[0m\u001b[0;34m)\u001b[0m\u001b[0;34m\u001b[0m\u001b[0;34m\u001b[0m\u001b[0m\n\u001b[1;32m     28\u001b[0m \u001b[0mprint\u001b[0m\u001b[0;34m(\u001b[0m\u001b[0mobj\u001b[0m\u001b[0;34m.\u001b[0m\u001b[0mpoints\u001b[0m\u001b[0;34m(\u001b[0m\u001b[0;36m85\u001b[0m\u001b[0;34m)\u001b[0m\u001b[0;34m)\u001b[0m\u001b[0;34m\u001b[0m\u001b[0;34m\u001b[0m\u001b[0m\n\u001b[0;32m---> 29\u001b[0;31m \u001b[0mprint\u001b[0m\u001b[0;34m(\u001b[0m\u001b[0mobj\u001b[0m\u001b[0;34m.\u001b[0m\u001b[0mgrade_point_average\u001b[0m\u001b[0;34m(\u001b[0m\u001b[0;34m)\u001b[0m\u001b[0;34m)\u001b[0m\u001b[0;34m\u001b[0m\u001b[0;34m\u001b[0m\u001b[0m\n\u001b[0m",
            "\u001b[0;31mAttributeError\u001b[0m: 'student' object has no attribute 'grade_point_average'"
          ]
        }
      ]
    },
    {
      "cell_type": "code",
      "source": [
        "class Reactangle:\n",
        "    def __init__(self, x, y):\n",
        "        self.l = x\n",
        "        self.b = y\n",
        "\n",
        "    def perimeter(self):\n",
        "        return 2 * (self.l + self.b)\n",
        "\n",
        "    def area(self):\n",
        "        return (self.l * self.b)\n",
        "obj= Reactangle(5, 3)\n",
        "print(obj.perimeter())\n",
        "print(obj.area())"
      ],
      "metadata": {
        "id": "ngBWKz8SFd5S",
        "colab": {
          "base_uri": "https://localhost:8080/"
        },
        "outputId": "6bb2eafb-1d42-422d-8b06-c459181c670c"
      },
      "execution_count": null,
      "outputs": [
        {
          "output_type": "stream",
          "name": "stdout",
          "text": [
            "16\n",
            "15\n"
          ]
        }
      ]
    },
    {
      "cell_type": "code",
      "source": [
        "class Reactangle:\n",
        "    def __init__(self, x, y):\n",
        "        self.x = x\n",
        "        self.y = y\n",
        "\n",
        "    def perimeter(self):\n",
        "        return 2 * (self.x + self.y)\n",
        "\n",
        "    def area(self):\n",
        "        return (self.x * self.y)\n",
        "obj= Reactangle(5, 3)\n",
        "print(obj.perimeter())\n",
        "print(obj.area())"
      ],
      "metadata": {
        "colab": {
          "base_uri": "https://localhost:8080/"
        },
        "id": "tXePKjIfOOL3",
        "outputId": "f0c7a97a-744f-4394-e159-0d8681ea7f91"
      },
      "execution_count": null,
      "outputs": [
        {
          "output_type": "stream",
          "name": "stdout",
          "text": [
            "16\n",
            "15\n"
          ]
        }
      ]
    },
    {
      "cell_type": "code",
      "source": [
        "class Circle:\n",
        "    def __init__(self, r):\n",
        "        self.r= r\n",
        "    def perimeter(self):\n",
        "       return 2*3.14*self.r\n",
        "    def area(self):\n",
        "        return 3.14*(self.r)**2\n",
        "obj = Circle(7)\n",
        "print(obj.perimeter())\n",
        "print(obj.area())\n",
        "print(obj.area)"
      ],
      "metadata": {
        "colab": {
          "base_uri": "https://localhost:8080/"
        },
        "id": "SSIR_JYoOrKr",
        "outputId": "1b5717f6-6239-40fb-8916-490b9415ccf2"
      },
      "execution_count": null,
      "outputs": [
        {
          "output_type": "stream",
          "name": "stdout",
          "text": [
            "43.96\n",
            "153.86\n",
            "<bound method Circle.area of <__main__.Circle object at 0x7f323cf12580>>\n"
          ]
        }
      ]
    },
    {
      "cell_type": "code",
      "source": [
        "obj = Circle(1)\n",
        "print(obj.perimeter())\n",
        "print(obj.area())"
      ],
      "metadata": {
        "colab": {
          "base_uri": "https://localhost:8080/"
        },
        "id": "-zDe7q2jQecN",
        "outputId": "cb17dfe9-c213-4644-bed0-65ca574e2d84"
      },
      "execution_count": null,
      "outputs": [
        {
          "output_type": "stream",
          "name": "stdout",
          "text": [
            "6.28\n",
            "3.14\n"
          ]
        }
      ]
    },
    {
      "cell_type": "code",
      "source": [
        "class solution:\n",
        "  def initial(self,sets):\n",
        "    return self.final(sets)\n",
        "\n",
        "  def final(self, sets):\n",
        "    return list(map(lambda x: ((x**3)%2==0,x**3),sets))\n",
        "\n",
        "print(solution().initial([4,5,6]))"
      ],
      "metadata": {
        "colab": {
          "base_uri": "https://localhost:8080/"
        },
        "id": "lmdXABxVQIuP",
        "outputId": "c88365ab-1a9f-4692-dfa7-f7337d7ede45"
      },
      "execution_count": null,
      "outputs": [
        {
          "output_type": "stream",
          "name": "stdout",
          "text": [
            "[(True, 64), (False, 125), (True, 216)]\n"
          ]
        }
      ]
    },
    {
      "cell_type": "code",
      "source": [
        "class solution:\n",
        "  def initial(self,sets):\n",
        "    return self.final(sets)\n",
        "\n",
        "  def final(self, sets):\n",
        "    return (lambda x: ((x**3)%2==0,x**3),sets)\n",
        "\n",
        "print(solution().initial([4,5,6]))"
      ],
      "metadata": {
        "colab": {
          "base_uri": "https://localhost:8080/"
        },
        "id": "jowU9eVjcqBS",
        "outputId": "af3c2a06-0c48-45bd-d981-615434838e64"
      },
      "execution_count": null,
      "outputs": [
        {
          "output_type": "stream",
          "name": "stdout",
          "text": [
            "(<function solution.final.<locals>.<lambda> at 0x7f323cef4160>, [4, 5, 6])\n"
          ]
        }
      ]
    },
    {
      "cell_type": "code",
      "source": [
        "class solution:\n",
        "  def initial(self,sets):\n",
        "    return self.final(sets)\n",
        "\n",
        "  def final(self, sets):\n",
        "    return map(lambda x: ((x**3)%2==0,x**3),sets)\n",
        "\n",
        "print(solution().initial([4,5,6]))"
      ],
      "metadata": {
        "colab": {
          "base_uri": "https://localhost:8080/"
        },
        "id": "NHYpNy11c-a8",
        "outputId": "4426cf37-efda-4559-ecb6-e234ae15f53a"
      },
      "execution_count": null,
      "outputs": [
        {
          "output_type": "stream",
          "name": "stdout",
          "text": [
            "<map object at 0x7f323cf26970>\n"
          ]
        }
      ]
    },
    {
      "cell_type": "code",
      "source": [
        "def func_square(x):\n",
        "  c= x*x\n",
        "  return c\n",
        "func_square(7)"
      ],
      "metadata": {
        "colab": {
          "base_uri": "https://localhost:8080/"
        },
        "id": "Xo0QbueOdF2-",
        "outputId": "4b90fb5d-1bfa-4a69-e320-0cefefb2f24e"
      },
      "execution_count": null,
      "outputs": [
        {
          "output_type": "execute_result",
          "data": {
            "text/plain": [
              "49"
            ]
          },
          "metadata": {},
          "execution_count": 24
        }
      ]
    },
    {
      "cell_type": "code",
      "source": [
        "(lambda x: x*x)(7)"
      ],
      "metadata": {
        "colab": {
          "base_uri": "https://localhost:8080/"
        },
        "id": "R7PnXZhedN_d",
        "outputId": "3b748f1d-33ee-45c4-f0c5-1187bd627af2"
      },
      "execution_count": null,
      "outputs": [
        {
          "output_type": "execute_result",
          "data": {
            "text/plain": [
              "49"
            ]
          },
          "metadata": {},
          "execution_count": 29
        }
      ]
    },
    {
      "cell_type": "code",
      "source": [
        "(lambda x, y: x*y)(6,7)"
      ],
      "metadata": {
        "colab": {
          "base_uri": "https://localhost:8080/"
        },
        "id": "YGt6jnxVexkU",
        "outputId": "a7dfde0e-55dd-46fb-84df-65faf6001ec9"
      },
      "execution_count": null,
      "outputs": [
        {
          "output_type": "execute_result",
          "data": {
            "text/plain": [
              "42"
            ]
          },
          "metadata": {},
          "execution_count": 34
        }
      ]
    },
    {
      "cell_type": "code",
      "source": [
        "(lambda x, y, z : x*y*z)(2,3,4)"
      ],
      "metadata": {
        "colab": {
          "base_uri": "https://localhost:8080/"
        },
        "id": "Voei2hRjfM7t",
        "outputId": "52b5a5da-9fbf-4170-9c2c-1c968f095110"
      },
      "execution_count": null,
      "outputs": [
        {
          "output_type": "execute_result",
          "data": {
            "text/plain": [
              "24"
            ]
          },
          "metadata": {},
          "execution_count": 36
        }
      ]
    },
    {
      "cell_type": "code",
      "source": [
        "(lambda a, b, c: a-b-c)(2,3,4)"
      ],
      "metadata": {
        "colab": {
          "base_uri": "https://localhost:8080/"
        },
        "id": "zL2nMGlff4GP",
        "outputId": "20733716-d058-4ba8-f691-1b0ee43ae2ac"
      },
      "execution_count": null,
      "outputs": [
        {
          "output_type": "execute_result",
          "data": {
            "text/plain": [
              "-5"
            ]
          },
          "metadata": {},
          "execution_count": 37
        }
      ]
    },
    {
      "cell_type": "code",
      "source": [
        "def func(x):\n",
        "  if x>5:\n",
        "    return \"Num is greater than 5\"\n",
        "  else:\n",
        "    return \"Num is smaller than 5\""
      ],
      "metadata": {
        "id": "ByY8duzGgGO_"
      },
      "execution_count": null,
      "outputs": []
    },
    {
      "cell_type": "code",
      "source": [
        "func(7)"
      ],
      "metadata": {
        "colab": {
          "base_uri": "https://localhost:8080/",
          "height": 35
        },
        "id": "uZSn3Qpmgkeu",
        "outputId": "3d795cb6-4a20-475a-c448-0e98f13b921d"
      },
      "execution_count": null,
      "outputs": [
        {
          "output_type": "execute_result",
          "data": {
            "text/plain": [
              "'Num is greater than 5'"
            ],
            "application/vnd.google.colaboratory.intrinsic+json": {
              "type": "string"
            }
          },
          "metadata": {},
          "execution_count": 39
        }
      ]
    },
    {
      "cell_type": "code",
      "source": [
        "func(4)"
      ],
      "metadata": {
        "colab": {
          "base_uri": "https://localhost:8080/",
          "height": 35
        },
        "id": "DGAowBaDgw7E",
        "outputId": "0bd9e2ed-2912-4921-d39b-17ae6c0a87ce"
      },
      "execution_count": null,
      "outputs": [
        {
          "output_type": "execute_result",
          "data": {
            "text/plain": [
              "'Num is smaller than 5'"
            ],
            "application/vnd.google.colaboratory.intrinsic+json": {
              "type": "string"
            }
          },
          "metadata": {},
          "execution_count": 41
        }
      ]
    },
    {
      "cell_type": "code",
      "source": [
        "fun= lambda x : \"Num is greater than 5\" if x>5 else \"Num is smaller than 5\""
      ],
      "metadata": {
        "id": "2y43KM8fgy8N"
      },
      "execution_count": null,
      "outputs": []
    },
    {
      "cell_type": "code",
      "source": [
        "fun(7)"
      ],
      "metadata": {
        "colab": {
          "base_uri": "https://localhost:8080/",
          "height": 35
        },
        "id": "iVJcADs_hFQx",
        "outputId": "1f4b1780-2032-4bb7-bd48-817b4d8c86d0"
      },
      "execution_count": null,
      "outputs": [
        {
          "output_type": "execute_result",
          "data": {
            "text/plain": [
              "'Num is greater than 5'"
            ],
            "application/vnd.google.colaboratory.intrinsic+json": {
              "type": "string"
            }
          },
          "metadata": {},
          "execution_count": 46
        }
      ]
    },
    {
      "cell_type": "code",
      "source": [
        "f = lambda x : \"Num is greater than 5\" if x>5 else \"Num is smaller than 3\" if x<3 else \"Num is between 3 and 5\""
      ],
      "metadata": {
        "id": "rH7MN8k6hfFY"
      },
      "execution_count": null,
      "outputs": []
    },
    {
      "cell_type": "code",
      "source": [
        "f(4)"
      ],
      "metadata": {
        "colab": {
          "base_uri": "https://localhost:8080/",
          "height": 35
        },
        "id": "t1HhZgaAizlL",
        "outputId": "98599ba0-f24e-44a0-e26c-52fa09937c61"
      },
      "execution_count": null,
      "outputs": [
        {
          "output_type": "execute_result",
          "data": {
            "text/plain": [
              "'Num is between 3 and 5'"
            ],
            "application/vnd.google.colaboratory.intrinsic+json": {
              "type": "string"
            }
          },
          "metadata": {},
          "execution_count": 58
        }
      ]
    },
    {
      "cell_type": "code",
      "source": [
        "f(7)"
      ],
      "metadata": {
        "colab": {
          "base_uri": "https://localhost:8080/",
          "height": 35
        },
        "id": "VJjadNh0jj4u",
        "outputId": "e6469f3e-0da7-4657-c008-95f6711b1dbf"
      },
      "execution_count": null,
      "outputs": [
        {
          "output_type": "execute_result",
          "data": {
            "text/plain": [
              "'Num is greater than 5'"
            ],
            "application/vnd.google.colaboratory.intrinsic+json": {
              "type": "string"
            }
          },
          "metadata": {},
          "execution_count": 59
        }
      ]
    },
    {
      "cell_type": "code",
      "source": [
        "f(3)"
      ],
      "metadata": {
        "colab": {
          "base_uri": "https://localhost:8080/",
          "height": 35
        },
        "id": "74grkewOjoHo",
        "outputId": "2932628b-2602-40e4-bf6e-1727021a2c52"
      },
      "execution_count": null,
      "outputs": [
        {
          "output_type": "execute_result",
          "data": {
            "text/plain": [
              "'Num is between 3 and 5'"
            ],
            "application/vnd.google.colaboratory.intrinsic+json": {
              "type": "string"
            }
          },
          "metadata": {},
          "execution_count": 60
        }
      ]
    },
    {
      "cell_type": "code",
      "source": [
        "f(2)"
      ],
      "metadata": {
        "colab": {
          "base_uri": "https://localhost:8080/",
          "height": 35
        },
        "id": "1TxrTY35jqJs",
        "outputId": "818a10a5-3ef7-42cc-852f-31db53552b94"
      },
      "execution_count": null,
      "outputs": [
        {
          "output_type": "execute_result",
          "data": {
            "text/plain": [
              "'Num is smaller than 3'"
            ],
            "application/vnd.google.colaboratory.intrinsic+json": {
              "type": "string"
            }
          },
          "metadata": {},
          "execution_count": 61
        }
      ]
    },
    {
      "cell_type": "code",
      "source": [
        "a= lambda x, y : [x*y, x+y]\n",
        "a(5,6)"
      ],
      "metadata": {
        "colab": {
          "base_uri": "https://localhost:8080/"
        },
        "id": "mwQLwCPXjsfj",
        "outputId": "b93a2713-6dcc-4dc5-c564-5ef0ec7f9fa0"
      },
      "execution_count": null,
      "outputs": [
        {
          "output_type": "execute_result",
          "data": {
            "text/plain": [
              "[30, 11]"
            ]
          },
          "metadata": {},
          "execution_count": 62
        }
      ]
    },
    {
      "cell_type": "code",
      "source": [
        "b= lambda x, y : {x*y, x+y}\n",
        "b(5,6)"
      ],
      "metadata": {
        "colab": {
          "base_uri": "https://localhost:8080/"
        },
        "id": "DXNGdl6uklRb",
        "outputId": "b318e93a-46be-4114-8c6a-22a6eba47570"
      },
      "execution_count": null,
      "outputs": [
        {
          "output_type": "execute_result",
          "data": {
            "text/plain": [
              "{11, 30}"
            ]
          },
          "metadata": {},
          "execution_count": 63
        }
      ]
    },
    {
      "cell_type": "code",
      "source": [
        "list= [[2,3],\n",
        "       [4,2],\n",
        "       [1,9]]\n",
        "sorted(list)"
      ],
      "metadata": {
        "colab": {
          "base_uri": "https://localhost:8080/"
        },
        "id": "b6yHL6NYkttz",
        "outputId": "9a1eb2b1-1446-43ac-804e-57663dda40e9"
      },
      "execution_count": null,
      "outputs": [
        {
          "output_type": "execute_result",
          "data": {
            "text/plain": [
              "[[1, 9], [2, 3], [4, 2]]"
            ]
          },
          "metadata": {},
          "execution_count": 64
        }
      ]
    },
    {
      "cell_type": "code",
      "source": [
        "sorted(list, key=lambda x:x[1])"
      ],
      "metadata": {
        "colab": {
          "base_uri": "https://localhost:8080/"
        },
        "id": "ZtIdTZRwk66a",
        "outputId": "848d6a4f-c7e1-4eb3-9930-741960af61e5"
      },
      "execution_count": null,
      "outputs": [
        {
          "output_type": "execute_result",
          "data": {
            "text/plain": [
              "[[4, 2], [2, 3], [1, 9]]"
            ]
          },
          "metadata": {},
          "execution_count": 65
        }
      ]
    },
    {
      "cell_type": "code",
      "source": [
        "(lambda x: x[1])([4,2])"
      ],
      "metadata": {
        "colab": {
          "base_uri": "https://localhost:8080/"
        },
        "id": "NLb6fES2lGWo",
        "outputId": "c74b6e66-dd44-4b78-b515-b2fea0843216"
      },
      "execution_count": null,
      "outputs": [
        {
          "output_type": "execute_result",
          "data": {
            "text/plain": [
              "2"
            ]
          },
          "metadata": {},
          "execution_count": 70
        }
      ]
    },
    {
      "cell_type": "code",
      "source": [
        "(lambda x: x[2])([1,9,6,8,9])"
      ],
      "metadata": {
        "colab": {
          "base_uri": "https://localhost:8080/"
        },
        "id": "TreQvpM3lPqI",
        "outputId": "36330143-74ce-47cb-d83a-42c801da2473"
      },
      "execution_count": null,
      "outputs": [
        {
          "output_type": "execute_result",
          "data": {
            "text/plain": [
              "6"
            ]
          },
          "metadata": {},
          "execution_count": 73
        }
      ]
    },
    {
      "cell_type": "code",
      "source": [
        "students = [{\"name\": \"A\", \"Marks\": 50},\n",
        "            {\"name\": \"B\", \"Marks\": 100},\n",
        "            {\"name\": \"C\", \"Marks\": 40},\n",
        "            {\"name\": \"D\", \"Marks\": 80}]"
      ],
      "metadata": {
        "id": "7ozXpQldl7Cv"
      },
      "execution_count": null,
      "outputs": []
    },
    {
      "cell_type": "code",
      "source": [
        "sorted(students, key= lambda x: x[\"Marks\"])"
      ],
      "metadata": {
        "colab": {
          "base_uri": "https://localhost:8080/"
        },
        "id": "Wx5mLdPOmbAt",
        "outputId": "a2a1991d-730b-47b5-9066-04879a32b47c"
      },
      "execution_count": null,
      "outputs": [
        {
          "output_type": "execute_result",
          "data": {
            "text/plain": [
              "[{'name': 'C', 'Marks': 40},\n",
              " {'name': 'A', 'Marks': 50},\n",
              " {'name': 'D', 'Marks': 80},\n",
              " {'name': 'B', 'Marks': 100}]"
            ]
          },
          "metadata": {},
          "execution_count": 77
        }
      ]
    },
    {
      "cell_type": "code",
      "source": [
        "sorted(students, key= lambda x: x[\"Marks\"], reverse= True)"
      ],
      "metadata": {
        "colab": {
          "base_uri": "https://localhost:8080/"
        },
        "id": "GRBX3UIGms8h",
        "outputId": "60f94ebd-851f-4cee-c7f0-6f936d07e314"
      },
      "execution_count": null,
      "outputs": [
        {
          "output_type": "execute_result",
          "data": {
            "text/plain": [
              "[{'name': 'B', 'Marks': 100},\n",
              " {'name': 'D', 'Marks': 80},\n",
              " {'name': 'A', 'Marks': 50},\n",
              " {'name': 'C', 'Marks': 40}]"
            ]
          },
          "metadata": {},
          "execution_count": 78
        }
      ]
    },
    {
      "cell_type": "code",
      "source": [
        "order = {\"Cust1\": 50, \"Cust2\": 90, \"Cust3\":30, \"Cust4\": 80}"
      ],
      "metadata": {
        "id": "xer0S2hDm6UA"
      },
      "execution_count": null,
      "outputs": []
    },
    {
      "cell_type": "code",
      "source": [
        "sorted(order, key=lambda x: x)"
      ],
      "metadata": {
        "colab": {
          "base_uri": "https://localhost:8080/",
          "height": 130
        },
        "id": "PwlU5TjpnUps",
        "outputId": "0bc8d9bd-5874-414a-8a82-bcbf6d829a96"
      },
      "execution_count": null,
      "outputs": [
        {
          "output_type": "error",
          "ename": "SyntaxError",
          "evalue": "ignored",
          "traceback": [
            "\u001b[0;36m  File \u001b[0;32m\"<ipython-input-86-74757bc80082>\"\u001b[0;36m, line \u001b[0;32m1\u001b[0m\n\u001b[0;31m    sorted(order, key=lambda x: x{Cust})\u001b[0m\n\u001b[0m                                 ^\u001b[0m\n\u001b[0;31mSyntaxError\u001b[0m\u001b[0;31m:\u001b[0m invalid syntax\n"
          ]
        }
      ]
    },
    {
      "cell_type": "code",
      "source": [
        "list= [1, 2, 3, 4, 5]\n",
        "output= []\n",
        "f= lambda x: x*x\n",
        "for i in list:\n",
        "  output.append(f(i))\n",
        "output"
      ],
      "metadata": {
        "colab": {
          "base_uri": "https://localhost:8080/"
        },
        "id": "zKEpD5ndnoz8",
        "outputId": "2f984273-4037-4e20-ba8a-4d545861bf36"
      },
      "execution_count": null,
      "outputs": [
        {
          "output_type": "execute_result",
          "data": {
            "text/plain": [
              "[1, 4, 9, 16, 25]"
            ]
          },
          "metadata": {},
          "execution_count": 87
        }
      ]
    },
    {
      "cell_type": "code",
      "source": [
        "[i*i for i in list]"
      ],
      "metadata": {
        "colab": {
          "base_uri": "https://localhost:8080/"
        },
        "id": "0eT8cravq9Dz",
        "outputId": "8a4e13e1-c8d2-462a-b5e8-aefec8c42dbd"
      },
      "execution_count": null,
      "outputs": [
        {
          "output_type": "execute_result",
          "data": {
            "text/plain": [
              "[1, 4, 9, 16, 25]"
            ]
          },
          "metadata": {},
          "execution_count": 88
        }
      ]
    },
    {
      "cell_type": "code",
      "source": [
        "f= lambda x: x*x\n",
        "list= [1, 3, 5, 7]\n",
        "list(map(f, list))"
      ],
      "metadata": {
        "colab": {
          "base_uri": "https://localhost:8080/",
          "height": 200
        },
        "id": "M5lQoW1prJRi",
        "outputId": "7aca0b83-988f-4fbe-ebbb-c01a11b3714c"
      },
      "execution_count": null,
      "outputs": [
        {
          "output_type": "error",
          "ename": "TypeError",
          "evalue": "ignored",
          "traceback": [
            "\u001b[0;31m---------------------------------------------------------------------------\u001b[0m",
            "\u001b[0;31mTypeError\u001b[0m                                 Traceback (most recent call last)",
            "\u001b[0;32m<ipython-input-91-35f706521a3f>\u001b[0m in \u001b[0;36m<cell line: 3>\u001b[0;34m()\u001b[0m\n\u001b[1;32m      1\u001b[0m \u001b[0mf\u001b[0m\u001b[0;34m=\u001b[0m \u001b[0;32mlambda\u001b[0m \u001b[0mx\u001b[0m\u001b[0;34m:\u001b[0m \u001b[0mx\u001b[0m\u001b[0;34m*\u001b[0m\u001b[0mx\u001b[0m\u001b[0;34m\u001b[0m\u001b[0;34m\u001b[0m\u001b[0m\n\u001b[1;32m      2\u001b[0m \u001b[0mlist\u001b[0m\u001b[0;34m=\u001b[0m \u001b[0;34m[\u001b[0m\u001b[0;36m1\u001b[0m\u001b[0;34m,\u001b[0m \u001b[0;36m3\u001b[0m\u001b[0;34m,\u001b[0m \u001b[0;36m5\u001b[0m\u001b[0;34m,\u001b[0m \u001b[0;36m7\u001b[0m\u001b[0;34m]\u001b[0m\u001b[0;34m\u001b[0m\u001b[0;34m\u001b[0m\u001b[0m\n\u001b[0;32m----> 3\u001b[0;31m \u001b[0mlist\u001b[0m\u001b[0;34m(\u001b[0m\u001b[0mmap\u001b[0m\u001b[0;34m(\u001b[0m\u001b[0mf\u001b[0m\u001b[0;34m,\u001b[0m \u001b[0mlist\u001b[0m\u001b[0;34m)\u001b[0m\u001b[0;34m)\u001b[0m\u001b[0;34m\u001b[0m\u001b[0;34m\u001b[0m\u001b[0m\n\u001b[0m",
            "\u001b[0;31mTypeError\u001b[0m: 'list' object is not callable"
          ]
        }
      ]
    },
    {
      "cell_type": "code",
      "source": [
        "list= [1, 3, 5, 7]\n",
        "[i*i for i in list]"
      ],
      "metadata": {
        "colab": {
          "base_uri": "https://localhost:8080/"
        },
        "id": "hqCuxCMGrWWV",
        "outputId": "312572b8-1a18-4eb6-8b09-2bfffba3f403"
      },
      "execution_count": null,
      "outputs": [
        {
          "output_type": "execute_result",
          "data": {
            "text/plain": [
              "[1, 9, 25, 49]"
            ]
          },
          "metadata": {},
          "execution_count": 92
        }
      ]
    },
    {
      "cell_type": "code",
      "source": [
        "a= input()"
      ],
      "metadata": {
        "colab": {
          "base_uri": "https://localhost:8080/"
        },
        "id": "R-Kj9TqZryP8",
        "outputId": "ee21feb8-578e-4eb0-ca28-38fa2527e7d5"
      },
      "execution_count": null,
      "outputs": [
        {
          "name": "stdout",
          "output_type": "stream",
          "text": [
            "1 2 3 4 5\n"
          ]
        }
      ]
    },
    {
      "cell_type": "code",
      "source": [
        "print(a)"
      ],
      "metadata": {
        "colab": {
          "base_uri": "https://localhost:8080/"
        },
        "id": "uLWw33ddsKfZ",
        "outputId": "57f411d3-fb5a-41ab-e3cc-ad7c0b3213ff"
      },
      "execution_count": null,
      "outputs": [
        {
          "output_type": "stream",
          "name": "stdout",
          "text": [
            "1 2 3 4 5\n"
          ]
        }
      ]
    },
    {
      "cell_type": "code",
      "source": [
        "a.split(\" \")"
      ],
      "metadata": {
        "colab": {
          "base_uri": "https://localhost:8080/"
        },
        "id": "w1wZwJYzsPnQ",
        "outputId": "e14c8fd5-898d-43b1-a448-b19e8116c219"
      },
      "execution_count": null,
      "outputs": [
        {
          "output_type": "execute_result",
          "data": {
            "text/plain": [
              "['1', '2', '3', '4', '5']"
            ]
          },
          "metadata": {},
          "execution_count": 95
        }
      ]
    },
    {
      "cell_type": "code",
      "source": [
        "def mul(i):\n",
        "  return i*i\n",
        "\n",
        "x=map(mul,(1,2,3,4,5))\n",
        "\n",
        "print(x)\n",
        "print(list(x))"
      ],
      "metadata": {
        "colab": {
          "base_uri": "https://localhost:8080/"
        },
        "id": "f_zpDNvJsa1Y",
        "outputId": "efe67fc9-1041-4efb-ee76-c3dc79cde050"
      },
      "execution_count": null,
      "outputs": [
        {
          "output_type": "stream",
          "name": "stdout",
          "text": [
            "<map object at 0x7f1aa36ee2e0>\n",
            "[1, 4, 9, 16, 25]\n"
          ]
        }
      ]
    },
    {
      "cell_type": "code",
      "source": [
        "num = [3, 5, 7, 11, 13]\n",
        "mul = []\n",
        "for n in num:\n",
        "    mul.append(n ** 2)\n",
        "print(mul)"
      ],
      "metadata": {
        "colab": {
          "base_uri": "https://localhost:8080/"
        },
        "id": "7JlGJdCHvAZS",
        "outputId": "2641027c-57aa-4c39-8280-815d95daed0e"
      },
      "execution_count": null,
      "outputs": [
        {
          "output_type": "stream",
          "name": "stdout",
          "text": [
            "[9, 25, 49, 121, 169]\n"
          ]
        }
      ]
    },
    {
      "cell_type": "code",
      "source": [
        "def mul(i):\n",
        "    return i * i\n",
        "num = (3, 5, 7, 11, 13)\n",
        "resu = map(mul, num)\n",
        "print(resu)\n",
        "# making the map object readable\n",
        "mul_output = list(resu)\n",
        "print(mul_output)"
      ],
      "metadata": {
        "colab": {
          "base_uri": "https://localhost:8080/"
        },
        "id": "iXaumBcxwILD",
        "outputId": "600277f0-113e-4355-8a31-4c664d67b1fe"
      },
      "execution_count": null,
      "outputs": [
        {
          "output_type": "stream",
          "name": "stdout",
          "text": [
            "<map object at 0x7f1aa36eec70>\n",
            "[9, 25, 49, 121, 169]\n"
          ]
        }
      ]
    },
    {
      "cell_type": "code",
      "source": [
        "example = [\"Welcome\", \"to\", \"Simplilearn\"]\n",
        "\n",
        "x = list(map(len, example))\n",
        "\n",
        "print(x)"
      ],
      "metadata": {
        "colab": {
          "base_uri": "https://localhost:8080/"
        },
        "id": "MnjZ6GGKwntG",
        "outputId": "793e7277-afca-4440-9d86-21935d5c5800"
      },
      "execution_count": null,
      "outputs": [
        {
          "output_type": "stream",
          "name": "stdout",
          "text": [
            "[7, 2, 11]\n"
          ]
        }
      ]
    },
    {
      "cell_type": "code",
      "source": [
        "import math\n",
        "\n",
        "num = [9, 36, 49, 81, 121]\n",
        "\n",
        "x = list(map(math.sqrt, num))\n",
        "\n",
        "print(x)"
      ],
      "metadata": {
        "colab": {
          "base_uri": "https://localhost:8080/"
        },
        "id": "zoSQCIPOxDHD",
        "outputId": "ca23783a-385b-4e58-8da2-c4ed071e376a"
      },
      "execution_count": null,
      "outputs": [
        {
          "output_type": "stream",
          "name": "stdout",
          "text": [
            "[3.0, 6.0, 7.0, 9.0, 11.0]\n"
          ]
        }
      ]
    },
    {
      "cell_type": "code",
      "source": [
        "a= input()\n",
        "list(map(int, a))"
      ],
      "metadata": {
        "colab": {
          "base_uri": "https://localhost:8080/",
          "height": 200
        },
        "id": "VSp7RN24xrwW",
        "outputId": "3205763b-e789-4a9b-97b7-55e357bf64fc"
      },
      "execution_count": null,
      "outputs": [
        {
          "name": "stdout",
          "output_type": "stream",
          "text": [
            "1 2 3 4 5\n"
          ]
        },
        {
          "output_type": "error",
          "ename": "ValueError",
          "evalue": "ignored",
          "traceback": [
            "\u001b[0;31m---------------------------------------------------------------------------\u001b[0m",
            "\u001b[0;31mValueError\u001b[0m                                Traceback (most recent call last)",
            "\u001b[0;32m<ipython-input-6-f6192238ef04>\u001b[0m in \u001b[0;36m<cell line: 2>\u001b[0;34m()\u001b[0m\n\u001b[1;32m      1\u001b[0m \u001b[0ma\u001b[0m\u001b[0;34m=\u001b[0m \u001b[0minput\u001b[0m\u001b[0;34m(\u001b[0m\u001b[0;34m)\u001b[0m\u001b[0;34m\u001b[0m\u001b[0;34m\u001b[0m\u001b[0m\n\u001b[0;32m----> 2\u001b[0;31m \u001b[0mlist\u001b[0m\u001b[0;34m(\u001b[0m\u001b[0mmap\u001b[0m\u001b[0;34m(\u001b[0m\u001b[0mint\u001b[0m\u001b[0;34m,\u001b[0m \u001b[0ma\u001b[0m\u001b[0;34m)\u001b[0m\u001b[0;34m)\u001b[0m\u001b[0;34m\u001b[0m\u001b[0;34m\u001b[0m\u001b[0m\n\u001b[0m",
            "\u001b[0;31mValueError\u001b[0m: invalid literal for int() with base 10: ' '"
          ]
        }
      ]
    },
    {
      "cell_type": "code",
      "source": [
        "num = (6, 9, 21, 44)\n",
        "\n",
        "resu = map(lambda i: i + i, num)\n",
        "\n",
        "print(resu)\n",
        "print(list(resu))"
      ],
      "metadata": {
        "colab": {
          "base_uri": "https://localhost:8080/"
        },
        "id": "Zawd9JGQy70T",
        "outputId": "4df43ea2-25b4-4ca0-9414-38e41c13d315"
      },
      "execution_count": null,
      "outputs": [
        {
          "output_type": "stream",
          "name": "stdout",
          "text": [
            "<map object at 0x7f1aa36f0d60>\n",
            "[12, 18, 42, 88]\n"
          ]
        }
      ]
    },
    {
      "cell_type": "code",
      "source": [
        "def double(number):\n",
        "    return number*2\n",
        "number_list = [1,2,3,4,5]\n",
        "number_list = map(double, number_list)\n",
        "print(list(number_list))"
      ],
      "metadata": {
        "colab": {
          "base_uri": "https://localhost:8080/"
        },
        "id": "806y1RMazO4D",
        "outputId": "00dae6e6-ef16-4147-de5c-56ca02449858"
      },
      "execution_count": null,
      "outputs": [
        {
          "output_type": "stream",
          "name": "stdout",
          "text": [
            "[2, 4, 6, 8, 10]\n"
          ]
        }
      ]
    },
    {
      "cell_type": "code",
      "source": [
        "base= [10, 20, 30, 40, 50]\n",
        "index= [1, 2, 3, 4, 5]\n",
        "\n",
        "base=[10, 20, 30, 40, 50]\n",
        "index=[1, 2, 3, 4, 5]\n",
        "powers=list(map(pow, base, index))\n",
        "print(list(powers))"
      ],
      "metadata": {
        "colab": {
          "base_uri": "https://localhost:8080/"
        },
        "id": "GpOxaAcizW1X",
        "outputId": "17ce2f75-dfef-4966-cef1-86909eaaaa3d"
      },
      "execution_count": null,
      "outputs": [
        {
          "output_type": "stream",
          "name": "stdout",
          "text": [
            "[10, 400, 27000, 2560000, 312500000]\n"
          ]
        }
      ]
    },
    {
      "cell_type": "code",
      "source": [
        "lst1= [1, 2, 3, 4, 5]\n",
        "list(filter(lambda x: x%2==0, lst1))"
      ],
      "metadata": {
        "colab": {
          "base_uri": "https://localhost:8080/"
        },
        "id": "jae_cgm80fWR",
        "outputId": "6f253e63-c894-44a8-a3e3-637bb91030a1"
      },
      "execution_count": null,
      "outputs": [
        {
          "output_type": "execute_result",
          "data": {
            "text/plain": [
              "[2, 4]"
            ]
          },
          "metadata": {},
          "execution_count": 1
        }
      ]
    },
    {
      "cell_type": "code",
      "source": [
        "class Smaller:\n",
        "    def __init__(self,a):\n",
        "        self.string=a\n",
        "\n",
        "    def display(self):\n",
        "        print(\"The type of Name is smaller\")\n",
        "\n",
        "    def evaluate(self):\n",
        "        ans=0\n",
        "        vowels = \"AaEeIiOoUu\"\n",
        "        final = [each for each in self.string if each in vowels]\n",
        "        ans=len(final)\n",
        "        print(ans)\n",
        "\n",
        "class Larger:\n",
        "    def __init__(self,a):\n",
        "        self.string=a\n",
        "\n",
        "    def display(self):\n",
        "        print(\"The type of Name is larger\")\n",
        "\n",
        "    def evaluate(self):\n",
        "        ans=0\n",
        "        vowels = \"AaEeIiOoUu\"\n",
        "        final = [each for each in self.string if each not in vowels]\n",
        "        ans=len(final)\n",
        "        print(ans)\n",
        "\n",
        "def main(a):\n",
        "    \"\"\"\n",
        "    input a is string\n",
        "    \"\"\"\n",
        "    if len(a)<6:\n",
        "        obj=Smaller(a)\n",
        "        obj.display()\n",
        "        obj.evaluate()\n",
        "    else:\n",
        "        obj=Larger(a)\n",
        "        obj.display()\n",
        "        obj.evaluate()"
      ],
      "metadata": {
        "id": "mpqq2Gw21zx5"
      },
      "execution_count": null,
      "outputs": []
    },
    {
      "cell_type": "code",
      "source": [
        "class MachineLearning:\n",
        "    def __init__(self,name,category):\n",
        "        self.name=name\n",
        "        self.category=category\n",
        "\n",
        "    def getname(self):\n",
        "        return self.name\n",
        "\n",
        "    def getcategory(self):\n",
        "        return self.category\n",
        "\n",
        "    def print(self):\n",
        "        print(\"Name:\",self.name)\n",
        "        print(\"Category:\",self.category)\n",
        "\n",
        "class Supervised(MachineLearning):\n",
        "    def __init__(self,name,category):\n",
        "        super().__init__(name, category)\n",
        "        #YOUR CODE GOES HERE\n",
        "\n",
        "\n",
        "    def type(self):\n",
        "        #YOUR CODE GOES HERE\n",
        "        super().print()\n",
        "        print(\"Supervised Learning Algorithm\")\n",
        "\n",
        "\n",
        "class Unsupervised(MachineLearning):\n",
        "    def __init__(self,name,category):\n",
        "        #YOUR CODE GOES HERE\n",
        "        super().__init__(name, category)\n",
        "\n",
        "\n",
        "    def type(self):\n",
        "        #YOUR CODE GOES HERE\n",
        "        super().print()\n",
        "        print(\"Unsupervised Learning Algorithm\")\n",
        "\n",
        "\n",
        "def mlAnalogy(a,b,c,d):\n",
        "    '''\n",
        "    input=> a,b = name and category for Supervised class\n",
        "            c,d = name and category for Unsupervised class\n",
        "    output=> type() is called for both classes in the end, it should first print the Name and Category then the type of class in new lines\n",
        "    '''\n",
        "\n",
        "    obj1=Supervised(a,b)\n",
        "    obj1.type()\n",
        "    obj2=Unsupervised(c,d)\n",
        "    obj2.type()\n",
        "\n",
        "    return None"
      ],
      "metadata": {
        "id": "0RBt4JYx3krT"
      },
      "execution_count": null,
      "outputs": []
    },
    {
      "cell_type": "code",
      "source": [
        "a = [1, 2, 3, 4, 5]\n",
        "list(map(lambda x : x%2==0, a))"
      ],
      "metadata": {
        "colab": {
          "base_uri": "https://localhost:8080/"
        },
        "id": "FeqLRUBu55eY",
        "outputId": "33351d57-0a29-4191-bb66-c6433b38a259"
      },
      "execution_count": null,
      "outputs": [
        {
          "output_type": "execute_result",
          "data": {
            "text/plain": [
              "[False, True, False, True, False]"
            ]
          },
          "metadata": {},
          "execution_count": 1
        }
      ]
    },
    {
      "cell_type": "code",
      "source": [
        "s= lambda x, y : x+y"
      ],
      "metadata": {
        "id": "k70WnP468MZr"
      },
      "execution_count": null,
      "outputs": []
    },
    {
      "cell_type": "code",
      "source": [
        "s(5,6)"
      ],
      "metadata": {
        "colab": {
          "base_uri": "https://localhost:8080/"
        },
        "id": "K3OPvxrj8osU",
        "outputId": "33f7bd1c-1cec-4776-d7a8-e710bd183f61"
      },
      "execution_count": null,
      "outputs": [
        {
          "output_type": "execute_result",
          "data": {
            "text/plain": [
              "11"
            ]
          },
          "metadata": {},
          "execution_count": 4
        }
      ]
    },
    {
      "cell_type": "code",
      "source": [
        "from functools import reduce"
      ],
      "metadata": {
        "id": "LBdUEvlY-wrY"
      },
      "execution_count": null,
      "outputs": []
    },
    {
      "cell_type": "code",
      "source": [
        "a= [1,2,3,4,5,6]\n",
        "reduce((lambda x, y: x+y), a)"
      ],
      "metadata": {
        "colab": {
          "base_uri": "https://localhost:8080/"
        },
        "id": "pX75osEc_KDh",
        "outputId": "2b587a9a-311f-406a-c260-b29650ef3b88"
      },
      "execution_count": null,
      "outputs": [
        {
          "output_type": "execute_result",
          "data": {
            "text/plain": [
              "21"
            ]
          },
          "metadata": {},
          "execution_count": 10
        }
      ]
    },
    {
      "cell_type": "code",
      "source": [
        "reduce(lambda x, y: x*y, range(1, 11))"
      ],
      "metadata": {
        "colab": {
          "base_uri": "https://localhost:8080/"
        },
        "id": "9V9Gm1lj_NUT",
        "outputId": "ad0ca891-86b0-434f-f9d7-e708b6b9ac69"
      },
      "execution_count": null,
      "outputs": [
        {
          "output_type": "execute_result",
          "data": {
            "text/plain": [
              "3628800"
            ]
          },
          "metadata": {},
          "execution_count": 11
        }
      ]
    },
    {
      "cell_type": "code",
      "source": [
        "reduce(lambda x, y: x*y, range(1, 6))"
      ],
      "metadata": {
        "colab": {
          "base_uri": "https://localhost:8080/"
        },
        "id": "Wfvotk6h_buM",
        "outputId": "ea7b6498-6409-45cc-8a8f-3d46006e396b"
      },
      "execution_count": null,
      "outputs": [
        {
          "output_type": "execute_result",
          "data": {
            "text/plain": [
              "120"
            ]
          },
          "metadata": {},
          "execution_count": 12
        }
      ]
    },
    {
      "cell_type": "code",
      "source": [
        "a= [1, 2, 3, 4]\n",
        "b= [\"a\", \"b\", \"c\", \"d\"]\n",
        "zip(a, b)"
      ],
      "metadata": {
        "colab": {
          "base_uri": "https://localhost:8080/"
        },
        "id": "mScJDVIw_hTu",
        "outputId": "df9be62d-f162-4cc7-885f-f3d05e2f0953"
      },
      "execution_count": null,
      "outputs": [
        {
          "output_type": "execute_result",
          "data": {
            "text/plain": [
              "<zip at 0x7f3637534080>"
            ]
          },
          "metadata": {},
          "execution_count": 13
        }
      ]
    },
    {
      "cell_type": "code",
      "source": [
        "list(zip(a, b))"
      ],
      "metadata": {
        "colab": {
          "base_uri": "https://localhost:8080/"
        },
        "id": "jhzlET_4_5vz",
        "outputId": "fcbe2ebb-c37b-43ca-a65e-2289c3a8512f"
      },
      "execution_count": null,
      "outputs": [
        {
          "output_type": "execute_result",
          "data": {
            "text/plain": [
              "[(1, 'a'), (2, 'b'), (3, 'c'), (4, 'd')]"
            ]
          },
          "metadata": {},
          "execution_count": 14
        }
      ]
    },
    {
      "cell_type": "code",
      "source": [
        "dict(zip(a, b))"
      ],
      "metadata": {
        "colab": {
          "base_uri": "https://localhost:8080/"
        },
        "id": "eXp5ISNV_9DY",
        "outputId": "84c044d6-0c16-4f8f-def2-96e874ac6937"
      },
      "execution_count": null,
      "outputs": [
        {
          "output_type": "execute_result",
          "data": {
            "text/plain": [
              "{1: 'a', 2: 'b', 3: 'c', 4: 'd'}"
            ]
          },
          "metadata": {},
          "execution_count": 15
        }
      ]
    },
    {
      "cell_type": "code",
      "source": [
        "set(zip(a, b))"
      ],
      "metadata": {
        "colab": {
          "base_uri": "https://localhost:8080/"
        },
        "id": "JQ22SS_PAALF",
        "outputId": "c1549bbc-4ceb-4aa7-b984-31cbb570fca0"
      },
      "execution_count": null,
      "outputs": [
        {
          "output_type": "execute_result",
          "data": {
            "text/plain": [
              "{(1, 'a'), (2, 'b'), (3, 'c'), (4, 'd')}"
            ]
          },
          "metadata": {},
          "execution_count": 16
        }
      ]
    },
    {
      "cell_type": "code",
      "source": [
        "c= [1, 2, 3, 4]\n",
        "d= [\"b\", \"c\", \"d\"]\n",
        "\n",
        "set(zip(c, d))"
      ],
      "metadata": {
        "colab": {
          "base_uri": "https://localhost:8080/"
        },
        "id": "g9IryiDtAEwe",
        "outputId": "4aad7159-5609-43c4-d501-e542b173437e"
      },
      "execution_count": null,
      "outputs": [
        {
          "output_type": "execute_result",
          "data": {
            "text/plain": [
              "{(1, 'b'), (2, 'c'), (3, 'd')}"
            ]
          },
          "metadata": {},
          "execution_count": 20
        }
      ]
    },
    {
      "cell_type": "code",
      "source": [
        "c= [1, 2, 3, 4]\n",
        "d= [\"b\", \"c\", \"d\"]\n",
        "\n",
        "list(zip(c, d))"
      ],
      "metadata": {
        "colab": {
          "base_uri": "https://localhost:8080/"
        },
        "id": "J5HMHa1_AWLV",
        "outputId": "3e727807-3859-40e0-97b7-82f7fbaba441"
      },
      "execution_count": null,
      "outputs": [
        {
          "output_type": "execute_result",
          "data": {
            "text/plain": [
              "[(1, 'b'), (2, 'c'), (3, 'd')]"
            ]
          },
          "metadata": {},
          "execution_count": 18
        }
      ]
    },
    {
      "cell_type": "code",
      "source": [
        "c= [1, 2, 3, 4]\n",
        "d= [\"b\", \"c\", \"d\"]\n",
        "dict(zip(c, d))\n"
      ],
      "metadata": {
        "colab": {
          "base_uri": "https://localhost:8080/"
        },
        "id": "oiQGrgVUAiXt",
        "outputId": "93de597a-b49f-4489-e17a-6f0b7d6a30b0"
      },
      "execution_count": null,
      "outputs": [
        {
          "output_type": "execute_result",
          "data": {
            "text/plain": [
              "{1: 'b', 2: 'c', 3: 'd'}"
            ]
          },
          "metadata": {},
          "execution_count": 19
        }
      ]
    },
    {
      "cell_type": "code",
      "source": [
        "def gen_exp(n):\n",
        "  def exp(x):\n",
        "    return x**n\n",
        "  return exp\n",
        "gen_exp(2)"
      ],
      "metadata": {
        "colab": {
          "base_uri": "https://localhost:8080/"
        },
        "id": "sPJQshmwAluZ",
        "outputId": "e69b30b3-6392-4a19-99e1-704f8901a1d5"
      },
      "execution_count": null,
      "outputs": [
        {
          "output_type": "execute_result",
          "data": {
            "text/plain": [
              "<function __main__.gen_exp.<locals>.exp(x)>"
            ]
          },
          "metadata": {},
          "execution_count": 25
        }
      ]
    },
    {
      "cell_type": "code",
      "source": [
        "def exp_5(x):\n",
        "  return x**5\n",
        "exp_5(2)"
      ],
      "metadata": {
        "colab": {
          "base_uri": "https://localhost:8080/"
        },
        "id": "2WDR-vmXKUZf",
        "outputId": "96d11016-28ed-4ad5-8e81-6df2b8ff1a45"
      },
      "execution_count": null,
      "outputs": [
        {
          "output_type": "execute_result",
          "data": {
            "text/plain": [
              "32"
            ]
          },
          "metadata": {},
          "execution_count": 26
        }
      ]
    },
    {
      "cell_type": "code",
      "source": [
        "exp_5(2)"
      ],
      "metadata": {
        "colab": {
          "base_uri": "https://localhost:8080/"
        },
        "id": "mb45OjjmLFdh",
        "outputId": "1dd035b3-bc1e-4d32-da97-fee55df5830c"
      },
      "execution_count": null,
      "outputs": [
        {
          "output_type": "execute_result",
          "data": {
            "text/plain": [
              "32"
            ]
          },
          "metadata": {},
          "execution_count": 28
        }
      ]
    },
    {
      "cell_type": "code",
      "source": [
        "def gen_exp(n):\n",
        "  def exp(x):\n",
        "    return x**n\n",
        "  return exp\n",
        "gen_exp(5)"
      ],
      "metadata": {
        "colab": {
          "base_uri": "https://localhost:8080/"
        },
        "id": "1xgxKaXnLJnD",
        "outputId": "414123a4-8cb8-4f86-842a-7b65e62d7bc0"
      },
      "execution_count": null,
      "outputs": [
        {
          "output_type": "execute_result",
          "data": {
            "text/plain": [
              "<function __main__.gen_exp.<locals>.exp(x)>"
            ]
          },
          "metadata": {},
          "execution_count": 29
        }
      ]
    },
    {
      "cell_type": "code",
      "source": [
        "def gen_exp(n):\n",
        "  def exp(x):\n",
        "    return 2**n\n",
        "  return exp\n",
        "gen_exp(5)"
      ],
      "metadata": {
        "colab": {
          "base_uri": "https://localhost:8080/"
        },
        "id": "L-8n3GNxLoo9",
        "outputId": "5109983e-eec7-4cf0-b777-b942712602ce"
      },
      "execution_count": null,
      "outputs": [
        {
          "output_type": "execute_result",
          "data": {
            "text/plain": [
              "<function __main__.gen_exp.<locals>.exp(x)>"
            ]
          },
          "metadata": {},
          "execution_count": 31
        }
      ]
    },
    {
      "cell_type": "code",
      "source": [
        "print(gen_exp(5))"
      ],
      "metadata": {
        "colab": {
          "base_uri": "https://localhost:8080/"
        },
        "id": "9keVt2zUL0MX",
        "outputId": "3fdff70c-d6da-4546-a902-907998c753d7"
      },
      "execution_count": null,
      "outputs": [
        {
          "output_type": "stream",
          "name": "stdout",
          "text": [
            "<function gen_exp.<locals>.exp at 0x7f363749baf0>\n"
          ]
        }
      ]
    },
    {
      "cell_type": "code",
      "source": [
        "def add(x):\n",
        "  def add_x(y):\n",
        "    return x+y\n",
        "  return add_x\n",
        "a1= add(5)"
      ],
      "metadata": {
        "id": "qX2_GYZwL86-"
      },
      "execution_count": null,
      "outputs": []
    },
    {
      "cell_type": "code",
      "source": [
        "a1(7)"
      ],
      "metadata": {
        "colab": {
          "base_uri": "https://localhost:8080/"
        },
        "id": "be4s3J80MRCB",
        "outputId": "e007fc30-a489-4082-ef95-c3afef38c321"
      },
      "execution_count": null,
      "outputs": [
        {
          "output_type": "execute_result",
          "data": {
            "text/plain": [
              "12"
            ]
          },
          "metadata": {},
          "execution_count": 40
        }
      ]
    },
    {
      "cell_type": "code",
      "source": [
        "a1(5)"
      ],
      "metadata": {
        "colab": {
          "base_uri": "https://localhost:8080/"
        },
        "id": "zdmjBhxnMVj8",
        "outputId": "bf633c7a-93a3-45ff-eeb9-09ec1c6d0525"
      },
      "execution_count": null,
      "outputs": [
        {
          "output_type": "execute_result",
          "data": {
            "text/plain": [
              "10"
            ]
          },
          "metadata": {},
          "execution_count": 41
        }
      ]
    },
    {
      "cell_type": "code",
      "source": [
        "def foo():\n",
        "  print(\"Hi, How are you\")\n",
        "foo()"
      ],
      "metadata": {
        "colab": {
          "base_uri": "https://localhost:8080/"
        },
        "id": "7OR3GzBGMrsZ",
        "outputId": "bf0a8f47-3412-48e8-cbea-efae80daf535"
      },
      "execution_count": null,
      "outputs": [
        {
          "output_type": "stream",
          "name": "stdout",
          "text": [
            "Hi, How are you\n"
          ]
        }
      ]
    },
    {
      "cell_type": "code",
      "source": [
        "def bar():\n",
        "  print(\"Nov22 is my fav DSML Batch\")\n",
        "bar()"
      ],
      "metadata": {
        "colab": {
          "base_uri": "https://localhost:8080/"
        },
        "id": "9TMXHm3SM-KD",
        "outputId": "462e2a1e-fb92-496f-dc06-6727a0715563"
      },
      "execution_count": null,
      "outputs": [
        {
          "output_type": "stream",
          "name": "stdout",
          "text": [
            "Nov22 is my fav DSML Batch\n"
          ]
        }
      ]
    },
    {
      "cell_type": "code",
      "source": [
        "def soo():\n",
        "  print(\"*\"*50)\n",
        "  print(\"_\"*50)\n",
        "  print(\"Hi, Eid Mubarak to You & Your Family.\")\n",
        "  print(\"_\"*50)\n",
        "  print(\"*\"*50)\n",
        "soo()"
      ],
      "metadata": {
        "colab": {
          "base_uri": "https://localhost:8080/"
        },
        "id": "bGLCrmljNJJX",
        "outputId": "f2f43b8a-1c04-4e57-aa5d-addbbcb791af"
      },
      "execution_count": null,
      "outputs": [
        {
          "output_type": "stream",
          "name": "stdout",
          "text": [
            "**************************************************\n",
            "__________________________________________________\n",
            "Hi, Eid Mubarak to You & Your Family.\n",
            "__________________________________________________\n",
            "**************************************************\n"
          ]
        }
      ]
    },
    {
      "cell_type": "code",
      "source": [
        "def soo():\n",
        "  print(\"*\"*50)\n",
        "  print(\"-\"*50)\n",
        "  print(\"Hi, Eid Mubarak to You & Your Family.\")\n",
        "  print(\"-\"*50)\n",
        "  print(\"*\"*50)\n",
        "soo()"
      ],
      "metadata": {
        "colab": {
          "base_uri": "https://localhost:8080/"
        },
        "id": "5x5BzuI8OMG7",
        "outputId": "ce607ed2-1d27-4f74-be60-46277a94d45b"
      },
      "execution_count": null,
      "outputs": [
        {
          "output_type": "stream",
          "name": "stdout",
          "text": [
            "**************************************************\n",
            "--------------------------------------------------\n",
            "Hi, Eid Mubarak to You & Your Family.\n",
            "--------------------------------------------------\n",
            "**************************************************\n"
          ]
        }
      ]
    },
    {
      "cell_type": "code",
      "source": [
        "def soo():\n",
        "  print(\"-\"*15, \"*\"*5, \"-\"*15)\n",
        "  print(\"Hi, Eid Mubarak to You & Your Family.\")\n",
        "  print(\"-\"*15, \"*\"*5, \"-\"*15)\n",
        "soo()"
      ],
      "metadata": {
        "colab": {
          "base_uri": "https://localhost:8080/"
        },
        "id": "GYHSEkRgOVNn",
        "outputId": "3e3f99e1-4bb5-445a-846b-beeae3dd9aaf"
      },
      "execution_count": null,
      "outputs": [
        {
          "output_type": "stream",
          "name": "stdout",
          "text": [
            "--------------- ***** ---------------\n",
            "Hi, Eid Mubarak to You & Your Family.\n",
            "--------------- ***** ---------------\n"
          ]
        }
      ]
    },
    {
      "cell_type": "code",
      "source": [
        "def add_dashes(func):\n",
        "  def inner():\n",
        "    print(\"-\"*15, \"*\"*5, \"-\"*15)\n",
        "    func()\n",
        "    print(\"-\"*15, \"*\"*5, \"-\"*15)\n",
        "  return inner"
      ],
      "metadata": {
        "id": "YOzo8WDNO2dc"
      },
      "execution_count": null,
      "outputs": []
    },
    {
      "cell_type": "code",
      "source": [
        "list1 = [[1,2,3],[4,5,6],[7,8,9]]\n",
        "list2 = [[9,8,7],[6,5,4],[3,2,1]]\n",
        "ls11,ls12,ls13=list1\n",
        "ls21,ls22,ls23=list2\n",
        "print(list(zip(ls11,ls12,ls13,ls21,ls22,ls23)))"
      ],
      "metadata": {
        "id": "A403gIu-PTtu",
        "colab": {
          "base_uri": "https://localhost:8080/"
        },
        "outputId": "39d9aa54-434d-4c1f-d3b0-abe06caba9ff"
      },
      "execution_count": null,
      "outputs": [
        {
          "output_type": "stream",
          "name": "stdout",
          "text": [
            "[(1, 4, 7, 9, 6, 3), (2, 5, 8, 8, 5, 2), (3, 6, 9, 7, 4, 1)]\n"
          ]
        }
      ]
    },
    {
      "cell_type": "code",
      "source": [
        "list1 = [[1,2,3],[4,5,6],[7,8,9]]\n",
        "list2 = [[9,8,7],[6,5,4],[3,2,1]]\n",
        "ls11,ls12,ls13=list1\n",
        "ls21,ls22,ls23=list2"
      ],
      "metadata": {
        "id": "VBWD1fgwO3ZX"
      },
      "execution_count": null,
      "outputs": []
    },
    {
      "cell_type": "code",
      "source": [
        "arr = [\"php\", \"w3r\", \"python\", \"aaa\", \"java\"]\n",
        "result  = list( filter( lambda x: (x ==\"\".join( reversed(x))), arr))"
      ],
      "metadata": {
        "id": "FFsnz26-O9Sz"
      },
      "execution_count": null,
      "outputs": []
    },
    {
      "cell_type": "code",
      "source": [
        "print(result)"
      ],
      "metadata": {
        "colab": {
          "base_uri": "https://localhost:8080/"
        },
        "id": "2Sv4nYtfPAeQ",
        "outputId": "ec6df43d-e1c0-4433-9822-92216b0f2065"
      },
      "execution_count": null,
      "outputs": [
        {
          "output_type": "stream",
          "name": "stdout",
          "text": [
            "['php', 'aaa']\n"
          ]
        }
      ]
    },
    {
      "cell_type": "code",
      "source": [
        "column_names = ['name', 'salary', 'job']\n",
        "db_rows = [('Alice', 180000, 'data scientist'),\n",
        "           ('Bob', 99000, 'data engineer'),\n",
        "           ('Frank', 87000, 'data analyst')]\n",
        "\n",
        "db = [dict(zip(column_names, row)) for row in db_rows]\n",
        "print(db)"
      ],
      "metadata": {
        "colab": {
          "base_uri": "https://localhost:8080/"
        },
        "id": "z_yM8RYLQVDw",
        "outputId": "bfda1971-b087-4c3a-c9ae-c507204693f7"
      },
      "execution_count": null,
      "outputs": [
        {
          "output_type": "stream",
          "name": "stdout",
          "text": [
            "[{'name': 'Alice', 'salary': 180000, 'job': 'data scientist'}, {'name': 'Bob', 'salary': 99000, 'job': 'data engineer'}, {'name': 'Frank', 'salary': 87000, 'job': 'data analyst'}]\n"
          ]
        }
      ]
    },
    {
      "cell_type": "code",
      "source": [
        "db = [dict(zip(column_names, db_rows)) for row in db_rows]\n",
        "print(db)"
      ],
      "metadata": {
        "colab": {
          "base_uri": "https://localhost:8080/"
        },
        "id": "VFO3CQwjQwn1",
        "outputId": "12a02b56-420a-4ae8-fe3e-37825b363eed"
      },
      "execution_count": null,
      "outputs": [
        {
          "output_type": "stream",
          "name": "stdout",
          "text": [
            "[{'name': ('Alice', 180000, 'data scientist'), 'salary': ('Bob', 99000, 'data engineer'), 'job': ('Frank', 87000, 'data analyst')}, {'name': ('Alice', 180000, 'data scientist'), 'salary': ('Bob', 99000, 'data engineer'), 'job': ('Frank', 87000, 'data analyst')}, {'name': ('Alice', 180000, 'data scientist'), 'salary': ('Bob', 99000, 'data engineer'), 'job': ('Frank', 87000, 'data analyst')}]\n"
          ]
        }
      ]
    },
    {
      "cell_type": "code",
      "source": [
        "db = [dict(zip(row, column_names)) for row in db_rows]\n",
        "print(db)"
      ],
      "metadata": {
        "colab": {
          "base_uri": "https://localhost:8080/"
        },
        "id": "jsEyDNcdS5tV",
        "outputId": "cd465f96-7a48-415b-f8f7-7d367866eb04"
      },
      "execution_count": null,
      "outputs": [
        {
          "output_type": "stream",
          "name": "stdout",
          "text": [
            "[{'Alice': 'name', 180000: 'salary', 'data scientist': 'job'}, {'Bob': 'name', 99000: 'salary', 'data engineer': 'job'}, {'Frank': 'name', 87000: 'salary', 'data analyst': 'job'}]\n"
          ]
        }
      ]
    },
    {
      "cell_type": "code",
      "source": [
        "import functools\n",
        "lists = [1,2,3,4]\n",
        "print(functools.reduce(lambda x,y : x if x > y else y ,lists))"
      ],
      "metadata": {
        "colab": {
          "base_uri": "https://localhost:8080/"
        },
        "id": "uXkI7ZPDTNac",
        "outputId": "c351f24c-9490-41b9-f09f-30afed434963"
      },
      "execution_count": null,
      "outputs": [
        {
          "output_type": "stream",
          "name": "stdout",
          "text": [
            "4\n"
          ]
        }
      ]
    },
    {
      "cell_type": "code",
      "source": [
        "sentence = \"abc cde def\"\n",
        "result = list(map(lambda x: list(x), sentence.split(\" \")))\n",
        "print(result)"
      ],
      "metadata": {
        "colab": {
          "base_uri": "https://localhost:8080/"
        },
        "id": "JwKYHYKlTsgS",
        "outputId": "271e60fb-c2d8-48f1-a81a-22f4b585c0d3"
      },
      "execution_count": null,
      "outputs": [
        {
          "output_type": "stream",
          "name": "stdout",
          "text": [
            "[['a', 'b', 'c'], ['c', 'd', 'e'], ['d', 'e', 'f']]\n"
          ]
        }
      ]
    },
    {
      "cell_type": "code",
      "source": [
        "sentence = \"abc cde def\"\n",
        "result = list(map(lambda x: x, sentence.split(\" \")))\n",
        "print(result)"
      ],
      "metadata": {
        "colab": {
          "base_uri": "https://localhost:8080/"
        },
        "id": "_yppNqlkUH6l",
        "outputId": "72d0a240-9d59-4503-e51b-758cdf4f720f"
      },
      "execution_count": null,
      "outputs": [
        {
          "output_type": "stream",
          "name": "stdout",
          "text": [
            "['abc', 'cde', 'def']\n"
          ]
        }
      ]
    },
    {
      "cell_type": "code",
      "source": [
        "from functools import reduce\n",
        "def func(integers, names, numbers):\n",
        "  integers = [int(item) for item in input().split(\" \")]\n",
        "  names = [item for item in input().split(\" \")]\n",
        "  numbers = [int(item) for item in input().split(\" \")]\n",
        "  m, f, r = func(ints, names, numbers)\n",
        "  map_result = list(map(lambda x: x*x, integers))\n",
        "\n",
        "  filter_result = list(filter(lambda name: len(name)<=7, names))\n",
        "\n",
        "  reduce_result = reduce(lambda num1, num2: num1*num2, numbers)\n",
        "\n",
        "  return map_result, filter_result, reduce_result"
      ],
      "metadata": {
        "id": "1Eis5XDoUNny"
      },
      "execution_count": null,
      "outputs": []
    },
    {
      "cell_type": "code",
      "source": [
        "func(4 6 3 9 2 8 12, \"scaler\" \"interviewbit\" \"rishabh\" \"student\" \"course\", 4 6 9 23 5)"
      ],
      "metadata": {
        "colab": {
          "base_uri": "https://localhost:8080/",
          "height": 130
        },
        "id": "7aRw3Dd-USz3",
        "outputId": "de175c8e-4424-4ade-9c15-c7324bb60484"
      },
      "execution_count": null,
      "outputs": [
        {
          "output_type": "error",
          "ename": "SyntaxError",
          "evalue": "ignored",
          "traceback": [
            "\u001b[0;36m  File \u001b[0;32m\"<ipython-input-41-09529ba68774>\"\u001b[0;36m, line \u001b[0;32m1\u001b[0m\n\u001b[0;31m    func(4 6 3 9 2 8 12, \"scaler\" \"interviewbit\" \"rishabh\" \"student\" \"course\", 4 6 9 23 5)\u001b[0m\n\u001b[0m           ^\u001b[0m\n\u001b[0;31mSyntaxError\u001b[0m\u001b[0;31m:\u001b[0m invalid syntax\n"
          ]
        }
      ]
    },
    {
      "cell_type": "code",
      "source": [
        "def is_valid(email):\n",
        "    email = email.split(\"@\")\n",
        "    if len(email) != 2:\n",
        "        return False\n",
        "    if len(email[0]) > 20:\n",
        "        return False\n",
        "    return True\n",
        "def check(emails):\n",
        "    '''\n",
        "    input:\n",
        "    emails -> list of emails to check\n",
        "    output:\n",
        "    verified_lex -> the verified list of emails, in lexicographical order\n",
        "    '''\n",
        "    verified_lex = []\n",
        "    for email in emails:\n",
        "        if is_valid(email):\n",
        "            verified_lex.append(email)\n",
        "    verified_lex = sorted(verified_lex)\n",
        "    return verified_lex"
      ],
      "metadata": {
        "id": "1cpLb-0JWg3T"
      },
      "execution_count": null,
      "outputs": []
    },
    {
      "cell_type": "code",
      "source": [
        "is_valid(sara@scaler.com brian-23@scaler.com brute_54@scaler.com)"
      ],
      "metadata": {
        "colab": {
          "base_uri": "https://localhost:8080/",
          "height": 165
        },
        "id": "VdhEGtjGY31b",
        "outputId": "e70a38eb-e9ed-4685-cde5-4bcec5d4324f"
      },
      "execution_count": null,
      "outputs": [
        {
          "output_type": "error",
          "ename": "NameError",
          "evalue": "ignored",
          "traceback": [
            "\u001b[0;31m---------------------------------------------------------------------------\u001b[0m",
            "\u001b[0;31mNameError\u001b[0m                                 Traceback (most recent call last)",
            "\u001b[0;32m<ipython-input-27-fb290dae2ed7>\u001b[0m in \u001b[0;36m<cell line: 1>\u001b[0;34m()\u001b[0m\n\u001b[0;32m----> 1\u001b[0;31m \u001b[0mis_valid\u001b[0m\u001b[0;34m(\u001b[0m\u001b[0msara\u001b[0m\u001b[0;34m@\u001b[0m\u001b[0mscaler\u001b[0m\u001b[0;34m.\u001b[0m\u001b[0mcom\u001b[0m\u001b[0;34m,\u001b[0m \u001b[0mbrian\u001b[0m\u001b[0;34m-\u001b[0m\u001b[0;36m23\u001b[0m\u001b[0;34m@\u001b[0m\u001b[0mscaler\u001b[0m\u001b[0;34m.\u001b[0m\u001b[0mcom\u001b[0m\u001b[0;34m,\u001b[0m \u001b[0mbrute_54\u001b[0m\u001b[0;34m@\u001b[0m\u001b[0mscaler\u001b[0m\u001b[0;34m.\u001b[0m\u001b[0mcom\u001b[0m\u001b[0;34m)\u001b[0m\u001b[0;34m\u001b[0m\u001b[0;34m\u001b[0m\u001b[0m\n\u001b[0m",
            "\u001b[0;31mNameError\u001b[0m: name 'sara' is not defined"
          ]
        }
      ]
    },
    {
      "cell_type": "code",
      "source": [
        "a=[1,[2,3],4,5]\n",
        "result = lambda x: list(map(lambda y:2*y, x)) if isinstance(x,list) else lambda x:3*x\n",
        "print(result(a))"
      ],
      "metadata": {
        "colab": {
          "base_uri": "https://localhost:8080/"
        },
        "id": "CIcWsxRwZDTu",
        "outputId": "d0bd778e-c861-4259-ee98-ba1d280a4892"
      },
      "execution_count": null,
      "outputs": [
        {
          "output_type": "stream",
          "name": "stdout",
          "text": [
            "[2, [2, 3, 2, 3], 8, 10]\n"
          ]
        }
      ]
    },
    {
      "cell_type": "code",
      "source": [
        "list(map(lambda y:2*y, a))"
      ],
      "metadata": {
        "colab": {
          "base_uri": "https://localhost:8080/"
        },
        "id": "nviJ1DHidwgx",
        "outputId": "e8792b94-236a-4e49-c83d-eefcb941faa9"
      },
      "execution_count": null,
      "outputs": [
        {
          "output_type": "execute_result",
          "data": {
            "text/plain": [
              "[2, [2, 3, 2, 3], 8, 10]"
            ]
          },
          "metadata": {},
          "execution_count": 30
        }
      ]
    },
    {
      "cell_type": "code",
      "source": [
        "ids=[\"Sam@gmail.com\", \"Ram@gmail.com\", \"Sam@gmail.com\", \"samJohnson@iit.com\", \"SAM@harvard.com\"]\n",
        "name=\"sam\"\n",
        "result = list(filter(lambda x : (name.lower() or name.upper()) in x , ids))\n",
        "print(result)"
      ],
      "metadata": {
        "colab": {
          "base_uri": "https://localhost:8080/"
        },
        "id": "245MTmQFd_Ii",
        "outputId": "9348885b-d9d9-4372-bd29-72f832a7bd1d"
      },
      "execution_count": null,
      "outputs": [
        {
          "output_type": "stream",
          "name": "stdout",
          "text": [
            "['samJohnson@iit.com']\n"
          ]
        }
      ]
    },
    {
      "cell_type": "code",
      "source": [
        "def isPalindrome(my_list):\n",
        "\n",
        "  palindromes = list(filter(lambda word: word == word[::-1], my_list))\n",
        "\n",
        "  return palindromes"
      ],
      "metadata": {
        "id": "fMCYFQ2FeTvV"
      },
      "execution_count": null,
      "outputs": []
    },
    {
      "cell_type": "code",
      "source": [
        "def zipzap():\n",
        "  print(\"I do Zip Zap\")\n",
        "zipzap()"
      ],
      "metadata": {
        "id": "RfSbNsKgfO1v",
        "colab": {
          "base_uri": "https://localhost:8080/"
        },
        "outputId": "3d9f7dc6-dc3d-4f9d-c608-5e5b109f651e"
      },
      "execution_count": null,
      "outputs": [
        {
          "output_type": "stream",
          "name": "stdout",
          "text": [
            "I do Zip Zap\n"
          ]
        }
      ]
    },
    {
      "cell_type": "code",
      "source": [
        "def add_dashes(func):\n",
        "  def inner():\n",
        "    print(\"-\"*15, \"*\"*5, \"-\"*15)\n",
        "    func()\n",
        "    print(\"-\"*15, \"*\"*5, \"-\"*15)\n",
        "  return inner"
      ],
      "metadata": {
        "id": "oqVgLsT-sntJ"
      },
      "execution_count": null,
      "outputs": []
    },
    {
      "cell_type": "code",
      "source": [
        "new_zipzap = add_dashes(zipzap)"
      ],
      "metadata": {
        "id": "_OrgGzS4s5Z2"
      },
      "execution_count": null,
      "outputs": []
    },
    {
      "cell_type": "code",
      "source": [
        "new_zipzap()"
      ],
      "metadata": {
        "colab": {
          "base_uri": "https://localhost:8080/"
        },
        "id": "yG21oPshtAMu",
        "outputId": "87d3ddaa-bcd7-4204-cf97-dd9128cc3755"
      },
      "execution_count": null,
      "outputs": [
        {
          "output_type": "stream",
          "name": "stdout",
          "text": [
            "--------------- ***** ---------------\n",
            "I do Zip Zap\n",
            "--------------- ***** ---------------\n"
          ]
        }
      ]
    },
    {
      "cell_type": "code",
      "source": [
        "def func(name):\n",
        "  print(\"Hello:\", name)\n",
        "func(\"Shabir\")"
      ],
      "metadata": {
        "colab": {
          "base_uri": "https://localhost:8080/"
        },
        "id": "x8hMWqhttYl9",
        "outputId": "a1f9ee84-3d3e-4186-995b-e63c26502bd7"
      },
      "execution_count": null,
      "outputs": [
        {
          "output_type": "stream",
          "name": "stdout",
          "text": [
            "Hello: Shabir\n"
          ]
        }
      ]
    },
    {
      "cell_type": "code",
      "source": [
        "def Deco(name, n):\n",
        "  print(\"*\"*n)\n",
        "  print(\"Hello:\", name)\n",
        "  print(\"*\"*n)\n",
        "Deco(\"Dr. Shabir Ahmad\", 24)"
      ],
      "metadata": {
        "colab": {
          "base_uri": "https://localhost:8080/"
        },
        "id": "Z7GY5dSEuy5Q",
        "outputId": "44ea5db6-93c3-436d-8242-23ecca37b1fc"
      },
      "execution_count": null,
      "outputs": [
        {
          "output_type": "stream",
          "name": "stdout",
          "text": [
            "************************\n",
            "Hello: Dr. Shabir Ahmad\n",
            "************************\n"
          ]
        }
      ]
    },
    {
      "cell_type": "code",
      "source": [
        "@add_dashes\n",
        "def Deco(name, n):\n",
        "  print(\"*\"*n)\n",
        "  print(\"Hello:\", name)\n",
        "  print(\"*\"*n)"
      ],
      "metadata": {
        "id": "_44Vhwi0u9qV"
      },
      "execution_count": null,
      "outputs": []
    },
    {
      "cell_type": "code",
      "source": [
        "file = open(\"/content/sample_data/secretary.py\", \"r\" )"
      ],
      "metadata": {
        "id": "TnsZmN-byqEc"
      },
      "execution_count": null,
      "outputs": []
    },
    {
      "cell_type": "code",
      "source": [
        "file.read()"
      ],
      "metadata": {
        "colab": {
          "base_uri": "https://localhost:8080/",
          "height": 53
        },
        "id": "ATY7EIp1zMMa",
        "outputId": "85686464-6c93-48db-84b6-c32f285cd8f1"
      },
      "execution_count": null,
      "outputs": [
        {
          "output_type": "execute_result",
          "data": {
            "text/plain": [
              "'Hi, I am Dr. Shabir Ahmad, I am pursuing DSML course from scaler. \\nI am A veterinarian by profession. But i love playing with Data.\\nThat is it.\\n'"
            ],
            "application/vnd.google.colaboratory.intrinsic+json": {
              "type": "string"
            }
          },
          "metadata": {},
          "execution_count": 36
        }
      ]
    },
    {
      "cell_type": "code",
      "source": [
        "file.seek(5)"
      ],
      "metadata": {
        "colab": {
          "base_uri": "https://localhost:8080/"
        },
        "id": "og5gfmVDz3IE",
        "outputId": "a32c68cf-9831-4e58-88e2-397c9e5324c6"
      },
      "execution_count": null,
      "outputs": [
        {
          "output_type": "execute_result",
          "data": {
            "text/plain": [
              "5"
            ]
          },
          "metadata": {},
          "execution_count": 37
        }
      ]
    },
    {
      "cell_type": "code",
      "source": [
        "file.read(5)"
      ],
      "metadata": {
        "colab": {
          "base_uri": "https://localhost:8080/",
          "height": 35
        },
        "id": "BdR06gNoz6zt",
        "outputId": "aad7f6b3-4214-422a-ba68-264bd80f3f85"
      },
      "execution_count": null,
      "outputs": [
        {
          "output_type": "execute_result",
          "data": {
            "text/plain": [
              "' am D'"
            ],
            "application/vnd.google.colaboratory.intrinsic+json": {
              "type": "string"
            }
          },
          "metadata": {},
          "execution_count": 38
        }
      ]
    },
    {
      "cell_type": "code",
      "source": [
        "file.read(2)"
      ],
      "metadata": {
        "colab": {
          "base_uri": "https://localhost:8080/",
          "height": 35
        },
        "id": "Oy_0XlsM13S4",
        "outputId": "093c9aa0-dc5c-4918-a90f-b215f88254a3"
      },
      "execution_count": null,
      "outputs": [
        {
          "output_type": "execute_result",
          "data": {
            "text/plain": [
              "'r.'"
            ],
            "application/vnd.google.colaboratory.intrinsic+json": {
              "type": "string"
            }
          },
          "metadata": {},
          "execution_count": 39
        }
      ]
    },
    {
      "cell_type": "code",
      "source": [
        "file.seek(0)"
      ],
      "metadata": {
        "colab": {
          "base_uri": "https://localhost:8080/"
        },
        "id": "nI4H3CNu2EWh",
        "outputId": "5a7f1b32-8463-4d06-a022-c1cc266a3ea1"
      },
      "execution_count": null,
      "outputs": [
        {
          "output_type": "execute_result",
          "data": {
            "text/plain": [
              "0"
            ]
          },
          "metadata": {},
          "execution_count": 40
        }
      ]
    },
    {
      "cell_type": "code",
      "source": [
        "file.read(2)"
      ],
      "metadata": {
        "colab": {
          "base_uri": "https://localhost:8080/",
          "height": 35
        },
        "id": "XRME81Hy2KE1",
        "outputId": "5fb71d03-ed0b-448c-be11-4eadbb07b34a"
      },
      "execution_count": null,
      "outputs": [
        {
          "output_type": "execute_result",
          "data": {
            "text/plain": [
              "'Hi'"
            ],
            "application/vnd.google.colaboratory.intrinsic+json": {
              "type": "string"
            }
          },
          "metadata": {},
          "execution_count": 41
        }
      ]
    },
    {
      "cell_type": "code",
      "source": [
        "file.closed"
      ],
      "metadata": {
        "colab": {
          "base_uri": "https://localhost:8080/"
        },
        "id": "64Qfc4RQ2Lwx",
        "outputId": "5c77f399-566b-44f7-ddb8-f32f8af2abb5"
      },
      "execution_count": null,
      "outputs": [
        {
          "output_type": "execute_result",
          "data": {
            "text/plain": [
              "False"
            ]
          },
          "metadata": {},
          "execution_count": 43
        }
      ]
    },
    {
      "cell_type": "code",
      "source": [
        "file.close()"
      ],
      "metadata": {
        "id": "s-mNbqRi2UXS"
      },
      "execution_count": null,
      "outputs": []
    },
    {
      "cell_type": "code",
      "source": [
        "file.closed"
      ],
      "metadata": {
        "colab": {
          "base_uri": "https://localhost:8080/"
        },
        "id": "A4OEzmWQ2Zut",
        "outputId": "91d7cf58-f8a8-4229-b908-8d59a1e9a334"
      },
      "execution_count": null,
      "outputs": [
        {
          "output_type": "execute_result",
          "data": {
            "text/plain": [
              "True"
            ]
          },
          "metadata": {},
          "execution_count": 47
        }
      ]
    },
    {
      "cell_type": "code",
      "source": [
        "with open(\"/content/sample_data/secretary.py\") as file1:\n",
        "  print(file1.read(2))\n",
        "  print(file1.closed)\n",
        "  print(file1.read(3))"
      ],
      "metadata": {
        "colab": {
          "base_uri": "https://localhost:8080/"
        },
        "id": "QSg30i_-2b58",
        "outputId": "568d49b4-bdef-419c-a49a-f26983e0f7b9"
      },
      "execution_count": null,
      "outputs": [
        {
          "output_type": "stream",
          "name": "stdout",
          "text": [
            "Hi\n",
            "False\n",
            ", I\n"
          ]
        }
      ]
    },
    {
      "cell_type": "code",
      "source": [
        "with open(\"/content/sample_data/secretary.py\") as file1:\n",
        "  print(file1.read(2))\n",
        "print(file1.closed)\n",
        "print(file1.read(3))"
      ],
      "metadata": {
        "colab": {
          "base_uri": "https://localhost:8080/",
          "height": 235
        },
        "id": "aruE1EHK2uOx",
        "outputId": "64ad30e2-ad3a-4b1e-dbc1-86915056211e"
      },
      "execution_count": null,
      "outputs": [
        {
          "output_type": "stream",
          "name": "stdout",
          "text": [
            "Hi\n",
            "True\n"
          ]
        },
        {
          "output_type": "error",
          "ename": "ValueError",
          "evalue": "ignored",
          "traceback": [
            "\u001b[0;31m---------------------------------------------------------------------------\u001b[0m",
            "\u001b[0;31mValueError\u001b[0m                                Traceback (most recent call last)",
            "\u001b[0;32m<ipython-input-54-d5ffd5221a5b>\u001b[0m in \u001b[0;36m<cell line: 4>\u001b[0;34m()\u001b[0m\n\u001b[1;32m      2\u001b[0m   \u001b[0mprint\u001b[0m\u001b[0;34m(\u001b[0m\u001b[0mfile1\u001b[0m\u001b[0;34m.\u001b[0m\u001b[0mread\u001b[0m\u001b[0;34m(\u001b[0m\u001b[0;36m2\u001b[0m\u001b[0;34m)\u001b[0m\u001b[0;34m)\u001b[0m\u001b[0;34m\u001b[0m\u001b[0;34m\u001b[0m\u001b[0m\n\u001b[1;32m      3\u001b[0m \u001b[0mprint\u001b[0m\u001b[0;34m(\u001b[0m\u001b[0mfile1\u001b[0m\u001b[0;34m.\u001b[0m\u001b[0mclosed\u001b[0m\u001b[0;34m)\u001b[0m\u001b[0;34m\u001b[0m\u001b[0;34m\u001b[0m\u001b[0m\n\u001b[0;32m----> 4\u001b[0;31m \u001b[0mprint\u001b[0m\u001b[0;34m(\u001b[0m\u001b[0mfile1\u001b[0m\u001b[0;34m.\u001b[0m\u001b[0mread\u001b[0m\u001b[0;34m(\u001b[0m\u001b[0;36m3\u001b[0m\u001b[0;34m)\u001b[0m\u001b[0;34m)\u001b[0m\u001b[0;34m\u001b[0m\u001b[0;34m\u001b[0m\u001b[0m\n\u001b[0m",
            "\u001b[0;31mValueError\u001b[0m: I/O operation on closed file."
          ]
        }
      ]
    },
    {
      "cell_type": "code",
      "source": [
        "file2= open(\"/content/sample_data/secretary.py\", \"r+\")"
      ],
      "metadata": {
        "id": "hpt5FEBg3kge"
      },
      "execution_count": null,
      "outputs": []
    },
    {
      "cell_type": "code",
      "source": [
        "file2.read()"
      ],
      "metadata": {
        "colab": {
          "base_uri": "https://localhost:8080/",
          "height": 53
        },
        "id": "85mjLMH_3s7T",
        "outputId": "83c63561-e2ba-4762-b00a-6797c4c81d08"
      },
      "execution_count": null,
      "outputs": [
        {
          "output_type": "execute_result",
          "data": {
            "text/plain": [
              "'Hi, I am Dr. Shabir Ahmad, I am pursuing DSML course from scaler. \\nI am A veterinarian by profession. But i love playing with Data.\\nThat is it.\\n'"
            ],
            "application/vnd.google.colaboratory.intrinsic+json": {
              "type": "string"
            }
          },
          "metadata": {},
          "execution_count": 57
        }
      ]
    },
    {
      "cell_type": "code",
      "source": [
        "file2.write(\"writing with r+\")"
      ],
      "metadata": {
        "colab": {
          "base_uri": "https://localhost:8080/"
        },
        "id": "iiG8MWCc4L3x",
        "outputId": "5ec5d684-ecdd-45c4-ca40-069bed9d0ab7"
      },
      "execution_count": null,
      "outputs": [
        {
          "output_type": "execute_result",
          "data": {
            "text/plain": [
              "15"
            ]
          },
          "metadata": {},
          "execution_count": 60
        }
      ]
    },
    {
      "cell_type": "code",
      "source": [
        "with open(\"/content/sample_data/secretary.py\", \"r+\") as file2:\n",
        "  print(file2.read())\n",
        "  print(file2.write(\"Writing inside my file with context manager with r+\"))"
      ],
      "metadata": {
        "colab": {
          "base_uri": "https://localhost:8080/"
        },
        "id": "EkSfVeKY4jIc",
        "outputId": "376f9d57-1c87-4e08-e9b5-d2e2445046d9"
      },
      "execution_count": null,
      "outputs": [
        {
          "output_type": "stream",
          "name": "stdout",
          "text": [
            "Hi, I am Dr. Shabir Ahmad, I am pursuing DSML course from scaler. \n",
            "I am A veterinarian by profession. But i love playing with Data.\n",
            "That is it.\n",
            "\n",
            "51\n"
          ]
        }
      ]
    },
    {
      "cell_type": "code",
      "source": [
        "with open(\"/content/sample_data/secretary.py\", \"r+\") as file2:\n",
        "  print(file2.read())"
      ],
      "metadata": {
        "colab": {
          "base_uri": "https://localhost:8080/"
        },
        "id": "Y2OXkv8Q5GX2",
        "outputId": "123b0616-400c-4975-ea4a-95908800313b"
      },
      "execution_count": null,
      "outputs": [
        {
          "output_type": "stream",
          "name": "stdout",
          "text": [
            "Hi, I am Dr. Shabir Ahmad, I am pursuing DSML course from scaler. \n",
            "I am A veterinarian by profession. But i love playing with Data.\n",
            "That is it.\n",
            "Writing inside my file with context manager with r+\n"
          ]
        }
      ]
    },
    {
      "cell_type": "code",
      "source": [
        "open(\"file in w.txt\", 'w')"
      ],
      "metadata": {
        "colab": {
          "base_uri": "https://localhost:8080/"
        },
        "id": "nqKaeeDk5rXb",
        "outputId": "ad7a6562-ec21-454e-fe53-6f3beb28f3f4"
      },
      "execution_count": null,
      "outputs": [
        {
          "output_type": "execute_result",
          "data": {
            "text/plain": [
              "<_io.TextIOWrapper name='file in w.txt' mode='w' encoding='UTF-8'>"
            ]
          },
          "metadata": {},
          "execution_count": 69
        }
      ]
    },
    {
      "cell_type": "code",
      "source": [
        "with open(\"/content/sample_data/secretary.py\", \"a\") as fa:\n",
        "  print(fa.read())"
      ],
      "metadata": {
        "colab": {
          "base_uri": "https://localhost:8080/",
          "height": 183
        },
        "id": "O5feJNxq6Q-P",
        "outputId": "9ed39e21-695f-4538-c4b8-e00d60ee951c"
      },
      "execution_count": null,
      "outputs": [
        {
          "output_type": "error",
          "ename": "UnsupportedOperation",
          "evalue": "ignored",
          "traceback": [
            "\u001b[0;31m---------------------------------------------------------------------------\u001b[0m",
            "\u001b[0;31mUnsupportedOperation\u001b[0m                      Traceback (most recent call last)",
            "\u001b[0;32m<ipython-input-2-638addf609e1>\u001b[0m in \u001b[0;36m<cell line: 1>\u001b[0;34m()\u001b[0m\n\u001b[1;32m      1\u001b[0m \u001b[0;32mwith\u001b[0m \u001b[0mopen\u001b[0m\u001b[0;34m(\u001b[0m\u001b[0;34m\"/content/sample_data/secretary.py\"\u001b[0m\u001b[0;34m,\u001b[0m \u001b[0;34m\"a\"\u001b[0m\u001b[0;34m)\u001b[0m \u001b[0;32mas\u001b[0m \u001b[0mfa\u001b[0m\u001b[0;34m:\u001b[0m\u001b[0;34m\u001b[0m\u001b[0;34m\u001b[0m\u001b[0m\n\u001b[0;32m----> 2\u001b[0;31m   \u001b[0mprint\u001b[0m\u001b[0;34m(\u001b[0m\u001b[0mfa\u001b[0m\u001b[0;34m.\u001b[0m\u001b[0mread\u001b[0m\u001b[0;34m(\u001b[0m\u001b[0;34m)\u001b[0m\u001b[0;34m)\u001b[0m\u001b[0;34m\u001b[0m\u001b[0;34m\u001b[0m\u001b[0m\n\u001b[0m",
            "\u001b[0;31mUnsupportedOperation\u001b[0m: not readable"
          ]
        }
      ]
    },
    {
      "cell_type": "code",
      "source": [
        "with open(\"/content/sample_data/secretary.py\", \"a\") as file2:\n",
        "  print(file2.read())"
      ],
      "metadata": {
        "colab": {
          "base_uri": "https://localhost:8080/",
          "height": 183
        },
        "id": "BDbWFPvU6Tkd",
        "outputId": "fe9e5f46-9b8b-44e3-c327-f08838b3db09"
      },
      "execution_count": null,
      "outputs": [
        {
          "output_type": "error",
          "ename": "UnsupportedOperation",
          "evalue": "ignored",
          "traceback": [
            "\u001b[0;31m---------------------------------------------------------------------------\u001b[0m",
            "\u001b[0;31mUnsupportedOperation\u001b[0m                      Traceback (most recent call last)",
            "\u001b[0;32m<ipython-input-21-9fae6217eca9>\u001b[0m in \u001b[0;36m<cell line: 1>\u001b[0;34m()\u001b[0m\n\u001b[1;32m      1\u001b[0m \u001b[0;32mwith\u001b[0m \u001b[0mopen\u001b[0m\u001b[0;34m(\u001b[0m\u001b[0;34m\"/content/sample_data/secretary.py\"\u001b[0m\u001b[0;34m,\u001b[0m \u001b[0;34m\"a\"\u001b[0m\u001b[0;34m)\u001b[0m \u001b[0;32mas\u001b[0m \u001b[0mfile2\u001b[0m\u001b[0;34m:\u001b[0m\u001b[0;34m\u001b[0m\u001b[0;34m\u001b[0m\u001b[0m\n\u001b[0;32m----> 2\u001b[0;31m   \u001b[0mprint\u001b[0m\u001b[0;34m(\u001b[0m\u001b[0mfile2\u001b[0m\u001b[0;34m.\u001b[0m\u001b[0mread\u001b[0m\u001b[0;34m(\u001b[0m\u001b[0;34m)\u001b[0m\u001b[0;34m)\u001b[0m\u001b[0;34m\u001b[0m\u001b[0;34m\u001b[0m\u001b[0m\n\u001b[0m",
            "\u001b[0;31mUnsupportedOperation\u001b[0m: not readable"
          ]
        }
      ]
    },
    {
      "cell_type": "code",
      "source": [
        "students= [\"S Roy\", \"B Bose\", \"N Kar\", \"G Ghosh\"]\n",
        "scores =[ 1, 3, 2, 1 ,1]\n",
        "zip(students, scores)\n",
        "map(list(zip(students, scores)))\n",
        "list(map(list(zip[students, scores])))"
      ],
      "metadata": {
        "colab": {
          "base_uri": "https://localhost:8080/",
          "height": 217
        },
        "id": "pblgBkSDby6G",
        "outputId": "821ede3a-d47d-474d-dd5a-faddf0440cf1"
      },
      "execution_count": null,
      "outputs": [
        {
          "output_type": "error",
          "ename": "TypeError",
          "evalue": "ignored",
          "traceback": [
            "\u001b[0;31m---------------------------------------------------------------------------\u001b[0m",
            "\u001b[0;31mTypeError\u001b[0m                                 Traceback (most recent call last)",
            "\u001b[0;32m<ipython-input-24-88bae8358fa7>\u001b[0m in \u001b[0;36m<cell line: 4>\u001b[0;34m()\u001b[0m\n\u001b[1;32m      2\u001b[0m \u001b[0mscores\u001b[0m \u001b[0;34m=\u001b[0m\u001b[0;34m[\u001b[0m \u001b[0;36m1\u001b[0m\u001b[0;34m,\u001b[0m \u001b[0;36m3\u001b[0m\u001b[0;34m,\u001b[0m \u001b[0;36m2\u001b[0m\u001b[0;34m,\u001b[0m \u001b[0;36m1\u001b[0m \u001b[0;34m,\u001b[0m\u001b[0;36m1\u001b[0m\u001b[0;34m]\u001b[0m\u001b[0;34m\u001b[0m\u001b[0;34m\u001b[0m\u001b[0m\n\u001b[1;32m      3\u001b[0m \u001b[0mzip\u001b[0m\u001b[0;34m(\u001b[0m\u001b[0mstudents\u001b[0m\u001b[0;34m,\u001b[0m \u001b[0mscores\u001b[0m\u001b[0;34m)\u001b[0m\u001b[0;34m\u001b[0m\u001b[0;34m\u001b[0m\u001b[0m\n\u001b[0;32m----> 4\u001b[0;31m \u001b[0mmap\u001b[0m\u001b[0;34m(\u001b[0m\u001b[0mlist\u001b[0m\u001b[0;34m(\u001b[0m\u001b[0mzip\u001b[0m\u001b[0;34m(\u001b[0m\u001b[0mstudents\u001b[0m\u001b[0;34m,\u001b[0m \u001b[0mscores\u001b[0m\u001b[0;34m)\u001b[0m\u001b[0;34m)\u001b[0m\u001b[0;34m)\u001b[0m\u001b[0;34m\u001b[0m\u001b[0;34m\u001b[0m\u001b[0m\n\u001b[0m\u001b[1;32m      5\u001b[0m \u001b[0mlist\u001b[0m\u001b[0;34m(\u001b[0m\u001b[0mmap\u001b[0m\u001b[0;34m(\u001b[0m\u001b[0mlist\u001b[0m\u001b[0;34m(\u001b[0m\u001b[0mzip\u001b[0m\u001b[0;34m[\u001b[0m\u001b[0mstudents\u001b[0m\u001b[0;34m,\u001b[0m \u001b[0mscores\u001b[0m\u001b[0;34m]\u001b[0m\u001b[0;34m)\u001b[0m\u001b[0;34m)\u001b[0m\u001b[0;34m)\u001b[0m\u001b[0;34m\u001b[0m\u001b[0;34m\u001b[0m\u001b[0m\n",
            "\u001b[0;31mTypeError\u001b[0m: map() must have at least two arguments."
          ]
        }
      ]
    },
    {
      "cell_type": "code",
      "source": [
        "name = \"Shabir\"\n",
        "vowel_count= map(lambda x: x in \"AaEeIiOoUu\", name)"
      ],
      "metadata": {
        "id": "5_F0iQLpcrjB"
      },
      "execution_count": null,
      "outputs": []
    },
    {
      "cell_type": "code",
      "source": [
        "print(vowel_count)"
      ],
      "metadata": {
        "colab": {
          "base_uri": "https://localhost:8080/"
        },
        "id": "Ih4KQVGKdqpU",
        "outputId": "62a642da-c938-4bd6-8c82-d53a409532c4"
      },
      "execution_count": null,
      "outputs": [
        {
          "output_type": "stream",
          "name": "stdout",
          "text": [
            "<map object at 0x7faeed767490>\n"
          ]
        }
      ]
    },
    {
      "cell_type": "code",
      "source": [
        "len(list(filter(lambda x: x in 'AaEeIiOoUu', name)))"
      ],
      "metadata": {
        "colab": {
          "base_uri": "https://localhost:8080/"
        },
        "id": "kK93sBlnd3dz",
        "outputId": "2db6523c-6ed6-416a-b347-8a0b61ee43da"
      },
      "execution_count": null,
      "outputs": [
        {
          "output_type": "execute_result",
          "data": {
            "text/plain": [
              "2"
            ]
          },
          "metadata": {},
          "execution_count": 28
        }
      ]
    },
    {
      "cell_type": "code",
      "source": [
        "import random"
      ],
      "metadata": {
        "id": "pNRgWp-7eFso"
      },
      "execution_count": null,
      "outputs": []
    },
    {
      "cell_type": "code",
      "source": [
        "random.randint(0, 10)"
      ],
      "metadata": {
        "colab": {
          "base_uri": "https://localhost:8080/"
        },
        "id": "3VlJMnKqgWO0",
        "outputId": "d376eef0-4200-4402-a408-3ee5e48e9338"
      },
      "execution_count": null,
      "outputs": [
        {
          "output_type": "execute_result",
          "data": {
            "text/plain": [
              "2"
            ]
          },
          "metadata": {},
          "execution_count": 30
        }
      ]
    },
    {
      "cell_type": "code",
      "source": [
        "OTP= (random.randint(100000, 999999))"
      ],
      "metadata": {
        "id": "K00HX53bgakC"
      },
      "execution_count": null,
      "outputs": []
    },
    {
      "cell_type": "code",
      "source": [
        "OTP"
      ],
      "metadata": {
        "colab": {
          "base_uri": "https://localhost:8080/"
        },
        "id": "2HDNOwvYghpP",
        "outputId": "8746e285-f152-49db-ea6b-4fff7bc7a523"
      },
      "execution_count": null,
      "outputs": [
        {
          "output_type": "execute_result",
          "data": {
            "text/plain": [
              "660916"
            ]
          },
          "metadata": {},
          "execution_count": 40
        }
      ]
    },
    {
      "cell_type": "code",
      "source": [
        "Luckdraw= (random.randint(101, 111))"
      ],
      "metadata": {
        "id": "wbqTaKdPgm9J"
      },
      "execution_count": null,
      "outputs": []
    },
    {
      "cell_type": "code",
      "source": [
        "Luckdraw"
      ],
      "metadata": {
        "colab": {
          "base_uri": "https://localhost:8080/"
        },
        "id": "YyU-_w6XgoAZ",
        "outputId": "d8191b4d-b53a-483e-bf4c-65ce773b3feb"
      },
      "execution_count": null,
      "outputs": [
        {
          "output_type": "execute_result",
          "data": {
            "text/plain": [
              "109"
            ]
          },
          "metadata": {},
          "execution_count": 45
        }
      ]
    },
    {
      "cell_type": "code",
      "source": [
        "seed=100\n",
        "randomizer(100, start, end)"
      ],
      "metadata": {
        "colab": {
          "base_uri": "https://localhost:8080/",
          "height": 183
        },
        "id": "Qh6Ye4xNhmDa",
        "outputId": "6ef6922a-b557-4d61-cd0e-d6f656ea8e5a"
      },
      "execution_count": null,
      "outputs": [
        {
          "output_type": "error",
          "ename": "NameError",
          "evalue": "ignored",
          "traceback": [
            "\u001b[0;31m---------------------------------------------------------------------------\u001b[0m",
            "\u001b[0;31mNameError\u001b[0m                                 Traceback (most recent call last)",
            "\u001b[0;32m<ipython-input-47-b635a2e66342>\u001b[0m in \u001b[0;36m<cell line: 2>\u001b[0;34m()\u001b[0m\n\u001b[1;32m      1\u001b[0m \u001b[0mseed\u001b[0m\u001b[0;34m=\u001b[0m\u001b[0;36m100\u001b[0m\u001b[0;34m\u001b[0m\u001b[0;34m\u001b[0m\u001b[0m\n\u001b[0;32m----> 2\u001b[0;31m \u001b[0mrandomizer\u001b[0m\u001b[0;34m(\u001b[0m\u001b[0;36m100\u001b[0m\u001b[0;34m,\u001b[0m \u001b[0mstart\u001b[0m\u001b[0;34m,\u001b[0m \u001b[0mend\u001b[0m\u001b[0;34m)\u001b[0m\u001b[0;34m\u001b[0m\u001b[0;34m\u001b[0m\u001b[0m\n\u001b[0m",
            "\u001b[0;31mNameError\u001b[0m: name 'randomizer' is not defined"
          ]
        }
      ]
    },
    {
      "cell_type": "code",
      "source": [
        "random.seed(100)\n",
        "print(random.randint(0, 10))\n",
        "print(random.randint(0, 10))\n",
        "print(random.randint(0, 10))"
      ],
      "metadata": {
        "colab": {
          "base_uri": "https://localhost:8080/"
        },
        "id": "g6hIZfIQh3JK",
        "outputId": "8e16d7de-0b8b-441c-c1d5-0d3c8bad52d1"
      },
      "execution_count": null,
      "outputs": [
        {
          "output_type": "stream",
          "name": "stdout",
          "text": [
            "2\n",
            "7\n",
            "7\n"
          ]
        }
      ]
    },
    {
      "cell_type": "code",
      "source": [
        "def func1():\n",
        "  pass\n",
        "\n",
        "def func2():\n",
        "  pass"
      ],
      "metadata": {
        "id": "tmfT62fBiKfX"
      },
      "execution_count": null,
      "outputs": []
    },
    {
      "cell_type": "code",
      "source": [
        "func1()\n",
        "func2()"
      ],
      "metadata": {
        "id": "szAVQwbgic6L"
      },
      "execution_count": null,
      "outputs": []
    },
    {
      "cell_type": "code",
      "source": [
        "def something(x):\n",
        "  print(1/x)\n",
        "  print(\"A\")\n",
        "something(0)"
      ],
      "metadata": {
        "colab": {
          "base_uri": "https://localhost:8080/",
          "height": 304
        },
        "id": "j6Ndh05qifd2",
        "outputId": "236620d4-c068-4d01-8099-b1f600fb6965"
      },
      "execution_count": null,
      "outputs": [
        {
          "output_type": "error",
          "ename": "ZeroDivisionError",
          "evalue": "ignored",
          "traceback": [
            "\u001b[0;31m---------------------------------------------------------------------------\u001b[0m",
            "\u001b[0;31mZeroDivisionError\u001b[0m                         Traceback (most recent call last)",
            "\u001b[0;32m<ipython-input-52-dab103477880>\u001b[0m in \u001b[0;36m<cell line: 4>\u001b[0;34m()\u001b[0m\n\u001b[1;32m      2\u001b[0m   \u001b[0mprint\u001b[0m\u001b[0;34m(\u001b[0m\u001b[0;36m1\u001b[0m\u001b[0;34m/\u001b[0m\u001b[0mx\u001b[0m\u001b[0;34m)\u001b[0m\u001b[0;34m\u001b[0m\u001b[0;34m\u001b[0m\u001b[0m\n\u001b[1;32m      3\u001b[0m   \u001b[0mprint\u001b[0m\u001b[0;34m(\u001b[0m\u001b[0;34m\"A\"\u001b[0m\u001b[0;34m)\u001b[0m\u001b[0;34m\u001b[0m\u001b[0;34m\u001b[0m\u001b[0m\n\u001b[0;32m----> 4\u001b[0;31m \u001b[0msomething\u001b[0m\u001b[0;34m(\u001b[0m\u001b[0;36m0\u001b[0m\u001b[0;34m)\u001b[0m\u001b[0;34m\u001b[0m\u001b[0;34m\u001b[0m\u001b[0m\n\u001b[0m",
            "\u001b[0;32m<ipython-input-52-dab103477880>\u001b[0m in \u001b[0;36msomething\u001b[0;34m(x)\u001b[0m\n\u001b[1;32m      1\u001b[0m \u001b[0;32mdef\u001b[0m \u001b[0msomething\u001b[0m\u001b[0;34m(\u001b[0m\u001b[0mx\u001b[0m\u001b[0;34m)\u001b[0m\u001b[0;34m:\u001b[0m\u001b[0;34m\u001b[0m\u001b[0;34m\u001b[0m\u001b[0m\n\u001b[0;32m----> 2\u001b[0;31m   \u001b[0mprint\u001b[0m\u001b[0;34m(\u001b[0m\u001b[0;36m1\u001b[0m\u001b[0;34m/\u001b[0m\u001b[0mx\u001b[0m\u001b[0;34m)\u001b[0m\u001b[0;34m\u001b[0m\u001b[0;34m\u001b[0m\u001b[0m\n\u001b[0m\u001b[1;32m      3\u001b[0m   \u001b[0mprint\u001b[0m\u001b[0;34m(\u001b[0m\u001b[0;34m\"A\"\u001b[0m\u001b[0;34m)\u001b[0m\u001b[0;34m\u001b[0m\u001b[0;34m\u001b[0m\u001b[0m\n\u001b[1;32m      4\u001b[0m \u001b[0msomething\u001b[0m\u001b[0;34m(\u001b[0m\u001b[0;36m0\u001b[0m\u001b[0;34m)\u001b[0m\u001b[0;34m\u001b[0m\u001b[0;34m\u001b[0m\u001b[0m\n",
            "\u001b[0;31mZeroDivisionError\u001b[0m: division by zero"
          ]
        }
      ]
    },
    {
      "cell_type": "code",
      "source": [
        "x=1\n",
        "try:\n",
        "  def something(x):\n",
        "    print(1/x)\n",
        "    print(\"A\")\n",
        "except:\n",
        "  print(\"trying to divide by zero\")\n",
        "something(x)"
      ],
      "metadata": {
        "colab": {
          "base_uri": "https://localhost:8080/"
        },
        "id": "IxpKqQwUiwDR",
        "outputId": "f98d3314-d861-4444-8f5e-e36d9cc2826e"
      },
      "execution_count": null,
      "outputs": [
        {
          "output_type": "stream",
          "name": "stdout",
          "text": [
            "1.0\n",
            "A\n"
          ]
        }
      ]
    },
    {
      "cell_type": "code",
      "source": [
        "x=0\n",
        "try:\n",
        "  def something(x):\n",
        "    print(1/x)\n",
        "    print(\"A\")\n",
        "except:\n",
        "  print(\"trying to divide by zero\")\n",
        "something(x)"
      ],
      "metadata": {
        "colab": {
          "base_uri": "https://localhost:8080/",
          "height": 321
        },
        "id": "gOrEcACAjRtq",
        "outputId": "d357ceb0-4c8d-499e-dd13-25d0ff943d7a"
      },
      "execution_count": null,
      "outputs": [
        {
          "output_type": "error",
          "ename": "ZeroDivisionError",
          "evalue": "ignored",
          "traceback": [
            "\u001b[0;31m---------------------------------------------------------------------------\u001b[0m",
            "\u001b[0;31mZeroDivisionError\u001b[0m                         Traceback (most recent call last)",
            "\u001b[0;32m<ipython-input-55-d696de352a5d>\u001b[0m in \u001b[0;36m<cell line: 8>\u001b[0;34m()\u001b[0m\n\u001b[1;32m      6\u001b[0m \u001b[0;32mexcept\u001b[0m\u001b[0;34m:\u001b[0m\u001b[0;34m\u001b[0m\u001b[0;34m\u001b[0m\u001b[0m\n\u001b[1;32m      7\u001b[0m   \u001b[0mprint\u001b[0m\u001b[0;34m(\u001b[0m\u001b[0;34m\"trying to divide by zero\"\u001b[0m\u001b[0;34m)\u001b[0m\u001b[0;34m\u001b[0m\u001b[0;34m\u001b[0m\u001b[0m\n\u001b[0;32m----> 8\u001b[0;31m \u001b[0msomething\u001b[0m\u001b[0;34m(\u001b[0m\u001b[0mx\u001b[0m\u001b[0;34m)\u001b[0m\u001b[0;34m\u001b[0m\u001b[0;34m\u001b[0m\u001b[0m\n\u001b[0m",
            "\u001b[0;32m<ipython-input-55-d696de352a5d>\u001b[0m in \u001b[0;36msomething\u001b[0;34m(x)\u001b[0m\n\u001b[1;32m      2\u001b[0m \u001b[0;32mtry\u001b[0m\u001b[0;34m:\u001b[0m\u001b[0;34m\u001b[0m\u001b[0;34m\u001b[0m\u001b[0m\n\u001b[1;32m      3\u001b[0m   \u001b[0;32mdef\u001b[0m \u001b[0msomething\u001b[0m\u001b[0;34m(\u001b[0m\u001b[0mx\u001b[0m\u001b[0;34m)\u001b[0m\u001b[0;34m:\u001b[0m\u001b[0;34m\u001b[0m\u001b[0;34m\u001b[0m\u001b[0m\n\u001b[0;32m----> 4\u001b[0;31m     \u001b[0mprint\u001b[0m\u001b[0;34m(\u001b[0m\u001b[0;36m1\u001b[0m\u001b[0;34m/\u001b[0m\u001b[0mx\u001b[0m\u001b[0;34m)\u001b[0m\u001b[0;34m\u001b[0m\u001b[0;34m\u001b[0m\u001b[0m\n\u001b[0m\u001b[1;32m      5\u001b[0m     \u001b[0mprint\u001b[0m\u001b[0;34m(\u001b[0m\u001b[0;34m\"A\"\u001b[0m\u001b[0;34m)\u001b[0m\u001b[0;34m\u001b[0m\u001b[0;34m\u001b[0m\u001b[0m\n\u001b[1;32m      6\u001b[0m \u001b[0;32mexcept\u001b[0m\u001b[0;34m:\u001b[0m\u001b[0;34m\u001b[0m\u001b[0;34m\u001b[0m\u001b[0m\n",
            "\u001b[0;31mZeroDivisionError\u001b[0m: division by zero"
          ]
        }
      ]
    },
    {
      "cell_type": "code",
      "source": [
        "x= 0\n",
        "try:\n",
        "  print(1/x)\n",
        "  print(\"A\")\n",
        "except ZeroDivisionError:\n",
        "  print(\"X Can't be equal to Zero\")\n",
        "except:\n",
        "  print(\"some error has occured\")"
      ],
      "metadata": {
        "colab": {
          "base_uri": "https://localhost:8080/"
        },
        "id": "CNoiRAtBjda5",
        "outputId": "255bfda2-2252-4b8d-d216-a2fa1b675f37"
      },
      "execution_count": null,
      "outputs": [
        {
          "output_type": "stream",
          "name": "stdout",
          "text": [
            "X Can't be equal to Zero\n"
          ]
        }
      ]
    },
    {
      "cell_type": "code",
      "source": [
        "x= \"A\"\n",
        "try:\n",
        "  print(1/x)\n",
        "  print(\"A\")\n",
        "except ZeroDivisionError:\n",
        "  print(\"X Can't be equal to Zero\")\n",
        "except:\n",
        "  print(\"some error has occured\")"
      ],
      "metadata": {
        "colab": {
          "base_uri": "https://localhost:8080/"
        },
        "id": "pZRJI8ebkAPJ",
        "outputId": "aefe917c-e76f-490e-f415-18b235eea75f"
      },
      "execution_count": null,
      "outputs": [
        {
          "output_type": "stream",
          "name": "stdout",
          "text": [
            "some error has occured\n"
          ]
        }
      ]
    },
    {
      "cell_type": "code",
      "source": [
        "x= \"A\"\n",
        "try:\n",
        "  print(1/x)\n",
        "  print(\"A\")\n",
        "except ZeroDivisionError:\n",
        "  print(\"X Can't be equal to Zero\")\n",
        "except Exception as e:\n",
        "  print(\"some error has occured\")"
      ],
      "metadata": {
        "colab": {
          "base_uri": "https://localhost:8080/"
        },
        "id": "PQxTl8xokmzi",
        "outputId": "61032e99-a384-4b8f-d938-cde1d4e2df97"
      },
      "execution_count": null,
      "outputs": [
        {
          "output_type": "stream",
          "name": "stdout",
          "text": [
            "some error has occured\n"
          ]
        }
      ]
    },
    {
      "cell_type": "code",
      "source": [
        "x= \"A\"\n",
        "try:\n",
        "  print(1/x)\n",
        "  print(\"A\")\n",
        "except ZeroDivisionError:\n",
        "  print(\"X Can't be equal to Zero\")\n",
        "except Exception as e:\n",
        "  print(\"some error has occured\")\n",
        "finally:\n",
        "  print(\"I get executed irrespective of the error\")"
      ],
      "metadata": {
        "colab": {
          "base_uri": "https://localhost:8080/"
        },
        "id": "tPujFo21k842",
        "outputId": "7e1426ff-64dd-44c3-8745-eb5d473b3d72"
      },
      "execution_count": null,
      "outputs": [
        {
          "output_type": "stream",
          "name": "stdout",
          "text": [
            "some error has occured\n",
            "I get executed irrespective of the error\n"
          ]
        }
      ]
    },
    {
      "cell_type": "code",
      "source": [
        "x= 5\n",
        "try:\n",
        "  print(1/x)\n",
        "  print(\"A\")\n",
        "except ZeroDivisionError:\n",
        "  print(\"X Can't be equal to Zero\")\n",
        "  print(traceback.format_exe())\n",
        "finally:\n",
        "  print(\"I get executed irrespective of the error\")"
      ],
      "metadata": {
        "colab": {
          "base_uri": "https://localhost:8080/"
        },
        "id": "-dWTAj7Llgzg",
        "outputId": "54319bad-6577-4b55-e15c-dbcf7f6f0353"
      },
      "execution_count": null,
      "outputs": [
        {
          "output_type": "stream",
          "name": "stdout",
          "text": [
            "0.2\n",
            "A\n",
            "I get executed irrespective of the error\n"
          ]
        }
      ]
    },
    {
      "cell_type": "code",
      "source": [
        "def func1(x):\n",
        "  return x**2\n",
        "a=1"
      ],
      "metadata": {
        "id": "02JzP8vsl727"
      },
      "execution_count": null,
      "outputs": []
    },
    {
      "cell_type": "code",
      "source": [
        "left_hand_limit= [a+i for i in [-0.1, -0.01, -0.001, -0.0001]]\n",
        "right_hand_limit= [a+i for i in [0.1, 0.01, 0.001, 0.0001]]\n",
        "print(list(map(func1, left_hand_limit)))\n",
        "print(list(map(func1, right_hand_limit)))"
      ],
      "metadata": {
        "colab": {
          "base_uri": "https://localhost:8080/"
        },
        "id": "YV_muTkTw1L4",
        "outputId": "38f19be8-7397-4b7a-ccac-6da1cf478b42"
      },
      "execution_count": null,
      "outputs": [
        {
          "output_type": "stream",
          "name": "stdout",
          "text": [
            "[0.81, 0.9801, 0.998001, 0.9998000100000001]\n",
            "[1.2100000000000002, 1.0201, 1.0020009999999997, 1.00020001]\n"
          ]
        }
      ]
    },
    {
      "cell_type": "code",
      "source": [
        "def func(x):\n",
        "  return x**2\n",
        "\n",
        "def get_derivative(func, a):\n",
        "  h=0.0001\n",
        "  d=(func(a+h)-func(a))/h\n",
        "  return d\n",
        "get_derivative(func, 2)"
      ],
      "metadata": {
        "colab": {
          "base_uri": "https://localhost:8080/"
        },
        "id": "2MAU9aACxd4d",
        "outputId": "2152282f-8008-41f5-e3e0-79bbbaa3cd22"
      },
      "execution_count": null,
      "outputs": [
        {
          "output_type": "execute_result",
          "data": {
            "text/plain": [
              "4.0001000000078335"
            ]
          },
          "metadata": {},
          "execution_count": 72
        }
      ]
    },
    {
      "cell_type": "code",
      "source": [
        "import math\n",
        "def some_complicate_function(x):\n",
        "  return math.log(x**2)*(3*x**3)\n",
        "some_complicate_function(5)"
      ],
      "metadata": {
        "colab": {
          "base_uri": "https://localhost:8080/"
        },
        "id": "cUYdTmNo1Yjn",
        "outputId": "4be4268c-d4bd-405f-8a6b-b2c41b48813d"
      },
      "execution_count": null,
      "outputs": [
        {
          "output_type": "execute_result",
          "data": {
            "text/plain": [
              "1207.0784343255752"
            ]
          },
          "metadata": {},
          "execution_count": 73
        }
      ]
    },
    {
      "cell_type": "code",
      "source": [
        "def func(N):\n",
        "    fibonacci_list=[]\n",
        "    factorial_list=[]\n",
        "    def fibonacci(N):\n",
        "        if N <=1:\n",
        "            return N\n",
        "        else:\n",
        "            return (fibonacci(N-1) + fibonacci(N-2))\n",
        "\n",
        "    def fact(k):\n",
        "        if k==1:\n",
        "            return 1\n",
        "        else:\n",
        "            return k*fact(k-1)\n",
        "    def prime(m):\n",
        "        count=0\n",
        "        for i in range(1, m):\n",
        "            if m%i==0:\n",
        "                count+=1\n",
        "        if count !=1:\n",
        "            return m\n",
        "        else:\n",
        "            return fact(m)\n",
        "\n",
        "    for i in range(N):\n",
        "        fibonacci_list.append(fibonacci(i))\n",
        "\n",
        "    for j in (fibonacci_list):\n",
        "        factorial_list.append(prime(j))\n",
        "\n",
        "    return fibonacci_list, factorial_list"
      ],
      "metadata": {
        "id": "k_0066Mv22Sn"
      },
      "execution_count": null,
      "outputs": []
    },
    {
      "cell_type": "code",
      "source": [
        "string= \"A great deal for data science and Machine learning course is to Learn SQL, which is terrific (SQL)data calculation tool for all DSML students\"\n",
        "result = lambda key, val: key[ key.find(val) -18 : key.find(val) +18 ] if val in key else -1\n",
        "\n",
        "print(result(string, 'SQL'))"
      ],
      "metadata": {
        "colab": {
          "base_uri": "https://localhost:8080/"
        },
        "id": "dDJ2_igu4p6a",
        "outputId": "3ab53d0a-5daa-4079-c4f3-e91bbedd0ff2"
      },
      "execution_count": null,
      "outputs": [
        {
          "output_type": "stream",
          "name": "stdout",
          "text": [
            "ourse is to Learn SQL, which is terr\n"
          ]
        }
      ]
    },
    {
      "cell_type": "code",
      "source": [
        "class Demo:\n",
        "    def __new__(self):\n",
        "        self.__init__(self)\n",
        "        print(\"Demo's __new__() invoked\")\n",
        "\n",
        "    def __init__(self):\n",
        "        print(\"Demo's __init__() invoked\")\n",
        "\n",
        "class Derived_Demo(Demo):\n",
        "    def __new__(self):\n",
        "        print(\"Derived_Demo's __new__() invoked\")\n",
        "\n",
        "    def __init__(self):\n",
        "        print(\"Derived_Demo's __init__() invoked\")\n",
        "\n",
        "def main():\n",
        "    obj1 = Derived_Demo()\n",
        "    obj2 = Demo()\n",
        "\n",
        "main()"
      ],
      "metadata": {
        "colab": {
          "base_uri": "https://localhost:8080/"
        },
        "id": "__rjGMTb5vHo",
        "outputId": "d9219238-66ef-4bb5-9d77-c4a91cd92044"
      },
      "execution_count": null,
      "outputs": [
        {
          "output_type": "stream",
          "name": "stdout",
          "text": [
            "Derived_Demo's __new__() invoked\n",
            "Demo's __init__() invoked\n",
            "Demo's __new__() invoked\n"
          ]
        }
      ]
    },
    {
      "cell_type": "code",
      "source": [
        "class Parent:\n",
        "    def test(self):\n",
        "        print(\"test of parent called\", end=\", \")\n",
        "class Child1(Parent):\n",
        "    def test(self):\n",
        "        print(\"test of child1 called\", end=\", \")\n",
        "        super().test()\n",
        "class Child2(Parent):\n",
        "    def test(self):\n",
        "        print(\"test of child2 called\", end=\", \")\n",
        "        super().test()\n",
        "class Brother(Child1,Child2):\n",
        "    def test2(self):\n",
        "        print(\"test of Brother called\", end=\", \" )\n",
        "\n",
        "obj= Brother()\n",
        "obj.test()"
      ],
      "metadata": {
        "colab": {
          "base_uri": "https://localhost:8080/"
        },
        "id": "gVeNb4ch7S3G",
        "outputId": "b9acc7f0-ee4b-4652-c84f-fd8ea62e8cdf"
      },
      "execution_count": null,
      "outputs": [
        {
          "output_type": "stream",
          "name": "stdout",
          "text": [
            "test of child1 called, test of child2 called, test of parent called, "
          ]
        }
      ]
    },
    {
      "cell_type": "code",
      "source": [
        "class student:\n",
        "    def __init__(self):\n",
        "        '''The student class is initialized'''\n",
        "\n",
        "    def print_student(self):\n",
        "        '''Returns the student description'''\n",
        "        print('student description')\n",
        "\n",
        "help(student)"
      ],
      "metadata": {
        "colab": {
          "base_uri": "https://localhost:8080/"
        },
        "id": "B3fiD6j_7-bK",
        "outputId": "495377dd-41da-423f-8c5b-750317904634"
      },
      "execution_count": null,
      "outputs": [
        {
          "output_type": "stream",
          "name": "stdout",
          "text": [
            "Help on class student in module __main__:\n",
            "\n",
            "class student(builtins.object)\n",
            " |  Methods defined here:\n",
            " |  \n",
            " |  __init__(self)\n",
            " |      The student class is initialized\n",
            " |  \n",
            " |  print_student(self)\n",
            " |      Returns the student description\n",
            " |  \n",
            " |  ----------------------------------------------------------------------\n",
            " |  Data descriptors defined here:\n",
            " |  \n",
            " |  __dict__\n",
            " |      dictionary for instance variables (if defined)\n",
            " |  \n",
            " |  __weakref__\n",
            " |      list of weak references to the object (if defined)\n",
            "\n"
          ]
        }
      ]
    },
    {
      "cell_type": "code",
      "source": [
        "def divide(a,b):\n",
        "  \"\"\" a and b are integers\"\"\"\n",
        "  return a//b\n",
        "\n",
        "def multiply(a,b):\n",
        "  \"\"\" a and b are integers\"\"\"\n",
        "  return a*b\n",
        "\n",
        "def subtract(a,b):\n",
        "  \"\"\" a and b are integers\"\"\"\n",
        "  return a-b\n",
        "\n",
        "def calci(list1,list2):\n",
        "  \"\"\" both arguments are list here\"\"\"\n",
        "  arr1=[]\n",
        "  arr2=[]\n",
        "  arr3=[]\n",
        "  if len(list1) != len(list2):\n",
        "    print(\"Not same length\")\n",
        "  else:\n",
        "    for i in range(0,len(list1)):\n",
        "      arr1.append(divide(list1[i],list2[i]))\n",
        "      arr2.append(multiply(list1[i],list2[i]))\n",
        "      arr3.append(subtract(list1[i],list2[i]))\n",
        "\n",
        "  return arr1,arr2,arr3"
      ],
      "metadata": {
        "id": "9ShgCCQ38Y10"
      },
      "execution_count": null,
      "outputs": []
    },
    {
      "cell_type": "code",
      "source": [
        "class SalaryNotInRangeError(Exception):\n",
        "  def __init__(self, message= \"Salary is not in range\"):\n",
        "    self.message = message\n",
        "    super().__init__(self.message)\n",
        "\n",
        "def check_salary(salary):\n",
        "  try:\n",
        "    if salary < 10000 or salary > 100000:\n",
        "      raise SalaryNotInRangeError()\n",
        "    else:\n",
        "      print(\"Congratulations!!\")\n",
        "  except SalaryNotInRangeError as e:\n",
        "    print(e)"
      ],
      "metadata": {
        "id": "IlJqA7x79rk1"
      },
      "execution_count": null,
      "outputs": []
    },
    {
      "cell_type": "code",
      "source": [
        "def min_value(a,b,c,ll,ul):\n",
        "\t# a,b,c -> Integers. Coefficients of quadratic equation ax^2 + bx + c = 0\n",
        "\t# ll -> Integer. Lower limit of variable x\n",
        "\t# ul -> Integer. Upper Limit of variable x\n",
        "\t# return the Integer value of x for which the quadratic equation attains minimum value\n",
        "\tans = float('inf')\n",
        "    num = ll\n",
        "\t# code starts here\n",
        "    for i in range(ll, ul+1):\n",
        "        value = (a*(i**2) + b*i + c)\n",
        "        if value <= ans:\n",
        "            ans = value\n",
        "    \t\tnum = i\n",
        "\treturn num"
      ],
      "metadata": {
        "colab": {
          "base_uri": "https://localhost:8080/",
          "height": 130
        },
        "id": "9PYbuhej-bK0",
        "outputId": "65866e63-dc8f-4623-f299-1c7b9b505896"
      },
      "execution_count": null,
      "outputs": [
        {
          "output_type": "error",
          "ename": "IndentationError",
          "evalue": "ignored",
          "traceback": [
            "\u001b[0;36m  File \u001b[0;32m\"<tokenize>\"\u001b[0;36m, line \u001b[0;32m7\u001b[0m\n\u001b[0;31m    num = ll\u001b[0m\n\u001b[0m    ^\u001b[0m\n\u001b[0;31mIndentationError\u001b[0m\u001b[0;31m:\u001b[0m unindent does not match any outer indentation level\n"
          ]
        }
      ]
    },
    {
      "cell_type": "code",
      "source": [
        "import math\n",
        "def derivative(a):\n",
        "\t# a -> The value at which the derivative’s value needs to be calculated\n",
        "    def f(x):\n",
        "        return (math.exp(x) - math.exp(-x))/(math.exp(x) + math.exp(-x))\n",
        "    dx = 0.000001\n",
        "    ans = (((f(a+dx))/2 - (f(a-dx))/2)/dx)\n",
        "\n",
        "    return round(ans, 4)"
      ],
      "metadata": {
        "id": "hAhm56mNAsd8"
      },
      "execution_count": null,
      "outputs": []
    },
    {
      "cell_type": "code",
      "source": [
        "def dist(p1, p2): # (x1, y1), (x2, y2)\n",
        "    # |x1-x2| + |y1-y2|\n",
        "    d = abs(p1[0]-p2[0]) + abs(p1[1]-p2[1])\n",
        "    return d\n",
        "def nearestStudents(names, loc):\n",
        "\n",
        "    min_dist = float('inf')\n",
        "    n = len(names)\n",
        "    ans = [None, None]\n",
        "    for FirstIndex in range(n):\n",
        "        for SecondIndex in range(n):\n",
        "            if FirstIndex==SecondIndex:\n",
        "                continue\n",
        "            else:\n",
        "                if dist(loc[FirstIndex], loc[SecondIndex]) < min_dist:\n",
        "                    min_dist = dist(loc[FirstIndex], loc[SecondIndex])\n",
        "                    ans=[names[FirstIndex], names[SecondIndex]]\n",
        "    return ans"
      ],
      "metadata": {
        "id": "qbhuiKeVBh7H"
      },
      "execution_count": null,
      "outputs": []
    },
    {
      "cell_type": "code",
      "source": [
        "def check_point(A,B,a,b,c):\n",
        "\t#A -> The first point’s x and y coordinate in tuple form (x,y)\n",
        "\t#B -> The second point’s x and y coordinate in tuple form (x,y)\n",
        "\t#a,b,c -> coefficients of a straight line (a,b,c) of the form ax + by + c = 0.\n",
        "    x1, y1 = A\n",
        "    x2, y2 = B\n",
        "    midx= (x1+x2)/2\n",
        "    midy= (y1+y2)/2\n",
        "    mid_point = (midx, midy)\n",
        "    justify = a*(midx)+b*(midy)+c\n",
        "    if justify == 0:\n",
        "        return True\n",
        "    else:\n",
        "        return False"
      ],
      "metadata": {
        "id": "SvGKJggkJAgh"
      },
      "execution_count": null,
      "outputs": []
    },
    {
      "cell_type": "code",
      "source": [
        "def check_collinear(A,B,C):\n",
        "\t#A,B,C -> Three points in the XY-Plane in the form of tuple (x,y)\n",
        "\tx1, y1 = A\n",
        "\tx2, y2 = B\n",
        "\tx3, y3 = C\n",
        "\tm1 = (y3-y1)/(x3-x1)\n",
        "\tm2 = (y2-y1)/(x2-x1)\n",
        "\tif m1==m2:\n",
        "\t\treturn True\n",
        "\telse:\n",
        "\t\treturn False"
      ],
      "metadata": {
        "id": "yBoEsX0TJ1l8"
      },
      "execution_count": null,
      "outputs": []
    },
    {
      "cell_type": "code",
      "source": [
        "def Count_upper_lower(S):\n",
        "  count_upper=0\n",
        "  count_lower=0\n",
        "  for i in S:\n",
        "    if i.isupper():\n",
        "      count_upper +=1\n",
        "    elif i.islower():\n",
        "      count_lower +=1\n",
        "    else:\n",
        "      pass\n",
        "  return count_upper, count_lower\n",
        "\n",
        "Count_upper_lower(\"The quick Brown Fox\")"
      ],
      "metadata": {
        "id": "qe2pPo6LKHJS",
        "colab": {
          "base_uri": "https://localhost:8080/"
        },
        "outputId": "a5a6d3ed-deb7-4a5f-99a1-a8df0f454f3b"
      },
      "execution_count": null,
      "outputs": [
        {
          "output_type": "execute_result",
          "data": {
            "text/plain": [
              "(3, 13)"
            ]
          },
          "metadata": {},
          "execution_count": 94
        }
      ]
    },
    {
      "cell_type": "code",
      "source": [
        "def H(n):\n",
        "  T = int(input())\n",
        "  for i in range(n):\n",
        "\n",
        "    ans= 0\n",
        "    if n==1:\n",
        "      ans = 1.000\n",
        "    elif n==2:\n",
        "      ans = 1.500\n",
        "    else:\n",
        "      ans = 1/n + H(n-1)\n",
        "    return round(ans, 3)"
      ],
      "metadata": {
        "id": "P4N-B-YCbOj6"
      },
      "execution_count": null,
      "outputs": []
    },
    {
      "cell_type": "code",
      "source": [
        "H(7)"
      ],
      "metadata": {
        "colab": {
          "base_uri": "https://localhost:8080/"
        },
        "id": "9RJBunh3dmlO",
        "outputId": "8a1746ee-a26d-40d2-e132-4d038c2dbf22"
      },
      "execution_count": null,
      "outputs": [
        {
          "name": "stdout",
          "output_type": "stream",
          "text": [
            "1\n",
            "7\n",
            "1\n",
            "1\n",
            "1\n",
            "1\n"
          ]
        },
        {
          "output_type": "execute_result",
          "data": {
            "text/plain": [
              "2.593"
            ]
          },
          "metadata": {},
          "execution_count": 111
        }
      ]
    },
    {
      "cell_type": "code",
      "source": [],
      "metadata": {
        "id": "S6OYXOMddoyO"
      },
      "execution_count": null,
      "outputs": []
    }
  ]
}