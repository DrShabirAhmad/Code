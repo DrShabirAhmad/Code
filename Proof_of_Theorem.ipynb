{
  "nbformat": 4,
  "nbformat_minor": 0,
  "metadata": {
    "colab": {
      "provenance": [],
      "authorship_tag": "ABX9TyNnZLvZbnwJkfhvWktnOAz9",
      "include_colab_link": true
    },
    "kernelspec": {
      "name": "python3",
      "display_name": "Python 3"
    },
    "language_info": {
      "name": "python"
    }
  },
  "cells": [
    {
      "cell_type": "markdown",
      "metadata": {
        "id": "view-in-github",
        "colab_type": "text"
      },
      "source": [
        "<a href=\"https://colab.research.google.com/github/DrShabirAhmad/Code/blob/main/Proof_of_Theorem.ipynb\" target=\"_parent\"><img src=\"https://colab.research.google.com/assets/colab-badge.svg\" alt=\"Open In Colab\"/></a>"
      ]
    },
    {
      "cell_type": "code",
      "execution_count": null,
      "metadata": {
        "id": "aa-lmCn0Q-y8"
      },
      "outputs": [],
      "source": [
        "import numpy as np\n",
        "import matplotlib.pyplot as plt\n",
        "import pandas as pd\n",
        "import seaborn as sns"
      ]
    },
    {
      "cell_type": "code",
      "source": [
        "np.arange(100)"
      ],
      "metadata": {
        "colab": {
          "base_uri": "https://localhost:8080/"
        },
        "id": "QQK-LobiRMFk",
        "outputId": "e0f31e5e-fd11-4181-b96e-40eb22ec654a"
      },
      "execution_count": null,
      "outputs": [
        {
          "output_type": "execute_result",
          "data": {
            "text/plain": [
              "array([ 0,  1,  2,  3,  4,  5,  6,  7,  8,  9, 10, 11, 12, 13, 14, 15, 16,\n",
              "       17, 18, 19, 20, 21, 22, 23, 24, 25, 26, 27, 28, 29, 30, 31, 32, 33,\n",
              "       34, 35, 36, 37, 38, 39, 40, 41, 42, 43, 44, 45, 46, 47, 48, 49, 50,\n",
              "       51, 52, 53, 54, 55, 56, 57, 58, 59, 60, 61, 62, 63, 64, 65, 66, 67,\n",
              "       68, 69, 70, 71, 72, 73, 74, 75, 76, 77, 78, 79, 80, 81, 82, 83, 84,\n",
              "       85, 86, 87, 88, 89, 90, 91, 92, 93, 94, 95, 96, 97, 98, 99])"
            ]
          },
          "metadata": {},
          "execution_count": 4
        }
      ]
    },
    {
      "cell_type": "code",
      "source": [
        "np.arange(1,101).reshape(10,10)"
      ],
      "metadata": {
        "colab": {
          "base_uri": "https://localhost:8080/"
        },
        "id": "Pvat2iIDRdYe",
        "outputId": "e4e88226-9a5d-4fe2-9b94-4832544baf38"
      },
      "execution_count": null,
      "outputs": [
        {
          "output_type": "execute_result",
          "data": {
            "text/plain": [
              "array([[  1,   2,   3,   4,   5,   6,   7,   8,   9,  10],\n",
              "       [ 11,  12,  13,  14,  15,  16,  17,  18,  19,  20],\n",
              "       [ 21,  22,  23,  24,  25,  26,  27,  28,  29,  30],\n",
              "       [ 31,  32,  33,  34,  35,  36,  37,  38,  39,  40],\n",
              "       [ 41,  42,  43,  44,  45,  46,  47,  48,  49,  50],\n",
              "       [ 51,  52,  53,  54,  55,  56,  57,  58,  59,  60],\n",
              "       [ 61,  62,  63,  64,  65,  66,  67,  68,  69,  70],\n",
              "       [ 71,  72,  73,  74,  75,  76,  77,  78,  79,  80],\n",
              "       [ 81,  82,  83,  84,  85,  86,  87,  88,  89,  90],\n",
              "       [ 91,  92,  93,  94,  95,  96,  97,  98,  99, 100]])"
            ]
          },
          "metadata": {},
          "execution_count": 5
        }
      ]
    },
    {
      "cell_type": "code",
      "source": [
        "print(\"Mohtashim, Muqsit, Muwahid, Samia Jan, Dr. Shabir Ahmad \"*5, end='\\n')"
      ],
      "metadata": {
        "colab": {
          "base_uri": "https://localhost:8080/"
        },
        "id": "3CLfjD5oRv9E",
        "outputId": "e57ce29f-6094-43a1-c2ce-c4b01f951583"
      },
      "execution_count": null,
      "outputs": [
        {
          "output_type": "stream",
          "name": "stdout",
          "text": [
            "Mohtashim, Muqsit, Muwahid, Samia Jan, Dr. Shabir Ahmad Mohtashim, Muqsit, Muwahid, Samia Jan, Dr. Shabir Ahmad Mohtashim, Muqsit, Muwahid, Samia Jan, Dr. Shabir Ahmad Mohtashim, Muqsit, Muwahid, Samia Jan, Dr. Shabir Ahmad Mohtashim, Muqsit, Muwahid, Samia Jan, Dr. Shabir Ahmad \n"
          ]
        }
      ]
    },
    {
      "cell_type": "code",
      "source": [
        "np.arange(1,101).reshape(20,5)"
      ],
      "metadata": {
        "colab": {
          "base_uri": "https://localhost:8080/"
        },
        "id": "GwNQWQlvSBfh",
        "outputId": "57b340bd-7a0e-425e-9667-fd4da6aa9ff5"
      },
      "execution_count": null,
      "outputs": [
        {
          "output_type": "execute_result",
          "data": {
            "text/plain": [
              "array([[  1,   2,   3,   4,   5],\n",
              "       [  6,   7,   8,   9,  10],\n",
              "       [ 11,  12,  13,  14,  15],\n",
              "       [ 16,  17,  18,  19,  20],\n",
              "       [ 21,  22,  23,  24,  25],\n",
              "       [ 26,  27,  28,  29,  30],\n",
              "       [ 31,  32,  33,  34,  35],\n",
              "       [ 36,  37,  38,  39,  40],\n",
              "       [ 41,  42,  43,  44,  45],\n",
              "       [ 46,  47,  48,  49,  50],\n",
              "       [ 51,  52,  53,  54,  55],\n",
              "       [ 56,  57,  58,  59,  60],\n",
              "       [ 61,  62,  63,  64,  65],\n",
              "       [ 66,  67,  68,  69,  70],\n",
              "       [ 71,  72,  73,  74,  75],\n",
              "       [ 76,  77,  78,  79,  80],\n",
              "       [ 81,  82,  83,  84,  85],\n",
              "       [ 86,  87,  88,  89,  90],\n",
              "       [ 91,  92,  93,  94,  95],\n",
              "       [ 96,  97,  98,  99, 100]])"
            ]
          },
          "metadata": {},
          "execution_count": 16
        }
      ]
    },
    {
      "cell_type": "code",
      "source": [
        "print('I Love You Muqsit & Mohtashim')"
      ],
      "metadata": {
        "colab": {
          "base_uri": "https://localhost:8080/"
        },
        "id": "N4FcTjOuTnQl",
        "outputId": "507c5dd6-635a-4821-c60c-cc0aa2804b47"
      },
      "execution_count": null,
      "outputs": [
        {
          "output_type": "stream",
          "name": "stdout",
          "text": [
            "I Love You Muqsit & Mohtashim\n"
          ]
        }
      ]
    },
    {
      "cell_type": "code",
      "source": [
        "a= 'shabir'\n",
        "print(a[::-1])"
      ],
      "metadata": {
        "colab": {
          "base_uri": "https://localhost:8080/"
        },
        "id": "UaOz93gbT4BT",
        "outputId": "16de729b-69d0-4af0-dbeb-aa1e5bd255f5"
      },
      "execution_count": null,
      "outputs": [
        {
          "output_type": "stream",
          "name": "stdout",
          "text": [
            "ribahs\n"
          ]
        }
      ]
    },
    {
      "cell_type": "code",
      "source": [
        "d = {'apple': 'red', 'banana': 'yellow', 'cherry': 'green', 'date': 'brown'}\n",
        "\n",
        "\n",
        "def reverse_dict_no_duplicates(d):\n",
        "\n",
        "    output = {}\n",
        "\n",
        "    for elem in d.items():\n",
        "        k, v = elem #unpacking\n",
        "        output[v] = k[::-1]\n",
        "\n",
        "    return output"
      ],
      "metadata": {
        "id": "pgogP8ntiH5h"
      },
      "execution_count": null,
      "outputs": []
    },
    {
      "cell_type": "code",
      "source": [
        "reverse_dict_no_duplicates({'apple': 'red', 'banana': 'yellow', 'cherry': 'green', 'date': 'brown'})"
      ],
      "metadata": {
        "colab": {
          "base_uri": "https://localhost:8080/"
        },
        "id": "QDRdKKgSqLai",
        "outputId": "61045e19-497a-4724-cb4b-380b7e9d061c"
      },
      "execution_count": null,
      "outputs": [
        {
          "output_type": "execute_result",
          "data": {
            "text/plain": [
              "{'red': 'elppa', 'yellow': 'ananab', 'green': 'yrrehc', 'brown': 'etad'}"
            ]
          },
          "metadata": {},
          "execution_count": 26
        }
      ]
    },
    {
      "cell_type": "code",
      "source": [
        "mat = np.arange(1,17).reshape(4,4)"
      ],
      "metadata": {
        "id": "kdYlYjv0qnBv"
      },
      "execution_count": null,
      "outputs": []
    },
    {
      "cell_type": "code",
      "source": [
        "mat"
      ],
      "metadata": {
        "colab": {
          "base_uri": "https://localhost:8080/"
        },
        "id": "gEMGOGjhtTGG",
        "outputId": "43742879-80a6-481d-e2a5-0df8d6df106f"
      },
      "execution_count": null,
      "outputs": [
        {
          "output_type": "execute_result",
          "data": {
            "text/plain": [
              "array([[ 1,  2,  3,  4],\n",
              "       [ 5,  6,  7,  8],\n",
              "       [ 9, 10, 11, 12],\n",
              "       [13, 14, 15, 16]])"
            ]
          },
          "metadata": {},
          "execution_count": 28
        }
      ]
    },
    {
      "cell_type": "code",
      "source": [
        "def DiagonalSums(mat):\n",
        "  principal_diagonal_sum = 0\n",
        "  secondary_diagonal_sum = 0\n",
        "\n",
        "  n= len(mat)\n",
        "\n",
        "  for i in range(n):\n",
        "    principal_diagonal_sum += mat[i][i]\n",
        "    secondary_diagonal_sum += mat[i][n-1-i]     # i+j = n-1\n",
        "\n",
        "  print(\"Principal Diagonal:\", principal_diagonal_sum)\n",
        "  print(\"Seconadary Diagonal:\", secondary_diagonal_sum)"
      ],
      "metadata": {
        "id": "zTaj9oMEtUpM"
      },
      "execution_count": null,
      "outputs": []
    },
    {
      "cell_type": "code",
      "source": [
        "mat = [[1, 2, 3, 4],\n",
        "       [5, 6, 7, 8],\n",
        "       [9, 10, 11, 12],\n",
        "       [13, 14, 15, 16]]"
      ],
      "metadata": {
        "id": "I1fkCnp_t3_Y"
      },
      "execution_count": null,
      "outputs": []
    },
    {
      "cell_type": "code",
      "source": [
        "mat= np.arange(5, 54).reshape(7,7)\n",
        "mat"
      ],
      "metadata": {
        "colab": {
          "base_uri": "https://localhost:8080/"
        },
        "id": "SBnwCBrNzfim",
        "outputId": "88b02685-7fd0-4023-809f-db1039812423"
      },
      "execution_count": null,
      "outputs": [
        {
          "output_type": "execute_result",
          "data": {
            "text/plain": [
              "array([[ 5,  6,  7,  8,  9, 10, 11],\n",
              "       [12, 13, 14, 15, 16, 17, 18],\n",
              "       [19, 20, 21, 22, 23, 24, 25],\n",
              "       [26, 27, 28, 29, 30, 31, 32],\n",
              "       [33, 34, 35, 36, 37, 38, 39],\n",
              "       [40, 41, 42, 43, 44, 45, 46],\n",
              "       [47, 48, 49, 50, 51, 52, 53]])"
            ]
          },
          "metadata": {},
          "execution_count": 63
        }
      ]
    },
    {
      "cell_type": "code",
      "source": [
        "mat = np.arange(0, 36).reshape(6,6)\n",
        "mat"
      ],
      "metadata": {
        "colab": {
          "base_uri": "https://localhost:8080/"
        },
        "id": "VbgWbcY11JWG",
        "outputId": "d085865b-8f99-4797-8531-e28724282466"
      },
      "execution_count": null,
      "outputs": [
        {
          "output_type": "execute_result",
          "data": {
            "text/plain": [
              "array([[ 0,  1,  2,  3,  4,  5],\n",
              "       [ 6,  7,  8,  9, 10, 11],\n",
              "       [12, 13, 14, 15, 16, 17],\n",
              "       [18, 19, 20, 21, 22, 23],\n",
              "       [24, 25, 26, 27, 28, 29],\n",
              "       [30, 31, 32, 33, 34, 35]])"
            ]
          },
          "metadata": {},
          "execution_count": 65
        }
      ]
    },
    {
      "cell_type": "code",
      "source": [
        "mat = np.arange(0, 2500).reshape(50,50)\n",
        "mat"
      ],
      "metadata": {
        "colab": {
          "base_uri": "https://localhost:8080/"
        },
        "id": "fPtaHGiE4c6q",
        "outputId": "9363ff47-b19d-4870-b608-83318215b86c"
      },
      "execution_count": null,
      "outputs": [
        {
          "output_type": "execute_result",
          "data": {
            "text/plain": [
              "array([[   0,    1,    2, ...,   47,   48,   49],\n",
              "       [  50,   51,   52, ...,   97,   98,   99],\n",
              "       [ 100,  101,  102, ...,  147,  148,  149],\n",
              "       ...,\n",
              "       [2350, 2351, 2352, ..., 2397, 2398, 2399],\n",
              "       [2400, 2401, 2402, ..., 2447, 2448, 2449],\n",
              "       [2450, 2451, 2452, ..., 2497, 2498, 2499]])"
            ]
          },
          "metadata": {},
          "execution_count": 69
        }
      ]
    },
    {
      "cell_type": "code",
      "source": [
        "DiagonalSums(mat)"
      ],
      "metadata": {
        "colab": {
          "base_uri": "https://localhost:8080/"
        },
        "id": "jngUfmJJxG9e",
        "outputId": "ca303341-7343-4bb3-892e-ef54d38081aa"
      },
      "execution_count": null,
      "outputs": [
        {
          "output_type": "stream",
          "name": "stdout",
          "text": [
            "Principal Diagonal: 62475\n",
            "Seconadary Diagonal: 62475\n"
          ]
        }
      ]
    },
    {
      "cell_type": "code",
      "source": [
        "Square_matrix= np.arange(0,9).reshape(3,3)\n",
        "Square_matrix"
      ],
      "metadata": {
        "colab": {
          "base_uri": "https://localhost:8080/"
        },
        "id": "7FxWQk8SxzGs",
        "outputId": "1d8cce6d-a64b-4892-e4df-bd0597b0e73e"
      },
      "execution_count": null,
      "outputs": [
        {
          "output_type": "execute_result",
          "data": {
            "text/plain": [
              "array([[0, 1, 2],\n",
              "       [3, 4, 5],\n",
              "       [6, 7, 8]])"
            ]
          },
          "metadata": {},
          "execution_count": 71
        }
      ]
    },
    {
      "cell_type": "code",
      "source": [
        "def DiagonalSums(Square_matrix):\n",
        "  principal_diagonal_sum = 0\n",
        "  secondary_diagonal_sum = 0\n",
        "\n",
        "  n= len(mat)\n",
        "\n",
        "  for i in range(n):\n",
        "    principal_diagonal_sum += mat[i][i]\n",
        "    secondary_diagonal_sum += mat[i][n-1-i]     # i+j = n-1\n",
        "\n",
        "  print(\"Principal Diagonal:\", principal_diagonal_sum)\n",
        "  print(\"Seconadary Diagonal:\", secondary_diagonal_sum)"
      ],
      "metadata": {
        "id": "m3vcBffO_zlV"
      },
      "execution_count": null,
      "outputs": []
    },
    {
      "cell_type": "code",
      "source": [
        "len(Square_matrix)"
      ],
      "metadata": {
        "colab": {
          "base_uri": "https://localhost:8080/"
        },
        "id": "5dIypOP6AGjT",
        "outputId": "bcc684f1-8d54-4eb9-b276-47742d835c78"
      },
      "execution_count": null,
      "outputs": [
        {
          "output_type": "execute_result",
          "data": {
            "text/plain": [
              "3"
            ]
          },
          "metadata": {},
          "execution_count": 73
        }
      ]
    },
    {
      "cell_type": "code",
      "source": [],
      "metadata": {
        "id": "e_LWv__QElVj"
      },
      "execution_count": null,
      "outputs": []
    }
  ]
}